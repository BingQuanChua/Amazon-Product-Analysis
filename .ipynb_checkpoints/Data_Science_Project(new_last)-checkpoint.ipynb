{
 "cells": [
  {
   "cell_type": "markdown",
   "metadata": {
    "id": "DmSSQlsvuuEi"
   },
   "source": [
    "# Project Part 2: Amazon Beauty Products"
   ]
  },
  {
   "cell_type": "code",
   "execution_count": 1,
   "metadata": {
    "colab": {
     "base_uri": "https://localhost:8080/"
    },
    "id": "E7GW6NYju9Am",
    "outputId": "a6647679-8171-45f2-fcea-d572875a3595"
   },
   "outputs": [],
   "source": [
    "#from google.colab import drive\n",
    "#drive.mount('/content/drive/', force_remount=True)\n",
    "path=''#'/content/drive/Shareddrives/Introduction to Data Science/data/'"
   ]
  },
  {
   "cell_type": "markdown",
   "metadata": {
    "id": "2IhnbF_juuEr"
   },
   "source": [
    "## 1.0 Introduction\n",
    "\n",
    "Importing some libraries."
   ]
  },
  {
   "cell_type": "code",
   "execution_count": 2,
   "metadata": {
    "id": "8zVGFUT-uuEs"
   },
   "outputs": [],
   "source": [
    "import numpy as np\n",
    "import pandas as pd\n",
    "import matplotlib.pyplot as plt\n",
    "import matplotlib.animation as animation\n",
    "import seaborn as sns\n",
    "import datetime\n",
    "import matplotlib\n",
    "import json\n",
    "from scipy.stats import gaussian_kde\n",
    "from scipy.stats import zscore\n",
    "from scipy import stats\n",
    "from sklearn import preprocessing\n",
    "from sklearn.model_selection import train_test_split\n",
    "from sklearn.neural_network import MLPClassifier\n",
    "from sklearn.neighbors import KNeighborsClassifier\n",
    "from sklearn.metrics import accuracy_score\n",
    "from sklearn.metrics import confusion_matrix\n",
    "from sklearn.metrics import ConfusionMatrixDisplay\n",
    "from sklearn.metrics import roc_curve, roc_auc_score\n",
    "from sklearn.preprocessing import LabelEncoder\n",
    "from sklearn.preprocessing import MinMaxScaler "
   ]
  },
  {
   "cell_type": "markdown",
   "metadata": {
    "id": "_9HO-d2quuEs"
   },
   "source": [
    "## 2.0 Loading Datasets \n",
    "\n",
    "Getting familiar with the data we have"
   ]
  },
  {
   "cell_type": "markdown",
   "metadata": {
    "id": "dfEyfIWBuuEt"
   },
   "source": [
    "### 2.1 meta_All_Beauty.json\n",
    "\n",
    "This dataset contains all the product details"
   ]
  },
  {
   "cell_type": "code",
   "execution_count": 3,
   "metadata": {
    "id": "RMzT9XG2uuEt"
   },
   "outputs": [],
   "source": [
    "import json\n",
    "import numpy as np\n",
    "import pandas as pd\n",
    "\n",
    "product = []\n",
    "with open(path + 'meta_All_Beauty.json') as f:\n",
    "    for line in f:\n",
    "        product.append(json.loads(line))"
   ]
  },
  {
   "cell_type": "code",
   "execution_count": 4,
   "metadata": {
    "colab": {
     "base_uri": "https://localhost:8080/",
     "height": 892
    },
    "id": "zTGlZNwQuuEu",
    "outputId": "ea748f41-68fb-4b64-98d0-4bd68f035046"
   },
   "outputs": [
    {
     "data": {
      "text/html": [
       "<div>\n",
       "<style scoped>\n",
       "    .dataframe tbody tr th:only-of-type {\n",
       "        vertical-align: middle;\n",
       "    }\n",
       "\n",
       "    .dataframe tbody tr th {\n",
       "        vertical-align: top;\n",
       "    }\n",
       "\n",
       "    .dataframe thead th {\n",
       "        text-align: right;\n",
       "    }\n",
       "</style>\n",
       "<table border=\"1\" class=\"dataframe\">\n",
       "  <thead>\n",
       "    <tr style=\"text-align: right;\">\n",
       "      <th></th>\n",
       "      <th>category</th>\n",
       "      <th>tech1</th>\n",
       "      <th>description</th>\n",
       "      <th>fit</th>\n",
       "      <th>title</th>\n",
       "      <th>also_buy</th>\n",
       "      <th>image</th>\n",
       "      <th>tech2</th>\n",
       "      <th>brand</th>\n",
       "      <th>feature</th>\n",
       "      <th>rank</th>\n",
       "      <th>also_view</th>\n",
       "      <th>details</th>\n",
       "      <th>main_cat</th>\n",
       "      <th>similar_item</th>\n",
       "      <th>date</th>\n",
       "      <th>price</th>\n",
       "      <th>asin</th>\n",
       "    </tr>\n",
       "  </thead>\n",
       "  <tbody>\n",
       "    <tr>\n",
       "      <th>0</th>\n",
       "      <td>[]</td>\n",
       "      <td></td>\n",
       "      <td>[Loud 'N Clear Personal Sound Amplifier allows...</td>\n",
       "      <td></td>\n",
       "      <td>Loud 'N Clear&amp;trade; Personal Sound Amplifier</td>\n",
       "      <td>[]</td>\n",
       "      <td>[]</td>\n",
       "      <td></td>\n",
       "      <td>idea village</td>\n",
       "      <td>[]</td>\n",
       "      <td>2,938,573 in Beauty &amp; Personal Care (</td>\n",
       "      <td>[]</td>\n",
       "      <td>{'ASIN: ': '6546546450'}</td>\n",
       "      <td>All Beauty</td>\n",
       "      <td></td>\n",
       "      <td></td>\n",
       "      <td></td>\n",
       "      <td>6546546450</td>\n",
       "    </tr>\n",
       "    <tr>\n",
       "      <th>1</th>\n",
       "      <td>[]</td>\n",
       "      <td></td>\n",
       "      <td>[No7 Lift &amp; Luminate Triple Action Serum 50ml ...</td>\n",
       "      <td></td>\n",
       "      <td>No7 Lift &amp;amp; Luminate Triple Action Serum 50...</td>\n",
       "      <td>[B01E7LCSL6, B008X5RVME]</td>\n",
       "      <td>[]</td>\n",
       "      <td></td>\n",
       "      <td></td>\n",
       "      <td>[]</td>\n",
       "      <td>872,854 in Beauty &amp; Personal Care (</td>\n",
       "      <td>[]</td>\n",
       "      <td>{'Shipping Weight:': '0.3 ounces (', 'ASIN: ':...</td>\n",
       "      <td>All Beauty</td>\n",
       "      <td>class=\"a-bordered a-horizontal-stripes  a-spa...</td>\n",
       "      <td></td>\n",
       "      <td>$44.99</td>\n",
       "      <td>7178680776</td>\n",
       "    </tr>\n",
       "    <tr>\n",
       "      <th>2</th>\n",
       "      <td>[]</td>\n",
       "      <td></td>\n",
       "      <td>[No7 Stay Perfect Foundation now stays perfect...</td>\n",
       "      <td></td>\n",
       "      <td>No7 Stay Perfect Foundation Cool Vanilla by No7</td>\n",
       "      <td>[]</td>\n",
       "      <td>[]</td>\n",
       "      <td></td>\n",
       "      <td>No7</td>\n",
       "      <td>[]</td>\n",
       "      <td>956,696 in Beauty &amp; Personal Care (</td>\n",
       "      <td>[B01B8BR0O8, B01B8BR0NO, B014MHXXM8]</td>\n",
       "      <td>{'Shipping Weight:': '3.5 ounces (', 'ASIN: ':...</td>\n",
       "      <td>All Beauty</td>\n",
       "      <td></td>\n",
       "      <td></td>\n",
       "      <td>$28.76</td>\n",
       "      <td>7250468162</td>\n",
       "    </tr>\n",
       "    <tr>\n",
       "      <th>3</th>\n",
       "      <td>[]</td>\n",
       "      <td></td>\n",
       "      <td>[]</td>\n",
       "      <td></td>\n",
       "      <td>Wella Koleston Perfect Hair Colour 44/44 Mediu...</td>\n",
       "      <td>[B0041PBXX8]</td>\n",
       "      <td>[https://images-na.ssl-images-amazon.com/image...</td>\n",
       "      <td></td>\n",
       "      <td></td>\n",
       "      <td>[]</td>\n",
       "      <td>1,870,258 in Beauty &amp; Personal Care (</td>\n",
       "      <td>[]</td>\n",
       "      <td>{'\n",
       "    Item Weight: \n",
       "    ': '1.76 ounces', 'Sh...</td>\n",
       "      <td>All Beauty</td>\n",
       "      <td></td>\n",
       "      <td></td>\n",
       "      <td></td>\n",
       "      <td>7367905066</td>\n",
       "    </tr>\n",
       "    <tr>\n",
       "      <th>4</th>\n",
       "      <td>[]</td>\n",
       "      <td></td>\n",
       "      <td>[Lacto Calamine Skin Balance Daily Nourishing ...</td>\n",
       "      <td></td>\n",
       "      <td>Lacto Calamine Skin Balance Oil control 120 ml...</td>\n",
       "      <td>[]</td>\n",
       "      <td>[https://images-na.ssl-images-amazon.com/image...</td>\n",
       "      <td></td>\n",
       "      <td>Pirmal Healthcare</td>\n",
       "      <td>[]</td>\n",
       "      <td>67,701 in Beauty &amp; Personal Care (</td>\n",
       "      <td>[3254895630, B007VL1D9S, B00EH9A0RI, B0773MBG4...</td>\n",
       "      <td>{'Shipping Weight:': '12 ounces (', 'ASIN: ': ...</td>\n",
       "      <td>All Beauty</td>\n",
       "      <td></td>\n",
       "      <td></td>\n",
       "      <td>$12.15</td>\n",
       "      <td>7414204790</td>\n",
       "    </tr>\n",
       "    <tr>\n",
       "      <th>5</th>\n",
       "      <td>[]</td>\n",
       "      <td></td>\n",
       "      <td>[Mary Kay Satin Hands Peach Hand Cream Travel ...</td>\n",
       "      <td></td>\n",
       "      <td>Mary Kay Satin Hands Hand Cream Travel MINI Si...</td>\n",
       "      <td>[]</td>\n",
       "      <td>[]</td>\n",
       "      <td></td>\n",
       "      <td>Mary Kay</td>\n",
       "      <td>[]</td>\n",
       "      <td>699,317 in Beauty &amp; Personal Care (</td>\n",
       "      <td>[]</td>\n",
       "      <td>{'Shipping Weight:': '2.4 ounces', 'ASIN: ': '...</td>\n",
       "      <td>All Beauty</td>\n",
       "      <td></td>\n",
       "      <td></td>\n",
       "      <td></td>\n",
       "      <td>7535842801</td>\n",
       "    </tr>\n",
       "    <tr>\n",
       "      <th>6</th>\n",
       "      <td>[]</td>\n",
       "      <td></td>\n",
       "      <td>[]</td>\n",
       "      <td></td>\n",
       "      <td>Unique Custom Cast Iron Liner Shader Tattoo Ma...</td>\n",
       "      <td>[]</td>\n",
       "      <td>[]</td>\n",
       "      <td></td>\n",
       "      <td></td>\n",
       "      <td>[]</td>\n",
       "      <td>3,206,658 in Beauty &amp; Personal Care (</td>\n",
       "      <td>[]</td>\n",
       "      <td>{'ASIN: ': '7538626107'}</td>\n",
       "      <td>All Beauty</td>\n",
       "      <td></td>\n",
       "      <td></td>\n",
       "      <td></td>\n",
       "      <td>7538626107</td>\n",
       "    </tr>\n",
       "    <tr>\n",
       "      <th>7</th>\n",
       "      <td>[]</td>\n",
       "      <td></td>\n",
       "      <td>[According to the legend, in 1613, two brother...</td>\n",
       "      <td></td>\n",
       "      <td>Imagen Bendita Por Su Santidad Our Lady of Cha...</td>\n",
       "      <td>[]</td>\n",
       "      <td>[]</td>\n",
       "      <td></td>\n",
       "      <td>Chango</td>\n",
       "      <td>[]</td>\n",
       "      <td>1,741,858 in Beauty &amp; Personal Care (</td>\n",
       "      <td>[]</td>\n",
       "      <td>{'\n",
       "    Item Weight: \n",
       "    ': '8 ounces', 'Shipp...</td>\n",
       "      <td>All Beauty</td>\n",
       "      <td></td>\n",
       "      <td></td>\n",
       "      <td></td>\n",
       "      <td>8279996397</td>\n",
       "    </tr>\n",
       "    <tr>\n",
       "      <th>8</th>\n",
       "      <td>[]</td>\n",
       "      <td></td>\n",
       "      <td>[Novi prevod proslavljene knjige Zadruga objav...</td>\n",
       "      <td></td>\n",
       "      <td>Mali princ</td>\n",
       "      <td>[]</td>\n",
       "      <td>[https://images-na.ssl-images-amazon.com/image...</td>\n",
       "      <td></td>\n",
       "      <td>Srpska knjizevna zadruga</td>\n",
       "      <td>[]</td>\n",
       "      <td>2,136,432 in Beauty &amp;amp; Personal Care (</td>\n",
       "      <td>[]</td>\n",
       "      <td>{'Shipping Weight:': '7.7 ounces', 'ASIN: ': '...</td>\n",
       "      <td>All Beauty</td>\n",
       "      <td></td>\n",
       "      <td></td>\n",
       "      <td></td>\n",
       "      <td>8637910351</td>\n",
       "    </tr>\n",
       "    <tr>\n",
       "      <th>9</th>\n",
       "      <td>[]</td>\n",
       "      <td></td>\n",
       "      <td>[Moleskine's Card Wallet in Payne's Grey is th...</td>\n",
       "      <td></td>\n",
       "      <td>Moleskine Payne's Grey Card Wallet (Moleskine ...</td>\n",
       "      <td>[]</td>\n",
       "      <td>[https://images-na.ssl-images-amazon.com/image...</td>\n",
       "      <td></td>\n",
       "      <td>Sunatoria</td>\n",
       "      <td>[]</td>\n",
       "      <td>1,260,339 in Beauty &amp;amp; Personal Care (</td>\n",
       "      <td>[]</td>\n",
       "      <td>{'\n",
       "    Product Dimensions: \n",
       "    ': '2.8 x 4.3 ...</td>\n",
       "      <td>All Beauty</td>\n",
       "      <td></td>\n",
       "      <td></td>\n",
       "      <td></td>\n",
       "      <td>8867326759</td>\n",
       "    </tr>\n",
       "  </tbody>\n",
       "</table>\n",
       "</div>"
      ],
      "text/plain": [
       "  category tech1                                        description fit  \\\n",
       "0       []        [Loud 'N Clear Personal Sound Amplifier allows...       \n",
       "1       []        [No7 Lift & Luminate Triple Action Serum 50ml ...       \n",
       "2       []        [No7 Stay Perfect Foundation now stays perfect...       \n",
       "3       []                                                       []       \n",
       "4       []        [Lacto Calamine Skin Balance Daily Nourishing ...       \n",
       "5       []        [Mary Kay Satin Hands Peach Hand Cream Travel ...       \n",
       "6       []                                                       []       \n",
       "7       []        [According to the legend, in 1613, two brother...       \n",
       "8       []        [Novi prevod proslavljene knjige Zadruga objav...       \n",
       "9       []        [Moleskine's Card Wallet in Payne's Grey is th...       \n",
       "\n",
       "                                               title  \\\n",
       "0      Loud 'N Clear&trade; Personal Sound Amplifier   \n",
       "1  No7 Lift &amp; Luminate Triple Action Serum 50...   \n",
       "2    No7 Stay Perfect Foundation Cool Vanilla by No7   \n",
       "3  Wella Koleston Perfect Hair Colour 44/44 Mediu...   \n",
       "4  Lacto Calamine Skin Balance Oil control 120 ml...   \n",
       "5  Mary Kay Satin Hands Hand Cream Travel MINI Si...   \n",
       "6  Unique Custom Cast Iron Liner Shader Tattoo Ma...   \n",
       "7  Imagen Bendita Por Su Santidad Our Lady of Cha...   \n",
       "8                                         Mali princ   \n",
       "9  Moleskine Payne's Grey Card Wallet (Moleskine ...   \n",
       "\n",
       "                   also_buy  \\\n",
       "0                        []   \n",
       "1  [B01E7LCSL6, B008X5RVME]   \n",
       "2                        []   \n",
       "3              [B0041PBXX8]   \n",
       "4                        []   \n",
       "5                        []   \n",
       "6                        []   \n",
       "7                        []   \n",
       "8                        []   \n",
       "9                        []   \n",
       "\n",
       "                                               image tech2  \\\n",
       "0                                                 []         \n",
       "1                                                 []         \n",
       "2                                                 []         \n",
       "3  [https://images-na.ssl-images-amazon.com/image...         \n",
       "4  [https://images-na.ssl-images-amazon.com/image...         \n",
       "5                                                 []         \n",
       "6                                                 []         \n",
       "7                                                 []         \n",
       "8  [https://images-na.ssl-images-amazon.com/image...         \n",
       "9  [https://images-na.ssl-images-amazon.com/image...         \n",
       "\n",
       "                      brand feature  \\\n",
       "0              idea village      []   \n",
       "1                                []   \n",
       "2                       No7      []   \n",
       "3                                []   \n",
       "4         Pirmal Healthcare      []   \n",
       "5                  Mary Kay      []   \n",
       "6                                []   \n",
       "7                    Chango      []   \n",
       "8  Srpska knjizevna zadruga      []   \n",
       "9                 Sunatoria      []   \n",
       "\n",
       "                                        rank  \\\n",
       "0      2,938,573 in Beauty & Personal Care (   \n",
       "1        872,854 in Beauty & Personal Care (   \n",
       "2        956,696 in Beauty & Personal Care (   \n",
       "3      1,870,258 in Beauty & Personal Care (   \n",
       "4         67,701 in Beauty & Personal Care (   \n",
       "5        699,317 in Beauty & Personal Care (   \n",
       "6      3,206,658 in Beauty & Personal Care (   \n",
       "7      1,741,858 in Beauty & Personal Care (   \n",
       "8  2,136,432 in Beauty &amp; Personal Care (   \n",
       "9  1,260,339 in Beauty &amp; Personal Care (   \n",
       "\n",
       "                                           also_view  \\\n",
       "0                                                 []   \n",
       "1                                                 []   \n",
       "2               [B01B8BR0O8, B01B8BR0NO, B014MHXXM8]   \n",
       "3                                                 []   \n",
       "4  [3254895630, B007VL1D9S, B00EH9A0RI, B0773MBG4...   \n",
       "5                                                 []   \n",
       "6                                                 []   \n",
       "7                                                 []   \n",
       "8                                                 []   \n",
       "9                                                 []   \n",
       "\n",
       "                                             details    main_cat  \\\n",
       "0                           {'ASIN: ': '6546546450'}  All Beauty   \n",
       "1  {'Shipping Weight:': '0.3 ounces (', 'ASIN: ':...  All Beauty   \n",
       "2  {'Shipping Weight:': '3.5 ounces (', 'ASIN: ':...  All Beauty   \n",
       "3  {'\n",
       "    Item Weight: \n",
       "    ': '1.76 ounces', 'Sh...  All Beauty   \n",
       "4  {'Shipping Weight:': '12 ounces (', 'ASIN: ': ...  All Beauty   \n",
       "5  {'Shipping Weight:': '2.4 ounces', 'ASIN: ': '...  All Beauty   \n",
       "6                           {'ASIN: ': '7538626107'}  All Beauty   \n",
       "7  {'\n",
       "    Item Weight: \n",
       "    ': '8 ounces', 'Shipp...  All Beauty   \n",
       "8  {'Shipping Weight:': '7.7 ounces', 'ASIN: ': '...  All Beauty   \n",
       "9  {'\n",
       "    Product Dimensions: \n",
       "    ': '2.8 x 4.3 ...  All Beauty   \n",
       "\n",
       "                                        similar_item date   price        asin  \n",
       "0                                                                  6546546450  \n",
       "1   class=\"a-bordered a-horizontal-stripes  a-spa...       $44.99  7178680776  \n",
       "2                                                          $28.76  7250468162  \n",
       "3                                                                  7367905066  \n",
       "4                                                          $12.15  7414204790  \n",
       "5                                                                  7535842801  \n",
       "6                                                                  7538626107  \n",
       "7                                                                  8279996397  \n",
       "8                                                                  8637910351  \n",
       "9                                                                  8867326759  "
      ]
     },
     "execution_count": 4,
     "metadata": {},
     "output_type": "execute_result"
    }
   ],
   "source": [
    "raw_product_table = pd.DataFrame(product)\n",
    "raw_product_table.head(10)"
   ]
  },
  {
   "cell_type": "markdown",
   "metadata": {
    "id": "SF3vnFABuuEv"
   },
   "source": [
    "### 2.2 Review_Beauty.json\n",
    "\n",
    "This file contains all the review given by customers."
   ]
  },
  {
   "cell_type": "code",
   "execution_count": 5,
   "metadata": {
    "id": "EHbgf9BiuuEv"
   },
   "outputs": [],
   "source": [
    "import json\n",
    "import numpy as np\n",
    "import pandas as pd\n",
    "\n",
    "review = []\n",
    "with open(path + 'Review_Beauty.json') as f:\n",
    "    for line in f:\n",
    "        review.append(json.loads(line))"
   ]
  },
  {
   "cell_type": "code",
   "execution_count": 6,
   "metadata": {
    "colab": {
     "base_uri": "https://localhost:8080/",
     "height": 346
    },
    "id": "rcDcUjlHuuEw",
    "outputId": "3620595a-7945-4689-947a-423fe4244c68"
   },
   "outputs": [
    {
     "data": {
      "text/html": [
       "<div>\n",
       "<style scoped>\n",
       "    .dataframe tbody tr th:only-of-type {\n",
       "        vertical-align: middle;\n",
       "    }\n",
       "\n",
       "    .dataframe tbody tr th {\n",
       "        vertical-align: top;\n",
       "    }\n",
       "\n",
       "    .dataframe thead th {\n",
       "        text-align: right;\n",
       "    }\n",
       "</style>\n",
       "<table border=\"1\" class=\"dataframe\">\n",
       "  <thead>\n",
       "    <tr style=\"text-align: right;\">\n",
       "      <th></th>\n",
       "      <th>overall</th>\n",
       "      <th>verified</th>\n",
       "      <th>reviewTime</th>\n",
       "      <th>reviewerID</th>\n",
       "      <th>asin</th>\n",
       "      <th>reviewerName</th>\n",
       "      <th>reviewText</th>\n",
       "      <th>summary</th>\n",
       "      <th>unixReviewTime</th>\n",
       "      <th>vote</th>\n",
       "      <th>style</th>\n",
       "      <th>image</th>\n",
       "    </tr>\n",
       "  </thead>\n",
       "  <tbody>\n",
       "    <tr>\n",
       "      <th>0</th>\n",
       "      <td>1.0</td>\n",
       "      <td>True</td>\n",
       "      <td>02 19, 2015</td>\n",
       "      <td>A1V6B6TNIC10QE</td>\n",
       "      <td>0143026860</td>\n",
       "      <td>theodore j bigham</td>\n",
       "      <td>great</td>\n",
       "      <td>One Star</td>\n",
       "      <td>1424304000</td>\n",
       "      <td>NaN</td>\n",
       "      <td>NaN</td>\n",
       "      <td>NaN</td>\n",
       "    </tr>\n",
       "    <tr>\n",
       "      <th>1</th>\n",
       "      <td>4.0</td>\n",
       "      <td>True</td>\n",
       "      <td>12 18, 2014</td>\n",
       "      <td>A2F5GHSXFQ0W6J</td>\n",
       "      <td>0143026860</td>\n",
       "      <td>Mary K. Byke</td>\n",
       "      <td>My  husband wanted to reading about the Negro ...</td>\n",
       "      <td>... to reading about the Negro Baseball and th...</td>\n",
       "      <td>1418860800</td>\n",
       "      <td>NaN</td>\n",
       "      <td>NaN</td>\n",
       "      <td>NaN</td>\n",
       "    </tr>\n",
       "    <tr>\n",
       "      <th>2</th>\n",
       "      <td>4.0</td>\n",
       "      <td>True</td>\n",
       "      <td>08 10, 2014</td>\n",
       "      <td>A1572GUYS7DGSR</td>\n",
       "      <td>0143026860</td>\n",
       "      <td>David G</td>\n",
       "      <td>This book was very informative, covering all a...</td>\n",
       "      <td>Worth the Read</td>\n",
       "      <td>1407628800</td>\n",
       "      <td>NaN</td>\n",
       "      <td>NaN</td>\n",
       "      <td>NaN</td>\n",
       "    </tr>\n",
       "    <tr>\n",
       "      <th>3</th>\n",
       "      <td>5.0</td>\n",
       "      <td>True</td>\n",
       "      <td>03 11, 2013</td>\n",
       "      <td>A1PSGLFK1NSVO</td>\n",
       "      <td>0143026860</td>\n",
       "      <td>TamB</td>\n",
       "      <td>I am already a baseball fan and knew a bit abo...</td>\n",
       "      <td>Good Read</td>\n",
       "      <td>1362960000</td>\n",
       "      <td>NaN</td>\n",
       "      <td>NaN</td>\n",
       "      <td>NaN</td>\n",
       "    </tr>\n",
       "    <tr>\n",
       "      <th>4</th>\n",
       "      <td>5.0</td>\n",
       "      <td>True</td>\n",
       "      <td>12 25, 2011</td>\n",
       "      <td>A6IKXKZMTKGSC</td>\n",
       "      <td>0143026860</td>\n",
       "      <td>shoecanary</td>\n",
       "      <td>This was a good story of the Black leagues. I ...</td>\n",
       "      <td>More than facts, a good story read!</td>\n",
       "      <td>1324771200</td>\n",
       "      <td>5</td>\n",
       "      <td>NaN</td>\n",
       "      <td>NaN</td>\n",
       "    </tr>\n",
       "    <tr>\n",
       "      <th>5</th>\n",
       "      <td>5.0</td>\n",
       "      <td>False</td>\n",
       "      <td>02 26, 2010</td>\n",
       "      <td>A36NF437WZLQ9E</td>\n",
       "      <td>0143026860</td>\n",
       "      <td>W. Powell</td>\n",
       "      <td>Today I gave a book about the Negro Leagues of...</td>\n",
       "      <td>The Gift of Black Baseball</td>\n",
       "      <td>1267142400</td>\n",
       "      <td>4</td>\n",
       "      <td>NaN</td>\n",
       "      <td>NaN</td>\n",
       "    </tr>\n",
       "    <tr>\n",
       "      <th>6</th>\n",
       "      <td>4.0</td>\n",
       "      <td>False</td>\n",
       "      <td>03 7, 2001</td>\n",
       "      <td>A10Q8NIFOVOHFV</td>\n",
       "      <td>0143026860</td>\n",
       "      <td>Robert S. Clay Jr.</td>\n",
       "      <td>The story of race relations in American histor...</td>\n",
       "      <td>Baseball, America, and racism.</td>\n",
       "      <td>983923200</td>\n",
       "      <td>14</td>\n",
       "      <td>NaN</td>\n",
       "      <td>NaN</td>\n",
       "    </tr>\n",
       "    <tr>\n",
       "      <th>7</th>\n",
       "      <td>1.0</td>\n",
       "      <td>True</td>\n",
       "      <td>04 10, 2017</td>\n",
       "      <td>A26PO1B2Q2G1CS</td>\n",
       "      <td>014789302X</td>\n",
       "      <td>Jacqueline Diaz</td>\n",
       "      <td>I didn't like this product it smudged all unde...</td>\n",
       "      <td>One Star</td>\n",
       "      <td>1491782400</td>\n",
       "      <td>NaN</td>\n",
       "      <td>NaN</td>\n",
       "      <td>NaN</td>\n",
       "    </tr>\n",
       "    <tr>\n",
       "      <th>8</th>\n",
       "      <td>5.0</td>\n",
       "      <td>True</td>\n",
       "      <td>01 3, 2017</td>\n",
       "      <td>AQ812VYVTC2RJ</td>\n",
       "      <td>014789302X</td>\n",
       "      <td>Khadijah Ali-Evans</td>\n",
       "      <td>I simply love the product. I appreciate print ...</td>\n",
       "      <td>Five Stars</td>\n",
       "      <td>1483401600</td>\n",
       "      <td>NaN</td>\n",
       "      <td>NaN</td>\n",
       "      <td>NaN</td>\n",
       "    </tr>\n",
       "    <tr>\n",
       "      <th>9</th>\n",
       "      <td>1.0</td>\n",
       "      <td>True</td>\n",
       "      <td>11 19, 2016</td>\n",
       "      <td>AMACNEW14ADMX</td>\n",
       "      <td>014789302X</td>\n",
       "      <td>rabiyaa123</td>\n",
       "      <td>it burns your eyes when u put it on  and very ...</td>\n",
       "      <td>i do not recommend.</td>\n",
       "      <td>1479513600</td>\n",
       "      <td>3</td>\n",
       "      <td>NaN</td>\n",
       "      <td>NaN</td>\n",
       "    </tr>\n",
       "  </tbody>\n",
       "</table>\n",
       "</div>"
      ],
      "text/plain": [
       "   overall  verified   reviewTime      reviewerID        asin  \\\n",
       "0      1.0      True  02 19, 2015  A1V6B6TNIC10QE  0143026860   \n",
       "1      4.0      True  12 18, 2014  A2F5GHSXFQ0W6J  0143026860   \n",
       "2      4.0      True  08 10, 2014  A1572GUYS7DGSR  0143026860   \n",
       "3      5.0      True  03 11, 2013   A1PSGLFK1NSVO  0143026860   \n",
       "4      5.0      True  12 25, 2011   A6IKXKZMTKGSC  0143026860   \n",
       "5      5.0     False  02 26, 2010  A36NF437WZLQ9E  0143026860   \n",
       "6      4.0     False   03 7, 2001  A10Q8NIFOVOHFV  0143026860   \n",
       "7      1.0      True  04 10, 2017  A26PO1B2Q2G1CS  014789302X   \n",
       "8      5.0      True   01 3, 2017   AQ812VYVTC2RJ  014789302X   \n",
       "9      1.0      True  11 19, 2016   AMACNEW14ADMX  014789302X   \n",
       "\n",
       "         reviewerName                                         reviewText  \\\n",
       "0   theodore j bigham                                              great   \n",
       "1        Mary K. Byke  My  husband wanted to reading about the Negro ...   \n",
       "2             David G  This book was very informative, covering all a...   \n",
       "3                TamB  I am already a baseball fan and knew a bit abo...   \n",
       "4          shoecanary  This was a good story of the Black leagues. I ...   \n",
       "5           W. Powell  Today I gave a book about the Negro Leagues of...   \n",
       "6  Robert S. Clay Jr.  The story of race relations in American histor...   \n",
       "7     Jacqueline Diaz  I didn't like this product it smudged all unde...   \n",
       "8  Khadijah Ali-Evans  I simply love the product. I appreciate print ...   \n",
       "9          rabiyaa123  it burns your eyes when u put it on  and very ...   \n",
       "\n",
       "                                             summary  unixReviewTime vote  \\\n",
       "0                                           One Star      1424304000  NaN   \n",
       "1  ... to reading about the Negro Baseball and th...      1418860800  NaN   \n",
       "2                                     Worth the Read      1407628800  NaN   \n",
       "3                                          Good Read      1362960000  NaN   \n",
       "4                More than facts, a good story read!      1324771200    5   \n",
       "5                         The Gift of Black Baseball      1267142400    4   \n",
       "6                     Baseball, America, and racism.       983923200   14   \n",
       "7                                           One Star      1491782400  NaN   \n",
       "8                                         Five Stars      1483401600  NaN   \n",
       "9                                i do not recommend.      1479513600    3   \n",
       "\n",
       "  style image  \n",
       "0   NaN   NaN  \n",
       "1   NaN   NaN  \n",
       "2   NaN   NaN  \n",
       "3   NaN   NaN  \n",
       "4   NaN   NaN  \n",
       "5   NaN   NaN  \n",
       "6   NaN   NaN  \n",
       "7   NaN   NaN  \n",
       "8   NaN   NaN  \n",
       "9   NaN   NaN  "
      ]
     },
     "execution_count": 6,
     "metadata": {},
     "output_type": "execute_result"
    }
   ],
   "source": [
    "raw_review_table = pd.DataFrame(review)\n",
    "raw_review_table.head(10)"
   ]
  },
  {
   "cell_type": "markdown",
   "metadata": {
    "id": "3_jJqC2JuuEw"
   },
   "source": [
    "### 2.3 All_Beauty.csv\n",
    "\n",
    "csv file provide by lecturer."
   ]
  },
  {
   "cell_type": "code",
   "execution_count": 7,
   "metadata": {
    "colab": {
     "base_uri": "https://localhost:8080/",
     "height": 1000
    },
    "id": "XTsE1zPbuuEx",
    "outputId": "21f401a2-5d6c-48d6-804e-88f6f9bc8dd6"
   },
   "outputs": [
    {
     "data": {
      "text/html": [
       "<div>\n",
       "<style scoped>\n",
       "    .dataframe tbody tr th:only-of-type {\n",
       "        vertical-align: middle;\n",
       "    }\n",
       "\n",
       "    .dataframe tbody tr th {\n",
       "        vertical-align: top;\n",
       "    }\n",
       "\n",
       "    .dataframe thead th {\n",
       "        text-align: right;\n",
       "    }\n",
       "</style>\n",
       "<table border=\"1\" class=\"dataframe\">\n",
       "  <thead>\n",
       "    <tr style=\"text-align: right;\">\n",
       "      <th></th>\n",
       "      <th>ProductID</th>\n",
       "      <th>UserID</th>\n",
       "      <th>Review</th>\n",
       "      <th>Date</th>\n",
       "    </tr>\n",
       "  </thead>\n",
       "  <tbody>\n",
       "    <tr>\n",
       "      <th>0</th>\n",
       "      <td>0143026860</td>\n",
       "      <td>A1V6B6TNIC10QE</td>\n",
       "      <td>1.0</td>\n",
       "      <td>1424304000</td>\n",
       "    </tr>\n",
       "    <tr>\n",
       "      <th>1</th>\n",
       "      <td>0143026860</td>\n",
       "      <td>A2F5GHSXFQ0W6J</td>\n",
       "      <td>4.0</td>\n",
       "      <td>1418860800</td>\n",
       "    </tr>\n",
       "    <tr>\n",
       "      <th>2</th>\n",
       "      <td>0143026860</td>\n",
       "      <td>A1572GUYS7DGSR</td>\n",
       "      <td>4.0</td>\n",
       "      <td>1407628800</td>\n",
       "    </tr>\n",
       "    <tr>\n",
       "      <th>3</th>\n",
       "      <td>0143026860</td>\n",
       "      <td>A1PSGLFK1NSVO</td>\n",
       "      <td>5.0</td>\n",
       "      <td>1362960000</td>\n",
       "    </tr>\n",
       "    <tr>\n",
       "      <th>4</th>\n",
       "      <td>0143026860</td>\n",
       "      <td>A6IKXKZMTKGSC</td>\n",
       "      <td>5.0</td>\n",
       "      <td>1324771200</td>\n",
       "    </tr>\n",
       "    <tr>\n",
       "      <th>5</th>\n",
       "      <td>0143026860</td>\n",
       "      <td>A36NF437WZLQ9E</td>\n",
       "      <td>5.0</td>\n",
       "      <td>1267142400</td>\n",
       "    </tr>\n",
       "    <tr>\n",
       "      <th>6</th>\n",
       "      <td>0143026860</td>\n",
       "      <td>A10Q8NIFOVOHFV</td>\n",
       "      <td>4.0</td>\n",
       "      <td>983923200</td>\n",
       "    </tr>\n",
       "    <tr>\n",
       "      <th>7</th>\n",
       "      <td>014789302X</td>\n",
       "      <td>A26PO1B2Q2G1CS</td>\n",
       "      <td>1.0</td>\n",
       "      <td>1491782400</td>\n",
       "    </tr>\n",
       "    <tr>\n",
       "      <th>8</th>\n",
       "      <td>014789302X</td>\n",
       "      <td>AQ812VYVTC2RJ</td>\n",
       "      <td>5.0</td>\n",
       "      <td>1483401600</td>\n",
       "    </tr>\n",
       "    <tr>\n",
       "      <th>9</th>\n",
       "      <td>014789302X</td>\n",
       "      <td>AMACNEW14ADMX</td>\n",
       "      <td>1.0</td>\n",
       "      <td>1479513600</td>\n",
       "    </tr>\n",
       "    <tr>\n",
       "      <th>10</th>\n",
       "      <td>014789302X</td>\n",
       "      <td>A5FS4FVWR77O6</td>\n",
       "      <td>2.0</td>\n",
       "      <td>1478736000</td>\n",
       "    </tr>\n",
       "    <tr>\n",
       "      <th>11</th>\n",
       "      <td>014789302X</td>\n",
       "      <td>A1NLF2JD7BVOB4</td>\n",
       "      <td>5.0</td>\n",
       "      <td>1474848000</td>\n",
       "    </tr>\n",
       "    <tr>\n",
       "      <th>12</th>\n",
       "      <td>014789302X</td>\n",
       "      <td>A3CKVF2ZR1CBO0</td>\n",
       "      <td>4.0</td>\n",
       "      <td>1470355200</td>\n",
       "    </tr>\n",
       "    <tr>\n",
       "      <th>13</th>\n",
       "      <td>014789302X</td>\n",
       "      <td>A3IFT6SR16SAYU</td>\n",
       "      <td>5.0</td>\n",
       "      <td>1469750400</td>\n",
       "    </tr>\n",
       "    <tr>\n",
       "      <th>14</th>\n",
       "      <td>014789302X</td>\n",
       "      <td>A2BQ7NB90SBVIA</td>\n",
       "      <td>5.0</td>\n",
       "      <td>1466208000</td>\n",
       "    </tr>\n",
       "    <tr>\n",
       "      <th>15</th>\n",
       "      <td>014789302X</td>\n",
       "      <td>A92AYWTA52KXE</td>\n",
       "      <td>5.0</td>\n",
       "      <td>1464134400</td>\n",
       "    </tr>\n",
       "    <tr>\n",
       "      <th>16</th>\n",
       "      <td>014789302X</td>\n",
       "      <td>AR6LNUWXJFYE6</td>\n",
       "      <td>5.0</td>\n",
       "      <td>1458950400</td>\n",
       "    </tr>\n",
       "    <tr>\n",
       "      <th>17</th>\n",
       "      <td>0992916305</td>\n",
       "      <td>A2V9BG2MDQVCYX</td>\n",
       "      <td>5.0</td>\n",
       "      <td>1422748800</td>\n",
       "    </tr>\n",
       "    <tr>\n",
       "      <th>18</th>\n",
       "      <td>0992916305</td>\n",
       "      <td>AIL9Q82L1G2YO</td>\n",
       "      <td>5.0</td>\n",
       "      <td>1422576000</td>\n",
       "    </tr>\n",
       "    <tr>\n",
       "      <th>19</th>\n",
       "      <td>0992916305</td>\n",
       "      <td>A1ROGN2QPKZGP7</td>\n",
       "      <td>4.0</td>\n",
       "      <td>1417392000</td>\n",
       "    </tr>\n",
       "    <tr>\n",
       "      <th>20</th>\n",
       "      <td>0992916305</td>\n",
       "      <td>A141Z5WI6GVM6Y</td>\n",
       "      <td>5.0</td>\n",
       "      <td>1415750400</td>\n",
       "    </tr>\n",
       "    <tr>\n",
       "      <th>21</th>\n",
       "      <td>0992916305</td>\n",
       "      <td>A1M3JNGXB8IU7I</td>\n",
       "      <td>5.0</td>\n",
       "      <td>1409788800</td>\n",
       "    </tr>\n",
       "    <tr>\n",
       "      <th>22</th>\n",
       "      <td>0992916305</td>\n",
       "      <td>A3NYLVMP922AE5</td>\n",
       "      <td>5.0</td>\n",
       "      <td>1406160000</td>\n",
       "    </tr>\n",
       "    <tr>\n",
       "      <th>23</th>\n",
       "      <td>1620213982</td>\n",
       "      <td>A1DN3KBTCYBH6K</td>\n",
       "      <td>5.0</td>\n",
       "      <td>1337126400</td>\n",
       "    </tr>\n",
       "    <tr>\n",
       "      <th>24</th>\n",
       "      <td>1620213982</td>\n",
       "      <td>A1TA38LWZO0NZS</td>\n",
       "      <td>5.0</td>\n",
       "      <td>1330214400</td>\n",
       "    </tr>\n",
       "    <tr>\n",
       "      <th>25</th>\n",
       "      <td>1620213982</td>\n",
       "      <td>A2OZBC5SG575G1</td>\n",
       "      <td>5.0</td>\n",
       "      <td>1326672000</td>\n",
       "    </tr>\n",
       "    <tr>\n",
       "      <th>26</th>\n",
       "      <td>1620213982</td>\n",
       "      <td>A2YKYIA11M9XTX</td>\n",
       "      <td>5.0</td>\n",
       "      <td>1322092800</td>\n",
       "    </tr>\n",
       "    <tr>\n",
       "      <th>27</th>\n",
       "      <td>1620213982</td>\n",
       "      <td>A32MUH70JIV7TS</td>\n",
       "      <td>5.0</td>\n",
       "      <td>1319846400</td>\n",
       "    </tr>\n",
       "    <tr>\n",
       "      <th>28</th>\n",
       "      <td>1620213982</td>\n",
       "      <td>A3S57667R6V4S4</td>\n",
       "      <td>5.0</td>\n",
       "      <td>1314403200</td>\n",
       "    </tr>\n",
       "    <tr>\n",
       "      <th>29</th>\n",
       "      <td>1620213982</td>\n",
       "      <td>A3JLEHAK528W8Z</td>\n",
       "      <td>5.0</td>\n",
       "      <td>1304035200</td>\n",
       "    </tr>\n",
       "    <tr>\n",
       "      <th>30</th>\n",
       "      <td>1620213982</td>\n",
       "      <td>A1XA71UE5A7F5B</td>\n",
       "      <td>5.0</td>\n",
       "      <td>1288483200</td>\n",
       "    </tr>\n",
       "    <tr>\n",
       "      <th>31</th>\n",
       "      <td>1620213982</td>\n",
       "      <td>A3BEXXPM77KR5Z</td>\n",
       "      <td>5.0</td>\n",
       "      <td>1284422400</td>\n",
       "    </tr>\n",
       "    <tr>\n",
       "      <th>32</th>\n",
       "      <td>1620213982</td>\n",
       "      <td>A9KCT397IWK97</td>\n",
       "      <td>5.0</td>\n",
       "      <td>1525737600</td>\n",
       "    </tr>\n",
       "    <tr>\n",
       "      <th>33</th>\n",
       "      <td>1620213982</td>\n",
       "      <td>A36Z95ZFDMNL99</td>\n",
       "      <td>5.0</td>\n",
       "      <td>1525737600</td>\n",
       "    </tr>\n",
       "    <tr>\n",
       "      <th>34</th>\n",
       "      <td>1620213982</td>\n",
       "      <td>AB6RYXLZSKHIR</td>\n",
       "      <td>5.0</td>\n",
       "      <td>1525564800</td>\n",
       "    </tr>\n",
       "    <tr>\n",
       "      <th>35</th>\n",
       "      <td>1620213982</td>\n",
       "      <td>A210V878QFZW9V</td>\n",
       "      <td>5.0</td>\n",
       "      <td>1525305600</td>\n",
       "    </tr>\n",
       "    <tr>\n",
       "      <th>36</th>\n",
       "      <td>1620213982</td>\n",
       "      <td>A18WMBY4BAB7ES</td>\n",
       "      <td>5.0</td>\n",
       "      <td>1525219200</td>\n",
       "    </tr>\n",
       "    <tr>\n",
       "      <th>37</th>\n",
       "      <td>1620213982</td>\n",
       "      <td>A2667UCM2FYMQ5</td>\n",
       "      <td>2.0</td>\n",
       "      <td>1525132800</td>\n",
       "    </tr>\n",
       "    <tr>\n",
       "      <th>38</th>\n",
       "      <td>1620213982</td>\n",
       "      <td>AQ3IBZ523E9NP</td>\n",
       "      <td>4.0</td>\n",
       "      <td>1524873600</td>\n",
       "    </tr>\n",
       "    <tr>\n",
       "      <th>39</th>\n",
       "      <td>1620213982</td>\n",
       "      <td>A2Q6ZCAOTIKW5A</td>\n",
       "      <td>5.0</td>\n",
       "      <td>1524873600</td>\n",
       "    </tr>\n",
       "    <tr>\n",
       "      <th>40</th>\n",
       "      <td>1620213982</td>\n",
       "      <td>A2HJQ1TBXTHXFQ</td>\n",
       "      <td>2.0</td>\n",
       "      <td>1524700800</td>\n",
       "    </tr>\n",
       "    <tr>\n",
       "      <th>41</th>\n",
       "      <td>1620213982</td>\n",
       "      <td>A33JNJ0DGA6JRU</td>\n",
       "      <td>4.0</td>\n",
       "      <td>1524700800</td>\n",
       "    </tr>\n",
       "    <tr>\n",
       "      <th>42</th>\n",
       "      <td>1620213982</td>\n",
       "      <td>A1KF66E65YEALF</td>\n",
       "      <td>5.0</td>\n",
       "      <td>1524700800</td>\n",
       "    </tr>\n",
       "    <tr>\n",
       "      <th>43</th>\n",
       "      <td>1620213982</td>\n",
       "      <td>AYYITJTFJCA77</td>\n",
       "      <td>5.0</td>\n",
       "      <td>1524614400</td>\n",
       "    </tr>\n",
       "    <tr>\n",
       "      <th>44</th>\n",
       "      <td>1620213982</td>\n",
       "      <td>A35GAM2X7G7LAI</td>\n",
       "      <td>5.0</td>\n",
       "      <td>1524009600</td>\n",
       "    </tr>\n",
       "    <tr>\n",
       "      <th>45</th>\n",
       "      <td>1620213982</td>\n",
       "      <td>A1Z8A548Z31SUB</td>\n",
       "      <td>2.0</td>\n",
       "      <td>1523923200</td>\n",
       "    </tr>\n",
       "    <tr>\n",
       "      <th>46</th>\n",
       "      <td>1620213982</td>\n",
       "      <td>A2XBDWQ3Z8GZM</td>\n",
       "      <td>4.0</td>\n",
       "      <td>1523923200</td>\n",
       "    </tr>\n",
       "    <tr>\n",
       "      <th>47</th>\n",
       "      <td>1620213982</td>\n",
       "      <td>A2FT0AFHQ32G33</td>\n",
       "      <td>5.0</td>\n",
       "      <td>1523836800</td>\n",
       "    </tr>\n",
       "    <tr>\n",
       "      <th>48</th>\n",
       "      <td>1620213982</td>\n",
       "      <td>AIVFUM7JDR4KM</td>\n",
       "      <td>5.0</td>\n",
       "      <td>1523664000</td>\n",
       "    </tr>\n",
       "    <tr>\n",
       "      <th>49</th>\n",
       "      <td>1620213982</td>\n",
       "      <td>A12GV837WV9DA2</td>\n",
       "      <td>5.0</td>\n",
       "      <td>1523491200</td>\n",
       "    </tr>\n",
       "  </tbody>\n",
       "</table>\n",
       "</div>"
      ],
      "text/plain": [
       "     ProductID          UserID  Review        Date\n",
       "0   0143026860  A1V6B6TNIC10QE     1.0  1424304000\n",
       "1   0143026860  A2F5GHSXFQ0W6J     4.0  1418860800\n",
       "2   0143026860  A1572GUYS7DGSR     4.0  1407628800\n",
       "3   0143026860   A1PSGLFK1NSVO     5.0  1362960000\n",
       "4   0143026860   A6IKXKZMTKGSC     5.0  1324771200\n",
       "5   0143026860  A36NF437WZLQ9E     5.0  1267142400\n",
       "6   0143026860  A10Q8NIFOVOHFV     4.0   983923200\n",
       "7   014789302X  A26PO1B2Q2G1CS     1.0  1491782400\n",
       "8   014789302X   AQ812VYVTC2RJ     5.0  1483401600\n",
       "9   014789302X   AMACNEW14ADMX     1.0  1479513600\n",
       "10  014789302X   A5FS4FVWR77O6     2.0  1478736000\n",
       "11  014789302X  A1NLF2JD7BVOB4     5.0  1474848000\n",
       "12  014789302X  A3CKVF2ZR1CBO0     4.0  1470355200\n",
       "13  014789302X  A3IFT6SR16SAYU     5.0  1469750400\n",
       "14  014789302X  A2BQ7NB90SBVIA     5.0  1466208000\n",
       "15  014789302X   A92AYWTA52KXE     5.0  1464134400\n",
       "16  014789302X   AR6LNUWXJFYE6     5.0  1458950400\n",
       "17  0992916305  A2V9BG2MDQVCYX     5.0  1422748800\n",
       "18  0992916305   AIL9Q82L1G2YO     5.0  1422576000\n",
       "19  0992916305  A1ROGN2QPKZGP7     4.0  1417392000\n",
       "20  0992916305  A141Z5WI6GVM6Y     5.0  1415750400\n",
       "21  0992916305  A1M3JNGXB8IU7I     5.0  1409788800\n",
       "22  0992916305  A3NYLVMP922AE5     5.0  1406160000\n",
       "23  1620213982  A1DN3KBTCYBH6K     5.0  1337126400\n",
       "24  1620213982  A1TA38LWZO0NZS     5.0  1330214400\n",
       "25  1620213982  A2OZBC5SG575G1     5.0  1326672000\n",
       "26  1620213982  A2YKYIA11M9XTX     5.0  1322092800\n",
       "27  1620213982  A32MUH70JIV7TS     5.0  1319846400\n",
       "28  1620213982  A3S57667R6V4S4     5.0  1314403200\n",
       "29  1620213982  A3JLEHAK528W8Z     5.0  1304035200\n",
       "30  1620213982  A1XA71UE5A7F5B     5.0  1288483200\n",
       "31  1620213982  A3BEXXPM77KR5Z     5.0  1284422400\n",
       "32  1620213982   A9KCT397IWK97     5.0  1525737600\n",
       "33  1620213982  A36Z95ZFDMNL99     5.0  1525737600\n",
       "34  1620213982   AB6RYXLZSKHIR     5.0  1525564800\n",
       "35  1620213982  A210V878QFZW9V     5.0  1525305600\n",
       "36  1620213982  A18WMBY4BAB7ES     5.0  1525219200\n",
       "37  1620213982  A2667UCM2FYMQ5     2.0  1525132800\n",
       "38  1620213982   AQ3IBZ523E9NP     4.0  1524873600\n",
       "39  1620213982  A2Q6ZCAOTIKW5A     5.0  1524873600\n",
       "40  1620213982  A2HJQ1TBXTHXFQ     2.0  1524700800\n",
       "41  1620213982  A33JNJ0DGA6JRU     4.0  1524700800\n",
       "42  1620213982  A1KF66E65YEALF     5.0  1524700800\n",
       "43  1620213982   AYYITJTFJCA77     5.0  1524614400\n",
       "44  1620213982  A35GAM2X7G7LAI     5.0  1524009600\n",
       "45  1620213982  A1Z8A548Z31SUB     2.0  1523923200\n",
       "46  1620213982   A2XBDWQ3Z8GZM     4.0  1523923200\n",
       "47  1620213982  A2FT0AFHQ32G33     5.0  1523836800\n",
       "48  1620213982   AIVFUM7JDR4KM     5.0  1523664000\n",
       "49  1620213982  A12GV837WV9DA2     5.0  1523491200"
      ]
     },
     "execution_count": 7,
     "metadata": {},
     "output_type": "execute_result"
    }
   ],
   "source": [
    "header_names = ['ProductID', 'UserID', 'Review', 'Date']\n",
    "review_simplified = pd.read_csv(path + 'All_Beauty.csv', header=None, names=header_names)\n",
    "review_simplified.head(50)"
   ]
  },
  {
   "cell_type": "code",
   "execution_count": 8,
   "metadata": {
    "colab": {
     "base_uri": "https://localhost:8080/"
    },
    "id": "lqLmEUOGuuEx",
    "outputId": "e8e47cdf-dc39-4546-ae70-825d98fa80f6"
   },
   "outputs": [
    {
     "data": {
      "text/plain": [
       "(371345, 4)"
      ]
     },
     "execution_count": 8,
     "metadata": {},
     "output_type": "execute_result"
    }
   ],
   "source": [
    "review_simplified.shape"
   ]
  },
  {
   "cell_type": "markdown",
   "metadata": {
    "id": "VC3VRxuWh0Tx"
   },
   "source": [
    "### 2.4 Luxury_Beauty.json\n",
    "\n",
    "Additional dataset that is used mainly for predictive modelling part. This file contains all the review given by customers for luxury beauty product"
   ]
  },
  {
   "cell_type": "code",
   "execution_count": 9,
   "metadata": {
    "id": "DbV9GUnYi-JU"
   },
   "outputs": [
    {
     "ename": "FileNotFoundError",
     "evalue": "[Errno 2] No such file or directory: 'Luxury_Beauty.json'",
     "output_type": "error",
     "traceback": [
      "\u001b[1;31m---------------------------------------------------------------------------\u001b[0m",
      "\u001b[1;31mFileNotFoundError\u001b[0m                         Traceback (most recent call last)",
      "\u001b[1;32m<ipython-input-9-03c73aeee929>\u001b[0m in \u001b[0;36m<module>\u001b[1;34m\u001b[0m\n\u001b[0;32m      4\u001b[0m \u001b[1;33m\u001b[0m\u001b[0m\n\u001b[0;32m      5\u001b[0m \u001b[0mluxuryBeautyReview\u001b[0m \u001b[1;33m=\u001b[0m \u001b[1;33m[\u001b[0m\u001b[1;33m]\u001b[0m\u001b[1;33m\u001b[0m\u001b[1;33m\u001b[0m\u001b[0m\n\u001b[1;32m----> 6\u001b[1;33m \u001b[1;32mwith\u001b[0m \u001b[0mopen\u001b[0m\u001b[1;33m(\u001b[0m\u001b[0mpath\u001b[0m \u001b[1;33m+\u001b[0m \u001b[1;34m'Luxury_Beauty.json'\u001b[0m\u001b[1;33m)\u001b[0m \u001b[1;32mas\u001b[0m \u001b[0mf\u001b[0m\u001b[1;33m:\u001b[0m\u001b[1;33m\u001b[0m\u001b[1;33m\u001b[0m\u001b[0m\n\u001b[0m\u001b[0;32m      7\u001b[0m     \u001b[1;32mfor\u001b[0m \u001b[0mline\u001b[0m \u001b[1;32min\u001b[0m \u001b[0mf\u001b[0m\u001b[1;33m:\u001b[0m\u001b[1;33m\u001b[0m\u001b[1;33m\u001b[0m\u001b[0m\n\u001b[0;32m      8\u001b[0m         \u001b[0mluxuryBeautyReview\u001b[0m\u001b[1;33m.\u001b[0m\u001b[0mappend\u001b[0m\u001b[1;33m(\u001b[0m\u001b[0mjson\u001b[0m\u001b[1;33m.\u001b[0m\u001b[0mloads\u001b[0m\u001b[1;33m(\u001b[0m\u001b[0mline\u001b[0m\u001b[1;33m)\u001b[0m\u001b[1;33m)\u001b[0m\u001b[1;33m\u001b[0m\u001b[1;33m\u001b[0m\u001b[0m\n",
      "\u001b[1;31mFileNotFoundError\u001b[0m: [Errno 2] No such file or directory: 'Luxury_Beauty.json'"
     ]
    }
   ],
   "source": [
    "import json\n",
    "import numpy as np\n",
    "import pandas as pd\n",
    "\n",
    "luxuryBeautyReview = []\n",
    "with open(path + 'Luxury_Beauty.json') as f:\n",
    "    for line in f:\n",
    "        luxuryBeautyReview.append(json.loads(line))"
   ]
  },
  {
   "cell_type": "code",
   "execution_count": null,
   "metadata": {
    "colab": {
     "base_uri": "https://localhost:8080/",
     "height": 541
    },
    "id": "l03x2SR3jDCa",
    "outputId": "d685c089-74f7-43ff-dda1-dcc6a4290f0f"
   },
   "outputs": [],
   "source": [
    "raw_luxuryBeautyReview = pd.DataFrame(luxuryBeautyReview)\n",
    "raw_luxuryBeautyReview"
   ]
  },
  {
   "cell_type": "markdown",
   "metadata": {
    "id": "N4V_emDZif66"
   },
   "source": [
    "### 2.5 meta_Luxury_Beauty.json\n",
    "\n",
    "Additional dataset that is used mainly for predictive modelling part. This file contains all the luxury beauty product details."
   ]
  },
  {
   "cell_type": "code",
   "execution_count": null,
   "metadata": {
    "id": "jyyn3B7SjI1T"
   },
   "outputs": [],
   "source": [
    "import json\n",
    "import numpy as np\n",
    "import pandas as pd\n",
    "\n",
    "luxuryBeautyProduct = []\n",
    "with open(path + 'meta_Luxury_Beauty.json') as f:\n",
    "    for line in f:\n",
    "        luxuryBeautyProduct.append(json.loads(line))"
   ]
  },
  {
   "cell_type": "code",
   "execution_count": null,
   "metadata": {
    "colab": {
     "base_uri": "https://localhost:8080/",
     "height": 985
    },
    "id": "qDtu5TsBjJZz",
    "outputId": "a30fb258-4c38-4e13-8b52-8aaac64d4408"
   },
   "outputs": [],
   "source": [
    "raw_luxuryBeautyProduct = pd.DataFrame(luxuryBeautyProduct)\n",
    "raw_luxuryBeautyProduct"
   ]
  },
  {
   "cell_type": "markdown",
   "metadata": {
    "id": "lPRjNqAPuuEx"
   },
   "source": [
    "## 3.0 Data Cleaning\n",
    "\n",
    "Cleaning our data, which includes the steps below:\n",
    "\n",
    "Step 1 : Remove duplicates or irrelevant observations\n",
    "\n",
    "Step 2 : Fix structural errors\n",
    "\n",
    "Step 3 : Identify and handle outliers\n",
    "\n",
    "Step 4 : Handle missing data\n"
   ]
  },
  {
   "cell_type": "markdown",
   "metadata": {
    "id": "JIltA9EZuuEy"
   },
   "source": [
    "### 3.1 Cleaning meta_All_Beauty.json\n",
    "\n",
    "Which is now loaded into Product (a DataFrame)"
   ]
  },
  {
   "cell_type": "code",
   "execution_count": null,
   "metadata": {
    "id": "LveG7HnvuuEy"
   },
   "outputs": [],
   "source": [
    "#drop irrelevant observations\n",
    "product_table = raw_product_table.drop(['category','tech1','description', 'fit','image','tech2','feature','main_cat','similar_item','date'], axis=1)\n"
   ]
  },
  {
   "cell_type": "code",
   "execution_count": null,
   "metadata": {
    "colab": {
     "base_uri": "https://localhost:8080/"
    },
    "id": "45HzndYluuEy",
    "outputId": "8a264971-02e9-48ac-a6a8-470dcaf9e675"
   },
   "outputs": [],
   "source": [
    "# some ASIN inside details has space after \n",
    "# example  'ASIN: ' vs 'ASIN:'\n",
    "# but going to drop 'details' because didn't use it\n",
    "# this is to check whether the asin and the ASIN inside details is correct\n",
    "\n",
    "count = 0\n",
    "index_to_drop = [] \n",
    "\n",
    "for i in range(len(product_table.index)):\n",
    "    dct = product_table['details'].iloc[i]\n",
    "    if 'ASIN: ' in dct: \n",
    "        asin = dct['ASIN: ']\n",
    "    elif 'ASIN:' in dct:\n",
    "        asin = dct['ASIN:']\n",
    "    if asin != product_table['asin'].iloc[i]:\n",
    "        index_to_drop.append(i)\n",
    "        count += 1\n",
    "        \n",
    "print(count)"
   ]
  },
  {
   "cell_type": "code",
   "execution_count": null,
   "metadata": {
    "colab": {
     "base_uri": "https://localhost:8080/"
    },
    "id": "aUooys8NuuEz",
    "outputId": "b9806555-f182-4ae9-9a9e-5cd1dda3a719"
   },
   "outputs": [],
   "source": [
    "##drop irrelevant observations\n",
    "product_table = raw_product_table.drop(['category','tech1','description','fit','image','tech2','brand','feature','main_cat','similar_item','date','details'],axis = 1)\n",
    "\n",
    "##drop duplicates\n",
    "#no duplicate asins and row\n",
    "product_table.drop_duplicates(['asin'],inplace = True)\n",
    "product_table.reset_index(drop=True, inplace=True)\n",
    "\n",
    "##fix structural errors\n",
    "\n",
    "#for column 'rank' \n",
    "#remove uneccessary symbol like comma ',' and words\n",
    "#convert the string into integer \n",
    "product_table['rank'].replace(',','', regex=True, inplace=True)\n",
    "product_table['rank'] = product_table['rank'].str.extract('(\\d+)')\n",
    "\n",
    "#for column 'price'\n",
    "#if 'price' don't start with $ or has '-' means null value, fillna with 'unknown'\n",
    "#remove uneccessary symbol like comma ',' and '$'\n",
    "product_table.loc[product_table[\"price\"].str[0] != \"$\", \"price\"] = \"unknown\"\n",
    "product_table.loc[product_table[\"price\"].str.contains('-'), \"price\"] = \"unknown\"\n",
    "product_table['price'].replace(\"\\$\",\"\", regex=True, inplace=True)\n",
    "product_table['price'].replace(',','', regex=True, inplace=True)\n",
    "\n",
    "##deal with missing data\n",
    "#missing data in 'rank' and 'price'\n",
    "#product_table.replace('\\[]','', regex=True, inplace=True)\n",
    "product_table['rank'].fillna(0,inplace = True)\n",
    "product_table['price'].replace(\"unknown\",0, regex=True, inplace=True)\n",
    "product_table.fillna(\"unknown\",inplace = True)\n",
    "\n",
    "##changing data type\n",
    "product_table['rank']= product_table['rank'].astype(int)\n",
    "product_table['price'] = product_table['price'].apply(pd.to_numeric)\n",
    "\n",
    "##Identify and handle outliers\n",
    "z_scores = stats.zscore(pd.DataFrame(product_table['rank']))\n",
    "abs_z_scores = np.abs(z_scores)\n",
    "outlier = (abs_z_scores > 3).all(axis=1)\n",
    "product_table.drop(product_table[outlier].index, inplace = True)\n",
    "\n",
    "product_table.shape"
   ]
  },
  {
   "cell_type": "code",
   "execution_count": null,
   "metadata": {
    "colab": {
     "base_uri": "https://localhost:8080/"
    },
    "id": "uDGxKKP8uuE0",
    "outputId": "8d97e232-392d-41e3-e719-4101e3845a88"
   },
   "outputs": [],
   "source": [
    "unique = product_table[\"asin\"].value_counts()\n",
    "unique"
   ]
  },
  {
   "cell_type": "markdown",
   "metadata": {
    "id": "oL7hhRdLuuE0"
   },
   "source": [
    "### 3.2 Cleaning Review_Beauty.json\n",
    "Which is now loaded into review (a DataFrame)"
   ]
  },
  {
   "cell_type": "code",
   "execution_count": null,
   "metadata": {
    "colab": {
     "base_uri": "https://localhost:8080/",
     "height": 405
    },
    "id": "MaFhC7amuuE0",
    "outputId": "4a531029-273d-4037-d352-6062f9a7ee4b"
   },
   "outputs": [],
   "source": [
    "##drop irrelevant observations\n",
    "review_table = raw_review_table.drop(['reviewerName','reviewText','summary','style','image'],axis = 1)\n",
    "\n",
    "##drop duplicates\n",
    "review_table.drop_duplicates(inplace = True)\n",
    "review_table.reset_index(drop=True, inplace=True)\n",
    "\n",
    "##fix structural errors\n",
    "#for column 'vote'\n",
    "#remove uneccessary symbol ','\n",
    "review_table['vote'].replace(',','', regex=True, inplace=True)\n",
    "test_review_table = review_table.copy(deep=True)\n",
    "\n",
    "##deal with missing data\n",
    "review_table['vote'].fillna(0,inplace = True)\n",
    "review_table.fillna('unknown',inplace = True)\n",
    "\n",
    "##changing data type\n",
    "review_table['vote'] = review_table['vote'].astype(int)\n",
    "\n",
    "#separate reviewTime into three different columns\n",
    "review_table['reviewTime'].replace(',','', regex=True, inplace=True)\n",
    "date = review_table['reviewTime'].str.split(' ', n=2,expand = True)\n",
    "date.columns =['month','day','year']\n",
    "\n",
    "#drop reviewTime column\n",
    "review_table.drop(['reviewTime'],axis = 1,inplace = True)\n",
    "\n",
    "#concat both of the tables\n",
    "review_table = pd.concat([review_table,date], axis=1)\n",
    "\n",
    "#rearrange sequence of the columns\n",
    "cols = review_table.columns.tolist()\n",
    "cols = cols[-1:] + cols[-3:-1] + cols[:-3]\n",
    "review_table = review_table[cols]\n",
    "\n",
    "review_table"
   ]
  },
  {
   "cell_type": "markdown",
   "metadata": {
    "id": "9Ct9AMyekLWx"
   },
   "source": [
    "### 3.3 Cleaning Luxury_Beauty.json\n",
    "Cleaning luxury beauty product review datasets"
   ]
  },
  {
   "cell_type": "code",
   "execution_count": null,
   "metadata": {
    "colab": {
     "base_uri": "https://localhost:8080/",
     "height": 405
    },
    "id": "NDBHywIVkfKM",
    "outputId": "70794e6f-254d-4e0d-c9b5-86ed181510ca"
   },
   "outputs": [],
   "source": [
    "##drop irrelevant observations\n",
    "luxuryBeautyReview_table = raw_luxuryBeautyReview.drop(['reviewerName','reviewText','summary','style','image'],axis = 1)\n",
    "\n",
    "##drop duplicates\n",
    "luxuryBeautyReview_table.drop_duplicates(inplace = True)\n",
    "luxuryBeautyReview_table.reset_index(drop=True, inplace=True)\n",
    "\n",
    "##fix structural errors\n",
    "#for column 'vote'\n",
    "#remove uneccessary symbol ','\n",
    "luxuryBeautyReview_table['vote'].replace(',','', regex=True, inplace=True)\n",
    "#test_review_table = review_table.copy(deep=True)\n",
    "\n",
    "##deal with missing data\n",
    "luxuryBeautyReview_table['vote'].fillna(0,inplace = True)\n",
    "luxuryBeautyReview_table.fillna('unknown',inplace = True)\n",
    "\n",
    "##changing data type\n",
    "luxuryBeautyReview_table['vote'] = luxuryBeautyReview_table['vote'].astype(int)\n",
    "\n",
    "#separate reviewTime into three different columns\n",
    "luxuryBeautyReview_table['reviewTime'].replace(',','', regex=True, inplace=True)\n",
    "date_luxuryBeautyReview = luxuryBeautyReview_table['reviewTime'].str.split(' ', n=2,expand = True)\n",
    "date_luxuryBeautyReview .columns =['month','day','year']\n",
    "\n",
    "#drop reviewTime column\n",
    "luxuryBeautyReview_table.drop(['reviewTime'],axis = 1,inplace = True)\n",
    "\n",
    "#concat both of the tables\n",
    "luxuryBeautyReview_table = pd.concat([luxuryBeautyReview_table,date_luxuryBeautyReview ], axis=1)\n",
    "\n",
    "#rearrange sequence of the columns\n",
    "cols_LB = luxuryBeautyReview_table.columns.tolist()\n",
    "cols_LB = cols_LB[-1:] + cols_LB[-3:-1] + cols_LB[:-3]\n",
    "luxuryBeautyReview_table = luxuryBeautyReview_table[cols_LB]\n",
    "\n",
    "luxuryBeautyReview_table"
   ]
  },
  {
   "cell_type": "markdown",
   "metadata": {
    "id": "SsR0ai2SkaiC"
   },
   "source": [
    "### 3.4 Cleaning meta_Luxury_Beauty.json\n",
    "Cleaning luxury beauty product datasets"
   ]
  },
  {
   "cell_type": "code",
   "execution_count": null,
   "metadata": {
    "colab": {
     "base_uri": "https://localhost:8080/",
     "height": 405
    },
    "id": "O0rd489lksSe",
    "outputId": "77b20d2b-1286-481a-a603-7a9882cd4bb3"
   },
   "outputs": [],
   "source": [
    "##drop irrelevant observations\n",
    "luxuryBeautyProduct_table = raw_luxuryBeautyProduct.drop(['category','tech1','description','fit','image','tech2','brand','feature','main_cat','similar_item','date','details'],axis = 1)\n",
    "\n",
    "##drop duplicates\n",
    "#no duplicate asins and row\n",
    "luxuryBeautyProduct_table.drop_duplicates(['asin'],inplace = True)\n",
    "luxuryBeautyProduct_table.reset_index(drop=True, inplace=True)\n",
    "\n",
    "##fix structural errors\n",
    "\n",
    "#for column 'rank' \n",
    "#remove uneccessary symbol like comma ',' and words\n",
    "#convert the string into integer \n",
    "luxuryBeautyProduct_table['rank'].replace(',','', regex=True, inplace=True)\n",
    "luxuryBeautyProduct_table['rank'] = luxuryBeautyProduct_table['rank'].str.extract('(\\d+)')\n",
    "\n",
    "#for column 'price'\n",
    "#if 'price' don't start with $ or has '-' means null value, fillna with 'unknown'\n",
    "#remove uneccessary symbol like comma ',' and '$'\n",
    "luxuryBeautyProduct_table.loc[luxuryBeautyProduct_table[\"price\"].str[0] != \"$\", \"price\"] = \"unknown\"\n",
    "luxuryBeautyProduct_table.loc[luxuryBeautyProduct_table[\"price\"].str.contains('-'), \"price\"] = \"unknown\"\n",
    "luxuryBeautyProduct_table['price'].replace(\"\\$\",\"\", regex=True, inplace=True)\n",
    "luxuryBeautyProduct_table['price'].replace(',','', regex=True, inplace=True)\n",
    "\n",
    "##deal with missing data\n",
    "#missing data in 'rank' and 'price'\n",
    "#product_table.replace('\\[]','', regex=True, inplace=True)\n",
    "luxuryBeautyProduct_table['rank'].fillna(0,inplace = True)\n",
    "luxuryBeautyProduct_table['price'].replace(\"unknown\",0, regex=True, inplace=True)\n",
    "luxuryBeautyProduct_table.fillna(\"unknown\",inplace = True)\n",
    "\n",
    "##changing data type\n",
    "luxuryBeautyProduct_table['rank']= luxuryBeautyProduct_table['rank'].astype(int)\n",
    "luxuryBeautyProduct_table['price'] = luxuryBeautyProduct_table['price'].apply(pd.to_numeric)\n",
    "\n",
    "##Identify and handle outliers\n",
    "z_scores_LB = stats.zscore(pd.DataFrame(luxuryBeautyProduct_table['rank']))\n",
    "abs_z_scores_LB = np.abs(z_scores_LB)\n",
    "outlier_LB = (abs_z_scores_LB > 3).all(axis=1)\n",
    "luxuryBeautyProduct_table.drop(luxuryBeautyProduct_table[outlier_LB].index, inplace = True)\n",
    "\n",
    "luxuryBeautyProduct_table"
   ]
  },
  {
   "cell_type": "markdown",
   "metadata": {
    "id": "S6hkALj5NrNZ"
   },
   "source": [
    "## 4.0 Data Transformation"
   ]
  },
  {
   "cell_type": "markdown",
   "metadata": {
    "id": "p8cG1PpUQDPL"
   },
   "source": [
    "### 4.1 Normalization"
   ]
  },
  {
   "cell_type": "code",
   "execution_count": null,
   "metadata": {
    "colab": {
     "base_uri": "https://localhost:8080/",
     "height": 405
    },
    "id": "vTOtTQeaUQfl",
    "outputId": "8e5b246e-7aa9-4932-bcf7-36ec79489a36"
   },
   "outputs": [],
   "source": [
    "#min-max normalization\n",
    "product_table['rank'] = (product_table['rank'] - product_table['rank'].min())/(product_table['rank'].max()-product_table['rank'].min())\n",
    "product_table"
   ]
  },
  {
   "cell_type": "markdown",
   "metadata": {
    "id": "Yn-2qBhsuuE1"
   },
   "source": [
    "### 4.2 Merging\n",
    "Merge review_table with product_table"
   ]
  },
  {
   "cell_type": "markdown",
   "metadata": {
    "id": "DFFIbg8dlePX"
   },
   "source": [
    "#### 4.2.1 Merging review_table and product_table\n",
    "Merging the two tables."
   ]
  },
  {
   "cell_type": "code",
   "execution_count": null,
   "metadata": {
    "colab": {
     "base_uri": "https://localhost:8080/",
     "height": 137
    },
    "id": "z1eLlF7ZuuE1",
    "outputId": "a9b9b0f2-66b8-4ce7-f035-0c921c8a25ed"
   },
   "outputs": [],
   "source": [
    "# Outer merge of review_table & product_table\n",
    "dfMergedOuter = (pd.merge(product_table,review_table, on='asin', how='outer', indicator=True)).set_index('asin')\n",
    "\n",
    "# Outer left (product_table), to find out the product that doesn't have any review\n",
    "dfMergedOuterProduct=dfMergedOuter[dfMergedOuter['_merge']=='left_only']\n",
    "dfMergedOuterProduct"
   ]
  },
  {
   "cell_type": "code",
   "execution_count": null,
   "metadata": {
    "colab": {
     "base_uri": "https://localhost:8080/",
     "height": 405
    },
    "id": "k68LP1GQuuE2",
    "outputId": "53a16903-b064-430d-d3e2-40c35fb437e4"
   },
   "outputs": [],
   "source": [
    "# Outer merge of review_table & product_table\n",
    "dfMergedOuter2 = pd.merge(review_table, product_table, on='asin', how='outer', indicator=True)\n",
    "\n",
    "# Outer left (review_table), to find out the product review that doesn't exist in product_table\n",
    "dfMergedOuterReview=dfMergedOuter2[dfMergedOuter2['_merge']=='left_only']\n",
    "dfMergedOuterReview"
   ]
  },
  {
   "cell_type": "code",
   "execution_count": null,
   "metadata": {
    "colab": {
     "base_uri": "https://localhost:8080/",
     "height": 593
    },
    "id": "vXEHUyM7uuE2",
    "outputId": "618f95a2-8dba-4b66-b765-8e2b31307a82"
   },
   "outputs": [],
   "source": [
    "# to find the intersection betweeen both tables\n",
    "dfMergedInner = (pd.merge(product_table,review_table, on='asin', how='inner', indicator=True)).set_index('asin')\n",
    "dfMergedInner.reset_index(inplace = True)\n",
    "dfMergedInner"
   ]
  },
  {
   "cell_type": "markdown",
   "metadata": {
    "id": "toEW7hUd2g6t"
   },
   "source": [
    "After merging both tables, we found that there are 2 existing products without any reviews. Hence we drop them from product_table.\n",
    "\n",
    "For review_table, there are 5120 reviews on products that were not in our dataset, we drop them too."
   ]
  },
  {
   "cell_type": "code",
   "execution_count": null,
   "metadata": {
    "id": "8FxyCcod1xv-"
   },
   "outputs": [],
   "source": [
    "# Drop both products since they do not have any reviews\n",
    "product_table.drop(product_table[product_table['asin']=='B000NICBSI'].index, inplace = True) \n",
    "product_table.drop(product_table[product_table['asin']=='B01HHYC4UA'].index, inplace = True) "
   ]
  },
  {
   "cell_type": "code",
   "execution_count": null,
   "metadata": {
    "colab": {
     "base_uri": "https://localhost:8080/",
     "height": 405
    },
    "id": "F8OAtQsp2hfT",
    "outputId": "4dcee1bb-b804-4b59-bd2a-466973bc4d06"
   },
   "outputs": [],
   "source": [
    "# Update our review table using the inner merge\n",
    "final_review_table = dfMergedInner.drop(['title','also_buy','rank','also_view','price','reviewerID', '_merge'],axis = 1)\n",
    "final_review_table"
   ]
  },
  {
   "cell_type": "markdown",
   "metadata": {
    "id": "DCcFwR-A3OU0"
   },
   "source": [
    "After cleaning and merging the data, 32485 beauty products and 357283 reviews are remained in our dataset.\n"
   ]
  },
  {
   "cell_type": "markdown",
   "metadata": {
    "id": "BRclR0GYXYHN"
   },
   "source": [
    "#### 4.2.2 Final Merged Table\n",
    "Final merged table has been prepared for future use in data processing"
   ]
  },
  {
   "cell_type": "code",
   "execution_count": null,
   "metadata": {
    "colab": {
     "base_uri": "https://localhost:8080/",
     "height": 593
    },
    "id": "Hxizd9R6Xeje",
    "outputId": "da56f580-61ae-4b3a-cdcf-7f90ca084923"
   },
   "outputs": [],
   "source": [
    "dfMergedInner"
   ]
  },
  {
   "cell_type": "markdown",
   "metadata": {
    "id": "m5WwUGzPuuE2"
   },
   "source": [
    "\n",
    "\n",
    "We will be using `product_table` and `final_review_table` for our data analysis.\n",
    "\n",
    "`product_table`: Contains 32485 unique beauty products selling on Amazon. All listed product have at least one review in our dataset. It contains sales rank and/or price that is 0.\n",
    "\n",
    "`final_review_table`: Contains 357283 product reviews. All recorded reviews have a matching product in our dataset."
   ]
  },
  {
   "cell_type": "markdown",
   "metadata": {
    "id": "Rk708I--yVSP"
   },
   "source": [
    "### 4.3 Useful Functions"
   ]
  },
  {
   "cell_type": "markdown",
   "metadata": {
    "id": "d7uJjQmxwHLt"
   },
   "source": [
    "#### 4.3.1 process_merged_review"
   ]
  },
  {
   "cell_type": "code",
   "execution_count": null,
   "metadata": {
    "id": "HDizwJL0uuE6"
   },
   "outputs": [],
   "source": [
    "# calculates average rating of each product\n",
    "# -----------------------------------------\n",
    "# 1 parameter:\n",
    "# review_arg['asin', 'overall']\n",
    "# -----------------------------------------\n",
    "# return:\n",
    "# avg_review['asin', 'average-rating']\n",
    "# -----------------------------------------\n",
    "\n",
    "def avgReview(review_arg):\n",
    "  avg_review = review_arg.groupby(['asin']).mean()\n",
    "  avg_review.rename(columns={'overall':'average-rating'},inplace=True)\n",
    "  avg_review.reset_index(inplace = True)\n",
    "  return avg_review"
   ]
  },
  {
   "cell_type": "code",
   "execution_count": null,
   "metadata": {
    "id": "L_3Ikc56qE0M"
   },
   "outputs": [],
   "source": [
    "# calculates number of reviews of each product\n",
    "# --------------------------------------------\n",
    "# 1 parameter:\n",
    "# review['asin', 'overall']\n",
    "# --------------------------------------------\n",
    "# return:\n",
    "# count_review ['asin', 'number-of-review']\n",
    "# --------------------------------------------\n",
    "\n",
    "def countReview(review_arg):\n",
    "  count_review = review_arg.groupby(['asin']).count()\n",
    "  count_review.rename(columns={'overall':'number-of-review'},inplace=True)\n",
    "  count_review.reset_index(inplace = True)\n",
    "  return count_review"
   ]
  },
  {
   "cell_type": "code",
   "execution_count": null,
   "metadata": {
    "id": "GDnXPIrQpSF0"
   },
   "outputs": [],
   "source": [
    "# merge 3 dataframe together\n",
    "# --------------------------------------------\n",
    "# 3 paramters:\n",
    "# avg_review_arg ['asin', 'average-rating']\n",
    "# count_review_arg ['asin', 'number-of-review']\n",
    "# product_rank_arg ['asin','rank']\n",
    "# --------------------------------------------\n",
    "# result:\n",
    "# merged_review_table ['asin', 'average-rating', 'number-of-review', 'rank']\n",
    "# --------------------------------------------\n",
    "\n",
    "def merge_avgReview_numReview_product(avg_review_arg, count_review_arg, product_rank_arg):\n",
    "# merge average rating score\n",
    "  merged_review_table = (pd.merge(product_rank_arg, avg_review_arg, on='asin', how='inner', indicator=True)).set_index('asin')\n",
    "  merged_review_table.reset_index(inplace=True)\n",
    "  merged_review_table = merged_review_table.drop(['_merge'],axis = 1)\n",
    "  merged_review_table.rename(columns={'overall':'average-rating'},inplace=True)\n",
    "\n",
    "  # merge number of reviews\n",
    "  merged_review_table = (pd.merge(merged_review_table, count_review_arg, on='asin', how='inner', indicator=True)).set_index('asin')\n",
    "  merged_review_table.reset_index(inplace = True)\n",
    "  merged_review_table = merged_review_table.drop(['_merge'],axis = 1)\n",
    "  merged_review_table.rename(columns={'overall':'number-of-review'},inplace=True)\n",
    "\n",
    "  # filter out product with 0 as sales rank (32083 products left)\n",
    "  merged_review_table = merged_review_table[merged_review_table['rank'] > 0]\n",
    "  merged_review_table.sort_values(by=['rank']) \n",
    "\n",
    "  return merged_review_table"
   ]
  },
  {
   "cell_type": "code",
   "execution_count": null,
   "metadata": {
    "id": "etGiSmoarE_u"
   },
   "outputs": [],
   "source": [
    "# calculate avg_review and count_review, and then merge with product_rank\n",
    "# --------------------------------------------\n",
    "# 2 parameters:\n",
    "# review_arg ['asin', 'overall']\n",
    "# product_rank_arg ['asin','rank']\n",
    "# --------------------------------------------\n",
    "# return:\n",
    "# merged_review_table ['asin', 'rank', 'average-rating, 'number-of-review']\n",
    "# --------------------------------------------\n",
    "\n",
    "def process_merged_review(review_arg, product_rank_arg):\n",
    "    avg_review = avgReview(review_arg)\n",
    "    count_review = countReview(review_arg)\n",
    "    merged_review_table = merge_avgReview_numReview_product(avg_review, count_review, product_rank_arg)\n",
    "    return merged_review_table"
   ]
  },
  {
   "cell_type": "markdown",
   "metadata": {
    "id": "RRgUtJKqyiYt"
   },
   "source": [
    "#### 4.3.2 process_verified_review"
   ]
  },
  {
   "cell_type": "code",
   "execution_count": null,
   "metadata": {
    "id": "dMIbu9-KfuSg"
   },
   "outputs": [],
   "source": [
    "# calculates number of verified reviews of each product\n",
    "# --------------------------------------------\n",
    "# 2 parameters:\n",
    "# verified_review ['asin', 'overall', 'verified']\n",
    "# merged_review_table\n",
    "# --------------------------------------------\n",
    "# return:\n",
    "# mv_review_table ['asin', 'rank', 'average-rating, 'number-of-review',\n",
    "# 'average-verified-rating', 'verified']\n",
    "# --------------------------------------------\n",
    "\n",
    "def process_verified_review(verified_review, merged_review_table_arg):\n",
    "  # gets verified reviews' average score (left 30430 rows)\n",
    "  avg_verified_review = verified_review[verified_review['verified'] == True]\n",
    "  avg_verified_review = avg_verified_review.groupby(['asin']).mean()\n",
    "  avg_verified_review.rename(columns={'overall':'average-verified-rating'},inplace=True)\n",
    "  avg_verified_review.drop(['verified'],axis=1,inplace=True)\n",
    "  avg_verified_review.reset_index(inplace = True)\n",
    "  # merge merged_review_table && avg_verified_review\n",
    "  copy_merged_review = merged_review_table_arg.copy()\n",
    "  #mv_review_table = (pd.merge(merged_review_table_arg.copy(), avg_verified_review, on='asin', how='left', indicator=True).fillna(0)).set_index('asin')\n",
    "  copy_merged_review['average-verified-rating'] = copy_merged_review.asin.map(avg_verified_review\\\n",
    "                                                                             .set_index('asin')['average-verified-rating'])\\\n",
    "                                                                             .fillna(0).astype(float)\n",
    "  # return\n",
    "  return copy_merged_review"
   ]
  },
  {
   "cell_type": "markdown",
   "metadata": {
    "id": "l3SwUCi2qu47"
   },
   "source": [
    "Generate merged_review_table"
   ]
  },
  {
   "cell_type": "code",
   "execution_count": null,
   "metadata": {
    "colab": {
     "base_uri": "https://localhost:8080/",
     "height": 405
    },
    "id": "pbxf539A4xsq",
    "outputId": "aba94b10-2da7-44f6-e1c0-b455c580c542"
   },
   "outputs": [],
   "source": [
    "review = final_review_table[['asin', 'overall']]\n",
    "product_rank = product_table[['asin','rank']]\n",
    "merged_review_table = process_merged_review(review, product_rank)\n",
    "merged_review_table"
   ]
  },
  {
   "cell_type": "markdown",
   "metadata": {
    "id": "xzcLcZ9EuLfF"
   },
   "source": [
    "Generate mv_review_table"
   ]
  },
  {
   "cell_type": "code",
   "execution_count": null,
   "metadata": {
    "colab": {
     "base_uri": "https://localhost:8080/",
     "height": 405
    },
    "id": "fdxLyHH3uxL5",
    "outputId": "446cb74f-6dda-411a-e920-51d9e0f42c94"
   },
   "outputs": [],
   "source": [
    "vr = final_review_table[['asin', 'overall', 'verified']]\n",
    "mv_review_table = process_verified_review(vr, merged_review_table)\n",
    "mv_review_table"
   ]
  },
  {
   "cell_type": "markdown",
   "metadata": {
    "id": "5432mf1Lmeeu"
   },
   "source": [
    "Here we have two processed tables:\n",
    "\n",
    "`merged_review_data`: All cleaned products with average rating, total number of reviews and more.\n",
    "\n",
    "`mv_review_table`: The same product table, but only verified reviews are considered.\n"
   ]
  },
  {
   "cell_type": "code",
   "execution_count": null,
   "metadata": {
    "colab": {
     "base_uri": "https://localhost:8080/",
     "height": 137
    },
    "id": "4aIAHjWq6wrk",
    "outputId": "de5f28eb-5f12-4c0a-a9d8-349c24b2a845"
   },
   "outputs": [],
   "source": [
    "merged_review_table.corr()"
   ]
  },
  {
   "cell_type": "markdown",
   "metadata": {
    "id": "c-pa9_KrraEp"
   },
   "source": [
    "#### 4.3.3 time frame"
   ]
  },
  {
   "cell_type": "code",
   "execution_count": null,
   "metadata": {
    "id": "js5AwGcVj9nf"
   },
   "outputs": [],
   "source": [
    "def filterByYear(x, data):\n",
    "    result = data['year'] == x\n",
    "    result = data[result]\n",
    "    return result"
   ]
  },
  {
   "cell_type": "code",
   "execution_count": null,
   "metadata": {
    "id": "xgMxE-jJ1O7b"
   },
   "outputs": [],
   "source": [
    "# max date review groupby 'asin'\n",
    "product_max_date = final_review_table.groupby(['asin'], sort=True)['year'].max()\n",
    "product_max_date = pd.DataFrame(product_max_date)\n",
    "product_max_date.reset_index(level=0, inplace=True)\n",
    "\n",
    "# min date review groupby 'asin'\n",
    "product_min_date = final_review_table.groupby(['asin'], sort=True)['year'].min()\n",
    "product_min_date = pd.DataFrame(product_min_date)\n",
    "product_min_date.reset_index(level=0, inplace=True)"
   ]
  },
  {
   "cell_type": "code",
   "execution_count": null,
   "metadata": {
    "colab": {
     "base_uri": "https://localhost:8080/",
     "height": 405
    },
    "id": "3xs7qy4f1QkY",
    "outputId": "290b2695-020d-4344-f63a-769f893e6b71"
   },
   "outputs": [],
   "source": [
    "# merge max and min together\n",
    "# rename column and reset index\n",
    "product_min_max_date = (pd.merge(product_max_date, product_min_date, on='asin', how='inner', indicator=True)).set_index('asin')\n",
    "product_min_max_date.rename(columns = {'year_x':'max','year_y':'min'}, inplace = True)\n",
    "product_min_max_date.drop(['_merge'], axis=1, inplace =True)\n",
    "product_min_max_date.reset_index(level=0, inplace=True)\n",
    "\n",
    "# calculate diff between min and max\n",
    "product_min_max_date = product_min_max_date.astype({'max': 'int', 'min': 'int'})\n",
    "product_min_max_date['diff'] = (product_min_max_date['max'] - product_min_max_date['min'] + 1)\n",
    "\n",
    "# final table\n",
    "product_min_max_date"
   ]
  },
  {
   "cell_type": "markdown",
   "metadata": {
    "id": "su5s-LLpjvGM"
   },
   "source": [
    "#### 4.3.4 Calculate Density"
   ]
  },
  {
   "cell_type": "code",
   "execution_count": null,
   "metadata": {
    "id": "UOAXWgLPjumJ"
   },
   "outputs": [],
   "source": [
    "def calculateDensity(x_axis, y_axis):\n",
    "    x= x_axis\n",
    "    y= y_axis\n",
    "\n",
    "    # Calculate the point density\n",
    "    xy = np.vstack([x,y])\n",
    "    z = gaussian_kde(xy)(xy)\n",
    "    \n",
    "    # Sort the points by density, so that the densest points are plotted last\n",
    "    #idx = z.argsort()\n",
    "    #x, y, z = x[idx], y[idx], z[idx]\n",
    "    \n",
    "    #return density\n",
    "    return z"
   ]
  },
  {
   "cell_type": "markdown",
   "metadata": {
    "id": "E0B52Bbfp5bo"
   },
   "source": [
    "### 4.4 Merging For Luxury Beauty "
   ]
  },
  {
   "cell_type": "code",
   "execution_count": null,
   "metadata": {
    "colab": {
     "base_uri": "https://localhost:8080/",
     "height": 576
    },
    "id": "2lWIR6ArqELE",
    "outputId": "30e2f77b-a8af-4b0d-eee5-365b2f22e0a0"
   },
   "outputs": [],
   "source": [
    "#merging\n",
    "#to find the intersection betweeen both tables\n",
    "luxuryBeautyMergedInner = (pd.merge(luxuryBeautyProduct_table,luxuryBeautyReview_table, on='asin', how='inner', indicator=True)).set_index('asin')\n",
    "luxuryBeautyMergedInner.reset_index(inplace = True)\n",
    "luxuryBeautyMergedInner\n"
   ]
  },
  {
   "cell_type": "markdown",
   "metadata": {
    "id": "9D5LqjksqPR1"
   },
   "source": [
    "#### 4.4.1 Final_luxuryBeautyReview_table"
   ]
  },
  {
   "cell_type": "code",
   "execution_count": null,
   "metadata": {
    "colab": {
     "base_uri": "https://localhost:8080/",
     "height": 405
    },
    "id": "LX9p13NjtKYK",
    "outputId": "35ed6384-bb55-43d3-e66c-bf36bf8e6a05"
   },
   "outputs": [],
   "source": [
    "final_luxuryBeautyReview_table = luxuryBeautyMergedInner.drop(['title','also_buy','rank','also_view','price','reviewerID', '_merge'],axis = 1)\n",
    "final_luxuryBeautyReview_table"
   ]
  },
  {
   "cell_type": "markdown",
   "metadata": {
    "id": "h5hM9xQRtXP0"
   },
   "source": [
    "#### 4.4.2 merged_luxuryBeautyReview_table"
   ]
  },
  {
   "cell_type": "code",
   "execution_count": null,
   "metadata": {
    "colab": {
     "base_uri": "https://localhost:8080/",
     "height": 405
    },
    "id": "rbMprTbUtm2x",
    "outputId": "6bf018ef-a09b-473a-e7a8-6a52546b89f2"
   },
   "outputs": [],
   "source": [
    "review_luxuryBeauty = final_luxuryBeautyReview_table[['asin', 'overall']]\n",
    "luxuryBeautyProduct_rank = luxuryBeautyProduct_table[['asin','rank']]\n",
    "merged_luxuryBeautyReview_table = process_merged_review(review_luxuryBeauty, luxuryBeautyProduct_rank)\n",
    "merged_luxuryBeautyReview_table"
   ]
  },
  {
   "cell_type": "markdown",
   "metadata": {
    "id": "n1A3-TbRtgHm"
   },
   "source": [
    "#### 4.4.3 mv_luxuryBeautyReview_table"
   ]
  },
  {
   "cell_type": "code",
   "execution_count": null,
   "metadata": {
    "colab": {
     "base_uri": "https://localhost:8080/",
     "height": 405
    },
    "id": "b6dghe7YtrFV",
    "outputId": "8036f83f-02fc-465b-ea26-9792635376d6"
   },
   "outputs": [],
   "source": [
    "luxuryBeautyVR = final_luxuryBeautyReview_table[['asin', 'overall', 'verified']]\n",
    "mv_luxuryBeautyReview_table = process_verified_review(luxuryBeautyVR, merged_luxuryBeautyReview_table)\n",
    "mv_luxuryBeautyReview_table"
   ]
  },
  {
   "cell_type": "markdown",
   "metadata": {
    "id": "OcBVwk-MuQsi"
   },
   "source": [
    "#### 4.4.4 Process for final luxury beauty table"
   ]
  },
  {
   "cell_type": "code",
   "execution_count": null,
   "metadata": {
    "colab": {
     "base_uri": "https://localhost:8080/",
     "height": 405
    },
    "id": "FhqWTRfcvKOL",
    "outputId": "5064b7a9-d526-4881-8d47-165df23d17c6"
   },
   "outputs": [],
   "source": [
    "# suitable for passing merged_review_table or mv_review_table\n",
    "def CalculateluxuryBeautyTimeWeightedAvg(rev_table):\n",
    "\n",
    "    frt_copy = final_luxuryBeautyReview_table.copy()\n",
    "    mmScaler = MinMaxScaler()\n",
    "    frt_copy[['unixReviewTime']] = mmScaler.fit_transform(frt_copy[['unixReviewTime']])\n",
    "    frt_copy['time-weighted-overall'] = frt_copy['overall'] * frt_copy['unixReviewTime'] \n",
    "    \n",
    "    g = frt_copy[['asin', 'time-weighted-overall']]\n",
    "    g = g.groupby(['asin'])['time-weighted-overall'].mean()\n",
    "    time_score = pd.DataFrame(g)#, columns=['time-weighted-avg'])\n",
    "    time_score.reset_index(inplace=True)\n",
    "    \n",
    "    rev_table = (pd.merge(rev_table, time_score, on='asin', how='inner', indicator=True)).set_index('asin')\n",
    "    rev_table.reset_index(inplace = True)\n",
    "    rev_table = rev_table.drop(['_merge'],axis = 1)\n",
    "\n",
    "    return rev_table\n",
    "\n",
    "luxuryBeautyReview_table_withTime = CalculateluxuryBeautyTimeWeightedAvg(mv_luxuryBeautyReview_table )\n",
    "luxuryBeautyReview_table_withTime"
   ]
  },
  {
   "cell_type": "markdown",
   "metadata": {
    "id": "V5OeiRjVQyHW"
   },
   "source": [
    "### 4.5 Binning"
   ]
  },
  {
   "cell_type": "markdown",
   "metadata": {
    "id": "6IZACRl3v7dK"
   },
   "source": [
    "#### 4.5.1 Binning for All Beauty Product"
   ]
  },
  {
   "cell_type": "code",
   "execution_count": null,
   "metadata": {
    "colab": {
     "base_uri": "https://localhost:8080/"
    },
    "id": "SeSqUcTy-8Ag",
    "outputId": "12cd1b94-c988-4301-9368-691a95a5947b"
   },
   "outputs": [],
   "source": [
    "bins = np.linspace(min(merged_review_table['rank']), max(merged_review_table['rank']), 5)\n",
    "bins"
   ]
  },
  {
   "cell_type": "code",
   "execution_count": null,
   "metadata": {
    "colab": {
     "base_uri": "https://localhost:8080/",
     "height": 197
    },
    "id": "b4YknN4F_S_C",
    "outputId": "91cb4548-bb15-45c6-cc06-2a603692aff9"
   },
   "outputs": [],
   "source": [
    "group_names = ['Very Good', 'Good', 'Moderate', 'Bad']\n",
    "merged_review_table['rank-binned'] = pd.cut(merged_review_table['rank'], bins, labels=group_names, include_lowest=True)\n",
    "merged_review_table.head()"
   ]
  },
  {
   "cell_type": "code",
   "execution_count": null,
   "metadata": {
    "colab": {
     "base_uri": "https://localhost:8080/",
     "height": 312
    },
    "id": "YBAQjEHF_TEu",
    "outputId": "2940332b-5539-4441-b38e-b4538f432a7c"
   },
   "outputs": [],
   "source": [
    "plt.figure(figsize = (5,4))\n",
    "plt.bar(group_names, merged_review_table['rank-binned'].value_counts())\n",
    "plt.title(\"Number of Product against Sales Rank\")\n",
    "plt.xlabel('Sales Rank')\n",
    "plt.ylabel('Number of Product')"
   ]
  },
  {
   "cell_type": "markdown",
   "metadata": {
    "id": "Eooio4HLwALI"
   },
   "source": [
    "#### 4.5.2 Binning for Luxury Beauty Product"
   ]
  },
  {
   "cell_type": "code",
   "execution_count": null,
   "metadata": {
    "colab": {
     "base_uri": "https://localhost:8080/",
     "height": 405
    },
    "id": "H8xoySAkwE0K",
    "outputId": "771553f5-43fd-4383-ce13-7c37d72b06b7"
   },
   "outputs": [],
   "source": [
    "bins_luxuryBeauty = np.linspace(min(luxuryBeautyReview_table_withTime['rank']), max(luxuryBeautyReview_table_withTime['rank']), 5)\n",
    "rank_names = ['Very Good', 'Good', 'Moderate', 'Bad']\n",
    "luxuryBeautyReview_table_withTime['rank-binned'] = pd.cut(luxuryBeautyReview_table_withTime['rank'], bins_luxuryBeauty, labels=rank_names, include_lowest=True)\n",
    "luxuryBeautyReview_table_withTime"
   ]
  },
  {
   "cell_type": "markdown",
   "metadata": {
    "id": "h5ThFs-NMXx4"
   },
   "source": [
    "## 5.0 Data Analysis\n",
    "****Important Note:****\n",
    "All beauty productis our main dataset. This project is mainly analysing all beauty product dataset. Luxury beauty product is mainly used for predictive modelling section."
   ]
  },
  {
   "cell_type": "markdown",
   "metadata": {
    "id": "7_VIWN7hipgO"
   },
   "source": [
    "### 5.1 Corr: avg rating && sales rank"
   ]
  },
  {
   "cell_type": "code",
   "execution_count": null,
   "metadata": {
    "colab": {
     "base_uri": "https://localhost:8080/",
     "height": 279
    },
    "id": "l9fxHhXTGq83",
    "outputId": "5f363e87-ad65-4168-8c95-55fcda5a2a7e"
   },
   "outputs": [],
   "source": [
    "plt.figure(figsize = (5,4))\n",
    "bp = sns.boxplot(x='rank-binned', y='average-rating', data=merged_review_table)"
   ]
  },
  {
   "cell_type": "code",
   "execution_count": null,
   "metadata": {
    "colab": {
     "base_uri": "https://localhost:8080/",
     "height": 346
    },
    "id": "N5NKzeNP50ik",
    "outputId": "2b805e1d-c49c-4184-b00d-5a50d35720b7"
   },
   "outputs": [],
   "source": [
    "average_v_rank = sns.scatterplot(x='average-rating', \n",
    "                                 y='rank',\n",
    "                                 data=merged_review_table)\n",
    "\n",
    "average_v_rank.set(xlabel='Average Rating of Beauty Product', \n",
    "                   ylabel='Sales Rank', \n",
    "                   title=\"Average Rating of Beauty Products against Sales Rank\")"
   ]
  },
  {
   "cell_type": "code",
   "execution_count": null,
   "metadata": {
    "colab": {
     "base_uri": "https://localhost:8080/",
     "height": 628
    },
    "id": "Tyete91TEK4S",
    "outputId": "2c572fb2-983f-4d9a-a153-2ac6902f8e5b"
   },
   "outputs": [],
   "source": [
    "sns.set(rc={'figure.figsize':(15,10)})\n",
    "sns.scatterplot(x='average-rating', y='rank', data = merged_review_table, hue='rank-binned')"
   ]
  },
  {
   "cell_type": "code",
   "execution_count": null,
   "metadata": {
    "colab": {
     "base_uri": "https://localhost:8080/",
     "height": 405
    },
    "id": "jn--Vw5YZNEe",
    "outputId": "479403b8-2c2f-4779-c083-3b0e6d50a4a0"
   },
   "outputs": [],
   "source": [
    "num_review_am200 = merged_review_table.copy()\n",
    "num_review_am200 = num_review_am200[num_review_am200['number-of-review']<= 200]\n",
    "\n",
    "\n",
    "num_review_am200['average-rating-range'] = pd.cut(num_review_am200['average-rating'],\n",
    "                                                  [0, 3, 4,6], \n",
    "                                                  right=False,\n",
    "                                                  labels=[\"[1, 3)\",\"[3, 4)\",\"[4, 5]\"])\n",
    "num_review_am200"
   ]
  },
  {
   "cell_type": "markdown",
   "metadata": {
    "id": "Q0AJ5fkNai8g"
   },
   "source": [
    "Unlike `merged_review_table`, the `num_review_am200` only contains product that has at most 200 reviews.\n",
    "\n"
   ]
  },
  {
   "cell_type": "code",
   "execution_count": null,
   "metadata": {
    "colab": {
     "base_uri": "https://localhost:8080/"
    },
    "id": "2pcdw1ksHzcH",
    "outputId": "6167162e-79f2-48d9-ef4b-7240b8489889"
   },
   "outputs": [],
   "source": [
    "#Finding correlation for 3 different categories of rating\n",
    "low_rating = num_review_am200['average-rating-range'] == \"[1, 3)\"\n",
    "mod_rating = num_review_am200['average-rating-range'] == \"[3, 4)\"\n",
    "high_rating = num_review_am200['average-rating-range'] == \"[4, 5]\"\n",
    "\n",
    "low_rating_table = num_review_am200[low_rating]\n",
    "mod_rating_table = num_review_am200[mod_rating]\n",
    "high_rating_table = num_review_am200[high_rating]\n",
    "print(high_rating_table['average-rating'].corr(high_rating_table['rank']),\"\\n\")\n",
    "print(mod_rating_table['average-rating'].corr(mod_rating_table['rank']),\"\\n\")\n",
    "print(low_rating_table['average-rating'].corr(low_rating_table['rank']))"
   ]
  },
  {
   "cell_type": "code",
   "execution_count": null,
   "metadata": {
    "colab": {
     "base_uri": "https://localhost:8080/",
     "height": 628
    },
    "id": "k32DNymYZNh8",
    "outputId": "59912746-a3f5-4fd2-a3e2-da463da4cf55"
   },
   "outputs": [],
   "source": [
    "sns.set(rc={'figure.figsize':(15,10)})\n",
    "sns.scatterplot(x='average-rating', y='rank', data=num_review_am200, hue='average-rating-range', palette=[\"k\", \"C3\",\"C0\"])"
   ]
  },
  {
   "cell_type": "code",
   "execution_count": null,
   "metadata": {
    "colab": {
     "base_uri": "https://localhost:8080/",
     "height": 628
    },
    "id": "F1T4OYFPZNkQ",
    "outputId": "76c0147d-2a39-437b-c295-d53bf5a51611"
   },
   "outputs": [],
   "source": [
    "sns.set(rc={'figure.figsize':(15,10)})\n",
    "sns.scatterplot(x='number-of-review', y='rank', data=num_review_am200, hue='average-rating-range', palette=[\"k\", \"C3\",\"C0\"])"
   ]
  },
  {
   "cell_type": "code",
   "execution_count": null,
   "metadata": {
    "colab": {
     "base_uri": "https://localhost:8080/",
     "height": 628
    },
    "id": "RMAPwZJDcHDd",
    "outputId": "3f6c71fc-1ed1-40ec-a785-6af2d0d610af"
   },
   "outputs": [],
   "source": [
    "plt.subplot(3, 1, 1)\n",
    "sns.set(rc={'figure.figsize':(15,10)})\n",
    "sns.scatterplot(x='number-of-review', y='rank', data=low_rating_table, color=\"k\")\n",
    "\n",
    "plt.subplot(3, 1, 2)\n",
    "sns.set(rc={'figure.figsize':(15,10)})\n",
    "sns.scatterplot(x='number-of-review', y='rank', data=mod_rating_table, color=\"C3\")\n",
    "\n",
    "plt.subplot(3, 1, 3)\n",
    "sns.set(rc={'figure.figsize':(15,10)})\n",
    "sns.scatterplot(x='number-of-review', y='rank', data=high_rating_table, color=\"C0\")"
   ]
  },
  {
   "cell_type": "markdown",
   "metadata": {
    "id": "RJI23QSXuuE3"
   },
   "source": [
    "### 5.2 Corr: num review && sales rank"
   ]
  },
  {
   "cell_type": "code",
   "execution_count": null,
   "metadata": {
    "colab": {
     "base_uri": "https://localhost:8080/",
     "height": 405
    },
    "id": "SgD7JkQDuuE3",
    "outputId": "f7b5790e-560a-4c4e-8917-4845631c15d8"
   },
   "outputs": [],
   "source": [
    "num_review = merged_review_table[['asin','number-of-review', 'rank']]\n",
    "num_review = num_review.sort_values(by=['rank'])\n",
    "num_review"
   ]
  },
  {
   "cell_type": "code",
   "execution_count": null,
   "metadata": {
    "colab": {
     "base_uri": "https://localhost:8080/",
     "height": 107
    },
    "id": "1vKopKV3uuE4",
    "outputId": "888e3c35-76a0-4a44-ff25-65de8bdcb6cc"
   },
   "outputs": [],
   "source": [
    "num_review.corr()"
   ]
  },
  {
   "cell_type": "code",
   "execution_count": null,
   "metadata": {
    "id": "qDGDr1MxuuE5"
   },
   "outputs": [],
   "source": [
    "# sns.heatmap(num_review.corr(),cmap='jet')"
   ]
  },
  {
   "cell_type": "code",
   "execution_count": null,
   "metadata": {
    "id": "qvGUU8TsuuE5"
   },
   "outputs": [],
   "source": [
    "# figure, axes = plt.subplots(1, 2)\n",
    "# num_review.plot(ax=axes[0])\n",
    "# sns.scatterplot(x=\"number-of-review\", y=\"rank\", data=num_review)"
   ]
  },
  {
   "cell_type": "code",
   "execution_count": null,
   "metadata": {
    "id": "5oOCLA2SuuE6"
   },
   "outputs": [],
   "source": [
    "# plt.figure(figsize = (10,8))\n",
    "# sns.regplot(x=\"number-of-review\", y=\"rank\", data=num_review)\n",
    "# plt.ylim(0,)"
   ]
  },
  {
   "cell_type": "markdown",
   "metadata": {
    "id": "YilTwYaMVQll"
   },
   "source": [
    "#### 5.2.1 num review 4 bins"
   ]
  },
  {
   "cell_type": "code",
   "execution_count": null,
   "metadata": {
    "colab": {
     "base_uri": "https://localhost:8080/"
    },
    "id": "_HaEZuPbYlkS",
    "outputId": "fe86ecc9-cd09-40a3-ccf7-29df542e33c4"
   },
   "outputs": [],
   "source": [
    "# filter out num_review that are too high (consider them as outlier)\n",
    "num_review_filter = num_review[num_review['number-of-review']<200]\n",
    "num_review_filter.shape\n",
    "\n",
    "# 32083(total all) \n",
    "# 32029(<500) / 54 (>=500)\n",
    "# 31856(<200) / 227 (>=200)\n",
    "# 31540(<100) / 543 (>=100)"
   ]
  },
  {
   "cell_type": "code",
   "execution_count": null,
   "metadata": {
    "colab": {
     "base_uri": "https://localhost:8080/",
     "height": 507
    },
    "id": "TKrodtv8gXiE",
    "outputId": "61ec41f2-44ea-4ce4-a587-5a24d118b074"
   },
   "outputs": [],
   "source": [
    "# square brackets '[]' mean the end point is included\n",
    "# round parentheses '()' mean it's excluded\n",
    "num_review_filter['num-review-range'] = pd.cut(num_review_filter['number-of-review'],\n",
    "                                                  [0, 4, 7, 10, 200], \n",
    "                                                  right=True,\n",
    "                                                  labels=['[1,4]', '(4,7]', '(7,10]', '(10,200)'])\n",
    "num_review_filter"
   ]
  },
  {
   "cell_type": "code",
   "execution_count": null,
   "metadata": {
    "colab": {
     "base_uri": "https://localhost:8080/"
    },
    "id": "4fmP2HcRf3QJ",
    "outputId": "990b10de-6755-4b89-8693-ad42e7c95d8d"
   },
   "outputs": [],
   "source": [
    "num_review_filter['num-review-range'].value_counts().sort_index"
   ]
  },
  {
   "cell_type": "markdown",
   "metadata": {
    "id": "u5F6GnZObDuB"
   },
   "source": []
  },
  {
   "cell_type": "code",
   "execution_count": null,
   "metadata": {
    "colab": {
     "base_uri": "https://localhost:8080/",
     "height": 681
    },
    "id": "vDR2K_AiMs-k",
    "outputId": "9487ec22-694d-4046-ae20-e628b8199257"
   },
   "outputs": [],
   "source": [
    "sns.set(rc={'figure.figsize':(15,10)})\n",
    "sttrplt=sns.scatterplot(x='number-of-review', y='rank', data = num_review_filter, hue='num-review-range')\n",
    "plt.annotate(\n",
    "# Label and coordinate\n",
    "'Hard Candy Glow All The Way', xy=(110,0.86), xytext=(124, 0.9), color= \"red\", arrowprops={\"facecolor\": 'red', \"shrink\": 0.15}\n",
    ")\n",
    "plt.annotate(\n",
    "# Label and coordinate\n",
    "'Death and Dentistry', xy=(122,0.82), xytext=(137, 0.86), color= \"red\", arrowprops={\"facecolor\": 'red', \"shrink\": 0.20}\n",
    ")\n",
    "plt.annotate(\n",
    "# Label and coordinate\n",
    "'Norelco 8894 XL \\nSpectra Shaver', xy=(107,0.64), xytext=(122, 0.70), color= \"red\", arrowprops={\"facecolor\": 'red', \"shrink\": 0.20}\n",
    ")\n",
    "plt.annotate(\n",
    "# Label and coordinate\n",
    "'My New Pink \\nButton - Audry', xy=(160,0.62), xytext=(175, 0.68), color= \"red\", arrowprops={\"facecolor\": 'red', \"shrink\": 0.20}\n",
    ")\n",
    "\n",
    "sttrplt.set(xlabel='Total Number of Reviews', \n",
    "            ylabel='Sales Rank', \n",
    "            title=\"Total Number of Reviews against Sales Rank\")\n"
   ]
  },
  {
   "cell_type": "code",
   "execution_count": null,
   "metadata": {
    "colab": {
     "base_uri": "https://localhost:8080/",
     "height": 107
    },
    "id": "DjuGSHu6Vinj",
    "outputId": "46a28ee0-2420-4f65-a44e-67e0101a6f5d"
   },
   "outputs": [],
   "source": [
    "num_review_filter[num_review_filter['number-of-review'] <=50].corr()"
   ]
  },
  {
   "cell_type": "markdown",
   "metadata": {
    "id": "D5rBXEJAeXMJ"
   },
   "source": [
    "#### 5.2.2 num of high/low rating"
   ]
  },
  {
   "cell_type": "code",
   "execution_count": null,
   "metadata": {
    "id": "0Fy71pSmzAj-"
   },
   "outputs": [],
   "source": [
    "rating_grouping = final_review_table[['asin', 'overall']]\n",
    "\n",
    "# count by number of high rating reviews\n",
    "high_review_count = rating_grouping.groupby(['asin'])['overall'].apply(lambda x: (x >= 4).sum())\n",
    "high_review_count = pd.DataFrame(high_review_count)\n",
    "high_review_count.rename(columns={'overall':'number-of-high-rating-review'},inplace=True)\n",
    "high_review_count.reset_index(inplace = True)\n",
    "\n",
    "# count by number of low rating reviews\n",
    "low_review_count = rating_grouping.groupby(['asin'])['overall'].apply(lambda x: (x < 4).sum())\n",
    "low_review_count = pd.DataFrame(low_review_count)\n",
    "low_review_count.rename(columns={'overall':'number-of-low-rating-review'},inplace=True)\n",
    "low_review_count.reset_index(inplace = True)"
   ]
  },
  {
   "cell_type": "code",
   "execution_count": null,
   "metadata": {
    "colab": {
     "base_uri": "https://localhost:8080/",
     "height": 405
    },
    "id": "UhoDSWxtzApU",
    "outputId": "da64376d-86ea-4f82-84ad-86212c405fb4"
   },
   "outputs": [],
   "source": [
    "# m is a updated version of merged_review_table, with column recording the number of high & low rating reviews of each products\n",
    "m = (pd.merge(high_review_count, low_review_count, on='asin', how='inner', indicator=True)).set_index('asin')\n",
    "m.reset_index(inplace=True)\n",
    "m = m.drop(['_merge'],axis = 1)\n",
    "m\n",
    "\n",
    "m = (pd.merge(merged_review_table, m, on='asin', how='inner', indicator=True)).set_index('asin')\n",
    "m.reset_index(inplace=True)\n",
    "m = m.drop(['_merge'],axis = 1)\n",
    "m\n"
   ]
  },
  {
   "cell_type": "code",
   "execution_count": null,
   "metadata": {
    "colab": {
     "base_uri": "https://localhost:8080/",
     "height": 107
    },
    "id": "nV0JCLrgiXTm",
    "outputId": "93995d74-61b5-44bc-eeef-4fe1df57ff36"
   },
   "outputs": [],
   "source": [
    "filter_num_review_50 = m['number-of-review'] <=50\n",
    "m = m[filter_num_review_50]\n",
    "m[['number-of-review','rank']].corr()"
   ]
  },
  {
   "cell_type": "code",
   "execution_count": null,
   "metadata": {
    "colab": {
     "base_uri": "https://localhost:8080/",
     "height": 644
    },
    "id": "rUsV1E_fpbTH",
    "outputId": "a8fc2d8a-73c3-47dd-903c-2a9b66100a4d"
   },
   "outputs": [],
   "source": [
    "nReview50 = sns.scatterplot(x=\"number-of-review\", y=\"rank\", data=m,color=\"blue\")\n",
    "nReview50.set(title=\"Number of Reviews(<=50) against Sales Rank\")"
   ]
  },
  {
   "cell_type": "code",
   "execution_count": null,
   "metadata": {
    "colab": {
     "base_uri": "https://localhost:8080/",
     "height": 628
    },
    "id": "iN13-1plzAwC",
    "outputId": "ce001428-3921-43f2-b362-608ac62fb7ed"
   },
   "outputs": [],
   "source": [
    "# ploting a graph to see the relationship between number of high rating reviews (those that are >= 4), and the sales rank\n",
    "plt.subplot(2, 1, 1)\n",
    "# getting those products that have at least one high rating review\n",
    "m1 = m[m['number-of-high-rating-review'] > 0]\n",
    "# we have 27858 products here\n",
    "sns.scatterplot(x=\"number-of-high-rating-review\", y=\"rank\", data=m1)\n",
    "\n",
    "\n",
    "# ploting a graph to see the relationship between number of low rating reviews (those that are < 4), and the sales rank\n",
    "plt.subplot(2, 1, 2)\n",
    "# getting those products that have at least one low rating review\n",
    "m2 = m[m['number-of-low-rating-review'] > 0]\n",
    "# we have 15950 products here\n",
    "sns.scatterplot(x=\"number-of-low-rating-review\", y=\"rank\", data=m2)"
   ]
  },
  {
   "cell_type": "markdown",
   "metadata": {
    "id": "u9rks-v9dFkc"
   },
   "source": [
    "#### 5.2.3 correlation at different year (2000-2018)"
   ]
  },
  {
   "cell_type": "code",
   "execution_count": null,
   "metadata": {
    "colab": {
     "base_uri": "https://localhost:8080/",
     "height": 405
    },
    "id": "uHMs7pQpdhcA",
    "outputId": "58831d0a-e1d0-4dd5-ac1d-7253e0980a18"
   },
   "outputs": [],
   "source": [
    "# filter final_review_table, groupby asin and year\n",
    "p_AvgRating_ByYear = final_review_table.groupby(['asin','year'], sort=True)['overall'].agg(['mean', 'count'])\n",
    "p_AvgRating_ByYear = pd.DataFrame(p_AvgRating_ByYear)\n",
    "p_AvgRating_ByYear.reset_index(level=['asin','year'], inplace=True)\n",
    "\n",
    "# filter merged_review_table\n",
    "p_rank = merged_review_table[['asin', 'rank']]\n",
    "\n",
    "# merge both average rating and rank\n",
    "avgRating_byYear = (pd.merge(p_rank, p_AvgRating_ByYear, on='asin', how='inner', indicator=True))\n",
    "avgRating_byYear.drop(['_merge'], axis=1, inplace =True)\n",
    "avgRating_byYear = avgRating_byYear.astype({'year': 'int'})\n",
    "avgRating_byYear.sort_values(by=['year'], inplace=True)\n",
    "avgRating_byYear = avgRating_byYear[['year','asin','rank','count','mean']]\n",
    "\n",
    "avgRating_byYear"
   ]
  },
  {
   "cell_type": "code",
   "execution_count": null,
   "metadata": {
    "colab": {
     "base_uri": "https://localhost:8080/",
     "height": 405
    },
    "id": "spySnsige6k_",
    "outputId": "f64b41ce-0869-42f5-873a-d3b06127bddf"
   },
   "outputs": [],
   "source": [
    "# sort table according to rank, and reindex the rank\n",
    "sorted_avgRating_byYear = avgRating_byYear.sort_values(by='rank')\n",
    "sorted_avgRating_byYear.reset_index(drop=True,inplace=True)\n",
    "sorted_avgRating_byYear['nrank'] = sorted_avgRating_byYear.index+1\n",
    "sorted_avgRating_byYear"
   ]
  },
  {
   "cell_type": "code",
   "execution_count": null,
   "metadata": {
    "id": "WkoglLVajfcN"
   },
   "outputs": [],
   "source": [
    "frame_list =[]\n",
    "density_list = []\n",
    "date_list = []\n",
    "for x in range(2000, 2019):\n",
    "    tempPd = filterByYear(x, sorted_avgRating_byYear)\n",
    "    density = calculateDensity(tempPd['count'], tempPd['nrank'])\n",
    "    tempPd = pd.DataFrame(tempPd)\n",
    "    frame_list.append(tempPd)\n",
    "    density_list.append(density)\n",
    "    date_list.append(str(x))"
   ]
  },
  {
   "cell_type": "code",
   "execution_count": null,
   "metadata": {
    "id": "MTJK_tpVkRdp"
   },
   "outputs": [],
   "source": [
    "#########\n",
    "# If you're using Jupyter notebook\n",
    "# Use this command to switch on matplotlib's backend, this will enable interactive UI\n",
    "\n",
    "# %matplotlib notebook \n",
    "\n",
    "##########\n",
    "# After running the animated gif\n",
    "# use this command to switch off matplotlib's backend, this will disable interactive UI\n",
    "\n",
    "# %matplotlib inline\n",
    "\n",
    "#########\n",
    "# To learn more about matplotlib\n",
    "# %matplotlib --list"
   ]
  },
  {
   "cell_type": "markdown",
   "metadata": {
    "id": "0p9NVC45oXpY"
   },
   "source": [
    "Animation of sales rank (y_axis) against number of reviews (x_axis) from 2000 to 2018 in every year "
   ]
  },
  {
   "cell_type": "code",
   "execution_count": null,
   "metadata": {
    "colab": {
     "base_uri": "https://localhost:8080/",
     "height": 409
    },
    "id": "7EaKgILmkTS4",
    "outputId": "24c77099-62d2-4085-9e49-6f2a8c3cd18e"
   },
   "outputs": [],
   "source": [
    "fig, ax = plt.subplots(figsize=(6,6))\n",
    "\n",
    "ax.scatter([1,2000], [1,2000], c=[1,2000])\n",
    "ax.set_title(\"title\")\n",
    "plt.xlabel(\"Number of Review\")\n",
    "plt.ylabel(\"Sales Rank\")\n",
    "\n",
    "#not in use (may omit)\n",
    "def init():\n",
    "    sc = ax.set_data([], [])\n",
    "    return sc,\n",
    "\n",
    "def animate(i):\n",
    "    ax.scatter(frame_list[i]['count'], frame_list[i]['rank'], c=density_list[i], edgecolor='none')\n",
    "    ax.set_title(date_list[i])\n",
    "    \n",
    "ani = matplotlib.animation.FuncAnimation(fig, animate, frames=19, interval=1000)#, interval=100)\n",
    "\n",
    "plt.show()     "
   ]
  },
  {
   "cell_type": "markdown",
   "metadata": {
    "id": "wRfH2SpkORNS"
   },
   "source": [
    "### 5.3 Analysing \"Very Good\" Products\n",
    "\n",
    "Further analysing product binned in \"Very Good\". These product ranking falls into the range 35 ~ 870386.75\n",
    "\n"
   ]
  },
  {
   "cell_type": "code",
   "execution_count": null,
   "metadata": {
    "colab": {
     "base_uri": "https://localhost:8080/",
     "height": 405
    },
    "id": "u8jOD5ZLLRsr",
    "outputId": "0515e971-9a86-4038-868d-d0ae09e4d3a7"
   },
   "outputs": [],
   "source": [
    "vg_filter = merged_review_table['rank'] <= 870386.75\n",
    "vg_table = merged_review_table[vg_filter]\n",
    "vg_table.sort_values(by=['rank'])"
   ]
  },
  {
   "cell_type": "markdown",
   "metadata": {
    "id": "hE4fPWfgczQ5"
   },
   "source": [
    "There are 11379 products that falls in the \"Very Good\" category, with the highest rank being 35, and the lowest rank is 870359.\n",
    "\n",
    "We will further bin the products."
   ]
  },
  {
   "cell_type": "code",
   "execution_count": null,
   "metadata": {
    "colab": {
     "base_uri": "https://localhost:8080/"
    },
    "id": "4KoxV1dQLSiI",
    "outputId": "47fe9f01-b757-4b7e-8a90-c3c9ed9394ab"
   },
   "outputs": [],
   "source": [
    "bins_2 = np.linspace(min(vg_table['rank']), max(vg_table['rank']), 5)\n",
    "bins_2"
   ]
  },
  {
   "cell_type": "code",
   "execution_count": null,
   "metadata": {
    "colab": {
     "base_uri": "https://localhost:8080/",
     "height": 197
    },
    "id": "uS2EtD9ix5GB",
    "outputId": "50be522c-b729-400a-a48f-4ec05825bb23"
   },
   "outputs": [],
   "source": [
    "group_names_2 = ['1', '2', '3', '4']\n",
    "vg_table['upper-rank-binned'] = pd.cut(vg_table['rank'], bins_2, labels=group_names_2, include_lowest=True)\n",
    "vg_table.head()"
   ]
  },
  {
   "cell_type": "code",
   "execution_count": null,
   "metadata": {
    "colab": {
     "base_uri": "https://localhost:8080/",
     "height": 284
    },
    "id": "WTFwV1uiycEB",
    "outputId": "4dbc8a01-061c-4fa8-d783-ce48cd348795"
   },
   "outputs": [],
   "source": [
    "plt.figure(figsize = (5,4))\n",
    "plt.bar(group_names_2, vg_table['upper-rank-binned'].value_counts())"
   ]
  },
  {
   "cell_type": "code",
   "execution_count": null,
   "metadata": {
    "colab": {
     "base_uri": "https://localhost:8080/",
     "height": 284
    },
    "id": "5bkq6a9tycKu",
    "outputId": "58bf18f2-8ac4-4065-ed59-9f3203d634b0"
   },
   "outputs": [],
   "source": [
    "plt.figure(figsize = (5,4))\n",
    "bp = sns.boxplot(x='upper-rank-binned', y='average-rating', data=vg_table)"
   ]
  },
  {
   "cell_type": "code",
   "execution_count": null,
   "metadata": {
    "colab": {
     "base_uri": "https://localhost:8080/",
     "height": 405
    },
    "id": "r9UxoScBbW2W",
    "outputId": "4bde08a5-4175-44f6-b6ce-733be4b8d930"
   },
   "outputs": [],
   "source": [
    "vg_table.sort_values(by='average-rating')"
   ]
  },
  {
   "cell_type": "code",
   "execution_count": null,
   "metadata": {
    "colab": {
     "base_uri": "https://localhost:8080/",
     "height": 231
    },
    "id": "RSEUHiVebW4q",
    "outputId": "69b983ea-8abe-44c4-bce9-47b3de8b0364"
   },
   "outputs": [],
   "source": [
    "vg_table_lt200 = vg_table[vg_table['number-of-review']<200].copy() # cleared 214 products\n",
    "vg_table_top = vg_table_lt200[vg_table['upper-rank-binned'] == '1'].copy()\n",
    "\n",
    "vg_table_top['average-rating-range'] = pd.cut(vg_table_top['average-rating'],\n",
    "                                                  [0, 4, 6], \n",
    "                                                  right=False,\n",
    "                                                  labels=[\"[1, 4)\", \"[4, 5]\"])\n",
    "vg_table_top.head() "
   ]
  },
  {
   "cell_type": "code",
   "execution_count": null,
   "metadata": {
    "colab": {
     "base_uri": "https://localhost:8080/",
     "height": 519
    },
    "id": "0tSjHodTbXO_",
    "outputId": "ff34e91e-9a4f-4e47-af19-15fdcc5c98c6"
   },
   "outputs": [],
   "source": [
    "sns.set(rc={'figure.figsize':(10,8)})\n",
    "sns.scatterplot(x='average-rating', y='rank', data=vg_table_top, hue='average-rating-range', palette=[\"k\", \"C3\"])"
   ]
  },
  {
   "cell_type": "code",
   "execution_count": null,
   "metadata": {
    "colab": {
     "base_uri": "https://localhost:8080/",
     "height": 519
    },
    "id": "G7hEllHnbXTI",
    "outputId": "cebdaa52-dea5-4dce-f90f-835edb1a13d8"
   },
   "outputs": [],
   "source": [
    "sns.set(rc={'figure.figsize':(10,8)})\n",
    "sns.scatterplot(x='number-of-review', y='rank', data=vg_table_top, hue='average-rating-range', palette=[\"k\", \"C3\"])"
   ]
  },
  {
   "cell_type": "markdown",
   "metadata": {
    "id": "lIT9NH2xTluu"
   },
   "source": [
    "### 5.4 Slice Sales Rank < 5000\n",
    "\n"
   ]
  },
  {
   "cell_type": "code",
   "execution_count": null,
   "metadata": {
    "colab": {
     "base_uri": "https://localhost:8080/",
     "height": 405
    },
    "id": "3M5f64XdKn_m",
    "outputId": "feecf710-0d20-4f62-8212-1527e5db2205"
   },
   "outputs": [],
   "source": [
    "#try to take data that have sales rank less than 50000\n",
    "partial_table = merged_review_table[merged_review_table['rank'] <= 50000]\n",
    "\n",
    "#min-max normalization\n",
    "#partial_table['rank'] = (partial_table['rank'] - partial_table['rank'].min())/(partial_table['rank'].max()-partial_table['rank'].min())\n",
    "partial_table"
   ]
  },
  {
   "cell_type": "code",
   "execution_count": null,
   "metadata": {
    "colab": {
     "base_uri": "https://localhost:8080/",
     "height": 137
    },
    "id": "OrF_G-7uKvdC",
    "outputId": "17bc3a14-de2c-4819-b780-1442bf5550a1"
   },
   "outputs": [],
   "source": [
    "partial_table.corr()"
   ]
  },
  {
   "cell_type": "code",
   "execution_count": null,
   "metadata": {
    "colab": {
     "base_uri": "https://localhost:8080/",
     "height": 405
    },
    "id": "f73_KLqBKyLq",
    "outputId": "bcf5e36d-fdc0-4975-ac4a-053eb6281239"
   },
   "outputs": [],
   "source": [
    "num_review = partial_table[['asin','number-of-review', 'rank']]\n",
    "num_review = num_review.sort_values(by=['rank'])\n",
    "num_review"
   ]
  },
  {
   "cell_type": "code",
   "execution_count": null,
   "metadata": {
    "colab": {
     "base_uri": "https://localhost:8080/",
     "height": 519
    },
    "id": "drZMkfiwKzy8",
    "outputId": "6aadabef-0531-4ca9-f3ba-1494ce015ae4"
   },
   "outputs": [],
   "source": [
    "plt.figure(figsize = (10,8))\n",
    "sns.scatterplot(x=\"number-of-review\", y=\"rank\", data=num_review)"
   ]
  },
  {
   "cell_type": "code",
   "execution_count": null,
   "metadata": {
    "colab": {
     "base_uri": "https://localhost:8080/",
     "height": 569
    },
    "id": "r9T_T3ZcK25O",
    "outputId": "38ccd86c-7e95-45a3-fa91-7f1123d60081"
   },
   "outputs": [],
   "source": [
    "plt.figure(figsize = (10,8))\n",
    "average_v_rank = sns.scatterplot(x='average-rating', \n",
    "                                 y='rank',\n",
    "                                 data=partial_table)\n",
    "\n",
    "average_v_rank.set(xlabel='Average Rating of Beauty Product', \n",
    "                   ylabel='Sales Rank', \n",
    "                   title=\"Average Rating of Beauty Products against Sales Rank\")"
   ]
  },
  {
   "cell_type": "markdown",
   "metadata": {
    "id": "X9zSU1m_K-PW"
   },
   "source": [
    "### 5.5 Price VS Sales Rank"
   ]
  },
  {
   "cell_type": "code",
   "execution_count": null,
   "metadata": {
    "colab": {
     "base_uri": "https://localhost:8080/",
     "height": 405
    },
    "id": "TnFlOHSNLAxz",
    "outputId": "b01983bf-6ffd-495a-edbd-f9ef3398da89"
   },
   "outputs": [],
   "source": [
    "price_rank_table = product_table[['asin','rank','price']]\n",
    "num_review_table = mv_review_table[['asin','number-of-review']]\n",
    "# merge number of reviews\n",
    "merged_price_table = (pd.merge(price_rank_table, num_review_table , on='asin', how='inner', indicator=True)).set_index('asin')\n",
    "merged_price_table.reset_index(inplace = True)\n",
    "merged_price_table = merged_price_table.drop(['_merge'],axis = 1)\n",
    "merged_price_table.rename(columns={'overall':'number-of-review'},inplace=True)\n",
    "\n",
    "# filter out product with 0 as sales rank \n",
    "#merged_price_table = merged_price_table[merged_price_table['rank'] > 0]\n",
    "#merged_price_table = merged_price_table[merged_price_table['price'] > 0]\n",
    "\n",
    "#remove outliers\n",
    "price_z_scores = stats.zscore(pd.DataFrame(merged_price_table['price']))\n",
    "price_abs_z_scores = np.abs(price_z_scores)\n",
    "price_outlier = (price_abs_z_scores > 3).all(axis=1)\n",
    "merged_price_table.drop(merged_price_table[price_outlier].index, inplace = True)\n",
    "merged_price_table.sort_values(by=['rank']) "
   ]
  },
  {
   "cell_type": "code",
   "execution_count": null,
   "metadata": {
    "id": "k_Gi3848LDAZ"
   },
   "outputs": [],
   "source": [
    "#min-max normalization\n",
    "#price_rank_table['rank'] = (price_rank_table['rank'] - price_rank_table['rank'].min())/(price_rank_table['rank'].max()-price_rank_table['rank'].min())"
   ]
  },
  {
   "cell_type": "code",
   "execution_count": null,
   "metadata": {
    "colab": {
     "base_uri": "https://localhost:8080/",
     "height": 405
    },
    "id": "wvlDeowmLEA6",
    "outputId": "65b6053f-0a97-4496-deb7-3770296ec99a"
   },
   "outputs": [],
   "source": [
    "filter_num_review = merged_price_table['number-of-review'] < 50\n",
    "#filter_price = merged_price_table['price'] < 25\n",
    "merged_price_table = merged_price_table[filter_num_review]\n",
    "#merged_price_table = merged_price_table[filter_price]\n",
    "merged_price_table.sort_values(by=['price'])"
   ]
  },
  {
   "cell_type": "code",
   "execution_count": null,
   "metadata": {
    "colab": {
     "base_uri": "https://localhost:8080/",
     "height": 137
    },
    "id": "djju2x9iLFva",
    "outputId": "b3227ed9-5925-440e-bcae-698950fc8449"
   },
   "outputs": [],
   "source": [
    "merged_price_table.corr()"
   ]
  },
  {
   "cell_type": "code",
   "execution_count": null,
   "metadata": {
    "colab": {
     "base_uri": "https://localhost:8080/",
     "height": 405
    },
    "id": "0rr5iEuIuChu",
    "outputId": "8d74492d-1ef7-4892-d5e3-36b28d0bad39"
   },
   "outputs": [],
   "source": [
    "# square brackets '[]' mean the end point is included\n",
    "# round parentheses '()' mean it's excluded\n",
    "merged_price_table['price-range'] = pd.cut(merged_price_table['price'],\n",
    "                                                  [-1, 25, 75, 125, 200], \n",
    "                                                  right=True,\n",
    "                                                  labels=['[0,25]', '(25,75]', '(75,125]', '(125,200]'])\n",
    "merged_price_table"
   ]
  },
  {
   "cell_type": "code",
   "execution_count": null,
   "metadata": {
    "colab": {
     "base_uri": "https://localhost:8080/",
     "height": 678
    },
    "id": "Nmlz1c2mLH5K",
    "outputId": "1cfb16bd-5074-437f-e84f-951eb6be4537"
   },
   "outputs": [],
   "source": [
    "plt.figure(figsize = (15,10))\n",
    "price_rank_graph = sns.scatterplot(x='price', \n",
    "                                 y='rank',\n",
    "                                 data=merged_price_table, hue='price-range',palette=[\"k\", \"C3\",\"C0\",\"C2\"])\n",
    "\n",
    "price_rank_graph .set(xlabel='Price of Beauty Product', \n",
    "                   ylabel='Sales Rank', \n",
    "                   title=\"Price of Beauty Products against Sales Rank\")"
   ]
  },
  {
   "cell_type": "markdown",
   "metadata": {
    "id": "VWE4eGg378ph"
   },
   "source": [
    "### 5.6 Analysing Review Upvotes\n",
    "\n",
    "What 'vote' means? Check out\n",
    "https://www.amazon.com/review/top-reviewer-faq.html\n",
    "\n",
    "Summary: if people found your review helpful, they can give you a vote, if people found your review no helpful and decide to downvote you, your vote will get substracted\n",
    "\n",
    "The vote score of each available product is calculated from all reviews given to it. From all of these reviews, only those with at least one vote are selected and applied weighted average to them.\n",
    "\n",
    "Vote score formula: $$W=\\frac {\\sum_{i=1}^{n} w_i X_i} {\\sum_{i=1}^{n} w_i}$$\n",
    "\n",
    "$W$: weight average of the score (vote score)\n",
    "\n",
    "$n$:\tnumber of reviews to be averaged\n",
    "\n",
    "$w_i$:\tnumber of votes per review\n",
    "\n",
    "$X_i$:\trating of the review\n",
    "\n"
   ]
  },
  {
   "cell_type": "code",
   "execution_count": null,
   "metadata": {
    "id": "oswLcTqlrWel"
   },
   "outputs": [],
   "source": [
    "# suitable for passing merged_review_table or mv_review_table\n",
    "def calculateVoteScore(rev_table):\n",
    "    \n",
    "    g = final_review_table[['asin', 'overall', 'vote']].groupby(['asin']).apply(lambda x: (x['overall']*x['vote']).sum()/x['vote'].sum() if x['vote'].sum()!= 0 else 0)\n",
    "    vote_score = pd.DataFrame(g, columns=['vote-score'])\n",
    "    vote_score.reset_index(inplace=True)\n",
    "    vote_score\n",
    "    \n",
    "    rev_table = (pd.merge(rev_table, vote_score, on='asin', how='inner', indicator=True)).set_index('asin')\n",
    "    rev_table.reset_index(inplace = True)\n",
    "    rev_table = rev_table.drop(['_merge'],axis = 1)\n",
    "    # rev_table.rename(columns={'overall':'number-of-review'},inplace=True)\n",
    "\n",
    "    return rev_table"
   ]
  },
  {
   "cell_type": "code",
   "execution_count": null,
   "metadata": {
    "id": "RAAoie9XrWsl"
   },
   "outputs": [],
   "source": [
    "mv_review_table = calculateVoteScore(mv_review_table)\n"
   ]
  },
  {
   "cell_type": "code",
   "execution_count": null,
   "metadata": {
    "colab": {
     "base_uri": "https://localhost:8080/",
     "height": 405
    },
    "id": "DFG4ATZszLmj",
    "outputId": "8ac914a8-f38c-46d3-f625-d10af9898c38"
   },
   "outputs": [],
   "source": [
    "new_mv_review_table = mv_review_table[mv_review_table['vote-score']>0]\n",
    "new_mv_review_table"
   ]
  },
  {
   "cell_type": "code",
   "execution_count": null,
   "metadata": {
    "colab": {
     "base_uri": "https://localhost:8080/",
     "height": 197
    },
    "id": "mbhctAmr9Agm",
    "outputId": "3393cdcf-e1a9-4889-ed9c-55de00f34e61"
   },
   "outputs": [],
   "source": [
    "corr_test = mv_review_table[['rank', 'average-rating', 'number-of-review', 'average-verified-rating', 'vote-score']].corr()\n",
    "corr_test"
   ]
  },
  {
   "cell_type": "code",
   "execution_count": null,
   "metadata": {
    "colab": {
     "base_uri": "https://localhost:8080/",
     "height": 465
    },
    "id": "ivIfy6w7AxEY",
    "outputId": "5a0a365c-6f3a-457b-c588-8c6aa9c516a7"
   },
   "outputs": [],
   "source": [
    "sns.heatmap(corr_test,square=True)"
   ]
  },
  {
   "cell_type": "markdown",
   "metadata": {
    "id": "B5klZXimCwqy"
   },
   "source": [
    "### 5.7 Analysing Time-Weighted-Average"
   ]
  },
  {
   "cell_type": "code",
   "execution_count": null,
   "metadata": {
    "id": "l7hvAn8PCj52"
   },
   "outputs": [],
   "source": [
    "from sklearn.preprocessing import MinMaxScaler \n",
    "\n",
    "# suitable for passing merged_review_table or mv_review_table\n",
    "def CalculateTimeWeightedAvg(rev_table):\n",
    "\n",
    "    frt_copy = final_review_table.copy()\n",
    "    mmScaler = MinMaxScaler()\n",
    "    frt_copy[['unixReviewTime']] = mmScaler.fit_transform(frt_copy[['unixReviewTime']])\n",
    "    frt_copy['time-weighted-overall'] = frt_copy['overall'] * frt_copy['unixReviewTime'] \n",
    "    \n",
    "    g = frt_copy[['asin', 'time-weighted-overall']]\n",
    "    g = g.groupby(['asin'])['time-weighted-overall'].mean()\n",
    "    time_score = pd.DataFrame(g)#, columns=['time-weighted-avg'])\n",
    "    time_score.reset_index(inplace=True)\n",
    "    \n",
    "    rev_table = (pd.merge(rev_table, time_score, on='asin', how='inner', indicator=True)).set_index('asin')\n",
    "    rev_table.reset_index(inplace = True)\n",
    "    rev_table = rev_table.drop(['_merge'],axis = 1)\n",
    "\n",
    "    return rev_table"
   ]
  },
  {
   "cell_type": "code",
   "execution_count": null,
   "metadata": {
    "colab": {
     "base_uri": "https://localhost:8080/",
     "height": 405
    },
    "id": "-3GlBuvaCnlU",
    "outputId": "9b76bd01-32e1-42ae-ff51-c09e51430b6f"
   },
   "outputs": [],
   "source": [
    "new_mv_review_table_withTime = CalculateTimeWeightedAvg(mv_review_table)\n",
    "new_mv_review_table_withTime"
   ]
  },
  {
   "cell_type": "markdown",
   "metadata": {
    "id": "Bb5e81-pkjJT"
   },
   "source": [
    "### 5.8 Bivariate Attribute Analysis"
   ]
  },
  {
   "cell_type": "markdown",
   "metadata": {
    "id": "SCqkPFF-p2gB"
   },
   "source": [
    "#### 5.8.1 Sales Rank"
   ]
  },
  {
   "cell_type": "code",
   "execution_count": null,
   "metadata": {
    "colab": {
     "base_uri": "https://localhost:8080/",
     "height": 393
    },
    "id": "NGtuHjYIkrv3",
    "outputId": "3376ea72-5036-4c9a-aef3-7de253054253"
   },
   "outputs": [],
   "source": [
    "sns.set(rc={'figure.figsize':(10,5)})\n",
    "bp = sns.boxplot(x=mv_review_table[\"rank\"])\n",
    "bp.set(title='The Sales Rank of Beauty Products',\n",
    "       xlabel='Sales Rank')"
   ]
  },
  {
   "cell_type": "markdown",
   "metadata": {
    "id": "oT9HUZDHp5Ji"
   },
   "source": [
    "#### 5.8.2 Average Rating"
   ]
  },
  {
   "cell_type": "code",
   "execution_count": null,
   "metadata": {
    "colab": {
     "base_uri": "https://localhost:8080/",
     "height": 393
    },
    "id": "M4D-pLTCkr3u",
    "outputId": "16d48381-1f9f-4555-ba4c-6c9f4a4e9562"
   },
   "outputs": [],
   "source": [
    "sns.set(rc={'figure.figsize':(10,5)})\n",
    "bp = sns.boxplot(x=mv_review_table[\"average-rating\"])\n",
    "bp.set(title='The Average Rating of Beauty Products',\n",
    "       xlabel='Average Rating')"
   ]
  },
  {
   "cell_type": "markdown",
   "metadata": {
    "id": "hl87YBYhp-Rk"
   },
   "source": [
    "#### 5.8.3 Average Verified Rating"
   ]
  },
  {
   "cell_type": "code",
   "execution_count": null,
   "metadata": {
    "colab": {
     "base_uri": "https://localhost:8080/",
     "height": 393
    },
    "id": "22MDAF45kr8M",
    "outputId": "6b29278f-a3a8-465e-843e-d0c49400cf64"
   },
   "outputs": [],
   "source": [
    "sns.set(rc={'figure.figsize':(10,5)})\n",
    "bp = sns.boxplot(x=mv_review_table[\"average-verified-rating\"], palette=\"Oranges_r\")\n",
    "bp.set(title='The Average Verified Rating of Beauty Products',\n",
    "       xlabel='Average Verified Rating')"
   ]
  },
  {
   "cell_type": "markdown",
   "metadata": {
    "id": "AoFLFGSGq1uc"
   },
   "source": [
    "Comparing Average Rating and Average Verified Rating"
   ]
  },
  {
   "cell_type": "code",
   "execution_count": null,
   "metadata": {
    "id": "m2N3WenCksDd"
   },
   "outputs": [],
   "source": [
    "mv_review_table_combine=pd.melt(mv_review_table[['average-rating', 'average-verified-rating']])"
   ]
  },
  {
   "cell_type": "code",
   "execution_count": null,
   "metadata": {
    "colab": {
     "base_uri": "https://localhost:8080/",
     "height": 410
    },
    "id": "FBmDDSJule2U",
    "outputId": "5f937fce-2830-4843-a1fe-7081461ccca4"
   },
   "outputs": [],
   "source": [
    "cbp=sns.boxplot(x=\"variable\", y=\"value\", data=mv_review_table_combine)\n",
    "cbp.set(title='Comparison Between Average Rating and Average Verified Rating',\n",
    "        xlabel='Types of Rating',\n",
    "        ylabel='Value')"
   ]
  },
  {
   "cell_type": "markdown",
   "metadata": {
    "id": "bDc0-_hiqBv3"
   },
   "source": [
    "#### 5.8.4 Number of Reviews"
   ]
  },
  {
   "cell_type": "code",
   "execution_count": null,
   "metadata": {
    "colab": {
     "base_uri": "https://localhost:8080/",
     "height": 393
    },
    "id": "ietHRwNwkr__",
    "outputId": "80e252c3-937b-4397-f9bb-98e0603c854b"
   },
   "outputs": [],
   "source": [
    "sns.set(rc={'figure.figsize':(10,5)})\n",
    "bp = sns.boxplot(x=mv_review_table[\"number-of-review\"])\n",
    "bp.set(title='The Number of Reviews of Beauty Products',\n",
    "       xlabel='Number of Reviews')"
   ]
  },
  {
   "cell_type": "markdown",
   "metadata": {
    "id": "SQLt0G1RqNDc"
   },
   "source": [
    "#### 5.8.5 Vote Score "
   ]
  },
  {
   "cell_type": "code",
   "execution_count": null,
   "metadata": {
    "colab": {
     "base_uri": "https://localhost:8080/",
     "height": 393
    },
    "id": "cRn3_fBZle_S",
    "outputId": "16602312-dbbc-4d72-f740-f9db4c49e6a2"
   },
   "outputs": [],
   "source": [
    "sns.set(rc={'figure.figsize':(10,5)})\n",
    "bp = sns.boxplot(x=new_mv_review_table[\"vote-score\"], palette=\"Greens_r\")\n",
    "bp.set(title='The Vote Weighted Rating of Beauty Products',\n",
    "       xlabel='Vote Weighted Rating')"
   ]
  },
  {
   "cell_type": "markdown",
   "metadata": {
    "id": "B7E-rLmFqQU8"
   },
   "source": [
    "#### 5.8.6 Time Weighted Overall "
   ]
  },
  {
   "cell_type": "code",
   "execution_count": null,
   "metadata": {
    "colab": {
     "base_uri": "https://localhost:8080/",
     "height": 393
    },
    "id": "b5hSBu0IlfHc",
    "outputId": "bc52ef5b-3840-4085-e894-9dba27e29a77"
   },
   "outputs": [],
   "source": [
    "sns.set(rc={'figure.figsize':(10,5)})\n",
    "bp = sns.boxplot(x=new_mv_review_table_withTime[\"time-weighted-overall\"], palette=\"Reds\")\n",
    "bp.set(title='The Time Weighted Rating of Beauty Products',\n",
    "       xlabel='Time Weighted Rating')"
   ]
  },
  {
   "cell_type": "code",
   "execution_count": null,
   "metadata": {
    "id": "hmTNGQDJn-FG"
   },
   "outputs": [],
   "source": [
    "combined_rating=pd.melt(new_mv_review_table_withTime[['average-rating','average-verified-rating','vote-score','time-weighted-overall']])"
   ]
  },
  {
   "cell_type": "code",
   "execution_count": null,
   "metadata": {
    "colab": {
     "base_uri": "https://localhost:8080/",
     "height": 410
    },
    "id": "AOVjWEMrnH4T",
    "outputId": "bb5a0d0a-c058-40c2-9719-fdf6df5b8d1b"
   },
   "outputs": [],
   "source": [
    "cbp=sns.boxplot(x=\"variable\", y=\"value\", data=combined_rating)\n",
    "cbp.set(title='Comparison Between Average Rating and Time Weighted Rating',\n",
    "        xlabel='Types of Rating',\n",
    "        ylabel='Rating')"
   ]
  },
  {
   "cell_type": "markdown",
   "metadata": {
    "id": "l7yW0DqspwCt"
   },
   "source": [
    "#### 5.8.7 Price "
   ]
  },
  {
   "cell_type": "code",
   "execution_count": null,
   "metadata": {
    "colab": {
     "base_uri": "https://localhost:8080/",
     "height": 376
    },
    "id": "Y1VnHQDGmpwi",
    "outputId": "1d5439d5-9d20-408a-abde-c5c855d51a61"
   },
   "outputs": [],
   "source": [
    "sns.set(rc={'figure.figsize':(10,5)})\n",
    "bp = sns.boxplot(x=merged_price_table[\"price\"])\n",
    "bp.set(title='The Price of Beauty Products',\n",
    "       xlabel='Price')"
   ]
  },
  {
   "cell_type": "markdown",
   "metadata": {
    "id": "IHXn1GJJnyA8"
   },
   "source": [
    "### 5.9 Correlation of All Attributes"
   ]
  },
  {
   "cell_type": "code",
   "execution_count": null,
   "metadata": {
    "colab": {
     "base_uri": "https://localhost:8080/",
     "height": 405
    },
    "id": "AXyFs5MVn4xB",
    "outputId": "0ff120ce-95d3-4fa2-e0c8-097f1a0dbd80"
   },
   "outputs": [],
   "source": [
    "#preparing required table\n",
    "partial_product_table = product_table[['asin','price']]\n",
    "\n",
    "##Merging Price with new_mv_review_table_withTime\n",
    "final_review_price_table = (pd.merge(new_mv_review_table_withTime, partial_product_table, on='asin', how='inner', indicator=True)).set_index('asin')\n",
    "final_review_price_table.reset_index(inplace = True)\n",
    "final_review_price_table = final_review_price_table .drop(['_merge'],axis = 1)\n",
    "final_review_price_table"
   ]
  },
  {
   "cell_type": "code",
   "execution_count": null,
   "metadata": {
    "colab": {
     "base_uri": "https://localhost:8080/",
     "height": 286
    },
    "id": "r5S4MvBBn446",
    "outputId": "a121a627-eea8-41ef-fd25-549afba086f6"
   },
   "outputs": [],
   "source": [
    "final_review_price_table.describe()"
   ]
  },
  {
   "cell_type": "code",
   "execution_count": null,
   "metadata": {
    "id": "lJmUez8dn4-7"
   },
   "outputs": [],
   "source": [
    "correlation = final_review_price_table.corr()"
   ]
  },
  {
   "cell_type": "code",
   "execution_count": null,
   "metadata": {
    "colab": {
     "base_uri": "https://localhost:8080/",
     "height": 624
    },
    "id": "kji5a4rcoFRv",
    "outputId": "7f74e01a-3c1a-447d-bae8-c1bef7b4d185"
   },
   "outputs": [],
   "source": [
    "sns.heatmap(correlation)"
   ]
  },
  {
   "cell_type": "markdown",
   "metadata": {
    "id": "cyywx-NWY3UL"
   },
   "source": [
    "## 6.0 Data Mining"
   ]
  },
  {
   "cell_type": "markdown",
   "metadata": {
    "id": "ZpJQM-NyLcF8"
   },
   "source": [
    "### 6.1 Association Rule Mining (ARM)"
   ]
  },
  {
   "cell_type": "code",
   "execution_count": null,
   "metadata": {
    "id": "7wAb6NHlPIVU"
   },
   "outputs": [],
   "source": [
    "from mlxtend.frequent_patterns import apriori\n",
    "from mlxtend.frequent_patterns import association_rules"
   ]
  },
  {
   "cell_type": "markdown",
   "metadata": {
    "id": "8IgR4IWoSH3r"
   },
   "source": [
    "#### 6.1.1 Also Buy Products"
   ]
  },
  {
   "cell_type": "code",
   "execution_count": null,
   "metadata": {
    "colab": {
     "base_uri": "https://localhost:8080/",
     "height": 405
    },
    "id": "Ryg8i1bAPIbY",
    "outputId": "97d6b71e-9ba8-4357-9a97-acde779eb8c3"
   },
   "outputs": [],
   "source": [
    "also_buy_table = product_table.drop(['title','also_view','rank','price'],axis = 1)\n",
    "also_buy_table"
   ]
  },
  {
   "cell_type": "code",
   "execution_count": null,
   "metadata": {
    "colab": {
     "base_uri": "https://localhost:8080/",
     "height": 405
    },
    "id": "unHuOHqtPIms",
    "outputId": "b2dd2861-5e2e-493b-b385-fa69c4dc1f6a"
   },
   "outputs": [],
   "source": [
    "# separates each item in the list into a new row\n",
    "also_buy_table = also_buy_table.explode('also_buy')\n",
    "also_buy_table.reset_index(drop=True, inplace=True)\n",
    "\n",
    "# cleaning up just to be safe\n",
    "also_buy_table['also_buy'] = also_buy_table['also_buy'].str.strip()\n",
    "also_buy_table.dropna(axis=0, subset=['also_buy'], inplace=True)\n",
    "also_buy_table['also_buy'] = also_buy_table['also_buy'].astype('str')\n",
    "\n",
    "# the product appear once in also buy (true, it was bought together)\n",
    "also_buy_table['frequency'] = 1\n",
    "also_buy_table"
   ]
  },
  {
   "cell_type": "code",
   "execution_count": null,
   "metadata": {
    "colab": {
     "base_uri": "https://localhost:8080/",
     "height": 405
    },
    "id": "gpU0xd__PIpj",
    "outputId": "76ad9016-a274-4122-a33f-2e527f7645e2"
   },
   "outputs": [],
   "source": [
    "# dropping products that does not exist in our product_table dataset\n",
    "also_buy = also_buy_table[also_buy_table['also_buy'].isin(product_table['asin'])]\n",
    "also_buy.reset_index(drop=True, inplace=True)\n",
    "also_buy"
   ]
  },
  {
   "cell_type": "code",
   "execution_count": null,
   "metadata": {
    "colab": {
     "base_uri": "https://localhost:8080/",
     "height": 455
    },
    "id": "jWCvwkodPIt3",
    "outputId": "cd241f7c-0879-433b-a8ff-5f09baf6d30a"
   },
   "outputs": [],
   "source": [
    "basket_ab = (also_buy.groupby(['asin', 'also_buy'])['frequency']\n",
    "          .sum().unstack().reset_index().fillna(0)\n",
    "          .set_index('asin')\n",
    "         )\n",
    "basket_ab"
   ]
  },
  {
   "cell_type": "code",
   "execution_count": null,
   "metadata": {
    "colab": {
     "base_uri": "https://localhost:8080/",
     "height": 227
    },
    "id": "HzxtgOqBWT5Q",
    "outputId": "64121b9f-f9e2-4625-91ff-f0bfbda2a695"
   },
   "outputs": [],
   "source": [
    "# support \n",
    "frequent_itemsets = apriori(basket_ab, min_support=0.01, use_colnames=True)\n",
    "frequent_itemsets"
   ]
  },
  {
   "cell_type": "code",
   "execution_count": null,
   "metadata": {
    "colab": {
     "base_uri": "https://localhost:8080/",
     "height": 77
    },
    "id": "SbbwVp18WT8N",
    "outputId": "0604caec-2d0e-40a2-ce92-b5646ee39bf8"
   },
   "outputs": [],
   "source": [
    "# confidence rule\n",
    "rules1 = association_rules(frequent_itemsets, metric=\"confidence\", min_threshold=0.7)\n",
    "rules1"
   ]
  },
  {
   "cell_type": "code",
   "execution_count": null,
   "metadata": {
    "colab": {
     "base_uri": "https://localhost:8080/",
     "height": 107
    },
    "id": "jFInApeUWT-z",
    "outputId": "b68e640b-d79a-47d6-893e-2a1afa2c29e2"
   },
   "outputs": [],
   "source": [
    "# lift rule\n",
    "rules2 = association_rules(frequent_itemsets, metric=\"lift\", min_threshold=1)\n",
    "rules2"
   ]
  },
  {
   "cell_type": "markdown",
   "metadata": {
    "id": "8ik7Dtt6W_e0"
   },
   "source": [
    "These products are bought together\n",
    "\n",
    "[B018J05XSQ]: Mia secret acrylic powder is highly adaptable for any nail tech experience level.\n",
    "\n",
    "[B00C4207LY]: Nail Art Accessories Real Dry Dried Flowers 12 Colors Bundle Set in Wheel - Ready to Use by Winstonia\n",
    "\n",
    "Both are nail products\n"
   ]
  },
  {
   "cell_type": "markdown",
   "metadata": {
    "id": "z6pW4-GNXRtZ"
   },
   "source": [
    "#### 6.1.2 Also Buy Frequency Analysis"
   ]
  },
  {
   "cell_type": "code",
   "execution_count": null,
   "metadata": {
    "colab": {
     "base_uri": "https://localhost:8080/",
     "height": 405
    },
    "id": "3IIXf2g1kLkO",
    "outputId": "7401f9b6-ed75-4e2f-b40d-5339ca6e1da5"
   },
   "outputs": [],
   "source": [
    "also_buy_f = also_buy.groupby(['also_buy']).count()\n",
    "also_buy_f.rename(columns={'frequency':'also-buy-freq'},inplace=True)\n",
    "also_buy_f.drop(['asin'], axis = 1, inplace=True)\n",
    "also_buy_f.reset_index(inplace = True)\n",
    "also_buy_f.rename(columns={'also_buy':'asin'},inplace=True)\n",
    "also_buy_f"
   ]
  },
  {
   "cell_type": "code",
   "execution_count": null,
   "metadata": {
    "colab": {
     "base_uri": "https://localhost:8080/",
     "height": 405
    },
    "id": "Xu51ycMvkFb7",
    "outputId": "e04f8499-a62c-481d-d8c2-27f53125b7bc"
   },
   "outputs": [],
   "source": [
    "mv2_review_table = (pd.merge(mv_review_table, also_buy_f, on='asin', how='left', indicator=True)).set_index('asin')\n",
    "mv2_review_table.reset_index(inplace = True)\n",
    "mv2_review_table['also-buy-freq'].fillna(0, inplace=True)\n",
    "mv2_review_table.drop(['_merge'], axis=1, inplace=True)\n",
    "\n",
    "mv2_review_table['also-buy-freq-range'] = pd.cut(mv2_review_table['also-buy-freq'],\n",
    "                                                  [-1, 0, 10, 30], \n",
    "                                                  right=True,\n",
    "                                                  labels=[\"0\",\"(0, 10]\",\"(10, 30]\"])\n",
    "mv2_review_table"
   ]
  },
  {
   "cell_type": "code",
   "execution_count": null,
   "metadata": {
    "colab": {
     "base_uri": "https://localhost:8080/"
    },
    "id": "840LUSpjkjG7",
    "outputId": "1c6e1c10-8ab4-4331-d122-2585ac969c4a"
   },
   "outputs": [],
   "source": [
    "mv2_review_table[\"also-buy-freq-range\"].value_counts()"
   ]
  },
  {
   "cell_type": "code",
   "execution_count": null,
   "metadata": {
    "colab": {
     "base_uri": "https://localhost:8080/",
     "height": 180
    },
    "id": "mPntbrtIkeNT",
    "outputId": "92c452bb-dbdc-4777-99c3-130b1157e49b"
   },
   "outputs": [],
   "source": [
    "sns.set(rc={'figure.figsize':(10,10)})\n",
    "sns.scatterplot(x='average-rating', y='rank', data = mv2_review_table, hue='also-buy-freq-range', palette=[\"C9\",\"C0\",\"C3\"])"
   ]
  },
  {
   "cell_type": "markdown",
   "metadata": {
    "id": "maiI5fkJLAHJ"
   },
   "source": [
    "### 6.2 Predictive Modeling"
   ]
  },
  {
   "cell_type": "markdown",
   "metadata": {
    "id": "ZcrpVTqJxZBx"
   },
   "source": [
    "#### 6.2.1 Predictive Model for All Beauty Product's Sales Rank"
   ]
  },
  {
   "cell_type": "code",
   "execution_count": null,
   "metadata": {
    "colab": {
     "base_uri": "https://localhost:8080/",
     "height": 490
    },
    "id": "hLsOvlFTHAyL",
    "outputId": "b623ae8f-16bb-4abe-bb2b-b59e32d2ad82"
   },
   "outputs": [],
   "source": [
    "#preparing required table\n",
    "partial_product_table = product_table[['asin','price']]\n",
    "#merging\n",
    "merged_product_review_table = (pd.merge(merged_review_table, partial_product_table, on='asin', how='inner', indicator=True)).set_index('asin')\n",
    "merged_product_review_table.reset_index(inplace = True)\n",
    "merged_product_review_table = merged_product_review_table.drop(['_merge','rank'],axis = 1)\n",
    "merged_product_review_table.rename(columns={'rank-binned':'rank'},inplace=True)\n",
    "\n",
    "verified_rating_table = mv_review_table[['asin','average-verified-rating']][mv_review_table['average-verified-rating']>0]\n",
    "merged_product_review_table = (pd.merge(merged_product_review_table, verified_rating_table, on='asin', how='inner', indicator=True)).set_index('asin')\n",
    "merged_product_review_table.reset_index(inplace = True)\n",
    "merged_product_review_table = merged_product_review_table.drop(['_merge','average-rating'],axis = 1)\n",
    "\n",
    "time_score_table = new_mv_review_table_withTime[['asin','time-weighted-overall']]\n",
    "merged_product_review_table = (pd.merge(merged_product_review_table, time_score_table, on='asin', how='inner', indicator=True)).set_index('asin')\n",
    "merged_product_review_table.reset_index(inplace = True)\n",
    "merged_product_review_table = merged_product_review_table.drop(['_merge','asin'],axis = 1)\n",
    "\n",
    "#filtering\n",
    "filter_price = merged_product_review_table['price'] > 0\n",
    "#filter_num_review = merged_product_review_table['number-of-review'] <= 10\n",
    "merged_product_review_table = merged_product_review_table[filter_price]\n",
    "merged_product_review_table\n"
   ]
  },
  {
   "cell_type": "code",
   "execution_count": null,
   "metadata": {
    "colab": {
     "base_uri": "https://localhost:8080/",
     "height": 490
    },
    "id": "Bj1lyxIGHO6a",
    "outputId": "f1914bdf-16a9-4971-8ef1-254bc7295f75"
   },
   "outputs": [],
   "source": [
    "#normalization\n",
    "product_review_table = merged_product_review_table.drop(['rank'],axis = 1)\n",
    "product_review_table = (product_review_table - product_review_table.min())/(product_review_table.max()-product_review_table.min())\n",
    "product_review_table['rank'] = merged_product_review_table['rank']\n",
    "\n",
    "product_review_table"
   ]
  },
  {
   "cell_type": "code",
   "execution_count": null,
   "metadata": {
    "colab": {
     "base_uri": "https://localhost:8080/",
     "height": 218
    },
    "id": "joI1_8IhHO_r",
    "outputId": "96d9904c-e50a-41a6-f349-ee58d2f0491a"
   },
   "outputs": [],
   "source": [
    "product_review_table.corr()"
   ]
  },
  {
   "cell_type": "code",
   "execution_count": null,
   "metadata": {
    "id": "yx7dKC3qHPDj"
   },
   "outputs": [],
   "source": [
    "#splitting test size\n",
    "X = product_review_table.drop(\"rank\", axis=1)  \n",
    "# copy the labels to another dataframe/series\n",
    "y = product_review_table[\"rank\"].copy()  \n",
    "X_train, X_test, y_train, y_test = train_test_split(X, y, test_size=0.20,random_state=1)\n"
   ]
  },
  {
   "cell_type": "code",
   "execution_count": null,
   "metadata": {
    "colab": {
     "base_uri": "https://localhost:8080/"
    },
    "id": "QRlsdQDgHVZt",
    "outputId": "d5583d68-5c78-46ec-d880-1eb81e1adf6f"
   },
   "outputs": [],
   "source": [
    "#Model Training\n",
    "model1 = MLPClassifier(hidden_layer_sizes =(4,5,3),max_iter=1000,random_state=1)\n",
    "model1.fit(X_train,y_train)\n",
    "\n",
    "model2 = KNeighborsClassifier(n_neighbors=20)\n",
    "model2.fit(X_train,y_train)"
   ]
  },
  {
   "cell_type": "code",
   "execution_count": null,
   "metadata": {
    "id": "zpyLqDS4HVes"
   },
   "outputs": [],
   "source": [
    "predictionMLP = model1.predict(X_test)\n",
    "predictionKNC = model2.predict(X_test)\n"
   ]
  },
  {
   "cell_type": "code",
   "execution_count": null,
   "metadata": {
    "colab": {
     "base_uri": "https://localhost:8080/"
    },
    "id": "w5q-MWxKHVhT",
    "outputId": "059b373f-b2fc-475c-bd22-8cb60acbc759"
   },
   "outputs": [],
   "source": [
    "print(\"The accuracy of model A is\",accuracy_score(y_test, predictionMLP))\n",
    "print(\"The accuracy of model B is\",accuracy_score(y_test, predictionKNC))\n"
   ]
  },
  {
   "cell_type": "code",
   "execution_count": null,
   "metadata": {
    "colab": {
     "base_uri": "https://localhost:8080/",
     "height": 574
    },
    "id": "BPT6J9QlHbPw",
    "outputId": "50d81df4-b400-488f-ec54-2e59327c3041"
   },
   "outputs": [],
   "source": [
    "fig1,ax1 = plt.subplots(figsize = (20,10))\n",
    "ax1.set_title(\"Confusion Matrix for Multilayer Perceptron Classifier(All Beauty Product)\")\n",
    "conf_matrix = confusion_matrix(y_test, predictionMLP)\n",
    "mlp_display = ConfusionMatrixDisplay(confusion_matrix=conf_matrix,display_labels = model1.classes_)\n",
    "mlp_display.plot(cmap = 'Greens',xticks_rotation ='vertical',ax=ax1)"
   ]
  },
  {
   "cell_type": "code",
   "execution_count": null,
   "metadata": {
    "colab": {
     "base_uri": "https://localhost:8080/",
     "height": 574
    },
    "id": "lSZYuyB9kpS2",
    "outputId": "53fdacbc-c580-4a43-acce-2f0c344ce39d"
   },
   "outputs": [],
   "source": [
    "fig2,ax2 = plt.subplots(figsize = (20,10))\n",
    "ax2.set_title(\"Confusion Matrix for KNeighborsClassifier(All Beauty Product)\")\n",
    "conf_matrix = confusion_matrix(y_test, predictionKNC)\n",
    "mlp_display = ConfusionMatrixDisplay(confusion_matrix=conf_matrix,display_labels = model2.classes_)\n",
    "mlp_display.plot(cmap = 'Greens',xticks_rotation ='vertical',ax=ax2)"
   ]
  },
  {
   "cell_type": "code",
   "execution_count": null,
   "metadata": {
    "id": "6jfwAwYGUr5i"
   },
   "outputs": [],
   "source": [
    "#ROC curve\n",
    "encoder = LabelEncoder()\n",
    "#predict probability\n",
    "y_test = encoder.fit_transform(y_test)\n",
    "pred_prob1 = model1.predict_proba(X_test)[:,1]\n",
    "pred_prob2 = model2.predict_proba(X_test)[:,1]\n",
    "# roc curve for models\n",
    "fpr1, tpr1, thresh1 = roc_curve(y_test, pred_prob1, pos_label=1)\n",
    "fpr2, tpr2, thresh2 = roc_curve(y_test, pred_prob2, pos_label=1)\n",
    "\n",
    "# roc curve for tpr = fpr \n",
    "random_probs = [0 for i in range(len(y_test))]\n",
    "p_fpr, p_tpr, _ = roc_curve(y_test, random_probs, pos_label=1)\n"
   ]
  },
  {
   "cell_type": "code",
   "execution_count": null,
   "metadata": {
    "colab": {
     "base_uri": "https://localhost:8080/",
     "height": 376
    },
    "id": "1BSfUIQZUteX",
    "outputId": "2d11478a-3b67-4cfd-87f1-a15a7bfb21c1"
   },
   "outputs": [],
   "source": [
    "# matplotlib\n",
    "plt.style.use('seaborn')\n",
    "\n",
    "# plot roc curves\n",
    "plt.plot(fpr1, tpr1, linestyle='--',color='orange', label='Multilayer Perceptron Classifier')\n",
    "plt.plot(fpr2, tpr2, linestyle='--',color='green', label='KNN')\n",
    "plt.plot(p_fpr, p_tpr, linestyle='--', color='blue')\n",
    "# title\n",
    "plt.title('ROC curve')\n",
    "# x label\n",
    "plt.xlabel('False Positive Rate')\n",
    "# y label\n",
    "plt.ylabel('True Positive rate')\n",
    "\n",
    "plt.legend(loc='best')\n",
    "plt.savefig('ROC',dpi=300)\n",
    "plt.show();"
   ]
  },
  {
   "cell_type": "markdown",
   "metadata": {
    "id": "uZSNdntSU020"
   },
   "source": [
    "It is evident from the plot that the AUC for the Multilayer Perceptron Classifier ROC curve is higher than that for the KNeighborsClassifier ROC curve. Multilayer Perceptron Classifier has a higher true positive rate than KNeighborsClassifier. Therefore, we can say that Multilayer Perceptron Classifier did a better job of classifying the positive class in the dataset. "
   ]
  },
  {
   "cell_type": "markdown",
   "metadata": {
    "id": "UBPEPsrKxmpp"
   },
   "source": [
    "####6.2.2 Predictive Model for Luxury Beauty Product's Sales Rank"
   ]
  },
  {
   "cell_type": "markdown",
   "metadata": {
    "id": "xBjCSWssxwvQ"
   },
   "source": [
    "We tried to predict for luxury beauty product's sales rank in order to verify the effectiveness of review in predicting product's sales rank."
   ]
  },
  {
   "cell_type": "code",
   "execution_count": null,
   "metadata": {
    "colab": {
     "base_uri": "https://localhost:8080/",
     "height": 541
    },
    "id": "Rdf0VgQyxt7s",
    "outputId": "2b5554d9-a9c5-4ae8-9d58-0e704f0654c9"
   },
   "outputs": [],
   "source": [
    "#preparing required table\n",
    "partial_luxuryBeautyProduct_table = luxuryBeautyProduct_table[['asin','price']]\n",
    "#merging\n",
    "merged_luxuryBeautyProduct_review_table = (pd.merge(luxuryBeautyReview_table_withTime, partial_luxuryBeautyProduct_table, on='asin', how='inner', indicator=True)).set_index('asin')\n",
    "merged_luxuryBeautyProduct_review_table.reset_index(inplace = True)\n",
    "merged_luxuryBeautyProduct_review_table  = merged_luxuryBeautyProduct_review_table .drop(['_merge','rank','asin','average-rating'],axis = 1)\n",
    "merged_luxuryBeautyProduct_review_table.rename(columns={'rank-binned':'rank'},inplace=True)\n",
    "\n",
    "#normalization\n",
    "luxuryBeautyProduct_review_table = merged_luxuryBeautyProduct_review_table.drop(['rank'],axis = 1)\n",
    "luxuryBeautyProduct_review_table= (luxuryBeautyProduct_review_table - luxuryBeautyProduct_review_table.min())/(luxuryBeautyProduct_review_table.max()-luxuryBeautyProduct_review_table.min())\n",
    "luxuryBeautyProduct_review_table['rank'] = merged_luxuryBeautyProduct_review_table['rank']\n",
    "\n",
    "luxuryBeautyProduct_review_table"
   ]
  },
  {
   "cell_type": "code",
   "execution_count": null,
   "metadata": {
    "colab": {
     "base_uri": "https://localhost:8080/"
    },
    "id": "F9xVWXz8yGJL",
    "outputId": "0d6f8f59-bcdf-4320-a33a-d801c784fc92"
   },
   "outputs": [],
   "source": [
    "#splitting test size\n",
    "XX = luxuryBeautyProduct_review_table.drop(\"rank\", axis=1)  \n",
    "# copy the labels to another dataframe/series\n",
    "yy = luxuryBeautyProduct_review_table[\"rank\"].copy()  \n",
    "XX_train, XX_test, yy_train, yy_test = train_test_split(XX, yy, test_size=0.20,random_state=1)\n",
    "\n",
    "#Model Training\n",
    "modelMLP = MLPClassifier(hidden_layer_sizes =(4,5,3),max_iter=1000,random_state=1)\n",
    "modelMLP.fit(XX_train,yy_train)\n",
    "\n",
    "luxuryBeautyPredictionMLP = modelMLP.predict(XX_test)\n",
    "\n",
    "print(\"The accuracy of model A is\",accuracy_score(yy_test, luxuryBeautyPredictionMLP))"
   ]
  },
  {
   "cell_type": "code",
   "execution_count": null,
   "metadata": {
    "colab": {
     "base_uri": "https://localhost:8080/",
     "height": 578
    },
    "id": "nm6UOTuPyIj7",
    "outputId": "db9ebe64-b54c-4919-8075-3c5461883b9c"
   },
   "outputs": [],
   "source": [
    "fig,ax = plt.subplots(figsize = (20,10))\n",
    "ax.set_title(\"Confusion Matrix for Multilayer Layer Perceptron Classifier(Luxury Beauty Product)\")\n",
    "mlp_conf_matrix = confusion_matrix(yy_test, luxuryBeautyPredictionMLP)\n",
    "display = ConfusionMatrixDisplay(confusion_matrix=mlp_conf_matrix,display_labels = modelMLP.classes_)\n",
    "display.plot(cmap = 'Greens',xticks_rotation ='vertical',ax=ax)"
   ]
  },
  {
   "cell_type": "markdown",
   "metadata": {
    "id": "Y0Hpn9daY3iW"
   },
   "source": [
    "## 7.0 Data Visualization"
   ]
  },
  {
   "cell_type": "markdown",
   "metadata": {
    "id": "ECEO6AbSVpu_"
   },
   "source": [
    "### 7.1 Number of High Ratings VS Sales Rank\n",
    "Will an increase in the number of high ratings (rating >= 4) affect the sales rank of a beauty product?\n"
   ]
  },
  {
   "cell_type": "code",
   "execution_count": null,
   "metadata": {
    "colab": {
     "base_uri": "https://localhost:8080/",
     "height": 405
    },
    "id": "0kTlJ1OJFKl-",
    "outputId": "3c89be61-b871-4c42-a980-41877164a68a"
   },
   "outputs": [],
   "source": [
    "mx = m.copy()\n",
    "mx['ratio-high-to-total'] = mx['number-of-high-rating-review']/mx['number-of-review']\n",
    "mx['average-rating-range'] = pd.cut(mx['average-rating'],\n",
    "                                    [0, 3, 4, 6], \n",
    "                                    right=False,\n",
    "                                    labels=[\"[1, 3)\",\"[3, 4)\",\"[4, 5]\"])\n",
    "mx"
   ]
  },
  {
   "cell_type": "code",
   "execution_count": null,
   "metadata": {
    "colab": {
     "base_uri": "https://localhost:8080/",
     "height": 227
    },
    "id": "D9u2goKW1V7U",
    "outputId": "e053b7d3-d5d6-4f59-821a-d79a8364f005"
   },
   "outputs": [],
   "source": [
    "mx.corr()"
   ]
  },
  {
   "cell_type": "code",
   "execution_count": null,
   "metadata": {
    "colab": {
     "base_uri": "https://localhost:8080/",
     "height": 376
    },
    "id": "LaCJNyRs132E",
    "outputId": "ef9b4ecf-1e74-4b58-df77-3586f4ca2d34"
   },
   "outputs": [],
   "source": [
    "plt.title('Ratio of High Rating Reviews against the Total Number of Reviews against the Sales Rank of a Beauty Product')\n",
    "plt.ylabel('Sales Rank')\n",
    "plt.xlabel('Ratio of High Rating Reviews against the Total Number of Reviews')\n",
    "plot=sns.scatterplot(x=\"ratio-high-to-total\", y=\"rank\", data=mx, hue='average-rating-range', palette=[\"C0\",\"C2\",\"C3\"])"
   ]
  },
  {
   "cell_type": "markdown",
   "metadata": {
    "id": "6EjKq3U-1gYK"
   },
   "source": [
    " ### 7.6 Timeframe and Reviews"
   ]
  },
  {
   "cell_type": "code",
   "execution_count": null,
   "metadata": {
    "colab": {
     "base_uri": "https://localhost:8080/",
     "height": 615
    },
    "id": "t2sBVLnV1V-Z",
    "outputId": "7dc21799-8b56-4177-ae58-f493a443587c"
   },
   "outputs": [],
   "source": [
    "timeframe = dfMergedInner[['year', 'month']].copy().groupby(['year']).count()\n",
    "timeframe.rename(columns={'month':'number-of-review'},inplace=True)\n",
    "timeframe.reset_index(inplace = True)\n",
    "timeframe['cum-number-of-review'] = timeframe['number-of-review'].cumsum()\n",
    "timeframe"
   ]
  },
  {
   "cell_type": "code",
   "execution_count": null,
   "metadata": {
    "colab": {
     "base_uri": "https://localhost:8080/",
     "height": 563
    },
    "id": "SjJI6jlp1WBJ",
    "outputId": "c2d72299-fde9-4bae-9f8e-6fde41296e4d"
   },
   "outputs": [],
   "source": [
    "plt.figure(figsize = (10,8))\n",
    "ax = sns.barplot(x=\"year\", y=\"number-of-review\", data=timeframe, color=\"C9\", saturation=.5)\n",
    "\n",
    "ax.set(title='Total Number of Reviews throughout the Years',\n",
    "       xlabel='Year',\n",
    "       ylabel='Total Number of Beauty Product Reviews')"
   ]
  },
  {
   "cell_type": "code",
   "execution_count": null,
   "metadata": {
    "colab": {
     "base_uri": "https://localhost:8080/",
     "height": 563
    },
    "id": "fP5DtZdCk-6V",
    "outputId": "490c8658-2724-473a-a85e-463dca385c97"
   },
   "outputs": [],
   "source": [
    "plt.figure(figsize = (10,8))\n",
    "ax=sns.barplot(x=\"year\", y=\"cum-number-of-review\", data=timeframe, color=\"C9\", saturation=.1)\n",
    "sns.lineplot(x=\"year\", y=\"cum-number-of-review\", data=timeframe).plot(secondary_y=True)\n",
    "ax.set(title='Cumulative Number of Reviews throughout the Years',\n",
    "       xlabel='Year',\n",
    "       ylabel='Cumulative Number of Beauty Product Reviews')"
   ]
  },
  {
   "cell_type": "markdown",
   "metadata": {
    "id": "L5BnP8zIY3sP"
   },
   "source": [
    "## Conclusion"
   ]
  },
  {
   "cell_type": "markdown",
   "metadata": {
    "id": "u7BR3md2FLce"
   },
   "source": []
  }
 ],
 "metadata": {
  "colab": {
   "collapsed_sections": [],
   "name": "Data Science Project(new).ipynb",
   "provenance": [],
   "toc_visible": true
  },
  "kernelspec": {
   "display_name": "Python 3",
   "language": "python",
   "name": "python3"
  },
  "language_info": {
   "codemirror_mode": {
    "name": "ipython",
    "version": 3
   },
   "file_extension": ".py",
   "mimetype": "text/x-python",
   "name": "python",
   "nbconvert_exporter": "python",
   "pygments_lexer": "ipython3",
   "version": "3.8.5"
  }
 },
 "nbformat": 4,
 "nbformat_minor": 1
}

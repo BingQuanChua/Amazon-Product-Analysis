{
 "cells": [
  {
   "cell_type": "markdown",
   "metadata": {
    "id": "DmSSQlsvuuEi"
   },
   "source": [
    "# Project Part 2: Amazon Beauty Products"
   ]
  },
  {
   "cell_type": "code",
   "execution_count": 1,
   "metadata": {
    "colab": {
     "base_uri": "https://localhost:8080/"
    },
    "executionInfo": {
     "elapsed": 30003,
     "status": "ok",
     "timestamp": 1613748080571,
     "user": {
      "displayName": "YAP MOU EN",
      "photoUrl": "https://lh3.googleusercontent.com/a-/AOh14GhPNpBKjbLgcci9ZOGWgaMF_YjmfMYywVswsf2zkQ=s64",
      "userId": "04185711044849077922"
     },
     "user_tz": -480
    },
    "id": "E7GW6NYju9Am",
    "outputId": "354997ea-a96a-4e02-9b1c-197549044955"
   },
   "outputs": [],
   "source": [
    "#from google.colab import drive\n",
    "#drive.mount('/content/drive/', force_remount=True)\n",
    "path= ''#'/content/drive/Shareddrives/Introduction to Data Science/data/'"
   ]
  },
  {
   "cell_type": "markdown",
   "metadata": {
    "id": "2IhnbF_juuEr"
   },
   "source": [
    "## 1. Introduction\n",
    "\n",
    "Importing some libraries."
   ]
  },
  {
   "cell_type": "code",
   "execution_count": 2,
   "metadata": {
    "id": "8zVGFUT-uuEs"
   },
   "outputs": [],
   "source": [
    "import numpy as np\n",
    "import pandas as pd\n",
    "import matplotlib.pyplot as plt\n",
    "import seaborn as sns\n",
    "import datetime\n",
    "import matplotlib\n",
    "import json\n",
    "from scipy.stats import zscore\n",
    "from scipy import stats"
   ]
  },
  {
   "cell_type": "markdown",
   "metadata": {
    "id": "_9HO-d2quuEs"
   },
   "source": [
    "## 2. Loading Datasets \n",
    "\n",
    "Getting familiar with the data we have"
   ]
  },
  {
   "cell_type": "markdown",
   "metadata": {
    "id": "dfEyfIWBuuEt"
   },
   "source": [
    "### 2.1 meta_All_Beauty.json\n",
    "\n",
    "This dataset contains all the product details"
   ]
  },
  {
   "cell_type": "code",
   "execution_count": 3,
   "metadata": {
    "id": "RMzT9XG2uuEt"
   },
   "outputs": [],
   "source": [
    "import json\n",
    "import numpy as np\n",
    "import pandas as pd\n",
    "\n",
    "product = []\n",
    "with open(path + 'meta_All_Beauty.json') as f:\n",
    "    for line in f:\n",
    "        product.append(json.loads(line))"
   ]
  },
  {
   "cell_type": "code",
   "execution_count": 4,
   "metadata": {
    "colab": {
     "base_uri": "https://localhost:8080/",
     "height": 1000
    },
    "executionInfo": {
     "elapsed": 34948,
     "status": "ok",
     "timestamp": 1613748085538,
     "user": {
      "displayName": "YAP MOU EN",
      "photoUrl": "https://lh3.googleusercontent.com/a-/AOh14GhPNpBKjbLgcci9ZOGWgaMF_YjmfMYywVswsf2zkQ=s64",
      "userId": "04185711044849077922"
     },
     "user_tz": -480
    },
    "id": "zTGlZNwQuuEu",
    "outputId": "b9eb747b-3935-4916-ec61-245128d37f0f"
   },
   "outputs": [
    {
     "data": {
      "text/html": [
       "<div>\n",
       "<style scoped>\n",
       "    .dataframe tbody tr th:only-of-type {\n",
       "        vertical-align: middle;\n",
       "    }\n",
       "\n",
       "    .dataframe tbody tr th {\n",
       "        vertical-align: top;\n",
       "    }\n",
       "\n",
       "    .dataframe thead th {\n",
       "        text-align: right;\n",
       "    }\n",
       "</style>\n",
       "<table border=\"1\" class=\"dataframe\">\n",
       "  <thead>\n",
       "    <tr style=\"text-align: right;\">\n",
       "      <th></th>\n",
       "      <th>category</th>\n",
       "      <th>tech1</th>\n",
       "      <th>description</th>\n",
       "      <th>fit</th>\n",
       "      <th>title</th>\n",
       "      <th>also_buy</th>\n",
       "      <th>image</th>\n",
       "      <th>tech2</th>\n",
       "      <th>brand</th>\n",
       "      <th>feature</th>\n",
       "      <th>rank</th>\n",
       "      <th>also_view</th>\n",
       "      <th>details</th>\n",
       "      <th>main_cat</th>\n",
       "      <th>similar_item</th>\n",
       "      <th>date</th>\n",
       "      <th>price</th>\n",
       "      <th>asin</th>\n",
       "    </tr>\n",
       "  </thead>\n",
       "  <tbody>\n",
       "    <tr>\n",
       "      <th>0</th>\n",
       "      <td>[]</td>\n",
       "      <td></td>\n",
       "      <td>[Loud 'N Clear Personal Sound Amplifier allows...</td>\n",
       "      <td></td>\n",
       "      <td>Loud 'N Clear&amp;trade; Personal Sound Amplifier</td>\n",
       "      <td>[]</td>\n",
       "      <td>[]</td>\n",
       "      <td></td>\n",
       "      <td>idea village</td>\n",
       "      <td>[]</td>\n",
       "      <td>2,938,573 in Beauty &amp; Personal Care (</td>\n",
       "      <td>[]</td>\n",
       "      <td>{'ASIN: ': '6546546450'}</td>\n",
       "      <td>All Beauty</td>\n",
       "      <td></td>\n",
       "      <td></td>\n",
       "      <td></td>\n",
       "      <td>6546546450</td>\n",
       "    </tr>\n",
       "    <tr>\n",
       "      <th>1</th>\n",
       "      <td>[]</td>\n",
       "      <td></td>\n",
       "      <td>[No7 Lift &amp; Luminate Triple Action Serum 50ml ...</td>\n",
       "      <td></td>\n",
       "      <td>No7 Lift &amp;amp; Luminate Triple Action Serum 50...</td>\n",
       "      <td>[B01E7LCSL6, B008X5RVME]</td>\n",
       "      <td>[]</td>\n",
       "      <td></td>\n",
       "      <td></td>\n",
       "      <td>[]</td>\n",
       "      <td>872,854 in Beauty &amp; Personal Care (</td>\n",
       "      <td>[]</td>\n",
       "      <td>{'Shipping Weight:': '0.3 ounces (', 'ASIN: ':...</td>\n",
       "      <td>All Beauty</td>\n",
       "      <td>class=\"a-bordered a-horizontal-stripes  a-spa...</td>\n",
       "      <td></td>\n",
       "      <td>$44.99</td>\n",
       "      <td>7178680776</td>\n",
       "    </tr>\n",
       "    <tr>\n",
       "      <th>2</th>\n",
       "      <td>[]</td>\n",
       "      <td></td>\n",
       "      <td>[No7 Stay Perfect Foundation now stays perfect...</td>\n",
       "      <td></td>\n",
       "      <td>No7 Stay Perfect Foundation Cool Vanilla by No7</td>\n",
       "      <td>[]</td>\n",
       "      <td>[]</td>\n",
       "      <td></td>\n",
       "      <td>No7</td>\n",
       "      <td>[]</td>\n",
       "      <td>956,696 in Beauty &amp; Personal Care (</td>\n",
       "      <td>[B01B8BR0O8, B01B8BR0NO, B014MHXXM8]</td>\n",
       "      <td>{'Shipping Weight:': '3.5 ounces (', 'ASIN: ':...</td>\n",
       "      <td>All Beauty</td>\n",
       "      <td></td>\n",
       "      <td></td>\n",
       "      <td>$28.76</td>\n",
       "      <td>7250468162</td>\n",
       "    </tr>\n",
       "    <tr>\n",
       "      <th>3</th>\n",
       "      <td>[]</td>\n",
       "      <td></td>\n",
       "      <td>[]</td>\n",
       "      <td></td>\n",
       "      <td>Wella Koleston Perfect Hair Colour 44/44 Mediu...</td>\n",
       "      <td>[B0041PBXX8]</td>\n",
       "      <td>[https://images-na.ssl-images-amazon.com/image...</td>\n",
       "      <td></td>\n",
       "      <td></td>\n",
       "      <td>[]</td>\n",
       "      <td>1,870,258 in Beauty &amp; Personal Care (</td>\n",
       "      <td>[]</td>\n",
       "      <td>{'\n",
       "    Item Weight: \n",
       "    ': '1.76 ounces', 'Sh...</td>\n",
       "      <td>All Beauty</td>\n",
       "      <td></td>\n",
       "      <td></td>\n",
       "      <td></td>\n",
       "      <td>7367905066</td>\n",
       "    </tr>\n",
       "    <tr>\n",
       "      <th>4</th>\n",
       "      <td>[]</td>\n",
       "      <td></td>\n",
       "      <td>[Lacto Calamine Skin Balance Daily Nourishing ...</td>\n",
       "      <td></td>\n",
       "      <td>Lacto Calamine Skin Balance Oil control 120 ml...</td>\n",
       "      <td>[]</td>\n",
       "      <td>[https://images-na.ssl-images-amazon.com/image...</td>\n",
       "      <td></td>\n",
       "      <td>Pirmal Healthcare</td>\n",
       "      <td>[]</td>\n",
       "      <td>67,701 in Beauty &amp; Personal Care (</td>\n",
       "      <td>[3254895630, B007VL1D9S, B00EH9A0RI, B0773MBG4...</td>\n",
       "      <td>{'Shipping Weight:': '12 ounces (', 'ASIN: ': ...</td>\n",
       "      <td>All Beauty</td>\n",
       "      <td></td>\n",
       "      <td></td>\n",
       "      <td>$12.15</td>\n",
       "      <td>7414204790</td>\n",
       "    </tr>\n",
       "    <tr>\n",
       "      <th>5</th>\n",
       "      <td>[]</td>\n",
       "      <td></td>\n",
       "      <td>[Mary Kay Satin Hands Peach Hand Cream Travel ...</td>\n",
       "      <td></td>\n",
       "      <td>Mary Kay Satin Hands Hand Cream Travel MINI Si...</td>\n",
       "      <td>[]</td>\n",
       "      <td>[]</td>\n",
       "      <td></td>\n",
       "      <td>Mary Kay</td>\n",
       "      <td>[]</td>\n",
       "      <td>699,317 in Beauty &amp; Personal Care (</td>\n",
       "      <td>[]</td>\n",
       "      <td>{'Shipping Weight:': '2.4 ounces', 'ASIN: ': '...</td>\n",
       "      <td>All Beauty</td>\n",
       "      <td></td>\n",
       "      <td></td>\n",
       "      <td></td>\n",
       "      <td>7535842801</td>\n",
       "    </tr>\n",
       "    <tr>\n",
       "      <th>6</th>\n",
       "      <td>[]</td>\n",
       "      <td></td>\n",
       "      <td>[]</td>\n",
       "      <td></td>\n",
       "      <td>Unique Custom Cast Iron Liner Shader Tattoo Ma...</td>\n",
       "      <td>[]</td>\n",
       "      <td>[]</td>\n",
       "      <td></td>\n",
       "      <td></td>\n",
       "      <td>[]</td>\n",
       "      <td>3,206,658 in Beauty &amp; Personal Care (</td>\n",
       "      <td>[]</td>\n",
       "      <td>{'ASIN: ': '7538626107'}</td>\n",
       "      <td>All Beauty</td>\n",
       "      <td></td>\n",
       "      <td></td>\n",
       "      <td></td>\n",
       "      <td>7538626107</td>\n",
       "    </tr>\n",
       "    <tr>\n",
       "      <th>7</th>\n",
       "      <td>[]</td>\n",
       "      <td></td>\n",
       "      <td>[According to the legend, in 1613, two brother...</td>\n",
       "      <td></td>\n",
       "      <td>Imagen Bendita Por Su Santidad Our Lady of Cha...</td>\n",
       "      <td>[]</td>\n",
       "      <td>[]</td>\n",
       "      <td></td>\n",
       "      <td>Chango</td>\n",
       "      <td>[]</td>\n",
       "      <td>1,741,858 in Beauty &amp; Personal Care (</td>\n",
       "      <td>[]</td>\n",
       "      <td>{'\n",
       "    Item Weight: \n",
       "    ': '8 ounces', 'Shipp...</td>\n",
       "      <td>All Beauty</td>\n",
       "      <td></td>\n",
       "      <td></td>\n",
       "      <td></td>\n",
       "      <td>8279996397</td>\n",
       "    </tr>\n",
       "    <tr>\n",
       "      <th>8</th>\n",
       "      <td>[]</td>\n",
       "      <td></td>\n",
       "      <td>[Novi prevod proslavljene knjige Zadruga objav...</td>\n",
       "      <td></td>\n",
       "      <td>Mali princ</td>\n",
       "      <td>[]</td>\n",
       "      <td>[https://images-na.ssl-images-amazon.com/image...</td>\n",
       "      <td></td>\n",
       "      <td>Srpska knjizevna zadruga</td>\n",
       "      <td>[]</td>\n",
       "      <td>2,136,432 in Beauty &amp;amp; Personal Care (</td>\n",
       "      <td>[]</td>\n",
       "      <td>{'Shipping Weight:': '7.7 ounces', 'ASIN: ': '...</td>\n",
       "      <td>All Beauty</td>\n",
       "      <td></td>\n",
       "      <td></td>\n",
       "      <td></td>\n",
       "      <td>8637910351</td>\n",
       "    </tr>\n",
       "    <tr>\n",
       "      <th>9</th>\n",
       "      <td>[]</td>\n",
       "      <td></td>\n",
       "      <td>[Moleskine's Card Wallet in Payne's Grey is th...</td>\n",
       "      <td></td>\n",
       "      <td>Moleskine Payne's Grey Card Wallet (Moleskine ...</td>\n",
       "      <td>[]</td>\n",
       "      <td>[https://images-na.ssl-images-amazon.com/image...</td>\n",
       "      <td></td>\n",
       "      <td>Sunatoria</td>\n",
       "      <td>[]</td>\n",
       "      <td>1,260,339 in Beauty &amp;amp; Personal Care (</td>\n",
       "      <td>[]</td>\n",
       "      <td>{'\n",
       "    Product Dimensions: \n",
       "    ': '2.8 x 4.3 ...</td>\n",
       "      <td>All Beauty</td>\n",
       "      <td></td>\n",
       "      <td></td>\n",
       "      <td></td>\n",
       "      <td>8867326759</td>\n",
       "    </tr>\n",
       "  </tbody>\n",
       "</table>\n",
       "</div>"
      ],
      "text/plain": [
       "  category tech1                                        description fit  \\\n",
       "0       []        [Loud 'N Clear Personal Sound Amplifier allows...       \n",
       "1       []        [No7 Lift & Luminate Triple Action Serum 50ml ...       \n",
       "2       []        [No7 Stay Perfect Foundation now stays perfect...       \n",
       "3       []                                                       []       \n",
       "4       []        [Lacto Calamine Skin Balance Daily Nourishing ...       \n",
       "5       []        [Mary Kay Satin Hands Peach Hand Cream Travel ...       \n",
       "6       []                                                       []       \n",
       "7       []        [According to the legend, in 1613, two brother...       \n",
       "8       []        [Novi prevod proslavljene knjige Zadruga objav...       \n",
       "9       []        [Moleskine's Card Wallet in Payne's Grey is th...       \n",
       "\n",
       "                                               title  \\\n",
       "0      Loud 'N Clear&trade; Personal Sound Amplifier   \n",
       "1  No7 Lift &amp; Luminate Triple Action Serum 50...   \n",
       "2    No7 Stay Perfect Foundation Cool Vanilla by No7   \n",
       "3  Wella Koleston Perfect Hair Colour 44/44 Mediu...   \n",
       "4  Lacto Calamine Skin Balance Oil control 120 ml...   \n",
       "5  Mary Kay Satin Hands Hand Cream Travel MINI Si...   \n",
       "6  Unique Custom Cast Iron Liner Shader Tattoo Ma...   \n",
       "7  Imagen Bendita Por Su Santidad Our Lady of Cha...   \n",
       "8                                         Mali princ   \n",
       "9  Moleskine Payne's Grey Card Wallet (Moleskine ...   \n",
       "\n",
       "                   also_buy  \\\n",
       "0                        []   \n",
       "1  [B01E7LCSL6, B008X5RVME]   \n",
       "2                        []   \n",
       "3              [B0041PBXX8]   \n",
       "4                        []   \n",
       "5                        []   \n",
       "6                        []   \n",
       "7                        []   \n",
       "8                        []   \n",
       "9                        []   \n",
       "\n",
       "                                               image tech2  \\\n",
       "0                                                 []         \n",
       "1                                                 []         \n",
       "2                                                 []         \n",
       "3  [https://images-na.ssl-images-amazon.com/image...         \n",
       "4  [https://images-na.ssl-images-amazon.com/image...         \n",
       "5                                                 []         \n",
       "6                                                 []         \n",
       "7                                                 []         \n",
       "8  [https://images-na.ssl-images-amazon.com/image...         \n",
       "9  [https://images-na.ssl-images-amazon.com/image...         \n",
       "\n",
       "                      brand feature  \\\n",
       "0              idea village      []   \n",
       "1                                []   \n",
       "2                       No7      []   \n",
       "3                                []   \n",
       "4         Pirmal Healthcare      []   \n",
       "5                  Mary Kay      []   \n",
       "6                                []   \n",
       "7                    Chango      []   \n",
       "8  Srpska knjizevna zadruga      []   \n",
       "9                 Sunatoria      []   \n",
       "\n",
       "                                        rank  \\\n",
       "0      2,938,573 in Beauty & Personal Care (   \n",
       "1        872,854 in Beauty & Personal Care (   \n",
       "2        956,696 in Beauty & Personal Care (   \n",
       "3      1,870,258 in Beauty & Personal Care (   \n",
       "4         67,701 in Beauty & Personal Care (   \n",
       "5        699,317 in Beauty & Personal Care (   \n",
       "6      3,206,658 in Beauty & Personal Care (   \n",
       "7      1,741,858 in Beauty & Personal Care (   \n",
       "8  2,136,432 in Beauty &amp; Personal Care (   \n",
       "9  1,260,339 in Beauty &amp; Personal Care (   \n",
       "\n",
       "                                           also_view  \\\n",
       "0                                                 []   \n",
       "1                                                 []   \n",
       "2               [B01B8BR0O8, B01B8BR0NO, B014MHXXM8]   \n",
       "3                                                 []   \n",
       "4  [3254895630, B007VL1D9S, B00EH9A0RI, B0773MBG4...   \n",
       "5                                                 []   \n",
       "6                                                 []   \n",
       "7                                                 []   \n",
       "8                                                 []   \n",
       "9                                                 []   \n",
       "\n",
       "                                             details    main_cat  \\\n",
       "0                           {'ASIN: ': '6546546450'}  All Beauty   \n",
       "1  {'Shipping Weight:': '0.3 ounces (', 'ASIN: ':...  All Beauty   \n",
       "2  {'Shipping Weight:': '3.5 ounces (', 'ASIN: ':...  All Beauty   \n",
       "3  {'\n",
       "    Item Weight: \n",
       "    ': '1.76 ounces', 'Sh...  All Beauty   \n",
       "4  {'Shipping Weight:': '12 ounces (', 'ASIN: ': ...  All Beauty   \n",
       "5  {'Shipping Weight:': '2.4 ounces', 'ASIN: ': '...  All Beauty   \n",
       "6                           {'ASIN: ': '7538626107'}  All Beauty   \n",
       "7  {'\n",
       "    Item Weight: \n",
       "    ': '8 ounces', 'Shipp...  All Beauty   \n",
       "8  {'Shipping Weight:': '7.7 ounces', 'ASIN: ': '...  All Beauty   \n",
       "9  {'\n",
       "    Product Dimensions: \n",
       "    ': '2.8 x 4.3 ...  All Beauty   \n",
       "\n",
       "                                        similar_item date   price        asin  \n",
       "0                                                                  6546546450  \n",
       "1   class=\"a-bordered a-horizontal-stripes  a-spa...       $44.99  7178680776  \n",
       "2                                                          $28.76  7250468162  \n",
       "3                                                                  7367905066  \n",
       "4                                                          $12.15  7414204790  \n",
       "5                                                                  7535842801  \n",
       "6                                                                  7538626107  \n",
       "7                                                                  8279996397  \n",
       "8                                                                  8637910351  \n",
       "9                                                                  8867326759  "
      ]
     },
     "execution_count": 4,
     "metadata": {},
     "output_type": "execute_result"
    }
   ],
   "source": [
    "raw_product_table = pd.DataFrame(product)\n",
    "raw_product_table.head(10)"
   ]
  },
  {
   "cell_type": "markdown",
   "metadata": {
    "id": "SF3vnFABuuEv"
   },
   "source": [
    "### 2.2 Review_Beauty.json\n",
    "\n",
    "This file contains all the review given by customers."
   ]
  },
  {
   "cell_type": "code",
   "execution_count": 5,
   "metadata": {
    "id": "EHbgf9BiuuEv"
   },
   "outputs": [],
   "source": [
    "import json\n",
    "import numpy as np\n",
    "import pandas as pd\n",
    "\n",
    "review = []\n",
    "with open(path + 'Review_Beauty.json') as f:\n",
    "    for line in f:\n",
    "        review.append(json.loads(line))"
   ]
  },
  {
   "cell_type": "code",
   "execution_count": 6,
   "metadata": {
    "colab": {
     "base_uri": "https://localhost:8080/",
     "height": 481
    },
    "executionInfo": {
     "elapsed": 40500,
     "status": "ok",
     "timestamp": 1613748091110,
     "user": {
      "displayName": "YAP MOU EN",
      "photoUrl": "https://lh3.googleusercontent.com/a-/AOh14GhPNpBKjbLgcci9ZOGWgaMF_YjmfMYywVswsf2zkQ=s64",
      "userId": "04185711044849077922"
     },
     "user_tz": -480
    },
    "id": "rcDcUjlHuuEw",
    "outputId": "8b583dc7-fc00-4491-c174-b9eb5e873f88"
   },
   "outputs": [
    {
     "data": {
      "text/html": [
       "<div>\n",
       "<style scoped>\n",
       "    .dataframe tbody tr th:only-of-type {\n",
       "        vertical-align: middle;\n",
       "    }\n",
       "\n",
       "    .dataframe tbody tr th {\n",
       "        vertical-align: top;\n",
       "    }\n",
       "\n",
       "    .dataframe thead th {\n",
       "        text-align: right;\n",
       "    }\n",
       "</style>\n",
       "<table border=\"1\" class=\"dataframe\">\n",
       "  <thead>\n",
       "    <tr style=\"text-align: right;\">\n",
       "      <th></th>\n",
       "      <th>overall</th>\n",
       "      <th>verified</th>\n",
       "      <th>reviewTime</th>\n",
       "      <th>reviewerID</th>\n",
       "      <th>asin</th>\n",
       "      <th>reviewerName</th>\n",
       "      <th>reviewText</th>\n",
       "      <th>summary</th>\n",
       "      <th>unixReviewTime</th>\n",
       "      <th>vote</th>\n",
       "      <th>style</th>\n",
       "      <th>image</th>\n",
       "    </tr>\n",
       "  </thead>\n",
       "  <tbody>\n",
       "    <tr>\n",
       "      <th>0</th>\n",
       "      <td>1.0</td>\n",
       "      <td>True</td>\n",
       "      <td>02 19, 2015</td>\n",
       "      <td>A1V6B6TNIC10QE</td>\n",
       "      <td>0143026860</td>\n",
       "      <td>theodore j bigham</td>\n",
       "      <td>great</td>\n",
       "      <td>One Star</td>\n",
       "      <td>1424304000</td>\n",
       "      <td>NaN</td>\n",
       "      <td>NaN</td>\n",
       "      <td>NaN</td>\n",
       "    </tr>\n",
       "    <tr>\n",
       "      <th>1</th>\n",
       "      <td>4.0</td>\n",
       "      <td>True</td>\n",
       "      <td>12 18, 2014</td>\n",
       "      <td>A2F5GHSXFQ0W6J</td>\n",
       "      <td>0143026860</td>\n",
       "      <td>Mary K. Byke</td>\n",
       "      <td>My  husband wanted to reading about the Negro ...</td>\n",
       "      <td>... to reading about the Negro Baseball and th...</td>\n",
       "      <td>1418860800</td>\n",
       "      <td>NaN</td>\n",
       "      <td>NaN</td>\n",
       "      <td>NaN</td>\n",
       "    </tr>\n",
       "    <tr>\n",
       "      <th>2</th>\n",
       "      <td>4.0</td>\n",
       "      <td>True</td>\n",
       "      <td>08 10, 2014</td>\n",
       "      <td>A1572GUYS7DGSR</td>\n",
       "      <td>0143026860</td>\n",
       "      <td>David G</td>\n",
       "      <td>This book was very informative, covering all a...</td>\n",
       "      <td>Worth the Read</td>\n",
       "      <td>1407628800</td>\n",
       "      <td>NaN</td>\n",
       "      <td>NaN</td>\n",
       "      <td>NaN</td>\n",
       "    </tr>\n",
       "    <tr>\n",
       "      <th>3</th>\n",
       "      <td>5.0</td>\n",
       "      <td>True</td>\n",
       "      <td>03 11, 2013</td>\n",
       "      <td>A1PSGLFK1NSVO</td>\n",
       "      <td>0143026860</td>\n",
       "      <td>TamB</td>\n",
       "      <td>I am already a baseball fan and knew a bit abo...</td>\n",
       "      <td>Good Read</td>\n",
       "      <td>1362960000</td>\n",
       "      <td>NaN</td>\n",
       "      <td>NaN</td>\n",
       "      <td>NaN</td>\n",
       "    </tr>\n",
       "    <tr>\n",
       "      <th>4</th>\n",
       "      <td>5.0</td>\n",
       "      <td>True</td>\n",
       "      <td>12 25, 2011</td>\n",
       "      <td>A6IKXKZMTKGSC</td>\n",
       "      <td>0143026860</td>\n",
       "      <td>shoecanary</td>\n",
       "      <td>This was a good story of the Black leagues. I ...</td>\n",
       "      <td>More than facts, a good story read!</td>\n",
       "      <td>1324771200</td>\n",
       "      <td>5</td>\n",
       "      <td>NaN</td>\n",
       "      <td>NaN</td>\n",
       "    </tr>\n",
       "    <tr>\n",
       "      <th>5</th>\n",
       "      <td>5.0</td>\n",
       "      <td>False</td>\n",
       "      <td>02 26, 2010</td>\n",
       "      <td>A36NF437WZLQ9E</td>\n",
       "      <td>0143026860</td>\n",
       "      <td>W. Powell</td>\n",
       "      <td>Today I gave a book about the Negro Leagues of...</td>\n",
       "      <td>The Gift of Black Baseball</td>\n",
       "      <td>1267142400</td>\n",
       "      <td>4</td>\n",
       "      <td>NaN</td>\n",
       "      <td>NaN</td>\n",
       "    </tr>\n",
       "    <tr>\n",
       "      <th>6</th>\n",
       "      <td>4.0</td>\n",
       "      <td>False</td>\n",
       "      <td>03 7, 2001</td>\n",
       "      <td>A10Q8NIFOVOHFV</td>\n",
       "      <td>0143026860</td>\n",
       "      <td>Robert S. Clay Jr.</td>\n",
       "      <td>The story of race relations in American histor...</td>\n",
       "      <td>Baseball, America, and racism.</td>\n",
       "      <td>983923200</td>\n",
       "      <td>14</td>\n",
       "      <td>NaN</td>\n",
       "      <td>NaN</td>\n",
       "    </tr>\n",
       "    <tr>\n",
       "      <th>7</th>\n",
       "      <td>1.0</td>\n",
       "      <td>True</td>\n",
       "      <td>04 10, 2017</td>\n",
       "      <td>A26PO1B2Q2G1CS</td>\n",
       "      <td>014789302X</td>\n",
       "      <td>Jacqueline Diaz</td>\n",
       "      <td>I didn't like this product it smudged all unde...</td>\n",
       "      <td>One Star</td>\n",
       "      <td>1491782400</td>\n",
       "      <td>NaN</td>\n",
       "      <td>NaN</td>\n",
       "      <td>NaN</td>\n",
       "    </tr>\n",
       "    <tr>\n",
       "      <th>8</th>\n",
       "      <td>5.0</td>\n",
       "      <td>True</td>\n",
       "      <td>01 3, 2017</td>\n",
       "      <td>AQ812VYVTC2RJ</td>\n",
       "      <td>014789302X</td>\n",
       "      <td>Khadijah Ali-Evans</td>\n",
       "      <td>I simply love the product. I appreciate print ...</td>\n",
       "      <td>Five Stars</td>\n",
       "      <td>1483401600</td>\n",
       "      <td>NaN</td>\n",
       "      <td>NaN</td>\n",
       "      <td>NaN</td>\n",
       "    </tr>\n",
       "    <tr>\n",
       "      <th>9</th>\n",
       "      <td>1.0</td>\n",
       "      <td>True</td>\n",
       "      <td>11 19, 2016</td>\n",
       "      <td>AMACNEW14ADMX</td>\n",
       "      <td>014789302X</td>\n",
       "      <td>rabiyaa123</td>\n",
       "      <td>it burns your eyes when u put it on  and very ...</td>\n",
       "      <td>i do not recommend.</td>\n",
       "      <td>1479513600</td>\n",
       "      <td>3</td>\n",
       "      <td>NaN</td>\n",
       "      <td>NaN</td>\n",
       "    </tr>\n",
       "  </tbody>\n",
       "</table>\n",
       "</div>"
      ],
      "text/plain": [
       "   overall  verified   reviewTime      reviewerID        asin  \\\n",
       "0      1.0      True  02 19, 2015  A1V6B6TNIC10QE  0143026860   \n",
       "1      4.0      True  12 18, 2014  A2F5GHSXFQ0W6J  0143026860   \n",
       "2      4.0      True  08 10, 2014  A1572GUYS7DGSR  0143026860   \n",
       "3      5.0      True  03 11, 2013   A1PSGLFK1NSVO  0143026860   \n",
       "4      5.0      True  12 25, 2011   A6IKXKZMTKGSC  0143026860   \n",
       "5      5.0     False  02 26, 2010  A36NF437WZLQ9E  0143026860   \n",
       "6      4.0     False   03 7, 2001  A10Q8NIFOVOHFV  0143026860   \n",
       "7      1.0      True  04 10, 2017  A26PO1B2Q2G1CS  014789302X   \n",
       "8      5.0      True   01 3, 2017   AQ812VYVTC2RJ  014789302X   \n",
       "9      1.0      True  11 19, 2016   AMACNEW14ADMX  014789302X   \n",
       "\n",
       "         reviewerName                                         reviewText  \\\n",
       "0   theodore j bigham                                              great   \n",
       "1        Mary K. Byke  My  husband wanted to reading about the Negro ...   \n",
       "2             David G  This book was very informative, covering all a...   \n",
       "3                TamB  I am already a baseball fan and knew a bit abo...   \n",
       "4          shoecanary  This was a good story of the Black leagues. I ...   \n",
       "5           W. Powell  Today I gave a book about the Negro Leagues of...   \n",
       "6  Robert S. Clay Jr.  The story of race relations in American histor...   \n",
       "7     Jacqueline Diaz  I didn't like this product it smudged all unde...   \n",
       "8  Khadijah Ali-Evans  I simply love the product. I appreciate print ...   \n",
       "9          rabiyaa123  it burns your eyes when u put it on  and very ...   \n",
       "\n",
       "                                             summary  unixReviewTime vote  \\\n",
       "0                                           One Star      1424304000  NaN   \n",
       "1  ... to reading about the Negro Baseball and th...      1418860800  NaN   \n",
       "2                                     Worth the Read      1407628800  NaN   \n",
       "3                                          Good Read      1362960000  NaN   \n",
       "4                More than facts, a good story read!      1324771200    5   \n",
       "5                         The Gift of Black Baseball      1267142400    4   \n",
       "6                     Baseball, America, and racism.       983923200   14   \n",
       "7                                           One Star      1491782400  NaN   \n",
       "8                                         Five Stars      1483401600  NaN   \n",
       "9                                i do not recommend.      1479513600    3   \n",
       "\n",
       "  style image  \n",
       "0   NaN   NaN  \n",
       "1   NaN   NaN  \n",
       "2   NaN   NaN  \n",
       "3   NaN   NaN  \n",
       "4   NaN   NaN  \n",
       "5   NaN   NaN  \n",
       "6   NaN   NaN  \n",
       "7   NaN   NaN  \n",
       "8   NaN   NaN  \n",
       "9   NaN   NaN  "
      ]
     },
     "execution_count": 6,
     "metadata": {},
     "output_type": "execute_result"
    }
   ],
   "source": [
    "raw_review_table = pd.DataFrame(review)\n",
    "raw_review_table.head(10)"
   ]
  },
  {
   "cell_type": "markdown",
   "metadata": {
    "id": "3_jJqC2JuuEw"
   },
   "source": [
    "### 2.3 All_Beauty.csv\n",
    "\n",
    "csv file provide by lecturer."
   ]
  },
  {
   "cell_type": "code",
   "execution_count": 7,
   "metadata": {
    "colab": {
     "base_uri": "https://localhost:8080/",
     "height": 197
    },
    "executionInfo": {
     "elapsed": 41954,
     "status": "ok",
     "timestamp": 1613748092576,
     "user": {
      "displayName": "YAP MOU EN",
      "photoUrl": "https://lh3.googleusercontent.com/a-/AOh14GhPNpBKjbLgcci9ZOGWgaMF_YjmfMYywVswsf2zkQ=s64",
      "userId": "04185711044849077922"
     },
     "user_tz": -480
    },
    "id": "XTsE1zPbuuEx",
    "outputId": "e9704c7a-0167-405e-f7b1-208dc13e51c4"
   },
   "outputs": [
    {
     "data": {
      "text/html": [
       "<div>\n",
       "<style scoped>\n",
       "    .dataframe tbody tr th:only-of-type {\n",
       "        vertical-align: middle;\n",
       "    }\n",
       "\n",
       "    .dataframe tbody tr th {\n",
       "        vertical-align: top;\n",
       "    }\n",
       "\n",
       "    .dataframe thead th {\n",
       "        text-align: right;\n",
       "    }\n",
       "</style>\n",
       "<table border=\"1\" class=\"dataframe\">\n",
       "  <thead>\n",
       "    <tr style=\"text-align: right;\">\n",
       "      <th></th>\n",
       "      <th>ProductID</th>\n",
       "      <th>UserID</th>\n",
       "      <th>Review</th>\n",
       "      <th>Date</th>\n",
       "    </tr>\n",
       "  </thead>\n",
       "  <tbody>\n",
       "    <tr>\n",
       "      <th>0</th>\n",
       "      <td>0143026860</td>\n",
       "      <td>A1V6B6TNIC10QE</td>\n",
       "      <td>1.0</td>\n",
       "      <td>1424304000</td>\n",
       "    </tr>\n",
       "    <tr>\n",
       "      <th>1</th>\n",
       "      <td>0143026860</td>\n",
       "      <td>A2F5GHSXFQ0W6J</td>\n",
       "      <td>4.0</td>\n",
       "      <td>1418860800</td>\n",
       "    </tr>\n",
       "    <tr>\n",
       "      <th>2</th>\n",
       "      <td>0143026860</td>\n",
       "      <td>A1572GUYS7DGSR</td>\n",
       "      <td>4.0</td>\n",
       "      <td>1407628800</td>\n",
       "    </tr>\n",
       "    <tr>\n",
       "      <th>3</th>\n",
       "      <td>0143026860</td>\n",
       "      <td>A1PSGLFK1NSVO</td>\n",
       "      <td>5.0</td>\n",
       "      <td>1362960000</td>\n",
       "    </tr>\n",
       "    <tr>\n",
       "      <th>4</th>\n",
       "      <td>0143026860</td>\n",
       "      <td>A6IKXKZMTKGSC</td>\n",
       "      <td>5.0</td>\n",
       "      <td>1324771200</td>\n",
       "    </tr>\n",
       "  </tbody>\n",
       "</table>\n",
       "</div>"
      ],
      "text/plain": [
       "    ProductID          UserID  Review        Date\n",
       "0  0143026860  A1V6B6TNIC10QE     1.0  1424304000\n",
       "1  0143026860  A2F5GHSXFQ0W6J     4.0  1418860800\n",
       "2  0143026860  A1572GUYS7DGSR     4.0  1407628800\n",
       "3  0143026860   A1PSGLFK1NSVO     5.0  1362960000\n",
       "4  0143026860   A6IKXKZMTKGSC     5.0  1324771200"
      ]
     },
     "execution_count": 7,
     "metadata": {},
     "output_type": "execute_result"
    }
   ],
   "source": [
    "header_names = ['ProductID', 'UserID', 'Review', 'Date']\n",
    "review_simplified = pd.read_csv(path + 'All_Beauty.csv', header=None, names=header_names)\n",
    "review_simplified.head()"
   ]
  },
  {
   "cell_type": "code",
   "execution_count": 8,
   "metadata": {
    "colab": {
     "base_uri": "https://localhost:8080/"
    },
    "executionInfo": {
     "elapsed": 41942,
     "status": "ok",
     "timestamp": 1613748092578,
     "user": {
      "displayName": "YAP MOU EN",
      "photoUrl": "https://lh3.googleusercontent.com/a-/AOh14GhPNpBKjbLgcci9ZOGWgaMF_YjmfMYywVswsf2zkQ=s64",
      "userId": "04185711044849077922"
     },
     "user_tz": -480
    },
    "id": "lqLmEUOGuuEx",
    "outputId": "ce4be6b9-7091-4802-f6c1-a7f78a886d92"
   },
   "outputs": [
    {
     "data": {
      "text/plain": [
       "(371345, 4)"
      ]
     },
     "execution_count": 8,
     "metadata": {},
     "output_type": "execute_result"
    }
   ],
   "source": [
    "review_simplified.shape"
   ]
  },
  {
   "cell_type": "markdown",
   "metadata": {
    "id": "lPRjNqAPuuEx"
   },
   "source": [
    "## 3. Data Cleaning\n",
    "\n",
    "Cleaning our data, which includes the steps below:\n",
    "\n",
    "Step 1 : Remove duplicates or irrelevant observations\n",
    "\n",
    "Step 2 : Fix structural errors\n",
    "\n",
    "Step 3 : Identify and handle outliers\n",
    "\n",
    "Step 4 : Handle missing data\n"
   ]
  },
  {
   "cell_type": "markdown",
   "metadata": {
    "id": "JIltA9EZuuEy"
   },
   "source": [
    "### 3.1 Cleaning meta_All_Beauty.json\n",
    "\n",
    "Which is now loaded into Product (a DataFrame)"
   ]
  },
  {
   "cell_type": "code",
   "execution_count": 9,
   "metadata": {},
   "outputs": [],
   "source": [
    "#raw_product_table['date'].value_counts()\n",
    "\n",
    "# category:\n",
    "# main_cat:\n",
    "\n",
    "# tech1: unreadable\n",
    "# tech2: empty\n",
    "# fit: empty\n",
    "\n",
    "# description: Length: 13751, [] 17773, but not in use\n",
    "# image: Length: 15737, but hard to identify\n",
    "# feature: Length: 230, but not in use\n",
    "# date: []32873, too much empty row, and the date is various from 2004-2019"
   ]
  },
  {
   "cell_type": "code",
   "execution_count": 10,
   "metadata": {
    "id": "LveG7HnvuuEy"
   },
   "outputs": [],
   "source": [
    "#drop irrelevant observations\n",
    "product_table = raw_product_table.drop(['category','tech1','description', 'fit','image','tech2','feature','main_cat','similar_item','date'], axis=1)\n"
   ]
  },
  {
   "cell_type": "code",
   "execution_count": 11,
   "metadata": {
    "colab": {
     "base_uri": "https://localhost:8080/"
    },
    "executionInfo": {
     "elapsed": 41933,
     "status": "ok",
     "timestamp": 1613748092580,
     "user": {
      "displayName": "YAP MOU EN",
      "photoUrl": "https://lh3.googleusercontent.com/a-/AOh14GhPNpBKjbLgcci9ZOGWgaMF_YjmfMYywVswsf2zkQ=s64",
      "userId": "04185711044849077922"
     },
     "user_tz": -480
    },
    "id": "45HzndYluuEy",
    "outputId": "3f7d43de-4303-41c7-9db1-ee619e25be9d"
   },
   "outputs": [
    {
     "name": "stdout",
     "output_type": "stream",
     "text": [
      "437\n"
     ]
    }
   ],
   "source": [
    "# some ASIN inside details has space after \n",
    "# example  'ASIN: ' vs 'ASIN:'\n",
    "# but going to drop 'details' because didn't use it\n",
    "# this is to check whether the asin and the ASIN inside details is correct\n",
    "\n",
    "count = 0\n",
    "index_to_drop = [] \n",
    "\n",
    "for i in range(len(product_table.index)):\n",
    "    dct = product_table['details'].iloc[i]\n",
    "    if 'ASIN: ' in dct: \n",
    "        asin = dct['ASIN: ']\n",
    "    elif 'ASIN:' in dct:\n",
    "        asin = dct['ASIN:']\n",
    "    if asin != product_table['asin'].iloc[i]:\n",
    "        index_to_drop.append(i)\n",
    "        count += 1\n",
    "        \n",
    "print(count)"
   ]
  },
  {
   "cell_type": "code",
   "execution_count": 12,
   "metadata": {
    "colab": {
     "base_uri": "https://localhost:8080/"
    },
    "executionInfo": {
     "elapsed": 43226,
     "status": "ok",
     "timestamp": 1613748093884,
     "user": {
      "displayName": "YAP MOU EN",
      "photoUrl": "https://lh3.googleusercontent.com/a-/AOh14GhPNpBKjbLgcci9ZOGWgaMF_YjmfMYywVswsf2zkQ=s64",
      "userId": "04185711044849077922"
     },
     "user_tz": -480
    },
    "id": "aUooys8NuuEz",
    "outputId": "f65ac4c2-e013-4d2a-8274-d69bd0ab7378"
   },
   "outputs": [
    {
     "data": {
      "text/plain": [
       "(32487, 6)"
      ]
     },
     "execution_count": 12,
     "metadata": {},
     "output_type": "execute_result"
    }
   ],
   "source": [
    "##drop irrelevant observations\n",
    "product_table = raw_product_table.drop(['category','tech1','description','fit','image','tech2','brand','feature','main_cat','similar_item','date','details'],axis = 1)\n",
    "\n",
    "##drop duplicates\n",
    "#no duplicate asins and row\n",
    "product_table.drop_duplicates(['asin'],inplace = True)\n",
    "product_table.reset_index(drop=True, inplace=True)\n",
    "\n",
    "##fix structural errors\n",
    "\n",
    "#for column 'rank' \n",
    "#remove uneccessary symbol like comma ',' and words\n",
    "#convert the string into integer \n",
    "product_table['rank'].replace(',','', regex=True, inplace=True)\n",
    "product_table['rank'] = product_table['rank'].str.extract('(\\d+)')\n",
    "\n",
    "#for column 'price'\n",
    "#if 'price' don't start with $ or has '-' means null value, fillna with 'unknown'\n",
    "#remove uneccessary symbol like comma ',' and '$'\n",
    "product_table.loc[product_table[\"price\"].str[0] != \"$\", \"price\"] = \"unknown\"\n",
    "product_table.loc[product_table[\"price\"].str.contains('-'), \"price\"] = \"unknown\"\n",
    "product_table['price'].replace(\"\\$\",\"\", regex=True, inplace=True)\n",
    "product_table['price'].replace(',','', regex=True, inplace=True)\n",
    "\n",
    "##deal with missing data\n",
    "#missing data in 'rank' and 'price'\n",
    "#product_table.replace('\\[]','', regex=True, inplace=True)\n",
    "product_table['rank'].fillna(0,inplace = True)\n",
    "product_table['price'].replace(\"unknown\",0, regex=True, inplace=True)\n",
    "product_table.fillna(\"unknown\",inplace = True)\n",
    "\n",
    "##changing data type\n",
    "product_table['rank']= product_table['rank'].astype(int)\n",
    "product_table['price'] = product_table['price'].apply(pd.to_numeric)\n",
    "\n",
    "##Identify and handle outliers\n",
    "z_scores = stats.zscore(pd.DataFrame(product_table['rank']))\n",
    "abs_z_scores = np.abs(z_scores)\n",
    "outlier = (abs_z_scores > 3).all(axis=1)\n",
    "product_table.drop(product_table[outlier].index, inplace = True)\n",
    "\n",
    "product_table.shape"
   ]
  },
  {
   "cell_type": "code",
   "execution_count": 13,
   "metadata": {
    "colab": {
     "base_uri": "https://localhost:8080/"
    },
    "executionInfo": {
     "elapsed": 43216,
     "status": "ok",
     "timestamp": 1613748093885,
     "user": {
      "displayName": "YAP MOU EN",
      "photoUrl": "https://lh3.googleusercontent.com/a-/AOh14GhPNpBKjbLgcci9ZOGWgaMF_YjmfMYywVswsf2zkQ=s64",
      "userId": "04185711044849077922"
     },
     "user_tz": -480
    },
    "id": "uDGxKKP8uuE0",
    "outputId": "f5e05a6c-c14a-4b5d-d2e7-17332f3bd83f"
   },
   "outputs": [
    {
     "data": {
      "text/plain": [
       "B00NSCSDQK    1\n",
       "B00VV3UV2W    1\n",
       "B013G0IQLA    1\n",
       "B01D0Y923S    1\n",
       "B0199HINB2    1\n",
       "             ..\n",
       "B00F8L89OA    1\n",
       "B00C4VAYRM    1\n",
       "B00NVJSQ3A    1\n",
       "B0041LJ410    1\n",
       "B00CAXOZ1U    1\n",
       "Name: asin, Length: 32487, dtype: int64"
      ]
     },
     "execution_count": 13,
     "metadata": {},
     "output_type": "execute_result"
    }
   ],
   "source": [
    "unique = product_table[\"asin\"].value_counts()\n",
    "unique"
   ]
  },
  {
   "cell_type": "markdown",
   "metadata": {
    "id": "oL7hhRdLuuE0"
   },
   "source": [
    "### 3.2 Cleaning Review_Beauty.json\n",
    "Which is now loaded into review (a DataFrame)"
   ]
  },
  {
   "cell_type": "code",
   "execution_count": 14,
   "metadata": {
    "colab": {
     "base_uri": "https://localhost:8080/",
     "height": 407
    },
    "executionInfo": {
     "elapsed": 46277,
     "status": "ok",
     "timestamp": 1613748096954,
     "user": {
      "displayName": "YAP MOU EN",
      "photoUrl": "https://lh3.googleusercontent.com/a-/AOh14GhPNpBKjbLgcci9ZOGWgaMF_YjmfMYywVswsf2zkQ=s64",
      "userId": "04185711044849077922"
     },
     "user_tz": -480
    },
    "id": "MaFhC7amuuE0",
    "outputId": "23a4c9eb-71c3-4be6-d248-996f19144474"
   },
   "outputs": [
    {
     "data": {
      "text/html": [
       "<div>\n",
       "<style scoped>\n",
       "    .dataframe tbody tr th:only-of-type {\n",
       "        vertical-align: middle;\n",
       "    }\n",
       "\n",
       "    .dataframe tbody tr th {\n",
       "        vertical-align: top;\n",
       "    }\n",
       "\n",
       "    .dataframe thead th {\n",
       "        text-align: right;\n",
       "    }\n",
       "</style>\n",
       "<table border=\"1\" class=\"dataframe\">\n",
       "  <thead>\n",
       "    <tr style=\"text-align: right;\">\n",
       "      <th></th>\n",
       "      <th>year</th>\n",
       "      <th>month</th>\n",
       "      <th>day</th>\n",
       "      <th>overall</th>\n",
       "      <th>verified</th>\n",
       "      <th>reviewerID</th>\n",
       "      <th>asin</th>\n",
       "      <th>unixReviewTime</th>\n",
       "      <th>vote</th>\n",
       "    </tr>\n",
       "  </thead>\n",
       "  <tbody>\n",
       "    <tr>\n",
       "      <th>0</th>\n",
       "      <td>2015</td>\n",
       "      <td>02</td>\n",
       "      <td>19</td>\n",
       "      <td>1.0</td>\n",
       "      <td>True</td>\n",
       "      <td>A1V6B6TNIC10QE</td>\n",
       "      <td>0143026860</td>\n",
       "      <td>1424304000</td>\n",
       "      <td>0</td>\n",
       "    </tr>\n",
       "    <tr>\n",
       "      <th>1</th>\n",
       "      <td>2014</td>\n",
       "      <td>12</td>\n",
       "      <td>18</td>\n",
       "      <td>4.0</td>\n",
       "      <td>True</td>\n",
       "      <td>A2F5GHSXFQ0W6J</td>\n",
       "      <td>0143026860</td>\n",
       "      <td>1418860800</td>\n",
       "      <td>0</td>\n",
       "    </tr>\n",
       "    <tr>\n",
       "      <th>2</th>\n",
       "      <td>2014</td>\n",
       "      <td>08</td>\n",
       "      <td>10</td>\n",
       "      <td>4.0</td>\n",
       "      <td>True</td>\n",
       "      <td>A1572GUYS7DGSR</td>\n",
       "      <td>0143026860</td>\n",
       "      <td>1407628800</td>\n",
       "      <td>0</td>\n",
       "    </tr>\n",
       "    <tr>\n",
       "      <th>3</th>\n",
       "      <td>2013</td>\n",
       "      <td>03</td>\n",
       "      <td>11</td>\n",
       "      <td>5.0</td>\n",
       "      <td>True</td>\n",
       "      <td>A1PSGLFK1NSVO</td>\n",
       "      <td>0143026860</td>\n",
       "      <td>1362960000</td>\n",
       "      <td>0</td>\n",
       "    </tr>\n",
       "    <tr>\n",
       "      <th>4</th>\n",
       "      <td>2011</td>\n",
       "      <td>12</td>\n",
       "      <td>25</td>\n",
       "      <td>5.0</td>\n",
       "      <td>True</td>\n",
       "      <td>A6IKXKZMTKGSC</td>\n",
       "      <td>0143026860</td>\n",
       "      <td>1324771200</td>\n",
       "      <td>5</td>\n",
       "    </tr>\n",
       "    <tr>\n",
       "      <th>...</th>\n",
       "      <td>...</td>\n",
       "      <td>...</td>\n",
       "      <td>...</td>\n",
       "      <td>...</td>\n",
       "      <td>...</td>\n",
       "      <td>...</td>\n",
       "      <td>...</td>\n",
       "      <td>...</td>\n",
       "      <td>...</td>\n",
       "    </tr>\n",
       "    <tr>\n",
       "      <th>362398</th>\n",
       "      <td>2017</td>\n",
       "      <td>07</td>\n",
       "      <td>20</td>\n",
       "      <td>1.0</td>\n",
       "      <td>True</td>\n",
       "      <td>A202DCI7TV1022</td>\n",
       "      <td>B01HJEGTYK</td>\n",
       "      <td>1500508800</td>\n",
       "      <td>0</td>\n",
       "    </tr>\n",
       "    <tr>\n",
       "      <th>362399</th>\n",
       "      <td>2017</td>\n",
       "      <td>03</td>\n",
       "      <td>16</td>\n",
       "      <td>5.0</td>\n",
       "      <td>True</td>\n",
       "      <td>A3FSOR5IJOFIBE</td>\n",
       "      <td>B01HJEGTYK</td>\n",
       "      <td>1489622400</td>\n",
       "      <td>34</td>\n",
       "    </tr>\n",
       "    <tr>\n",
       "      <th>362400</th>\n",
       "      <td>2017</td>\n",
       "      <td>03</td>\n",
       "      <td>1</td>\n",
       "      <td>5.0</td>\n",
       "      <td>True</td>\n",
       "      <td>A1B5DK6CTP2P24</td>\n",
       "      <td>B01HJEGTYK</td>\n",
       "      <td>1488326400</td>\n",
       "      <td>46</td>\n",
       "    </tr>\n",
       "    <tr>\n",
       "      <th>362401</th>\n",
       "      <td>2017</td>\n",
       "      <td>02</td>\n",
       "      <td>21</td>\n",
       "      <td>2.0</td>\n",
       "      <td>True</td>\n",
       "      <td>A23OUYS5IRMJS9</td>\n",
       "      <td>B01HJEGTYK</td>\n",
       "      <td>1487635200</td>\n",
       "      <td>0</td>\n",
       "    </tr>\n",
       "    <tr>\n",
       "      <th>362402</th>\n",
       "      <td>2016</td>\n",
       "      <td>12</td>\n",
       "      <td>15</td>\n",
       "      <td>2.0</td>\n",
       "      <td>True</td>\n",
       "      <td>A24KQ9RVU81L87</td>\n",
       "      <td>B01HJEGTYK</td>\n",
       "      <td>1481760000</td>\n",
       "      <td>0</td>\n",
       "    </tr>\n",
       "  </tbody>\n",
       "</table>\n",
       "<p>362403 rows × 9 columns</p>\n",
       "</div>"
      ],
      "text/plain": [
       "        year month day  overall  verified      reviewerID        asin  \\\n",
       "0       2015    02  19      1.0      True  A1V6B6TNIC10QE  0143026860   \n",
       "1       2014    12  18      4.0      True  A2F5GHSXFQ0W6J  0143026860   \n",
       "2       2014    08  10      4.0      True  A1572GUYS7DGSR  0143026860   \n",
       "3       2013    03  11      5.0      True   A1PSGLFK1NSVO  0143026860   \n",
       "4       2011    12  25      5.0      True   A6IKXKZMTKGSC  0143026860   \n",
       "...      ...   ...  ..      ...       ...             ...         ...   \n",
       "362398  2017    07  20      1.0      True  A202DCI7TV1022  B01HJEGTYK   \n",
       "362399  2017    03  16      5.0      True  A3FSOR5IJOFIBE  B01HJEGTYK   \n",
       "362400  2017    03   1      5.0      True  A1B5DK6CTP2P24  B01HJEGTYK   \n",
       "362401  2017    02  21      2.0      True  A23OUYS5IRMJS9  B01HJEGTYK   \n",
       "362402  2016    12  15      2.0      True  A24KQ9RVU81L87  B01HJEGTYK   \n",
       "\n",
       "        unixReviewTime  vote  \n",
       "0           1424304000     0  \n",
       "1           1418860800     0  \n",
       "2           1407628800     0  \n",
       "3           1362960000     0  \n",
       "4           1324771200     5  \n",
       "...                ...   ...  \n",
       "362398      1500508800     0  \n",
       "362399      1489622400    34  \n",
       "362400      1488326400    46  \n",
       "362401      1487635200     0  \n",
       "362402      1481760000     0  \n",
       "\n",
       "[362403 rows x 9 columns]"
      ]
     },
     "execution_count": 14,
     "metadata": {},
     "output_type": "execute_result"
    }
   ],
   "source": [
    "##drop irrelevant observations\n",
    "review_table = raw_review_table.drop(['reviewerName','reviewText','summary','style','image'],axis = 1)\n",
    "\n",
    "##drop duplicates\n",
    "review_table.drop_duplicates(inplace = True)\n",
    "review_table.reset_index(drop=True, inplace=True)\n",
    "\n",
    "##fix structural errors\n",
    "#for column 'vote'\n",
    "#remove uneccessary symbol ','\n",
    "review_table['vote'].replace(',','', regex=True, inplace=True)\n",
    "test_review_table = review_table.copy(deep=True)\n",
    "\n",
    "##deal with missing data\n",
    "review_table['vote'].fillna(0,inplace = True)\n",
    "review_table.fillna('unknown',inplace = True)\n",
    "\n",
    "##changing data type\n",
    "review_table['vote'] = review_table['vote'].astype(int)\n",
    "\n",
    "#separate reviewTime into three different columns\n",
    "review_table['reviewTime'].replace(',','', regex=True, inplace=True)\n",
    "date = review_table['reviewTime'].str.split(' ', n=2,expand = True)\n",
    "date.columns =['month','day','year']\n",
    "\n",
    "#drop reviewTime column\n",
    "review_table.drop(['reviewTime'],axis = 1,inplace = True)\n",
    "\n",
    "#concat both of the tables\n",
    "review_table = pd.concat([review_table,date], axis=1)\n",
    "\n",
    "#rearrange sequence of the columns\n",
    "cols = review_table.columns.tolist()\n",
    "cols = cols[-1:] + cols[-3:-1] + cols[:-3]\n",
    "review_table = review_table[cols]\n",
    "\n",
    "review_table"
   ]
  },
  {
   "cell_type": "markdown",
   "metadata": {
    "id": "VWE4eGg378ph"
   },
   "source": [
    "#### 3.2.1 test_review_table['vote']\n",
    "\n",
    "What 'vote' means? Check out\n",
    "https://www.amazon.com/review/top-reviewer-faq.html\n",
    "\n",
    "Summary: if people found your review helpful, they can give you a vote, if people found your review no helpful and decide to downvote you, your vote will get substracted\n",
    "\n",
    "This section intend to\n",
    "1. Check how many unkown\n",
    "2. check max and min\n",
    "3. check trend"
   ]
  },
  {
   "cell_type": "code",
   "execution_count": 15,
   "metadata": {
    "colab": {
     "base_uri": "https://localhost:8080/",
     "height": 137
    },
    "executionInfo": {
     "elapsed": 46264,
     "status": "ok",
     "timestamp": 1613748096956,
     "user": {
      "displayName": "YAP MOU EN",
      "photoUrl": "https://lh3.googleusercontent.com/a-/AOh14GhPNpBKjbLgcci9ZOGWgaMF_YjmfMYywVswsf2zkQ=s64",
      "userId": "04185711044849077922"
     },
     "user_tz": -480
    },
    "id": "vZMBrU7i0gfv",
    "outputId": "97d3f568-0d60-4060-c141-add15476e79e"
   },
   "outputs": [
    {
     "data": {
      "text/plain": [
       "0       311899\n",
       "2        19094\n",
       "3         9430\n",
       "4         5399\n",
       "5         3490\n",
       "         ...  \n",
       "1829         2\n",
       "1870         1\n",
       "2074         1\n",
       "2713         1\n",
       "2721         1\n",
       "Name: vote, Length: 267, dtype: int64"
      ]
     },
     "execution_count": 15,
     "metadata": {},
     "output_type": "execute_result"
    }
   ],
   "source": [
    "#This test_review_table is deep copied from review_table before processing 'vote'\n",
    "# 362403 (total row): 50504 (vote notnull) & 311899(vote isnull)\n",
    "\n",
    "review_table['vote'].value_counts().sort_index()"
   ]
  },
  {
   "cell_type": "markdown",
   "metadata": {},
   "source": [
    "#### 3.2.2 Filter review_table by year\n",
    "\n",
    "<br>Website for unix time conversion: https://www.epochconverter.com/<br/>\n",
    "Check out the 'start and end of year'\n",
    "<br>Categorize time into different range<br/>\n",
    "1. 946684800\tSaturday, January 1, 2000 12:00:00AM  - 978307199\tSunday, December 31, 2000 11:59:59 PM\n",
    "2. 978307200\tMonday, January 1, 2001 12:00:00 AM   - 1009843199\tMonday, December 31, 2001 11:59:59 PM\n",
    "3. 1009843200\tTuesday, January 1, 2002 12:00:00 AM  - 1041379199\tTuesday, December 31, 2002 11:59:59 PM\n",
    "4. 1041379200\tWednesday, January 1, 2003 12:00:00 AM - 1072915199\tWednesday, December 31, 2003 11:59:59 PM\n",
    "5. 1072915200\tThursday, January 1, 2004 12:00:00 AM - 1104537599\tFriday, December 31, 2004 11:59:59 PM\n",
    "6. 1104537600\tSaturday, January 1, 2005 12:00:00 AM - 1136073599\tSaturday, December 31, 2005 11:59:59 PM\n",
    "7. 1136073600\tSunday, January 1, 2006 12:00:00 AM   - 1167609599\tSunday, December 31, 2006 11:59:59 PM\n",
    "8. 1167609600\tMonday, January 1, 2007 12:00:00 AM   - 1199145599\tMonday, December 31, 2007 11:59:59 PM\n",
    "9. 1199145600\tTuesday, January 1, 2008 12:00:00 AM  - 1230767999\tWednesday, December 31, 2008 11:59:59 PM\n",
    "10. 1230768000\tThursday, January 1, 2009 12:00:00 AM - 1262303999\tThursday, December 31, 2009 11:59:59 PM"
   ]
  },
  {
   "cell_type": "code",
   "execution_count": 16,
   "metadata": {},
   "outputs": [
    {
     "data": {
      "text/plain": [
       "2000       13\n",
       "2001       66\n",
       "2002       78\n",
       "2003      119\n",
       "2004      290\n",
       "2005      560\n",
       "2006      945\n",
       "2007     3055\n",
       "2008     3613\n",
       "2009     3946\n",
       "2010     4961\n",
       "2011     6385\n",
       "2012     9212\n",
       "2013    25408\n",
       "2014    37862\n",
       "2015    67676\n",
       "2016    99627\n",
       "2017    68630\n",
       "2018    29957\n",
       "Name: year, dtype: int64"
      ]
     },
     "execution_count": 16,
     "metadata": {},
     "output_type": "execute_result"
    }
   ],
   "source": [
    "review_table['year'].value_counts().sort_index()"
   ]
  },
  {
   "cell_type": "code",
   "execution_count": 17,
   "metadata": {},
   "outputs": [
    {
     "data": {
      "text/plain": [
       "947462400     1\n",
       "957571200     1\n",
       "959990400     1\n",
       "972777600     1\n",
       "973987200     1\n",
       "             ..\n",
       "1538092800    4\n",
       "1538179200    5\n",
       "1538265600    3\n",
       "1538352000    2\n",
       "1538438400    1\n",
       "Name: unixReviewTime, Length: 5288, dtype: int64"
      ]
     },
     "execution_count": 17,
     "metadata": {},
     "output_type": "execute_result"
    }
   ],
   "source": [
    "review_table['unixReviewTime'].value_counts().sort_index()"
   ]
  },
  {
   "cell_type": "markdown",
   "metadata": {
    "id": "Yn-2qBhsuuE1"
   },
   "source": [
    "## 4. Merging\n",
    "Merge review_table with product_table"
   ]
  },
  {
   "cell_type": "markdown",
   "metadata": {
    "id": "DFFIbg8dlePX"
   },
   "source": [
    "### 4.1 Merging review_table and product_table\n",
    "Merging the two tables."
   ]
  },
  {
   "cell_type": "code",
   "execution_count": 18,
   "metadata": {
    "colab": {
     "base_uri": "https://localhost:8080/",
     "height": 137
    },
    "executionInfo": {
     "elapsed": 49067,
     "status": "ok",
     "timestamp": 1613748099812,
     "user": {
      "displayName": "YAP MOU EN",
      "photoUrl": "https://lh3.googleusercontent.com/a-/AOh14GhPNpBKjbLgcci9ZOGWgaMF_YjmfMYywVswsf2zkQ=s64",
      "userId": "04185711044849077922"
     },
     "user_tz": -480
    },
    "id": "z1eLlF7ZuuE1",
    "outputId": "13c51b74-b53f-4cb2-b940-066b9f6bf726"
   },
   "outputs": [
    {
     "data": {
      "text/html": [
       "<div>\n",
       "<style scoped>\n",
       "    .dataframe tbody tr th:only-of-type {\n",
       "        vertical-align: middle;\n",
       "    }\n",
       "\n",
       "    .dataframe tbody tr th {\n",
       "        vertical-align: top;\n",
       "    }\n",
       "\n",
       "    .dataframe thead th {\n",
       "        text-align: right;\n",
       "    }\n",
       "</style>\n",
       "<table border=\"1\" class=\"dataframe\">\n",
       "  <thead>\n",
       "    <tr style=\"text-align: right;\">\n",
       "      <th></th>\n",
       "      <th>title</th>\n",
       "      <th>also_buy</th>\n",
       "      <th>rank</th>\n",
       "      <th>also_view</th>\n",
       "      <th>price</th>\n",
       "      <th>year</th>\n",
       "      <th>month</th>\n",
       "      <th>day</th>\n",
       "      <th>overall</th>\n",
       "      <th>verified</th>\n",
       "      <th>reviewerID</th>\n",
       "      <th>unixReviewTime</th>\n",
       "      <th>vote</th>\n",
       "      <th>_merge</th>\n",
       "    </tr>\n",
       "    <tr>\n",
       "      <th>asin</th>\n",
       "      <th></th>\n",
       "      <th></th>\n",
       "      <th></th>\n",
       "      <th></th>\n",
       "      <th></th>\n",
       "      <th></th>\n",
       "      <th></th>\n",
       "      <th></th>\n",
       "      <th></th>\n",
       "      <th></th>\n",
       "      <th></th>\n",
       "      <th></th>\n",
       "      <th></th>\n",
       "      <th></th>\n",
       "    </tr>\n",
       "  </thead>\n",
       "  <tbody>\n",
       "    <tr>\n",
       "      <th>B000NICBSI</th>\n",
       "      <td>Camille Beckman Glycerin Hand Therapy, English...</td>\n",
       "      <td>[]</td>\n",
       "      <td>1568655.0</td>\n",
       "      <td>[]</td>\n",
       "      <td>0.0</td>\n",
       "      <td>NaN</td>\n",
       "      <td>NaN</td>\n",
       "      <td>NaN</td>\n",
       "      <td>NaN</td>\n",
       "      <td>NaN</td>\n",
       "      <td>NaN</td>\n",
       "      <td>NaN</td>\n",
       "      <td>NaN</td>\n",
       "      <td>left_only</td>\n",
       "    </tr>\n",
       "    <tr>\n",
       "      <th>B01HHYC4UA</th>\n",
       "      <td>BabyMax Professional Tourmaline Ceramic Automa...</td>\n",
       "      <td>[]</td>\n",
       "      <td>1264645.0</td>\n",
       "      <td>[]</td>\n",
       "      <td>0.0</td>\n",
       "      <td>NaN</td>\n",
       "      <td>NaN</td>\n",
       "      <td>NaN</td>\n",
       "      <td>NaN</td>\n",
       "      <td>NaN</td>\n",
       "      <td>NaN</td>\n",
       "      <td>NaN</td>\n",
       "      <td>NaN</td>\n",
       "      <td>left_only</td>\n",
       "    </tr>\n",
       "  </tbody>\n",
       "</table>\n",
       "</div>"
      ],
      "text/plain": [
       "                                                        title also_buy  \\\n",
       "asin                                                                     \n",
       "B000NICBSI  Camille Beckman Glycerin Hand Therapy, English...       []   \n",
       "B01HHYC4UA  BabyMax Professional Tourmaline Ceramic Automa...       []   \n",
       "\n",
       "                 rank also_view  price year month  day  overall verified  \\\n",
       "asin                                                                       \n",
       "B000NICBSI  1568655.0        []    0.0  NaN   NaN  NaN      NaN      NaN   \n",
       "B01HHYC4UA  1264645.0        []    0.0  NaN   NaN  NaN      NaN      NaN   \n",
       "\n",
       "           reviewerID  unixReviewTime  vote     _merge  \n",
       "asin                                                    \n",
       "B000NICBSI        NaN             NaN   NaN  left_only  \n",
       "B01HHYC4UA        NaN             NaN   NaN  left_only  "
      ]
     },
     "execution_count": 18,
     "metadata": {},
     "output_type": "execute_result"
    }
   ],
   "source": [
    "# Outer merge of review_table & product_table\n",
    "dfMergedOuter = (pd.merge(product_table,review_table, on='asin', how='outer', indicator=True)).set_index('asin')\n",
    "\n",
    "# Outer left (product_table), to find out the product that doesn't have any review\n",
    "dfMergedOuterProduct=dfMergedOuter[dfMergedOuter['_merge']=='left_only']\n",
    "dfMergedOuterProduct"
   ]
  },
  {
   "cell_type": "code",
   "execution_count": 19,
   "metadata": {
    "colab": {
     "base_uri": "https://localhost:8080/",
     "height": 407
    },
    "executionInfo": {
     "elapsed": 50689,
     "status": "ok",
     "timestamp": 1613748101449,
     "user": {
      "displayName": "YAP MOU EN",
      "photoUrl": "https://lh3.googleusercontent.com/a-/AOh14GhPNpBKjbLgcci9ZOGWgaMF_YjmfMYywVswsf2zkQ=s64",
      "userId": "04185711044849077922"
     },
     "user_tz": -480
    },
    "id": "k68LP1GQuuE2",
    "outputId": "cb9ec139-7528-4865-cc92-b9f38911c468"
   },
   "outputs": [
    {
     "data": {
      "text/html": [
       "<div>\n",
       "<style scoped>\n",
       "    .dataframe tbody tr th:only-of-type {\n",
       "        vertical-align: middle;\n",
       "    }\n",
       "\n",
       "    .dataframe tbody tr th {\n",
       "        vertical-align: top;\n",
       "    }\n",
       "\n",
       "    .dataframe thead th {\n",
       "        text-align: right;\n",
       "    }\n",
       "</style>\n",
       "<table border=\"1\" class=\"dataframe\">\n",
       "  <thead>\n",
       "    <tr style=\"text-align: right;\">\n",
       "      <th></th>\n",
       "      <th>year</th>\n",
       "      <th>month</th>\n",
       "      <th>day</th>\n",
       "      <th>overall</th>\n",
       "      <th>verified</th>\n",
       "      <th>reviewerID</th>\n",
       "      <th>asin</th>\n",
       "      <th>unixReviewTime</th>\n",
       "      <th>vote</th>\n",
       "      <th>title</th>\n",
       "      <th>also_buy</th>\n",
       "      <th>rank</th>\n",
       "      <th>also_view</th>\n",
       "      <th>price</th>\n",
       "      <th>_merge</th>\n",
       "    </tr>\n",
       "  </thead>\n",
       "  <tbody>\n",
       "    <tr>\n",
       "      <th>0</th>\n",
       "      <td>2015</td>\n",
       "      <td>02</td>\n",
       "      <td>19</td>\n",
       "      <td>1.0</td>\n",
       "      <td>True</td>\n",
       "      <td>A1V6B6TNIC10QE</td>\n",
       "      <td>0143026860</td>\n",
       "      <td>1.424304e+09</td>\n",
       "      <td>0.0</td>\n",
       "      <td>NaN</td>\n",
       "      <td>NaN</td>\n",
       "      <td>NaN</td>\n",
       "      <td>NaN</td>\n",
       "      <td>NaN</td>\n",
       "      <td>left_only</td>\n",
       "    </tr>\n",
       "    <tr>\n",
       "      <th>1</th>\n",
       "      <td>2014</td>\n",
       "      <td>12</td>\n",
       "      <td>18</td>\n",
       "      <td>4.0</td>\n",
       "      <td>True</td>\n",
       "      <td>A2F5GHSXFQ0W6J</td>\n",
       "      <td>0143026860</td>\n",
       "      <td>1.418861e+09</td>\n",
       "      <td>0.0</td>\n",
       "      <td>NaN</td>\n",
       "      <td>NaN</td>\n",
       "      <td>NaN</td>\n",
       "      <td>NaN</td>\n",
       "      <td>NaN</td>\n",
       "      <td>left_only</td>\n",
       "    </tr>\n",
       "    <tr>\n",
       "      <th>2</th>\n",
       "      <td>2014</td>\n",
       "      <td>08</td>\n",
       "      <td>10</td>\n",
       "      <td>4.0</td>\n",
       "      <td>True</td>\n",
       "      <td>A1572GUYS7DGSR</td>\n",
       "      <td>0143026860</td>\n",
       "      <td>1.407629e+09</td>\n",
       "      <td>0.0</td>\n",
       "      <td>NaN</td>\n",
       "      <td>NaN</td>\n",
       "      <td>NaN</td>\n",
       "      <td>NaN</td>\n",
       "      <td>NaN</td>\n",
       "      <td>left_only</td>\n",
       "    </tr>\n",
       "    <tr>\n",
       "      <th>3</th>\n",
       "      <td>2013</td>\n",
       "      <td>03</td>\n",
       "      <td>11</td>\n",
       "      <td>5.0</td>\n",
       "      <td>True</td>\n",
       "      <td>A1PSGLFK1NSVO</td>\n",
       "      <td>0143026860</td>\n",
       "      <td>1.362960e+09</td>\n",
       "      <td>0.0</td>\n",
       "      <td>NaN</td>\n",
       "      <td>NaN</td>\n",
       "      <td>NaN</td>\n",
       "      <td>NaN</td>\n",
       "      <td>NaN</td>\n",
       "      <td>left_only</td>\n",
       "    </tr>\n",
       "    <tr>\n",
       "      <th>4</th>\n",
       "      <td>2011</td>\n",
       "      <td>12</td>\n",
       "      <td>25</td>\n",
       "      <td>5.0</td>\n",
       "      <td>True</td>\n",
       "      <td>A6IKXKZMTKGSC</td>\n",
       "      <td>0143026860</td>\n",
       "      <td>1.324771e+09</td>\n",
       "      <td>5.0</td>\n",
       "      <td>NaN</td>\n",
       "      <td>NaN</td>\n",
       "      <td>NaN</td>\n",
       "      <td>NaN</td>\n",
       "      <td>NaN</td>\n",
       "      <td>left_only</td>\n",
       "    </tr>\n",
       "    <tr>\n",
       "      <th>...</th>\n",
       "      <td>...</td>\n",
       "      <td>...</td>\n",
       "      <td>...</td>\n",
       "      <td>...</td>\n",
       "      <td>...</td>\n",
       "      <td>...</td>\n",
       "      <td>...</td>\n",
       "      <td>...</td>\n",
       "      <td>...</td>\n",
       "      <td>...</td>\n",
       "      <td>...</td>\n",
       "      <td>...</td>\n",
       "      <td>...</td>\n",
       "      <td>...</td>\n",
       "      <td>...</td>\n",
       "    </tr>\n",
       "    <tr>\n",
       "      <th>340232</th>\n",
       "      <td>2017</td>\n",
       "      <td>08</td>\n",
       "      <td>13</td>\n",
       "      <td>5.0</td>\n",
       "      <td>True</td>\n",
       "      <td>AN3J2HI45DREW</td>\n",
       "      <td>B013NEZMZC</td>\n",
       "      <td>1.502582e+09</td>\n",
       "      <td>0.0</td>\n",
       "      <td>NaN</td>\n",
       "      <td>NaN</td>\n",
       "      <td>NaN</td>\n",
       "      <td>NaN</td>\n",
       "      <td>NaN</td>\n",
       "      <td>left_only</td>\n",
       "    </tr>\n",
       "    <tr>\n",
       "      <th>340233</th>\n",
       "      <td>2017</td>\n",
       "      <td>03</td>\n",
       "      <td>28</td>\n",
       "      <td>5.0</td>\n",
       "      <td>True</td>\n",
       "      <td>A24NA9JMU957GY</td>\n",
       "      <td>B013NEZMZC</td>\n",
       "      <td>1.490659e+09</td>\n",
       "      <td>0.0</td>\n",
       "      <td>NaN</td>\n",
       "      <td>NaN</td>\n",
       "      <td>NaN</td>\n",
       "      <td>NaN</td>\n",
       "      <td>NaN</td>\n",
       "      <td>left_only</td>\n",
       "    </tr>\n",
       "    <tr>\n",
       "      <th>340234</th>\n",
       "      <td>2017</td>\n",
       "      <td>03</td>\n",
       "      <td>15</td>\n",
       "      <td>5.0</td>\n",
       "      <td>True</td>\n",
       "      <td>A2B3AIG0UTSOJB</td>\n",
       "      <td>B013NEZMZC</td>\n",
       "      <td>1.489536e+09</td>\n",
       "      <td>0.0</td>\n",
       "      <td>NaN</td>\n",
       "      <td>NaN</td>\n",
       "      <td>NaN</td>\n",
       "      <td>NaN</td>\n",
       "      <td>NaN</td>\n",
       "      <td>left_only</td>\n",
       "    </tr>\n",
       "    <tr>\n",
       "      <th>340235</th>\n",
       "      <td>2016</td>\n",
       "      <td>10</td>\n",
       "      <td>1</td>\n",
       "      <td>5.0</td>\n",
       "      <td>True</td>\n",
       "      <td>A2TEBM1KX3OQHZ</td>\n",
       "      <td>B013NEZMZC</td>\n",
       "      <td>1.475280e+09</td>\n",
       "      <td>0.0</td>\n",
       "      <td>NaN</td>\n",
       "      <td>NaN</td>\n",
       "      <td>NaN</td>\n",
       "      <td>NaN</td>\n",
       "      <td>NaN</td>\n",
       "      <td>left_only</td>\n",
       "    </tr>\n",
       "    <tr>\n",
       "      <th>340236</th>\n",
       "      <td>2016</td>\n",
       "      <td>08</td>\n",
       "      <td>15</td>\n",
       "      <td>5.0</td>\n",
       "      <td>True</td>\n",
       "      <td>A9P4GZSXYO88G</td>\n",
       "      <td>B013NEZMZC</td>\n",
       "      <td>1.471219e+09</td>\n",
       "      <td>0.0</td>\n",
       "      <td>NaN</td>\n",
       "      <td>NaN</td>\n",
       "      <td>NaN</td>\n",
       "      <td>NaN</td>\n",
       "      <td>NaN</td>\n",
       "      <td>left_only</td>\n",
       "    </tr>\n",
       "  </tbody>\n",
       "</table>\n",
       "<p>5126 rows × 15 columns</p>\n",
       "</div>"
      ],
      "text/plain": [
       "        year month day  overall verified      reviewerID        asin  \\\n",
       "0       2015    02  19      1.0     True  A1V6B6TNIC10QE  0143026860   \n",
       "1       2014    12  18      4.0     True  A2F5GHSXFQ0W6J  0143026860   \n",
       "2       2014    08  10      4.0     True  A1572GUYS7DGSR  0143026860   \n",
       "3       2013    03  11      5.0     True   A1PSGLFK1NSVO  0143026860   \n",
       "4       2011    12  25      5.0     True   A6IKXKZMTKGSC  0143026860   \n",
       "...      ...   ...  ..      ...      ...             ...         ...   \n",
       "340232  2017    08  13      5.0     True   AN3J2HI45DREW  B013NEZMZC   \n",
       "340233  2017    03  28      5.0     True  A24NA9JMU957GY  B013NEZMZC   \n",
       "340234  2017    03  15      5.0     True  A2B3AIG0UTSOJB  B013NEZMZC   \n",
       "340235  2016    10   1      5.0     True  A2TEBM1KX3OQHZ  B013NEZMZC   \n",
       "340236  2016    08  15      5.0     True   A9P4GZSXYO88G  B013NEZMZC   \n",
       "\n",
       "        unixReviewTime  vote title also_buy  rank also_view  price     _merge  \n",
       "0         1.424304e+09   0.0   NaN      NaN   NaN       NaN    NaN  left_only  \n",
       "1         1.418861e+09   0.0   NaN      NaN   NaN       NaN    NaN  left_only  \n",
       "2         1.407629e+09   0.0   NaN      NaN   NaN       NaN    NaN  left_only  \n",
       "3         1.362960e+09   0.0   NaN      NaN   NaN       NaN    NaN  left_only  \n",
       "4         1.324771e+09   5.0   NaN      NaN   NaN       NaN    NaN  left_only  \n",
       "...                ...   ...   ...      ...   ...       ...    ...        ...  \n",
       "340232    1.502582e+09   0.0   NaN      NaN   NaN       NaN    NaN  left_only  \n",
       "340233    1.490659e+09   0.0   NaN      NaN   NaN       NaN    NaN  left_only  \n",
       "340234    1.489536e+09   0.0   NaN      NaN   NaN       NaN    NaN  left_only  \n",
       "340235    1.475280e+09   0.0   NaN      NaN   NaN       NaN    NaN  left_only  \n",
       "340236    1.471219e+09   0.0   NaN      NaN   NaN       NaN    NaN  left_only  \n",
       "\n",
       "[5126 rows x 15 columns]"
      ]
     },
     "execution_count": 19,
     "metadata": {},
     "output_type": "execute_result"
    }
   ],
   "source": [
    "# Outer merge of review_table & product_table\n",
    "dfMergedOuter2 = pd.merge(review_table, product_table, on='asin', how='outer', indicator=True)\n",
    "\n",
    "# Outer left (review_table), to find out the product review that doesn't exist in product_table\n",
    "dfMergedOuterReview=dfMergedOuter2[dfMergedOuter2['_merge']=='left_only']\n",
    "dfMergedOuterReview"
   ]
  },
  {
   "cell_type": "code",
   "execution_count": 20,
   "metadata": {
    "colab": {
     "base_uri": "https://localhost:8080/",
     "height": 673
    },
    "executionInfo": {
     "elapsed": 51070,
     "status": "ok",
     "timestamp": 1613748101844,
     "user": {
      "displayName": "YAP MOU EN",
      "photoUrl": "https://lh3.googleusercontent.com/a-/AOh14GhPNpBKjbLgcci9ZOGWgaMF_YjmfMYywVswsf2zkQ=s64",
      "userId": "04185711044849077922"
     },
     "user_tz": -480
    },
    "id": "vXEHUyM7uuE2",
    "outputId": "c2ac2952-a13f-4296-9eb4-d87e9b8a4223"
   },
   "outputs": [
    {
     "data": {
      "text/html": [
       "<div>\n",
       "<style scoped>\n",
       "    .dataframe tbody tr th:only-of-type {\n",
       "        vertical-align: middle;\n",
       "    }\n",
       "\n",
       "    .dataframe tbody tr th {\n",
       "        vertical-align: top;\n",
       "    }\n",
       "\n",
       "    .dataframe thead th {\n",
       "        text-align: right;\n",
       "    }\n",
       "</style>\n",
       "<table border=\"1\" class=\"dataframe\">\n",
       "  <thead>\n",
       "    <tr style=\"text-align: right;\">\n",
       "      <th></th>\n",
       "      <th>asin</th>\n",
       "      <th>title</th>\n",
       "      <th>also_buy</th>\n",
       "      <th>rank</th>\n",
       "      <th>also_view</th>\n",
       "      <th>price</th>\n",
       "      <th>year</th>\n",
       "      <th>month</th>\n",
       "      <th>day</th>\n",
       "      <th>overall</th>\n",
       "      <th>verified</th>\n",
       "      <th>reviewerID</th>\n",
       "      <th>unixReviewTime</th>\n",
       "      <th>vote</th>\n",
       "      <th>_merge</th>\n",
       "    </tr>\n",
       "  </thead>\n",
       "  <tbody>\n",
       "    <tr>\n",
       "      <th>0</th>\n",
       "      <td>6546546450</td>\n",
       "      <td>Loud 'N Clear&amp;trade; Personal Sound Amplifier</td>\n",
       "      <td>[]</td>\n",
       "      <td>2938573</td>\n",
       "      <td>[]</td>\n",
       "      <td>0.00</td>\n",
       "      <td>2013</td>\n",
       "      <td>08</td>\n",
       "      <td>13</td>\n",
       "      <td>4.0</td>\n",
       "      <td>True</td>\n",
       "      <td>A3349A7IGM954K</td>\n",
       "      <td>1376352000</td>\n",
       "      <td>0</td>\n",
       "      <td>both</td>\n",
       "    </tr>\n",
       "    <tr>\n",
       "      <th>1</th>\n",
       "      <td>6546546450</td>\n",
       "      <td>Loud 'N Clear&amp;trade; Personal Sound Amplifier</td>\n",
       "      <td>[]</td>\n",
       "      <td>2938573</td>\n",
       "      <td>[]</td>\n",
       "      <td>0.00</td>\n",
       "      <td>2009</td>\n",
       "      <td>01</td>\n",
       "      <td>29</td>\n",
       "      <td>1.0</td>\n",
       "      <td>False</td>\n",
       "      <td>A1OMHUU58XHQNG</td>\n",
       "      <td>1233187200</td>\n",
       "      <td>7</td>\n",
       "      <td>both</td>\n",
       "    </tr>\n",
       "    <tr>\n",
       "      <th>2</th>\n",
       "      <td>7178680776</td>\n",
       "      <td>No7 Lift &amp;amp; Luminate Triple Action Serum 50...</td>\n",
       "      <td>[B01E7LCSL6, B008X5RVME]</td>\n",
       "      <td>872854</td>\n",
       "      <td>[]</td>\n",
       "      <td>44.99</td>\n",
       "      <td>2017</td>\n",
       "      <td>10</td>\n",
       "      <td>6</td>\n",
       "      <td>3.0</td>\n",
       "      <td>True</td>\n",
       "      <td>A3Q0QXUKRGACMU</td>\n",
       "      <td>1507248000</td>\n",
       "      <td>0</td>\n",
       "      <td>both</td>\n",
       "    </tr>\n",
       "    <tr>\n",
       "      <th>3</th>\n",
       "      <td>7250468162</td>\n",
       "      <td>No7 Stay Perfect Foundation Cool Vanilla by No7</td>\n",
       "      <td>[]</td>\n",
       "      <td>956696</td>\n",
       "      <td>[B01B8BR0O8, B01B8BR0NO, B014MHXXM8]</td>\n",
       "      <td>28.76</td>\n",
       "      <td>2017</td>\n",
       "      <td>08</td>\n",
       "      <td>26</td>\n",
       "      <td>5.0</td>\n",
       "      <td>True</td>\n",
       "      <td>A3MQI5EJSEDO1K</td>\n",
       "      <td>1503705600</td>\n",
       "      <td>0</td>\n",
       "      <td>both</td>\n",
       "    </tr>\n",
       "    <tr>\n",
       "      <th>4</th>\n",
       "      <td>7367905066</td>\n",
       "      <td>Wella Koleston Perfect Hair Colour 44/44 Mediu...</td>\n",
       "      <td>[B0041PBXX8]</td>\n",
       "      <td>1870258</td>\n",
       "      <td>[]</td>\n",
       "      <td>0.00</td>\n",
       "      <td>2017</td>\n",
       "      <td>04</td>\n",
       "      <td>12</td>\n",
       "      <td>5.0</td>\n",
       "      <td>True</td>\n",
       "      <td>A29TKERPFM55B6</td>\n",
       "      <td>1491955200</td>\n",
       "      <td>0</td>\n",
       "      <td>both</td>\n",
       "    </tr>\n",
       "    <tr>\n",
       "      <th>...</th>\n",
       "      <td>...</td>\n",
       "      <td>...</td>\n",
       "      <td>...</td>\n",
       "      <td>...</td>\n",
       "      <td>...</td>\n",
       "      <td>...</td>\n",
       "      <td>...</td>\n",
       "      <td>...</td>\n",
       "      <td>...</td>\n",
       "      <td>...</td>\n",
       "      <td>...</td>\n",
       "      <td>...</td>\n",
       "      <td>...</td>\n",
       "      <td>...</td>\n",
       "      <td>...</td>\n",
       "    </tr>\n",
       "    <tr>\n",
       "      <th>357272</th>\n",
       "      <td>B01HJEGTYK</td>\n",
       "      <td>FESHFEN Scrunchy Scrunchies Synthetic Hair Bun...</td>\n",
       "      <td>[B01HJEGQ6Q, B01L66EYCG, B00H7YZ7HI, B00CHKKWZ...</td>\n",
       "      <td>478123</td>\n",
       "      <td>[B06XNM7CGD, B071D7TMQS]</td>\n",
       "      <td>0.00</td>\n",
       "      <td>2017</td>\n",
       "      <td>07</td>\n",
       "      <td>20</td>\n",
       "      <td>1.0</td>\n",
       "      <td>True</td>\n",
       "      <td>A202DCI7TV1022</td>\n",
       "      <td>1500508800</td>\n",
       "      <td>0</td>\n",
       "      <td>both</td>\n",
       "    </tr>\n",
       "    <tr>\n",
       "      <th>357273</th>\n",
       "      <td>B01HJEGTYK</td>\n",
       "      <td>FESHFEN Scrunchy Scrunchies Synthetic Hair Bun...</td>\n",
       "      <td>[B01HJEGQ6Q, B01L66EYCG, B00H7YZ7HI, B00CHKKWZ...</td>\n",
       "      <td>478123</td>\n",
       "      <td>[B06XNM7CGD, B071D7TMQS]</td>\n",
       "      <td>0.00</td>\n",
       "      <td>2017</td>\n",
       "      <td>03</td>\n",
       "      <td>16</td>\n",
       "      <td>5.0</td>\n",
       "      <td>True</td>\n",
       "      <td>A3FSOR5IJOFIBE</td>\n",
       "      <td>1489622400</td>\n",
       "      <td>34</td>\n",
       "      <td>both</td>\n",
       "    </tr>\n",
       "    <tr>\n",
       "      <th>357274</th>\n",
       "      <td>B01HJEGTYK</td>\n",
       "      <td>FESHFEN Scrunchy Scrunchies Synthetic Hair Bun...</td>\n",
       "      <td>[B01HJEGQ6Q, B01L66EYCG, B00H7YZ7HI, B00CHKKWZ...</td>\n",
       "      <td>478123</td>\n",
       "      <td>[B06XNM7CGD, B071D7TMQS]</td>\n",
       "      <td>0.00</td>\n",
       "      <td>2017</td>\n",
       "      <td>03</td>\n",
       "      <td>1</td>\n",
       "      <td>5.0</td>\n",
       "      <td>True</td>\n",
       "      <td>A1B5DK6CTP2P24</td>\n",
       "      <td>1488326400</td>\n",
       "      <td>46</td>\n",
       "      <td>both</td>\n",
       "    </tr>\n",
       "    <tr>\n",
       "      <th>357275</th>\n",
       "      <td>B01HJEGTYK</td>\n",
       "      <td>FESHFEN Scrunchy Scrunchies Synthetic Hair Bun...</td>\n",
       "      <td>[B01HJEGQ6Q, B01L66EYCG, B00H7YZ7HI, B00CHKKWZ...</td>\n",
       "      <td>478123</td>\n",
       "      <td>[B06XNM7CGD, B071D7TMQS]</td>\n",
       "      <td>0.00</td>\n",
       "      <td>2017</td>\n",
       "      <td>02</td>\n",
       "      <td>21</td>\n",
       "      <td>2.0</td>\n",
       "      <td>True</td>\n",
       "      <td>A23OUYS5IRMJS9</td>\n",
       "      <td>1487635200</td>\n",
       "      <td>0</td>\n",
       "      <td>both</td>\n",
       "    </tr>\n",
       "    <tr>\n",
       "      <th>357276</th>\n",
       "      <td>B01HJEGTYK</td>\n",
       "      <td>FESHFEN Scrunchy Scrunchies Synthetic Hair Bun...</td>\n",
       "      <td>[B01HJEGQ6Q, B01L66EYCG, B00H7YZ7HI, B00CHKKWZ...</td>\n",
       "      <td>478123</td>\n",
       "      <td>[B06XNM7CGD, B071D7TMQS]</td>\n",
       "      <td>0.00</td>\n",
       "      <td>2016</td>\n",
       "      <td>12</td>\n",
       "      <td>15</td>\n",
       "      <td>2.0</td>\n",
       "      <td>True</td>\n",
       "      <td>A24KQ9RVU81L87</td>\n",
       "      <td>1481760000</td>\n",
       "      <td>0</td>\n",
       "      <td>both</td>\n",
       "    </tr>\n",
       "  </tbody>\n",
       "</table>\n",
       "<p>357277 rows × 15 columns</p>\n",
       "</div>"
      ],
      "text/plain": [
       "              asin                                              title  \\\n",
       "0       6546546450      Loud 'N Clear&trade; Personal Sound Amplifier   \n",
       "1       6546546450      Loud 'N Clear&trade; Personal Sound Amplifier   \n",
       "2       7178680776  No7 Lift &amp; Luminate Triple Action Serum 50...   \n",
       "3       7250468162    No7 Stay Perfect Foundation Cool Vanilla by No7   \n",
       "4       7367905066  Wella Koleston Perfect Hair Colour 44/44 Mediu...   \n",
       "...            ...                                                ...   \n",
       "357272  B01HJEGTYK  FESHFEN Scrunchy Scrunchies Synthetic Hair Bun...   \n",
       "357273  B01HJEGTYK  FESHFEN Scrunchy Scrunchies Synthetic Hair Bun...   \n",
       "357274  B01HJEGTYK  FESHFEN Scrunchy Scrunchies Synthetic Hair Bun...   \n",
       "357275  B01HJEGTYK  FESHFEN Scrunchy Scrunchies Synthetic Hair Bun...   \n",
       "357276  B01HJEGTYK  FESHFEN Scrunchy Scrunchies Synthetic Hair Bun...   \n",
       "\n",
       "                                                 also_buy     rank  \\\n",
       "0                                                      []  2938573   \n",
       "1                                                      []  2938573   \n",
       "2                                [B01E7LCSL6, B008X5RVME]   872854   \n",
       "3                                                      []   956696   \n",
       "4                                            [B0041PBXX8]  1870258   \n",
       "...                                                   ...      ...   \n",
       "357272  [B01HJEGQ6Q, B01L66EYCG, B00H7YZ7HI, B00CHKKWZ...   478123   \n",
       "357273  [B01HJEGQ6Q, B01L66EYCG, B00H7YZ7HI, B00CHKKWZ...   478123   \n",
       "357274  [B01HJEGQ6Q, B01L66EYCG, B00H7YZ7HI, B00CHKKWZ...   478123   \n",
       "357275  [B01HJEGQ6Q, B01L66EYCG, B00H7YZ7HI, B00CHKKWZ...   478123   \n",
       "357276  [B01HJEGQ6Q, B01L66EYCG, B00H7YZ7HI, B00CHKKWZ...   478123   \n",
       "\n",
       "                                   also_view  price  year month day  overall  \\\n",
       "0                                         []   0.00  2013    08  13      4.0   \n",
       "1                                         []   0.00  2009    01  29      1.0   \n",
       "2                                         []  44.99  2017    10   6      3.0   \n",
       "3       [B01B8BR0O8, B01B8BR0NO, B014MHXXM8]  28.76  2017    08  26      5.0   \n",
       "4                                         []   0.00  2017    04  12      5.0   \n",
       "...                                      ...    ...   ...   ...  ..      ...   \n",
       "357272              [B06XNM7CGD, B071D7TMQS]   0.00  2017    07  20      1.0   \n",
       "357273              [B06XNM7CGD, B071D7TMQS]   0.00  2017    03  16      5.0   \n",
       "357274              [B06XNM7CGD, B071D7TMQS]   0.00  2017    03   1      5.0   \n",
       "357275              [B06XNM7CGD, B071D7TMQS]   0.00  2017    02  21      2.0   \n",
       "357276              [B06XNM7CGD, B071D7TMQS]   0.00  2016    12  15      2.0   \n",
       "\n",
       "        verified      reviewerID  unixReviewTime  vote _merge  \n",
       "0           True  A3349A7IGM954K      1376352000     0   both  \n",
       "1          False  A1OMHUU58XHQNG      1233187200     7   both  \n",
       "2           True  A3Q0QXUKRGACMU      1507248000     0   both  \n",
       "3           True  A3MQI5EJSEDO1K      1503705600     0   both  \n",
       "4           True  A29TKERPFM55B6      1491955200     0   both  \n",
       "...          ...             ...             ...   ...    ...  \n",
       "357272      True  A202DCI7TV1022      1500508800     0   both  \n",
       "357273      True  A3FSOR5IJOFIBE      1489622400    34   both  \n",
       "357274      True  A1B5DK6CTP2P24      1488326400    46   both  \n",
       "357275      True  A23OUYS5IRMJS9      1487635200     0   both  \n",
       "357276      True  A24KQ9RVU81L87      1481760000     0   both  \n",
       "\n",
       "[357277 rows x 15 columns]"
      ]
     },
     "execution_count": 20,
     "metadata": {},
     "output_type": "execute_result"
    }
   ],
   "source": [
    "# to find the intersection betweeen both tables\n",
    "dfMergedInner = (pd.merge(product_table,review_table, on='asin', how='inner', indicator=True)).set_index('asin')\n",
    "dfMergedInner.reset_index(inplace = True)\n",
    "dfMergedInner"
   ]
  },
  {
   "cell_type": "markdown",
   "metadata": {
    "id": "toEW7hUd2g6t"
   },
   "source": [
    "After merging both tables, we found that there are 2 existing products without any reviews. Hence we drop them from product_table.\n",
    "\n",
    "For review_table, there are 5120 reviews on products that were not in our dataset, we drop them too."
   ]
  },
  {
   "cell_type": "code",
   "execution_count": 21,
   "metadata": {
    "id": "8FxyCcod1xv-"
   },
   "outputs": [],
   "source": [
    "# Drop both products since they do not have any reviews\n",
    "product_table.drop(product_table[product_table['asin']=='B000NICBSI'].index, inplace = True) \n",
    "product_table.drop(product_table[product_table['asin']=='B01HHYC4UA'].index, inplace = True) "
   ]
  },
  {
   "cell_type": "code",
   "execution_count": 40,
   "metadata": {
    "colab": {
     "base_uri": "https://localhost:8080/",
     "height": 407
    },
    "executionInfo": {
     "elapsed": 51059,
     "status": "ok",
     "timestamp": 1613748101847,
     "user": {
      "displayName": "YAP MOU EN",
      "photoUrl": "https://lh3.googleusercontent.com/a-/AOh14GhPNpBKjbLgcci9ZOGWgaMF_YjmfMYywVswsf2zkQ=s64",
      "userId": "04185711044849077922"
     },
     "user_tz": -480
    },
    "id": "F8OAtQsp2hfT",
    "outputId": "33f86185-e575-40b4-9050-3394d4fafa7d"
   },
   "outputs": [
    {
     "data": {
      "text/html": [
       "<div>\n",
       "<style scoped>\n",
       "    .dataframe tbody tr th:only-of-type {\n",
       "        vertical-align: middle;\n",
       "    }\n",
       "\n",
       "    .dataframe tbody tr th {\n",
       "        vertical-align: top;\n",
       "    }\n",
       "\n",
       "    .dataframe thead th {\n",
       "        text-align: right;\n",
       "    }\n",
       "</style>\n",
       "<table border=\"1\" class=\"dataframe\">\n",
       "  <thead>\n",
       "    <tr style=\"text-align: right;\">\n",
       "      <th></th>\n",
       "      <th>asin</th>\n",
       "      <th>year</th>\n",
       "      <th>month</th>\n",
       "      <th>day</th>\n",
       "      <th>overall</th>\n",
       "      <th>verified</th>\n",
       "      <th>vote</th>\n",
       "    </tr>\n",
       "  </thead>\n",
       "  <tbody>\n",
       "    <tr>\n",
       "      <th>0</th>\n",
       "      <td>6546546450</td>\n",
       "      <td>2013</td>\n",
       "      <td>08</td>\n",
       "      <td>13</td>\n",
       "      <td>4.0</td>\n",
       "      <td>True</td>\n",
       "      <td>0</td>\n",
       "    </tr>\n",
       "    <tr>\n",
       "      <th>1</th>\n",
       "      <td>6546546450</td>\n",
       "      <td>2009</td>\n",
       "      <td>01</td>\n",
       "      <td>29</td>\n",
       "      <td>1.0</td>\n",
       "      <td>False</td>\n",
       "      <td>7</td>\n",
       "    </tr>\n",
       "    <tr>\n",
       "      <th>2</th>\n",
       "      <td>7178680776</td>\n",
       "      <td>2017</td>\n",
       "      <td>10</td>\n",
       "      <td>6</td>\n",
       "      <td>3.0</td>\n",
       "      <td>True</td>\n",
       "      <td>0</td>\n",
       "    </tr>\n",
       "    <tr>\n",
       "      <th>3</th>\n",
       "      <td>7250468162</td>\n",
       "      <td>2017</td>\n",
       "      <td>08</td>\n",
       "      <td>26</td>\n",
       "      <td>5.0</td>\n",
       "      <td>True</td>\n",
       "      <td>0</td>\n",
       "    </tr>\n",
       "    <tr>\n",
       "      <th>4</th>\n",
       "      <td>7367905066</td>\n",
       "      <td>2017</td>\n",
       "      <td>04</td>\n",
       "      <td>12</td>\n",
       "      <td>5.0</td>\n",
       "      <td>True</td>\n",
       "      <td>0</td>\n",
       "    </tr>\n",
       "    <tr>\n",
       "      <th>...</th>\n",
       "      <td>...</td>\n",
       "      <td>...</td>\n",
       "      <td>...</td>\n",
       "      <td>...</td>\n",
       "      <td>...</td>\n",
       "      <td>...</td>\n",
       "      <td>...</td>\n",
       "    </tr>\n",
       "    <tr>\n",
       "      <th>357272</th>\n",
       "      <td>B01HJEGTYK</td>\n",
       "      <td>2017</td>\n",
       "      <td>07</td>\n",
       "      <td>20</td>\n",
       "      <td>1.0</td>\n",
       "      <td>True</td>\n",
       "      <td>0</td>\n",
       "    </tr>\n",
       "    <tr>\n",
       "      <th>357273</th>\n",
       "      <td>B01HJEGTYK</td>\n",
       "      <td>2017</td>\n",
       "      <td>03</td>\n",
       "      <td>16</td>\n",
       "      <td>5.0</td>\n",
       "      <td>True</td>\n",
       "      <td>34</td>\n",
       "    </tr>\n",
       "    <tr>\n",
       "      <th>357274</th>\n",
       "      <td>B01HJEGTYK</td>\n",
       "      <td>2017</td>\n",
       "      <td>03</td>\n",
       "      <td>1</td>\n",
       "      <td>5.0</td>\n",
       "      <td>True</td>\n",
       "      <td>46</td>\n",
       "    </tr>\n",
       "    <tr>\n",
       "      <th>357275</th>\n",
       "      <td>B01HJEGTYK</td>\n",
       "      <td>2017</td>\n",
       "      <td>02</td>\n",
       "      <td>21</td>\n",
       "      <td>2.0</td>\n",
       "      <td>True</td>\n",
       "      <td>0</td>\n",
       "    </tr>\n",
       "    <tr>\n",
       "      <th>357276</th>\n",
       "      <td>B01HJEGTYK</td>\n",
       "      <td>2016</td>\n",
       "      <td>12</td>\n",
       "      <td>15</td>\n",
       "      <td>2.0</td>\n",
       "      <td>True</td>\n",
       "      <td>0</td>\n",
       "    </tr>\n",
       "  </tbody>\n",
       "</table>\n",
       "<p>357277 rows × 7 columns</p>\n",
       "</div>"
      ],
      "text/plain": [
       "              asin  year month day  overall  verified  vote\n",
       "0       6546546450  2013    08  13      4.0      True     0\n",
       "1       6546546450  2009    01  29      1.0     False     7\n",
       "2       7178680776  2017    10   6      3.0      True     0\n",
       "3       7250468162  2017    08  26      5.0      True     0\n",
       "4       7367905066  2017    04  12      5.0      True     0\n",
       "...            ...   ...   ...  ..      ...       ...   ...\n",
       "357272  B01HJEGTYK  2017    07  20      1.0      True     0\n",
       "357273  B01HJEGTYK  2017    03  16      5.0      True    34\n",
       "357274  B01HJEGTYK  2017    03   1      5.0      True    46\n",
       "357275  B01HJEGTYK  2017    02  21      2.0      True     0\n",
       "357276  B01HJEGTYK  2016    12  15      2.0      True     0\n",
       "\n",
       "[357277 rows x 7 columns]"
      ]
     },
     "execution_count": 40,
     "metadata": {},
     "output_type": "execute_result"
    }
   ],
   "source": [
    "# Update our review table using the inner merge\n",
    "final_review_table = dfMergedInner.drop(['title','also_buy','rank','also_view','price','unixReviewTime','reviewerID', '_merge'],axis = 1)\n",
    "final_review_table"
   ]
  },
  {
   "cell_type": "markdown",
   "metadata": {
    "id": "DCcFwR-A3OU0"
   },
   "source": [
    "After cleaning and merging the data, 32486 beauty products and 357283 reviews are remained in our dataset.\n"
   ]
  },
  {
   "cell_type": "markdown",
   "metadata": {
    "id": "BRclR0GYXYHN"
   },
   "source": [
    "### 4.2 Final Merged Table\n",
    "Final merged table has been prepared for future use in data processing"
   ]
  },
  {
   "cell_type": "code",
   "execution_count": 23,
   "metadata": {
    "colab": {
     "base_uri": "https://localhost:8080/",
     "height": 673
    },
    "executionInfo": {
     "elapsed": 51042,
     "status": "ok",
     "timestamp": 1613748101847,
     "user": {
      "displayName": "YAP MOU EN",
      "photoUrl": "https://lh3.googleusercontent.com/a-/AOh14GhPNpBKjbLgcci9ZOGWgaMF_YjmfMYywVswsf2zkQ=s64",
      "userId": "04185711044849077922"
     },
     "user_tz": -480
    },
    "id": "Hxizd9R6Xeje",
    "outputId": "c75401ae-7f93-4b6d-ff19-a7d802adc1ed"
   },
   "outputs": [],
   "source": [
    "#dfMergedInner"
   ]
  },
  {
   "cell_type": "markdown",
   "metadata": {
    "id": "m5WwUGzPuuE2"
   },
   "source": [
    "## 5. Data Processing\n",
    "\n",
    "We will be using `product_table` and `final_review_table` for our data processing.\n",
    "\n",
    "`product_table`: Contains 32486 unique beauty products selling on Amazon. All listed product have at least one review in our dataset. It contains sales rank and/or price that is 0.\n",
    "\n",
    "`final_review_table`: Contains 357283 product reviews. All recorded reviews have a matching product in our dataset."
   ]
  },
  {
   "cell_type": "code",
   "execution_count": 24,
   "metadata": {},
   "outputs": [],
   "source": [
    "def avgReview(review_arg):\n",
    "    # calculates average rating of each product\n",
    "    avg_review = review_arg.groupby(['asin']).mean()\n",
    "    avg_review.rename(columns={'overall':'average-rating'},inplace=True)\n",
    "    avg_review.reset_index(inplace = True)\n",
    "    \n",
    "    return avg_review\n",
    "\n",
    "def countReview(review_arg):\n",
    "    # calculates number of reviews of each product\n",
    "    count_review = review_arg.groupby(['asin']).count()\n",
    "    count_review.rename(columns={'overall':'number-of-review'},inplace=True)\n",
    "    count_review.reset_index(inplace = True)\n",
    "    \n",
    "    return count_review"
   ]
  },
  {
   "cell_type": "code",
   "execution_count": 25,
   "metadata": {
    "colab": {
     "base_uri": "https://localhost:8080/",
     "height": 407
    },
    "executionInfo": {
     "elapsed": 52845,
     "status": "ok",
     "timestamp": 1613748103667,
     "user": {
      "displayName": "YAP MOU EN",
      "photoUrl": "https://lh3.googleusercontent.com/a-/AOh14GhPNpBKjbLgcci9ZOGWgaMF_YjmfMYywVswsf2zkQ=s64",
      "userId": "04185711044849077922"
     },
     "user_tz": -480
    },
    "id": "pbxf539A4xsq",
    "outputId": "44575d3f-4000-4b8c-b109-1727ed469c46"
   },
   "outputs": [],
   "source": [
    "# paramters:\n",
    "# avg_review ['asin', 'average-rating']\n",
    "# count_review ['asin', 'number-of-review']\n",
    "# product_rank ['asin','rank']\n",
    "\n",
    "# result:\n",
    "# merged_review_table ['asin', 'average-rating', 'number-of-review', 'rank']\n",
    "\n",
    "def merge_avgReview_numReview_product(avg_review, count_review, product_rank):\n",
    "    # merge average rating score\n",
    "    merged_review_table = (pd.merge(product_rank, avg_review, on='asin', how='inner', indicator=True)).set_index('asin')\n",
    "    merged_review_table.reset_index(inplace=True)\n",
    "    merged_review_table = merged_review_table.drop(['_merge'],axis = 1)\n",
    "    merged_review_table.rename(columns={'overall':'average-rating'},inplace=True)\n",
    "\n",
    "    # merge number of reviews\n",
    "    merged_review_table = (pd.merge(merged_review_table, count_review, on='asin', how='inner', indicator=True)).set_index('asin')\n",
    "    merged_review_table.reset_index(inplace = True)\n",
    "    merged_review_table = merged_review_table.drop(['_merge'],axis = 1)\n",
    "    merged_review_table.rename(columns={'overall':'number-of-review'},inplace=True)\n",
    "\n",
    "    # filter out product with 0 as sales rank (32083 products left)\n",
    "    merged_review_table = merged_review_table[merged_review_table['rank'] > 0]\n",
    "    merged_review_table.sort_values(by=['rank']) \n",
    "    \n",
    "    return merged_review_table"
   ]
  },
  {
   "cell_type": "markdown",
   "metadata": {
    "id": "RE2oX7Zv2XVX"
   },
   "source": [
    "### 5.1 Overall Average Rating VS Sales Rank (2000-2018)"
   ]
  },
  {
   "cell_type": "code",
   "execution_count": 26,
   "metadata": {
    "id": "HDizwJL0uuE6",
    "scrolled": true
   },
   "outputs": [
    {
     "data": {
      "text/html": [
       "<div>\n",
       "<style scoped>\n",
       "    .dataframe tbody tr th:only-of-type {\n",
       "        vertical-align: middle;\n",
       "    }\n",
       "\n",
       "    .dataframe tbody tr th {\n",
       "        vertical-align: top;\n",
       "    }\n",
       "\n",
       "    .dataframe thead th {\n",
       "        text-align: right;\n",
       "    }\n",
       "</style>\n",
       "<table border=\"1\" class=\"dataframe\">\n",
       "  <thead>\n",
       "    <tr style=\"text-align: right;\">\n",
       "      <th></th>\n",
       "      <th>asin</th>\n",
       "      <th>rank</th>\n",
       "      <th>average-rating</th>\n",
       "      <th>number-of-review</th>\n",
       "    </tr>\n",
       "  </thead>\n",
       "  <tbody>\n",
       "    <tr>\n",
       "      <th>0</th>\n",
       "      <td>6546546450</td>\n",
       "      <td>2938573</td>\n",
       "      <td>2.5</td>\n",
       "      <td>2</td>\n",
       "    </tr>\n",
       "    <tr>\n",
       "      <th>1</th>\n",
       "      <td>7178680776</td>\n",
       "      <td>872854</td>\n",
       "      <td>3.0</td>\n",
       "      <td>1</td>\n",
       "    </tr>\n",
       "    <tr>\n",
       "      <th>2</th>\n",
       "      <td>7250468162</td>\n",
       "      <td>956696</td>\n",
       "      <td>5.0</td>\n",
       "      <td>1</td>\n",
       "    </tr>\n",
       "    <tr>\n",
       "      <th>3</th>\n",
       "      <td>7367905066</td>\n",
       "      <td>1870258</td>\n",
       "      <td>5.0</td>\n",
       "      <td>1</td>\n",
       "    </tr>\n",
       "    <tr>\n",
       "      <th>4</th>\n",
       "      <td>7414204790</td>\n",
       "      <td>67701</td>\n",
       "      <td>4.4</td>\n",
       "      <td>15</td>\n",
       "    </tr>\n",
       "    <tr>\n",
       "      <th>...</th>\n",
       "      <td>...</td>\n",
       "      <td>...</td>\n",
       "      <td>...</td>\n",
       "      <td>...</td>\n",
       "    </tr>\n",
       "    <tr>\n",
       "      <th>32480</th>\n",
       "      <td>B01HIWLLUK</td>\n",
       "      <td>2145325</td>\n",
       "      <td>5.0</td>\n",
       "      <td>1</td>\n",
       "    </tr>\n",
       "    <tr>\n",
       "      <th>32481</th>\n",
       "      <td>B01HJ1K3YK</td>\n",
       "      <td>1639713</td>\n",
       "      <td>1.0</td>\n",
       "      <td>1</td>\n",
       "    </tr>\n",
       "    <tr>\n",
       "      <th>32482</th>\n",
       "      <td>B01HJ84SGM</td>\n",
       "      <td>207410</td>\n",
       "      <td>5.0</td>\n",
       "      <td>5</td>\n",
       "    </tr>\n",
       "    <tr>\n",
       "      <th>32483</th>\n",
       "      <td>B01HJASD20</td>\n",
       "      <td>965673</td>\n",
       "      <td>1.0</td>\n",
       "      <td>1</td>\n",
       "    </tr>\n",
       "    <tr>\n",
       "      <th>32484</th>\n",
       "      <td>B01HJEGTYK</td>\n",
       "      <td>478123</td>\n",
       "      <td>3.0</td>\n",
       "      <td>10</td>\n",
       "    </tr>\n",
       "  </tbody>\n",
       "</table>\n",
       "<p>32083 rows × 4 columns</p>\n",
       "</div>"
      ],
      "text/plain": [
       "             asin     rank  average-rating  number-of-review\n",
       "0      6546546450  2938573             2.5                 2\n",
       "1      7178680776   872854             3.0                 1\n",
       "2      7250468162   956696             5.0                 1\n",
       "3      7367905066  1870258             5.0                 1\n",
       "4      7414204790    67701             4.4                15\n",
       "...           ...      ...             ...               ...\n",
       "32480  B01HIWLLUK  2145325             5.0                 1\n",
       "32481  B01HJ1K3YK  1639713             1.0                 1\n",
       "32482  B01HJ84SGM   207410             5.0                 5\n",
       "32483  B01HJASD20   965673             1.0                 1\n",
       "32484  B01HJEGTYK   478123             3.0                10\n",
       "\n",
       "[32083 rows x 4 columns]"
      ]
     },
     "execution_count": 26,
     "metadata": {},
     "output_type": "execute_result"
    }
   ],
   "source": [
    "review = final_review_table[['asin', 'overall']]\n",
    "avg_review = avgReview(review)\n",
    "count_review = countReview(review)\n",
    "\n",
    "product_rank = product_table[['asin','rank']]\n",
    "merged_review_table = merge_avgReview_numReview_product(avg_review, count_review, product_rank)\n",
    "merged_review_table"
   ]
  },
  {
   "cell_type": "code",
   "execution_count": 27,
   "metadata": {
    "colab": {
     "base_uri": "https://localhost:8080/",
     "height": 407
    },
    "executionInfo": {
     "elapsed": 52830,
     "status": "ok",
     "timestamp": 1613748103668,
     "user": {
      "displayName": "YAP MOU EN",
      "photoUrl": "https://lh3.googleusercontent.com/a-/AOh14GhPNpBKjbLgcci9ZOGWgaMF_YjmfMYywVswsf2zkQ=s64",
      "userId": "04185711044849077922"
     },
     "user_tz": -480
    },
    "id": "dMIbu9-KfuSg",
    "outputId": "e25e23a8-e06b-47d8-f45a-5e66b0b03210"
   },
   "outputs": [
    {
     "data": {
      "text/html": [
       "<div>\n",
       "<style scoped>\n",
       "    .dataframe tbody tr th:only-of-type {\n",
       "        vertical-align: middle;\n",
       "    }\n",
       "\n",
       "    .dataframe tbody tr th {\n",
       "        vertical-align: top;\n",
       "    }\n",
       "\n",
       "    .dataframe thead th {\n",
       "        text-align: right;\n",
       "    }\n",
       "</style>\n",
       "<table border=\"1\" class=\"dataframe\">\n",
       "  <thead>\n",
       "    <tr style=\"text-align: right;\">\n",
       "      <th></th>\n",
       "      <th>asin</th>\n",
       "      <th>rank</th>\n",
       "      <th>average-rating</th>\n",
       "      <th>number-of-review</th>\n",
       "      <th>average-verified-rating</th>\n",
       "      <th>verified</th>\n",
       "    </tr>\n",
       "  </thead>\n",
       "  <tbody>\n",
       "    <tr>\n",
       "      <th>0</th>\n",
       "      <td>6546546450</td>\n",
       "      <td>2938573</td>\n",
       "      <td>2.5</td>\n",
       "      <td>2</td>\n",
       "      <td>4.000000</td>\n",
       "      <td>True</td>\n",
       "    </tr>\n",
       "    <tr>\n",
       "      <th>1</th>\n",
       "      <td>7178680776</td>\n",
       "      <td>872854</td>\n",
       "      <td>3.0</td>\n",
       "      <td>1</td>\n",
       "      <td>3.000000</td>\n",
       "      <td>True</td>\n",
       "    </tr>\n",
       "    <tr>\n",
       "      <th>2</th>\n",
       "      <td>7250468162</td>\n",
       "      <td>956696</td>\n",
       "      <td>5.0</td>\n",
       "      <td>1</td>\n",
       "      <td>5.000000</td>\n",
       "      <td>True</td>\n",
       "    </tr>\n",
       "    <tr>\n",
       "      <th>3</th>\n",
       "      <td>7367905066</td>\n",
       "      <td>1870258</td>\n",
       "      <td>5.0</td>\n",
       "      <td>1</td>\n",
       "      <td>5.000000</td>\n",
       "      <td>True</td>\n",
       "    </tr>\n",
       "    <tr>\n",
       "      <th>4</th>\n",
       "      <td>7414204790</td>\n",
       "      <td>67701</td>\n",
       "      <td>4.4</td>\n",
       "      <td>15</td>\n",
       "      <td>4.461538</td>\n",
       "      <td>True</td>\n",
       "    </tr>\n",
       "    <tr>\n",
       "      <th>...</th>\n",
       "      <td>...</td>\n",
       "      <td>...</td>\n",
       "      <td>...</td>\n",
       "      <td>...</td>\n",
       "      <td>...</td>\n",
       "      <td>...</td>\n",
       "    </tr>\n",
       "    <tr>\n",
       "      <th>30425</th>\n",
       "      <td>B01HIWLLUK</td>\n",
       "      <td>2145325</td>\n",
       "      <td>5.0</td>\n",
       "      <td>1</td>\n",
       "      <td>5.000000</td>\n",
       "      <td>True</td>\n",
       "    </tr>\n",
       "    <tr>\n",
       "      <th>30426</th>\n",
       "      <td>B01HJ1K3YK</td>\n",
       "      <td>1639713</td>\n",
       "      <td>1.0</td>\n",
       "      <td>1</td>\n",
       "      <td>1.000000</td>\n",
       "      <td>True</td>\n",
       "    </tr>\n",
       "    <tr>\n",
       "      <th>30427</th>\n",
       "      <td>B01HJ84SGM</td>\n",
       "      <td>207410</td>\n",
       "      <td>5.0</td>\n",
       "      <td>5</td>\n",
       "      <td>5.000000</td>\n",
       "      <td>True</td>\n",
       "    </tr>\n",
       "    <tr>\n",
       "      <th>30428</th>\n",
       "      <td>B01HJASD20</td>\n",
       "      <td>965673</td>\n",
       "      <td>1.0</td>\n",
       "      <td>1</td>\n",
       "      <td>1.000000</td>\n",
       "      <td>True</td>\n",
       "    </tr>\n",
       "    <tr>\n",
       "      <th>30429</th>\n",
       "      <td>B01HJEGTYK</td>\n",
       "      <td>478123</td>\n",
       "      <td>3.0</td>\n",
       "      <td>10</td>\n",
       "      <td>3.000000</td>\n",
       "      <td>True</td>\n",
       "    </tr>\n",
       "  </tbody>\n",
       "</table>\n",
       "<p>30430 rows × 6 columns</p>\n",
       "</div>"
      ],
      "text/plain": [
       "             asin     rank  average-rating  number-of-review  \\\n",
       "0      6546546450  2938573             2.5                 2   \n",
       "1      7178680776   872854             3.0                 1   \n",
       "2      7250468162   956696             5.0                 1   \n",
       "3      7367905066  1870258             5.0                 1   \n",
       "4      7414204790    67701             4.4                15   \n",
       "...           ...      ...             ...               ...   \n",
       "30425  B01HIWLLUK  2145325             5.0                 1   \n",
       "30426  B01HJ1K3YK  1639713             1.0                 1   \n",
       "30427  B01HJ84SGM   207410             5.0                 5   \n",
       "30428  B01HJASD20   965673             1.0                 1   \n",
       "30429  B01HJEGTYK   478123             3.0                10   \n",
       "\n",
       "       average-verified-rating  verified  \n",
       "0                     4.000000      True  \n",
       "1                     3.000000      True  \n",
       "2                     5.000000      True  \n",
       "3                     5.000000      True  \n",
       "4                     4.461538      True  \n",
       "...                        ...       ...  \n",
       "30425                 5.000000      True  \n",
       "30426                 1.000000      True  \n",
       "30427                 5.000000      True  \n",
       "30428                 1.000000      True  \n",
       "30429                 3.000000      True  \n",
       "\n",
       "[30430 rows x 6 columns]"
      ]
     },
     "execution_count": 27,
     "metadata": {},
     "output_type": "execute_result"
    }
   ],
   "source": [
    "vr = final_review_table[['asin', 'overall', 'verified']]\n",
    "\n",
    "# gets verified reviews' average score\n",
    "vr = vr[vr['verified'] == True] \n",
    "avg_verified_review = vr.groupby(['asin']).mean()\n",
    "avg_verified_review.rename(columns={'overall':'average-verified-rating'},inplace=True)\n",
    "avg_verified_review.reset_index(inplace = True)\n",
    "\n",
    "# merged verified table \n",
    "mv_review_table = (pd.merge(merged_review_table.copy(), avg_verified_review, on='asin', how='inner', indicator=True)).set_index('asin')\n",
    "mv_review_table.reset_index(inplace = True)\n",
    "mv_review_table = mv_review_table.drop(['_merge'],axis = 1)\n",
    "mv_review_table\n"
   ]
  },
  {
   "cell_type": "markdown",
   "metadata": {
    "id": "5432mf1Lmeeu"
   },
   "source": [
    "Here we have two processed tables:\n",
    "\n",
    "`merged_review_data`: All cleaned products with average rating, total number of reviews and more.\n",
    "\n",
    "`mv_review_table`: The same product table, but only verified reviews are considered.\n"
   ]
  },
  {
   "cell_type": "code",
   "execution_count": 28,
   "metadata": {
    "colab": {
     "base_uri": "https://localhost:8080/",
     "height": 137
    },
    "executionInfo": {
     "elapsed": 52817,
     "status": "ok",
     "timestamp": 1613748103670,
     "user": {
      "displayName": "YAP MOU EN",
      "photoUrl": "https://lh3.googleusercontent.com/a-/AOh14GhPNpBKjbLgcci9ZOGWgaMF_YjmfMYywVswsf2zkQ=s64",
      "userId": "04185711044849077922"
     },
     "user_tz": -480
    },
    "id": "4aIAHjWq6wrk",
    "outputId": "d9904196-269b-4ed9-d8ae-199781dbee35"
   },
   "outputs": [
    {
     "data": {
      "text/html": [
       "<div>\n",
       "<style scoped>\n",
       "    .dataframe tbody tr th:only-of-type {\n",
       "        vertical-align: middle;\n",
       "    }\n",
       "\n",
       "    .dataframe tbody tr th {\n",
       "        vertical-align: top;\n",
       "    }\n",
       "\n",
       "    .dataframe thead th {\n",
       "        text-align: right;\n",
       "    }\n",
       "</style>\n",
       "<table border=\"1\" class=\"dataframe\">\n",
       "  <thead>\n",
       "    <tr style=\"text-align: right;\">\n",
       "      <th></th>\n",
       "      <th>rank</th>\n",
       "      <th>average-rating</th>\n",
       "      <th>number-of-review</th>\n",
       "    </tr>\n",
       "  </thead>\n",
       "  <tbody>\n",
       "    <tr>\n",
       "      <th>rank</th>\n",
       "      <td>1.000000</td>\n",
       "      <td>-0.062927</td>\n",
       "      <td>-0.120137</td>\n",
       "    </tr>\n",
       "    <tr>\n",
       "      <th>average-rating</th>\n",
       "      <td>-0.062927</td>\n",
       "      <td>1.000000</td>\n",
       "      <td>0.006235</td>\n",
       "    </tr>\n",
       "    <tr>\n",
       "      <th>number-of-review</th>\n",
       "      <td>-0.120137</td>\n",
       "      <td>0.006235</td>\n",
       "      <td>1.000000</td>\n",
       "    </tr>\n",
       "  </tbody>\n",
       "</table>\n",
       "</div>"
      ],
      "text/plain": [
       "                      rank  average-rating  number-of-review\n",
       "rank              1.000000       -0.062927         -0.120137\n",
       "average-rating   -0.062927        1.000000          0.006235\n",
       "number-of-review -0.120137        0.006235          1.000000"
      ]
     },
     "execution_count": 28,
     "metadata": {},
     "output_type": "execute_result"
    }
   ],
   "source": [
    "merged_review_table.corr()"
   ]
  },
  {
   "cell_type": "code",
   "execution_count": 29,
   "metadata": {
    "colab": {
     "base_uri": "https://localhost:8080/",
     "height": 345
    },
    "executionInfo": {
     "elapsed": 52803,
     "status": "ok",
     "timestamp": 1613748103671,
     "user": {
      "displayName": "YAP MOU EN",
      "photoUrl": "https://lh3.googleusercontent.com/a-/AOh14GhPNpBKjbLgcci9ZOGWgaMF_YjmfMYywVswsf2zkQ=s64",
      "userId": "04185711044849077922"
     },
     "user_tz": -480
    },
    "id": "N5NKzeNP50ik",
    "outputId": "d1f5f69d-a17c-4c79-fb8a-75ec63b52d92"
   },
   "outputs": [
    {
     "data": {
      "text/plain": [
       "[Text(0.5, 0, 'Average Rating of Beauty Product'),\n",
       " Text(0, 0.5, 'Sales Rank'),\n",
       " Text(0.5, 1.0, 'Average Rating of Beauty Products against Sales Rank')]"
      ]
     },
     "execution_count": 29,
     "metadata": {},
     "output_type": "execute_result"
    },
    {
     "data": {
      "image/png": "[encoded data removed]",
      "text/plain": [
       "<Figure size 432x288 with 1 Axes>"
      ]
     },
     "metadata": {
      "needs_background": "light"
     },
     "output_type": "display_data"
    }
   ],
   "source": [
    "average_v_rank = sns.scatterplot(x='average-rating', \n",
    "                                 y='rank',\n",
    "                                 data=merged_review_table)\n",
    "\n",
    "average_v_rank.set(xlabel='Average Rating of Beauty Product', \n",
    "                   ylabel='Sales Rank', \n",
    "                   title=\"Average Rating of Beauty Products against Sales Rank\")"
   ]
  },
  {
   "cell_type": "markdown",
   "metadata": {
    "id": "RJI23QSXuuE3"
   },
   "source": [
    "### 5.2 Number of Review VS Sales Rank"
   ]
  },
  {
   "cell_type": "code",
   "execution_count": 65,
   "metadata": {
    "colab": {
     "base_uri": "https://localhost:8080/",
     "height": 407
    },
    "executionInfo": {
     "elapsed": 54029,
     "status": "ok",
     "timestamp": 1613748104914,
     "user": {
      "displayName": "YAP MOU EN",
      "photoUrl": "https://lh3.googleusercontent.com/a-/AOh14GhPNpBKjbLgcci9ZOGWgaMF_YjmfMYywVswsf2zkQ=s64",
      "userId": "04185711044849077922"
     },
     "user_tz": -480
    },
    "id": "SgD7JkQDuuE3",
    "outputId": "0dad3173-8e8d-4299-d4ac-f36330bf8696"
   },
   "outputs": [
    {
     "data": {
      "text/html": [
       "<div>\n",
       "<style scoped>\n",
       "    .dataframe tbody tr th:only-of-type {\n",
       "        vertical-align: middle;\n",
       "    }\n",
       "\n",
       "    .dataframe tbody tr th {\n",
       "        vertical-align: top;\n",
       "    }\n",
       "\n",
       "    .dataframe thead th {\n",
       "        text-align: right;\n",
       "    }\n",
       "</style>\n",
       "<table border=\"1\" class=\"dataframe\">\n",
       "  <thead>\n",
       "    <tr style=\"text-align: right;\">\n",
       "      <th></th>\n",
       "      <th>asin</th>\n",
       "      <th>number-of-review</th>\n",
       "      <th>rank</th>\n",
       "    </tr>\n",
       "  </thead>\n",
       "  <tbody>\n",
       "    <tr>\n",
       "      <th>8135</th>\n",
       "      <td>B00BXPVIT8</td>\n",
       "      <td>13</td>\n",
       "      <td>35</td>\n",
       "    </tr>\n",
       "    <tr>\n",
       "      <th>5863</th>\n",
       "      <td>B006IB5T4W</td>\n",
       "      <td>2790</td>\n",
       "      <td>65</td>\n",
       "    </tr>\n",
       "    <tr>\n",
       "      <th>11623</th>\n",
       "      <td>B00HYEPVG8</td>\n",
       "      <td>34</td>\n",
       "      <td>245</td>\n",
       "    </tr>\n",
       "    <tr>\n",
       "      <th>3201</th>\n",
       "      <td>B001QY8QXM</td>\n",
       "      <td>4543</td>\n",
       "      <td>280</td>\n",
       "    </tr>\n",
       "    <tr>\n",
       "      <th>77</th>\n",
       "      <td>B00005JS5C</td>\n",
       "      <td>2249</td>\n",
       "      <td>457</td>\n",
       "    </tr>\n",
       "    <tr>\n",
       "      <th>...</th>\n",
       "      <td>...</td>\n",
       "      <td>...</td>\n",
       "      <td>...</td>\n",
       "    </tr>\n",
       "    <tr>\n",
       "      <th>18734</th>\n",
       "      <td>B00TBTBJLA</td>\n",
       "      <td>1</td>\n",
       "      <td>3465939</td>\n",
       "    </tr>\n",
       "    <tr>\n",
       "      <th>23707</th>\n",
       "      <td>B015X6LH8E</td>\n",
       "      <td>1</td>\n",
       "      <td>3467691</td>\n",
       "    </tr>\n",
       "    <tr>\n",
       "      <th>31228</th>\n",
       "      <td>B01FWLYTG2</td>\n",
       "      <td>1</td>\n",
       "      <td>3469534</td>\n",
       "    </tr>\n",
       "    <tr>\n",
       "      <th>3019</th>\n",
       "      <td>B001LNW3ZK</td>\n",
       "      <td>2</td>\n",
       "      <td>3470465</td>\n",
       "    </tr>\n",
       "    <tr>\n",
       "      <th>2948</th>\n",
       "      <td>B001JYXGC0</td>\n",
       "      <td>1</td>\n",
       "      <td>3481442</td>\n",
       "    </tr>\n",
       "  </tbody>\n",
       "</table>\n",
       "<p>32083 rows × 3 columns</p>\n",
       "</div>"
      ],
      "text/plain": [
       "             asin  number-of-review     rank\n",
       "8135   B00BXPVIT8                13       35\n",
       "5863   B006IB5T4W              2790       65\n",
       "11623  B00HYEPVG8                34      245\n",
       "3201   B001QY8QXM              4543      280\n",
       "77     B00005JS5C              2249      457\n",
       "...           ...               ...      ...\n",
       "18734  B00TBTBJLA                 1  3465939\n",
       "23707  B015X6LH8E                 1  3467691\n",
       "31228  B01FWLYTG2                 1  3469534\n",
       "3019   B001LNW3ZK                 2  3470465\n",
       "2948   B001JYXGC0                 1  3481442\n",
       "\n",
       "[32083 rows x 3 columns]"
      ]
     },
     "execution_count": 65,
     "metadata": {},
     "output_type": "execute_result"
    }
   ],
   "source": [
    "#num_review = pd.DataFrame(dfMergedInner['asin'].value_counts())\n",
    "#num_review.reset_index(inplace = True)\n",
    "num_review = merged_review_table[['asin','number-of-review', 'rank']]\n",
    "#num_review = num_review.groupby('rank').count()\n",
    "\n",
    "#num_review.reset_index(inplace = True)\n",
    "num_review = num_review.sort_values(by=['rank'])\n",
    "#num_review.rename(columns={'asin':'number-review'},inplace=True)\n",
    "#filter = num_review['rank'] > 0\n",
    "#num_review = num_review[filter]\n",
    "#outlier = num_review['rank'] == 9549407\n",
    "#num_review.drop(num_review[outlier].index, inplace = True)\n",
    "num_review"
   ]
  },
  {
   "cell_type": "code",
   "execution_count": 31,
   "metadata": {
    "colab": {
     "base_uri": "https://localhost:8080/",
     "height": 107
    },
    "executionInfo": {
     "elapsed": 54020,
     "status": "ok",
     "timestamp": 1613748104915,
     "user": {
      "displayName": "YAP MOU EN",
      "photoUrl": "https://lh3.googleusercontent.com/a-/AOh14GhPNpBKjbLgcci9ZOGWgaMF_YjmfMYywVswsf2zkQ=s64",
      "userId": "04185711044849077922"
     },
     "user_tz": -480
    },
    "id": "1vKopKV3uuE4",
    "outputId": "70d679e5-9b37-4ddd-8219-3556847bbd45"
   },
   "outputs": [
    {
     "data": {
      "text/html": [
       "<div>\n",
       "<style scoped>\n",
       "    .dataframe tbody tr th:only-of-type {\n",
       "        vertical-align: middle;\n",
       "    }\n",
       "\n",
       "    .dataframe tbody tr th {\n",
       "        vertical-align: top;\n",
       "    }\n",
       "\n",
       "    .dataframe thead th {\n",
       "        text-align: right;\n",
       "    }\n",
       "</style>\n",
       "<table border=\"1\" class=\"dataframe\">\n",
       "  <thead>\n",
       "    <tr style=\"text-align: right;\">\n",
       "      <th></th>\n",
       "      <th>number-of-review</th>\n",
       "      <th>rank</th>\n",
       "    </tr>\n",
       "  </thead>\n",
       "  <tbody>\n",
       "    <tr>\n",
       "      <th>number-of-review</th>\n",
       "      <td>1.000000</td>\n",
       "      <td>-0.120137</td>\n",
       "    </tr>\n",
       "    <tr>\n",
       "      <th>rank</th>\n",
       "      <td>-0.120137</td>\n",
       "      <td>1.000000</td>\n",
       "    </tr>\n",
       "  </tbody>\n",
       "</table>\n",
       "</div>"
      ],
      "text/plain": [
       "                  number-of-review      rank\n",
       "number-of-review          1.000000 -0.120137\n",
       "rank                     -0.120137  1.000000"
      ]
     },
     "execution_count": 31,
     "metadata": {},
     "output_type": "execute_result"
    }
   ],
   "source": [
    "num_review.corr()"
   ]
  },
  {
   "cell_type": "code",
   "execution_count": 58,
   "metadata": {
    "colab": {
     "base_uri": "https://localhost:8080/",
     "height": 286
    },
    "executionInfo": {
     "elapsed": 54007,
     "status": "ok",
     "timestamp": 1613748104916,
     "user": {
      "displayName": "YAP MOU EN",
      "photoUrl": "https://lh3.googleusercontent.com/a-/AOh14GhPNpBKjbLgcci9ZOGWgaMF_YjmfMYywVswsf2zkQ=s64",
      "userId": "04185711044849077922"
     },
     "user_tz": -480
    },
    "id": "qDGDr1MxuuE5",
    "outputId": "00ca1acc-1994-451d-eaca-e69827ea23a7"
   },
   "outputs": [
    {
     "data": {
      "text/plain": [
       "<AxesSubplot:>"
      ]
     },
     "execution_count": 58,
     "metadata": {},
     "output_type": "execute_result"
    },
    {
     "data": {
      "image/png": "[encoded data removed]",
      "text/plain": [
       "<Figure size 1080x720 with 2 Axes>"
      ]
     },
     "metadata": {},
     "output_type": "display_data"
    }
   ],
   "source": [
    "sns.heatmap(num_review.corr(),cmap='jet')"
   ]
  },
  {
   "cell_type": "code",
   "execution_count": 59,
   "metadata": {
    "colab": {
     "base_uri": "https://localhost:8080/",
     "height": 307
    },
    "executionInfo": {
     "elapsed": 53995,
     "status": "ok",
     "timestamp": 1613748104917,
     "user": {
      "displayName": "YAP MOU EN",
      "photoUrl": "https://lh3.googleusercontent.com/a-/AOh14GhPNpBKjbLgcci9ZOGWgaMF_YjmfMYywVswsf2zkQ=s64",
      "userId": "04185711044849077922"
     },
     "user_tz": -480
    },
    "id": "qvGUU8TsuuE5",
    "outputId": "95ded1e6-452c-4574-be81-bf85e72e5446"
   },
   "outputs": [
    {
     "data": {
      "text/plain": [
       "<AxesSubplot:xlabel='number-of-review', ylabel='rank'>"
      ]
     },
     "execution_count": 59,
     "metadata": {},
     "output_type": "execute_result"
    },
    {
     "data": {
      "image/png": "[encoded data removed]",
      "text/plain": [
       "<Figure size 1080x720 with 1 Axes>"
      ]
     },
     "metadata": {},
     "output_type": "display_data"
    }
   ],
   "source": [
    "#figure, axes = plt.subplots(1, 2)\n",
    "#num_review.plot(ax=axes[0])\n",
    "sns.scatterplot(x=\"number-of-review\", y=\"rank\", data=num_review)"
   ]
  },
  {
   "cell_type": "code",
   "execution_count": 60,
   "metadata": {
    "colab": {
     "base_uri": "https://localhost:8080/",
     "height": 307
    },
    "executionInfo": {
     "elapsed": 55765,
     "status": "ok",
     "timestamp": 1613748106700,
     "user": {
      "displayName": "YAP MOU EN",
      "photoUrl": "https://lh3.googleusercontent.com/a-/AOh14GhPNpBKjbLgcci9ZOGWgaMF_YjmfMYywVswsf2zkQ=s64",
      "userId": "04185711044849077922"
     },
     "user_tz": -480
    },
    "id": "5oOCLA2SuuE6",
    "outputId": "10db61dc-29be-4a16-a53b-923e93c30863"
   },
   "outputs": [
    {
     "data": {
      "text/plain": [
       "(0.0, 4337063.211393461)"
      ]
     },
     "execution_count": 60,
     "metadata": {},
     "output_type": "execute_result"
    },
    {
     "data": {
      "image/png": "[encoded data removed]",
      "text/plain": [
       "<Figure size 1080x720 with 1 Axes>"
      ]
     },
     "metadata": {},
     "output_type": "display_data"
    }
   ],
   "source": [
    "sns.regplot(x=\"number-of-review\", y=\"rank\", data=num_review)\n",
    "plt.ylim(0,)"
   ]
  },
  {
   "cell_type": "markdown",
   "metadata": {
    "id": "YilTwYaMVQll"
   },
   "source": [
    "#### 5.2.1 high vs low num of review"
   ]
  },
  {
   "cell_type": "code",
   "execution_count": 61,
   "metadata": {
    "colab": {
     "base_uri": "https://localhost:8080/"
    },
    "executionInfo": {
     "elapsed": 55758,
     "status": "ok",
     "timestamp": 1613748106702,
     "user": {
      "displayName": "YAP MOU EN",
      "photoUrl": "https://lh3.googleusercontent.com/a-/AOh14GhPNpBKjbLgcci9ZOGWgaMF_YjmfMYywVswsf2zkQ=s64",
      "userId": "04185711044849077922"
     },
     "user_tz": -480
    },
    "id": "_HaEZuPbYlkS",
    "outputId": "3b4b71a3-9f15-4607-8117-34e4fb232134"
   },
   "outputs": [
    {
     "data": {
      "text/plain": [
       "(27257, 3)"
      ]
     },
     "execution_count": 61,
     "metadata": {},
     "output_type": "execute_result"
    }
   ],
   "source": [
    "num_review_temp = num_review[num_review['number-of-review']<200]\n",
    "num_review_temp.shape\n",
    "\n",
    "# 32083(all) \n",
    "# 32029(<500) / 54 (>=500)\n",
    "# 31540(<100) / 543 (>=100)"
   ]
  },
  {
   "cell_type": "code",
   "execution_count": 62,
   "metadata": {
    "colab": {
     "base_uri": "https://localhost:8080/",
     "height": 657
    },
    "executionInfo": {
     "elapsed": 55746,
     "status": "ok",
     "timestamp": 1613748106702,
     "user": {
      "displayName": "YAP MOU EN",
      "photoUrl": "https://lh3.googleusercontent.com/a-/AOh14GhPNpBKjbLgcci9ZOGWgaMF_YjmfMYywVswsf2zkQ=s64",
      "userId": "04185711044849077922"
     },
     "user_tz": -480
    },
    "id": "bSd3GDDCMVoo",
    "outputId": "ebaadda4-f3f8-4760-ebb7-5836ee853bfb"
   },
   "outputs": [
    {
     "name": "stderr",
     "output_type": "stream",
     "text": [
      "<ipython-input-62-f363264488b7>:6: SettingWithCopyWarning: \n",
      "A value is trying to be set on a copy of a slice from a DataFrame.\n",
      "Try using .loc[row_indexer,col_indexer] = value instead\n",
      "\n",
      "See the caveats in the documentation: https://pandas.pydata.org/pandas-docs/stable/user_guide/indexing.html#returning-a-view-versus-a-copy\n",
      "  num_review_temp1['review-num-range'] = '>10'\n",
      "<ipython-input-62-f363264488b7>:10: UserWarning: Boolean Series key will be reindexed to match DataFrame index.\n",
      "  num_review_temp2 = num_review_temp2[num_review_temp['number-of-review']>=8]\n",
      "<ipython-input-62-f363264488b7>:15: UserWarning: Boolean Series key will be reindexed to match DataFrame index.\n",
      "  num_review_temp3 = num_review_temp3[num_review_temp['number-of-review']>=5]\n",
      "<ipython-input-62-f363264488b7>:20: SettingWithCopyWarning: \n",
      "A value is trying to be set on a copy of a slice from a DataFrame.\n",
      "Try using .loc[row_indexer,col_indexer] = value instead\n",
      "\n",
      "See the caveats in the documentation: https://pandas.pydata.org/pandas-docs/stable/user_guide/indexing.html#returning-a-view-versus-a-copy\n",
      "  num_review_temp4['review-num-range'] = '<5'\n"
     ]
    },
    {
     "data": {
      "text/html": [
       "<div>\n",
       "<style scoped>\n",
       "    .dataframe tbody tr th:only-of-type {\n",
       "        vertical-align: middle;\n",
       "    }\n",
       "\n",
       "    .dataframe tbody tr th {\n",
       "        vertical-align: top;\n",
       "    }\n",
       "\n",
       "    .dataframe thead th {\n",
       "        text-align: right;\n",
       "    }\n",
       "</style>\n",
       "<table border=\"1\" class=\"dataframe\">\n",
       "  <thead>\n",
       "    <tr style=\"text-align: right;\">\n",
       "      <th></th>\n",
       "      <th>index</th>\n",
       "      <th>asin</th>\n",
       "      <th>number-of-review</th>\n",
       "      <th>rank</th>\n",
       "      <th>review-num-range</th>\n",
       "    </tr>\n",
       "  </thead>\n",
       "  <tbody>\n",
       "    <tr>\n",
       "      <th>0</th>\n",
       "      <td>4676</td>\n",
       "      <td>B00BXPVIT8</td>\n",
       "      <td>11</td>\n",
       "      <td>35</td>\n",
       "      <td>&gt;10</td>\n",
       "    </tr>\n",
       "    <tr>\n",
       "      <th>1</th>\n",
       "      <td>7300</td>\n",
       "      <td>B00HYEPVG8</td>\n",
       "      <td>34</td>\n",
       "      <td>245</td>\n",
       "      <td>&gt;10</td>\n",
       "    </tr>\n",
       "    <tr>\n",
       "      <th>2</th>\n",
       "      <td>24585</td>\n",
       "      <td>B01DJI7796</td>\n",
       "      <td>123</td>\n",
       "      <td>1017</td>\n",
       "      <td>&gt;10</td>\n",
       "    </tr>\n",
       "    <tr>\n",
       "      <th>3</th>\n",
       "      <td>23221</td>\n",
       "      <td>B01C39X6TW</td>\n",
       "      <td>143</td>\n",
       "      <td>1091</td>\n",
       "      <td>&gt;10</td>\n",
       "    </tr>\n",
       "    <tr>\n",
       "      <th>4</th>\n",
       "      <td>275</td>\n",
       "      <td>B000A2LRBY</td>\n",
       "      <td>100</td>\n",
       "      <td>2483</td>\n",
       "      <td>&gt;10</td>\n",
       "    </tr>\n",
       "    <tr>\n",
       "      <th>...</th>\n",
       "      <td>...</td>\n",
       "      <td>...</td>\n",
       "      <td>...</td>\n",
       "      <td>...</td>\n",
       "      <td>...</td>\n",
       "    </tr>\n",
       "    <tr>\n",
       "      <th>27252</th>\n",
       "      <td>8372</td>\n",
       "      <td>B00JL9SLJ8</td>\n",
       "      <td>1</td>\n",
       "      <td>3463199</td>\n",
       "      <td>&lt;5</td>\n",
       "    </tr>\n",
       "    <tr>\n",
       "      <th>27253</th>\n",
       "      <td>19798</td>\n",
       "      <td>B017G7YW1W</td>\n",
       "      <td>1</td>\n",
       "      <td>3465227</td>\n",
       "      <td>&lt;5</td>\n",
       "    </tr>\n",
       "    <tr>\n",
       "      <th>27254</th>\n",
       "      <td>13902</td>\n",
       "      <td>B00TBTBJLA</td>\n",
       "      <td>1</td>\n",
       "      <td>3465939</td>\n",
       "      <td>&lt;5</td>\n",
       "    </tr>\n",
       "    <tr>\n",
       "      <th>27255</th>\n",
       "      <td>18875</td>\n",
       "      <td>B015X6LH8E</td>\n",
       "      <td>1</td>\n",
       "      <td>3467691</td>\n",
       "      <td>&lt;5</td>\n",
       "    </tr>\n",
       "    <tr>\n",
       "      <th>27256</th>\n",
       "      <td>26396</td>\n",
       "      <td>B01FWLYTG2</td>\n",
       "      <td>1</td>\n",
       "      <td>3469534</td>\n",
       "      <td>&lt;5</td>\n",
       "    </tr>\n",
       "  </tbody>\n",
       "</table>\n",
       "<p>27257 rows × 5 columns</p>\n",
       "</div>"
      ],
      "text/plain": [
       "       index        asin  number-of-review     rank review-num-range\n",
       "0       4676  B00BXPVIT8                11       35              >10\n",
       "1       7300  B00HYEPVG8                34      245              >10\n",
       "2      24585  B01DJI7796               123     1017              >10\n",
       "3      23221  B01C39X6TW               143     1091              >10\n",
       "4        275  B000A2LRBY               100     2483              >10\n",
       "...      ...         ...               ...      ...              ...\n",
       "27252   8372  B00JL9SLJ8                 1  3463199               <5\n",
       "27253  19798  B017G7YW1W                 1  3465227               <5\n",
       "27254  13902  B00TBTBJLA                 1  3465939               <5\n",
       "27255  18875  B015X6LH8E                 1  3467691               <5\n",
       "27256  26396  B01FWLYTG2                 1  3469534               <5\n",
       "\n",
       "[27257 rows x 5 columns]"
      ]
     },
     "execution_count": 62,
     "metadata": {},
     "output_type": "execute_result"
    }
   ],
   "source": [
    "# filter based on num of review\n",
    "# filter into 4 range\n",
    "\n",
    "# review > 10\n",
    "num_review_temp1 = num_review_temp[num_review_temp['number-of-review']>10]\n",
    "num_review_temp1['review-num-range'] = '>10'\n",
    "\n",
    "# review 8-10\n",
    "num_review_temp2 = num_review_temp[num_review_temp['number-of-review']<=10]\n",
    "num_review_temp2 = num_review_temp2[num_review_temp['number-of-review']>=8]\n",
    "num_review_temp2['review-num-range'] = '8-10'\n",
    "\n",
    "# review 5-7\n",
    "num_review_temp3 = num_review_temp[num_review_temp['number-of-review']<=7]\n",
    "num_review_temp3 = num_review_temp3[num_review_temp['number-of-review']>=5]\n",
    "num_review_temp3['review-num-range'] = '5-7'\n",
    "\n",
    "# review < 5\n",
    "num_review_temp4 = num_review_temp[num_review_temp['number-of-review']<5]\n",
    "num_review_temp4['review-num-range'] = '<5'\n",
    "\n",
    "frames = [num_review_temp1, num_review_temp2, num_review_temp3, num_review_temp4]\n",
    "highlow_num_review = pd.concat(frames)\n",
    "highlow_num_review.reset_index(inplace=True)\n",
    "highlow_num_review"
   ]
  },
  {
   "cell_type": "code",
   "execution_count": 63,
   "metadata": {
    "colab": {
     "base_uri": "https://localhost:8080/"
    },
    "executionInfo": {
     "elapsed": 55735,
     "status": "ok",
     "timestamp": 1613748106703,
     "user": {
      "displayName": "YAP MOU EN",
      "photoUrl": "https://lh3.googleusercontent.com/a-/AOh14GhPNpBKjbLgcci9ZOGWgaMF_YjmfMYywVswsf2zkQ=s64",
      "userId": "04185711044849077922"
     },
     "user_tz": -480
    },
    "id": "4fmP2HcRf3QJ",
    "outputId": "73065370-c970-4adc-a463-10302f5ee27a"
   },
   "outputs": [
    {
     "name": "stdout",
     "output_type": "stream",
     "text": [
      "(3620, 4)\n",
      "(1195, 4)\n",
      "(2351, 4)\n",
      "(20091, 4)\n"
     ]
    }
   ],
   "source": [
    "# review > 10\n",
    "print(num_review_temp1.shape)\n",
    "# review 8-10\n",
    "print(num_review_temp2.shape)\n",
    "# review 5-7\n",
    "print(num_review_temp3.shape)\n",
    "# review < 5\n",
    "print(num_review_temp4.shape)"
   ]
  },
  {
   "cell_type": "code",
   "execution_count": 64,
   "metadata": {
    "colab": {
     "base_uri": "https://localhost:8080/",
     "height": 638
    },
    "executionInfo": {
     "elapsed": 58644,
     "status": "ok",
     "timestamp": 1613748109621,
     "user": {
      "displayName": "YAP MOU EN",
      "photoUrl": "https://lh3.googleusercontent.com/a-/AOh14GhPNpBKjbLgcci9ZOGWgaMF_YjmfMYywVswsf2zkQ=s64",
      "userId": "04185711044849077922"
     },
     "user_tz": -480
    },
    "id": "vDR2K_AiMs-k",
    "outputId": "8f2a5497-0e8f-4223-de6b-ebfa6ef8924c"
   },
   "outputs": [
    {
     "data": {
      "text/plain": [
       "<AxesSubplot:xlabel='number-of-review', ylabel='rank'>"
      ]
     },
     "execution_count": 64,
     "metadata": {},
     "output_type": "execute_result"
    },
    {
     "data": {
      "image/png": "[encoded data removed]",
      "text/plain": [
       "<Figure size 1080x720 with 1 Axes>"
      ]
     },
     "metadata": {},
     "output_type": "display_data"
    }
   ],
   "source": [
    "sns.set(rc={'figure.figsize':(15,10)})\n",
    "sns.scatterplot(x='number-of-review', y='rank', data = highlow_num_review, hue='review-num-range')"
   ]
  },
  {
   "cell_type": "markdown",
   "metadata": {},
   "source": [
    "#### 5.2.2 Filter by year\n",
    "Year 2000 - Year 2018"
   ]
  },
  {
   "cell_type": "code",
   "execution_count": 83,
   "metadata": {},
   "outputs": [
    {
     "name": "stderr",
     "output_type": "stream",
     "text": [
      "<ipython-input-83-5c76192dbf64>:2: SettingWithCopyWarning: \n",
      "A value is trying to be set on a copy of a slice from a DataFrame.\n",
      "Try using .loc[row_indexer,col_indexer] = value instead\n",
      "\n",
      "See the caveats in the documentation: https://pandas.pydata.org/pandas-docs/stable/user_guide/indexing.html#returning-a-view-versus-a-copy\n",
      "  review_year_00_18['year'] = review_year_00_18['year'].astype('int')\n"
     ]
    }
   ],
   "source": [
    "review_year_00_18 = final_review_table[['asin', 'year', 'overall']]\n",
    "review_year_00_18['year'] = review_year_00_18['year'].astype('int')\n",
    "\n",
    "def merged_review_filterByYear(yearX):\n",
    "    #filter the year and drop that column\n",
    "    review_yearX = review_year_00_18[review_year_00_18['year'] == yearX].drop(['year'],axis=1)\n",
    "    \n",
    "    #calculate average, count and merge with rank\n",
    "    avg_review_yearX = avgReview(review_yearX)\n",
    "    count_review_yearX = countReview(review_yearX)\n",
    "    merged_review_yearX = merge_avgReview_numReview_product(avg_review_yearX, count_review_yearX, product_rank)\n",
    "    \n",
    "    return merged_review_yearX\n",
    "\n",
    "def RankVsNumReview(merged_review_yearX):\n",
    "    #only needs num of review\n",
    "    num_review_yearX = merged_review_yearX[['asin','number-of-review', 'rank']]\n",
    "    num_review_yearX = num_review_yearX.sort_values(by=['rank'])\n",
    "    num_review_yearX_temp = num_review_yearX[num_review_yearX['number-of-review']<20]\n",
    "    \n",
    "    return num_review_yearX_temp"
   ]
  },
  {
   "cell_type": "code",
   "execution_count": 85,
   "metadata": {},
   "outputs": [
    {
     "data": {
      "text/plain": [
       "<AxesSubplot:xlabel='number-of-review', ylabel='rank'>"
      ]
     },
     "execution_count": 85,
     "metadata": {},
     "output_type": "execute_result"
    },
    {
     "data": {
      "image/png": "[encoded data removed]",
      "text/plain": [
       "<Figure size 1080x720 with 1 Axes>"
      ]
     },
     "metadata": {},
     "output_type": "display_data"
    }
   ],
   "source": [
    "review18 = merged_review_filterByYear(2014)\n",
    "num_review_18 = RankVsNumReview(review18)\n",
    "\n",
    "sns.scatterplot(x=\"number-of-review\", y=\"rank\", data=num_review_18)"
   ]
  },
  {
   "cell_type": "markdown",
   "metadata": {
    "id": "GcdLv7rj-4rj"
   },
   "source": [
    "### 5.3 Data Binning"
   ]
  },
  {
   "cell_type": "code",
   "execution_count": null,
   "metadata": {
    "colab": {
     "base_uri": "https://localhost:8080/"
    },
    "executionInfo": {
     "elapsed": 58633,
     "status": "ok",
     "timestamp": 1613748109622,
     "user": {
      "displayName": "YAP MOU EN",
      "photoUrl": "https://lh3.googleusercontent.com/a-/AOh14GhPNpBKjbLgcci9ZOGWgaMF_YjmfMYywVswsf2zkQ=s64",
      "userId": "04185711044849077922"
     },
     "user_tz": -480
    },
    "id": "SeSqUcTy-8Ag",
    "outputId": "127f379c-fed6-44b7-ee7b-19e8934ed10f"
   },
   "outputs": [],
   "source": [
    "bins = np.linspace(min(merged_review_table['rank']), max(merged_review_table['rank']), 5)\n",
    "bins"
   ]
  },
  {
   "cell_type": "code",
   "execution_count": null,
   "metadata": {
    "colab": {
     "base_uri": "https://localhost:8080/",
     "height": 197
    },
    "executionInfo": {
     "elapsed": 58615,
     "status": "ok",
     "timestamp": 1613748109623,
     "user": {
      "displayName": "YAP MOU EN",
      "photoUrl": "https://lh3.googleusercontent.com/a-/AOh14GhPNpBKjbLgcci9ZOGWgaMF_YjmfMYywVswsf2zkQ=s64",
      "userId": "04185711044849077922"
     },
     "user_tz": -480
    },
    "id": "b4YknN4F_S_C",
    "outputId": "56824e37-2c70-47c8-aee0-f9e613e5bbda"
   },
   "outputs": [],
   "source": [
    "group_names = ['Very Good', 'Good', 'Moderate', 'Bad']\n",
    "merged_review_table['rank-binned'] = pd.cut(merged_review_table['rank'], bins, labels=group_names, include_lowest=True)\n",
    "merged_review_table.head()"
   ]
  },
  {
   "cell_type": "code",
   "execution_count": null,
   "metadata": {
    "colab": {
     "base_uri": "https://localhost:8080/",
     "height": 285
    },
    "executionInfo": {
     "elapsed": 58603,
     "status": "ok",
     "timestamp": 1613748109624,
     "user": {
      "displayName": "YAP MOU EN",
      "photoUrl": "https://lh3.googleusercontent.com/a-/AOh14GhPNpBKjbLgcci9ZOGWgaMF_YjmfMYywVswsf2zkQ=s64",
      "userId": "04185711044849077922"
     },
     "user_tz": -480
    },
    "id": "YBAQjEHF_TEu",
    "outputId": "11d46c4a-5b78-4ff8-aefb-a417ebeeee9a"
   },
   "outputs": [],
   "source": [
    "plt.figure(figsize = (5,4))\n",
    "plt.bar(group_names, merged_review_table['rank-binned'].value_counts())"
   ]
  },
  {
   "cell_type": "code",
   "execution_count": null,
   "metadata": {
    "colab": {
     "base_uri": "https://localhost:8080/",
     "height": 285
    },
    "executionInfo": {
     "elapsed": 58589,
     "status": "ok",
     "timestamp": 1613748109625,
     "user": {
      "displayName": "YAP MOU EN",
      "photoUrl": "https://lh3.googleusercontent.com/a-/AOh14GhPNpBKjbLgcci9ZOGWgaMF_YjmfMYywVswsf2zkQ=s64",
      "userId": "04185711044849077922"
     },
     "user_tz": -480
    },
    "id": "l9fxHhXTGq83",
    "outputId": "4cc00188-068e-471e-baea-11ae9c3e7a31"
   },
   "outputs": [],
   "source": [
    "plt.figure(figsize = (5,4))\n",
    "bp = sns.boxplot(x='rank-binned', y='average-rating', data=merged_review_table)"
   ]
  },
  {
   "cell_type": "code",
   "execution_count": null,
   "metadata": {
    "colab": {
     "base_uri": "https://localhost:8080/",
     "height": 638
    },
    "executionInfo": {
     "elapsed": 66062,
     "status": "ok",
     "timestamp": 1613748117106,
     "user": {
      "displayName": "YAP MOU EN",
      "photoUrl": "https://lh3.googleusercontent.com/a-/AOh14GhPNpBKjbLgcci9ZOGWgaMF_YjmfMYywVswsf2zkQ=s64",
      "userId": "04185711044849077922"
     },
     "user_tz": -480
    },
    "id": "Tyete91TEK4S",
    "outputId": "e7f7e9dd-641e-44ee-c02e-f59ae1f0faa0"
   },
   "outputs": [],
   "source": [
    "sns.set(rc={'figure.figsize':(15,10)})\n",
    "sns.scatterplot(x='average-rating', y='rank', data = merged_review_table, hue='rank-binned')"
   ]
  },
  {
   "cell_type": "code",
   "execution_count": null,
   "metadata": {
    "colab": {
     "base_uri": "https://localhost:8080/",
     "height": 197
    },
    "executionInfo": {
     "elapsed": 66052,
     "status": "ok",
     "timestamp": 1613748117107,
     "user": {
      "displayName": "YAP MOU EN",
      "photoUrl": "https://lh3.googleusercontent.com/a-/AOh14GhPNpBKjbLgcci9ZOGWgaMF_YjmfMYywVswsf2zkQ=s64",
      "userId": "04185711044849077922"
     },
     "user_tz": -480
    },
    "id": "jn--Vw5YZNEe",
    "outputId": "26895543-a518-45b6-ae5f-bc445f05d9b8"
   },
   "outputs": [],
   "source": [
    "num_review_lt200 = merged_review_table.copy()\n",
    "num_review_lt200 = num_review_lt200[num_review_lt200['number-of-review']<200]\n",
    "\n",
    "\n",
    "num_review_lt200['average-rating-range'] = pd.cut(num_review_lt200['average-rating'],\n",
    "                                                  [0, 4, 6], \n",
    "                                                  right=False,\n",
    "                                                  labels=[\"(1, 4]\", \"(4, 5)\"])\n",
    "num_review_lt200.head()"
   ]
  },
  {
   "cell_type": "markdown",
   "metadata": {
    "id": "Q0AJ5fkNai8g"
   },
   "source": [
    "Unlike `merged_review_table`, the `num_review_lt200` only contains product that has less than 200 reviews.\n",
    "\n",
    "We found that there are 31856 products"
   ]
  },
  {
   "cell_type": "code",
   "execution_count": null,
   "metadata": {
    "colab": {
     "base_uri": "https://localhost:8080/",
     "height": 638
    },
    "executionInfo": {
     "elapsed": 70215,
     "status": "ok",
     "timestamp": 1613748121282,
     "user": {
      "displayName": "YAP MOU EN",
      "photoUrl": "https://lh3.googleusercontent.com/a-/AOh14GhPNpBKjbLgcci9ZOGWgaMF_YjmfMYywVswsf2zkQ=s64",
      "userId": "04185711044849077922"
     },
     "user_tz": -480
    },
    "id": "k32DNymYZNh8",
    "outputId": "13ebc5a9-8f76-49fe-a47a-d3f4ddbf83dc"
   },
   "outputs": [],
   "source": [
    "sns.set(rc={'figure.figsize':(15,10)})\n",
    "sns.scatterplot(x='average-rating', y='rank', data=num_review_lt200, hue='average-rating-range', palette=[\"k\", \"C3\"])"
   ]
  },
  {
   "cell_type": "code",
   "execution_count": null,
   "metadata": {
    "colab": {
     "base_uri": "https://localhost:8080/",
     "height": 638
    },
    "executionInfo": {
     "elapsed": 70207,
     "status": "ok",
     "timestamp": 1613748121283,
     "user": {
      "displayName": "YAP MOU EN",
      "photoUrl": "https://lh3.googleusercontent.com/a-/AOh14GhPNpBKjbLgcci9ZOGWgaMF_YjmfMYywVswsf2zkQ=s64",
      "userId": "04185711044849077922"
     },
     "user_tz": -480
    },
    "id": "F1T4OYFPZNkQ",
    "outputId": "178ec58f-82b0-4e2a-bb5b-cf4475e5cca3"
   },
   "outputs": [],
   "source": [
    "sns.set(rc={'figure.figsize':(15,10)})\n",
    "sns.scatterplot(x='number-of-review', y='rank', data=num_review_lt200, hue='average-rating-range', palette=[\"k\", \"C3\"])"
   ]
  },
  {
   "cell_type": "markdown",
   "metadata": {
    "id": "wRfH2SpkORNS"
   },
   "source": [
    "### 5.4 Analysing \"Very Good\" Products\n",
    "\n",
    "Further analysing product binned in \"Very Good\". These product ranking falls into the range 35 ~ 870386.75\n",
    "\n"
   ]
  },
  {
   "cell_type": "code",
   "execution_count": null,
   "metadata": {
    "colab": {
     "base_uri": "https://localhost:8080/",
     "height": 407
    },
    "executionInfo": {
     "elapsed": 70196,
     "status": "ok",
     "timestamp": 1613748121284,
     "user": {
      "displayName": "YAP MOU EN",
      "photoUrl": "https://lh3.googleusercontent.com/a-/AOh14GhPNpBKjbLgcci9ZOGWgaMF_YjmfMYywVswsf2zkQ=s64",
      "userId": "04185711044849077922"
     },
     "user_tz": -480
    },
    "id": "u8jOD5ZLLRsr",
    "outputId": "06895916-51ef-4d91-e505-2266ee55e073"
   },
   "outputs": [],
   "source": [
    "vg_filter = merged_review_table['rank'] <= 870386.75\n",
    "vg_table = merged_review_table[vg_filter]\n",
    "vg_table.sort_values(by=['rank'])"
   ]
  },
  {
   "cell_type": "markdown",
   "metadata": {
    "id": "hE4fPWfgczQ5"
   },
   "source": [
    "There are 11379 products that falls in the \"Very Good\" category, with the highest rank being 35, and the lowest rank is 870359.\n",
    "\n",
    "We will further bin the products."
   ]
  },
  {
   "cell_type": "code",
   "execution_count": null,
   "metadata": {
    "colab": {
     "base_uri": "https://localhost:8080/"
    },
    "executionInfo": {
     "elapsed": 70186,
     "status": "ok",
     "timestamp": 1613748121285,
     "user": {
      "displayName": "YAP MOU EN",
      "photoUrl": "https://lh3.googleusercontent.com/a-/AOh14GhPNpBKjbLgcci9ZOGWgaMF_YjmfMYywVswsf2zkQ=s64",
      "userId": "04185711044849077922"
     },
     "user_tz": -480
    },
    "id": "4KoxV1dQLSiI",
    "outputId": "561bd574-09be-42c2-ad7a-309d54042874"
   },
   "outputs": [],
   "source": [
    "bins_2 = np.linspace(min(vg_table['rank']), max(vg_table['rank']), 5)\n",
    "bins_2"
   ]
  },
  {
   "cell_type": "code",
   "execution_count": null,
   "metadata": {
    "colab": {
     "base_uri": "https://localhost:8080/",
     "height": 297
    },
    "executionInfo": {
     "elapsed": 70177,
     "status": "ok",
     "timestamp": 1613748121286,
     "user": {
      "displayName": "YAP MOU EN",
      "photoUrl": "https://lh3.googleusercontent.com/a-/AOh14GhPNpBKjbLgcci9ZOGWgaMF_YjmfMYywVswsf2zkQ=s64",
      "userId": "04185711044849077922"
     },
     "user_tz": -480
    },
    "id": "uS2EtD9ix5GB",
    "outputId": "a7c5d0d8-0bbc-42e7-d54f-ef7fc6354a28"
   },
   "outputs": [],
   "source": [
    "group_names_2 = ['1', '2', '3', '4']\n",
    "vg_table['upper-rank-binned'] = pd.cut(vg_table['rank'], bins_2, labels=group_names_2, include_lowest=True)\n",
    "vg_table.head()"
   ]
  },
  {
   "cell_type": "code",
   "execution_count": null,
   "metadata": {
    "colab": {
     "base_uri": "https://localhost:8080/",
     "height": 285
    },
    "executionInfo": {
     "elapsed": 70166,
     "status": "ok",
     "timestamp": 1613748121287,
     "user": {
      "displayName": "YAP MOU EN",
      "photoUrl": "https://lh3.googleusercontent.com/a-/AOh14GhPNpBKjbLgcci9ZOGWgaMF_YjmfMYywVswsf2zkQ=s64",
      "userId": "04185711044849077922"
     },
     "user_tz": -480
    },
    "id": "WTFwV1uiycEB",
    "outputId": "e7ad4125-8e85-4588-f87f-0ac99211d809"
   },
   "outputs": [],
   "source": [
    "plt.figure(figsize = (5,4))\n",
    "plt.bar(group_names_2, vg_table['upper-rank-binned'].value_counts())"
   ]
  },
  {
   "cell_type": "code",
   "execution_count": null,
   "metadata": {
    "colab": {
     "base_uri": "https://localhost:8080/",
     "height": 285
    },
    "executionInfo": {
     "elapsed": 70153,
     "status": "ok",
     "timestamp": 1613748121288,
     "user": {
      "displayName": "YAP MOU EN",
      "photoUrl": "https://lh3.googleusercontent.com/a-/AOh14GhPNpBKjbLgcci9ZOGWgaMF_YjmfMYywVswsf2zkQ=s64",
      "userId": "04185711044849077922"
     },
     "user_tz": -480
    },
    "id": "5bkq6a9tycKu",
    "outputId": "a46cb670-73c4-4409-aff4-72774ebc998e"
   },
   "outputs": [],
   "source": [
    "plt.figure(figsize = (5,4))\n",
    "bp = sns.boxplot(x='upper-rank-binned', y='average-rating', data=vg_table)"
   ]
  },
  {
   "cell_type": "code",
   "execution_count": null,
   "metadata": {
    "colab": {
     "base_uri": "https://localhost:8080/",
     "height": 407
    },
    "executionInfo": {
     "elapsed": 70145,
     "status": "ok",
     "timestamp": 1613748121289,
     "user": {
      "displayName": "YAP MOU EN",
      "photoUrl": "https://lh3.googleusercontent.com/a-/AOh14GhPNpBKjbLgcci9ZOGWgaMF_YjmfMYywVswsf2zkQ=s64",
      "userId": "04185711044849077922"
     },
     "user_tz": -480
    },
    "id": "r9UxoScBbW2W",
    "outputId": "31142b79-bf0c-46b2-cbdc-73043ed52b0f"
   },
   "outputs": [],
   "source": [
    "vg_table.sort_values(by='average-rating')"
   ]
  },
  {
   "cell_type": "code",
   "execution_count": null,
   "metadata": {
    "colab": {
     "base_uri": "https://localhost:8080/",
     "height": 231
    },
    "executionInfo": {
     "elapsed": 70132,
     "status": "ok",
     "timestamp": 1613748121290,
     "user": {
      "displayName": "YAP MOU EN",
      "photoUrl": "https://lh3.googleusercontent.com/a-/AOh14GhPNpBKjbLgcci9ZOGWgaMF_YjmfMYywVswsf2zkQ=s64",
      "userId": "04185711044849077922"
     },
     "user_tz": -480
    },
    "id": "RSEUHiVebW4q",
    "outputId": "59e5073a-2c8a-464c-c433-88665f61fe03"
   },
   "outputs": [],
   "source": [
    "vg_table_lt200 = vg_table[vg_table['number-of-review']<200].copy() # cleared 214 products\n",
    "vg_table_top = vg_table_lt200[vg_table['upper-rank-binned'] == '1'].copy()\n",
    "\n",
    "vg_table_top['average-rating-range'] = pd.cut(vg_table_top['average-rating'],\n",
    "                                                  [0, 4, 6], \n",
    "                                                  right=False,\n",
    "                                                  labels=[\"(1, 4]\", \"(4, 5)\"])\n",
    "vg_table_top.head() "
   ]
  },
  {
   "cell_type": "code",
   "execution_count": null,
   "metadata": {
    "colab": {
     "base_uri": "https://localhost:8080/",
     "height": 518
    },
    "executionInfo": {
     "elapsed": 75709,
     "status": "ok",
     "timestamp": 1613748126879,
     "user": {
      "displayName": "YAP MOU EN",
      "photoUrl": "https://lh3.googleusercontent.com/a-/AOh14GhPNpBKjbLgcci9ZOGWgaMF_YjmfMYywVswsf2zkQ=s64",
      "userId": "04185711044849077922"
     },
     "user_tz": -480
    },
    "id": "0tSjHodTbXO_",
    "outputId": "c431d078-4e95-4209-cdf5-5ab97e887088"
   },
   "outputs": [],
   "source": [
    "sns.set(rc={'figure.figsize':(10,8)})\n",
    "sns.scatterplot(x='average-rating', y='rank', data=vg_table_top, hue='average-rating-range', palette=[\"k\", \"C3\"])"
   ]
  },
  {
   "cell_type": "code",
   "execution_count": null,
   "metadata": {
    "colab": {
     "base_uri": "https://localhost:8080/",
     "height": 518
    },
    "executionInfo": {
     "elapsed": 75701,
     "status": "ok",
     "timestamp": 1613748126879,
     "user": {
      "displayName": "YAP MOU EN",
      "photoUrl": "https://lh3.googleusercontent.com/a-/AOh14GhPNpBKjbLgcci9ZOGWgaMF_YjmfMYywVswsf2zkQ=s64",
      "userId": "04185711044849077922"
     },
     "user_tz": -480
    },
    "id": "G7hEllHnbXTI",
    "outputId": "0f5a92cc-8af3-4dd1-c5fa-adad37661ad2"
   },
   "outputs": [],
   "source": [
    "sns.set(rc={'figure.figsize':(10,8)})\n",
    "sns.scatterplot(x='number-of-review', y='rank', data=vg_table_top, hue='average-rating-range', palette=[\"k\", \"C3\"])"
   ]
  },
  {
   "cell_type": "markdown",
   "metadata": {
    "id": "lIT9NH2xTluu"
   },
   "source": [
    "### 5.5 Slice Sales Rank < 5000\n",
    "\n"
   ]
  },
  {
   "cell_type": "code",
   "execution_count": null,
   "metadata": {
    "colab": {
     "base_uri": "https://localhost:8080/",
     "height": 407
    },
    "executionInfo": {
     "elapsed": 75686,
     "status": "ok",
     "timestamp": 1613748126880,
     "user": {
      "displayName": "YAP MOU EN",
      "photoUrl": "https://lh3.googleusercontent.com/a-/AOh14GhPNpBKjbLgcci9ZOGWgaMF_YjmfMYywVswsf2zkQ=s64",
      "userId": "04185711044849077922"
     },
     "user_tz": -480
    },
    "id": "3M5f64XdKn_m",
    "outputId": "43b0026a-50c3-4200-9349-7cbbc46ca08c"
   },
   "outputs": [],
   "source": [
    "#try to take data that have sales rank less than 50000\n",
    "partial_table = merged_review_table[merged_review_table['rank'] <= 50000]\n",
    "\n",
    "#min-max normalization\n",
    "#partial_table['rank'] = (partial_table['rank'] - partial_table['rank'].min())/(partial_table['rank'].max()-partial_table['rank'].min())\n",
    "partial_table"
   ]
  },
  {
   "cell_type": "code",
   "execution_count": null,
   "metadata": {
    "colab": {
     "base_uri": "https://localhost:8080/",
     "height": 137
    },
    "executionInfo": {
     "elapsed": 75674,
     "status": "ok",
     "timestamp": 1613748126881,
     "user": {
      "displayName": "YAP MOU EN",
      "photoUrl": "https://lh3.googleusercontent.com/a-/AOh14GhPNpBKjbLgcci9ZOGWgaMF_YjmfMYywVswsf2zkQ=s64",
      "userId": "04185711044849077922"
     },
     "user_tz": -480
    },
    "id": "OrF_G-7uKvdC",
    "outputId": "3b24e59c-730a-46fd-deeb-77f88c11b173"
   },
   "outputs": [],
   "source": [
    "partial_table.corr()"
   ]
  },
  {
   "cell_type": "code",
   "execution_count": null,
   "metadata": {
    "colab": {
     "base_uri": "https://localhost:8080/",
     "height": 407
    },
    "executionInfo": {
     "elapsed": 75661,
     "status": "ok",
     "timestamp": 1613748126882,
     "user": {
      "displayName": "YAP MOU EN",
      "photoUrl": "https://lh3.googleusercontent.com/a-/AOh14GhPNpBKjbLgcci9ZOGWgaMF_YjmfMYywVswsf2zkQ=s64",
      "userId": "04185711044849077922"
     },
     "user_tz": -480
    },
    "id": "f73_KLqBKyLq",
    "outputId": "74bc336c-ec32-40ed-d51e-3c9b4538ec92"
   },
   "outputs": [],
   "source": [
    "num_review = partial_table[['asin','number-of-review', 'rank']]\n",
    "num_review = num_review.sort_values(by=['rank'])\n",
    "num_review"
   ]
  },
  {
   "cell_type": "code",
   "execution_count": null,
   "metadata": {
    "colab": {
     "base_uri": "https://localhost:8080/",
     "height": 518
    },
    "executionInfo": {
     "elapsed": 75644,
     "status": "ok",
     "timestamp": 1613748126882,
     "user": {
      "displayName": "YAP MOU EN",
      "photoUrl": "https://lh3.googleusercontent.com/a-/AOh14GhPNpBKjbLgcci9ZOGWgaMF_YjmfMYywVswsf2zkQ=s64",
      "userId": "04185711044849077922"
     },
     "user_tz": -480
    },
    "id": "drZMkfiwKzy8",
    "outputId": "7823d738-07f0-45bc-f62e-ffa20faeb393"
   },
   "outputs": [],
   "source": [
    "plt.figure(figsize = (10,8))\n",
    "sns.scatterplot(x=\"number-of-review\", y=\"rank\", data=num_review)"
   ]
  },
  {
   "cell_type": "code",
   "execution_count": null,
   "metadata": {
    "colab": {
     "base_uri": "https://localhost:8080/",
     "height": 568
    },
    "executionInfo": {
     "elapsed": 75629,
     "status": "ok",
     "timestamp": 1613748126884,
     "user": {
      "displayName": "YAP MOU EN",
      "photoUrl": "https://lh3.googleusercontent.com/a-/AOh14GhPNpBKjbLgcci9ZOGWgaMF_YjmfMYywVswsf2zkQ=s64",
      "userId": "04185711044849077922"
     },
     "user_tz": -480
    },
    "id": "r9T_T3ZcK25O",
    "outputId": "f1555dc9-3a9d-4de7-cca8-7672a9ab4279"
   },
   "outputs": [],
   "source": [
    "plt.figure(figsize = (10,8))\n",
    "average_v_rank = sns.scatterplot(x='average-rating', \n",
    "                                 y='rank',\n",
    "                                 data=partial_table)\n",
    "\n",
    "average_v_rank.set(xlabel='Average Rating of Beauty Product', \n",
    "                   ylabel='Sales Rank', \n",
    "                   title=\"Average Rating of Beauty Products against Sales Rank\")"
   ]
  },
  {
   "cell_type": "markdown",
   "metadata": {
    "id": "X9zSU1m_K-PW"
   },
   "source": [
    "### 5.6 Price VS Sales Rank"
   ]
  },
  {
   "cell_type": "code",
   "execution_count": null,
   "metadata": {
    "id": "TnFlOHSNLAxz"
   },
   "outputs": [],
   "source": [
    "price_rank_table = product_table[['rank','price']]\n",
    "price_rank_table = price_rank_table[price_rank_table['price'] > 0]\n",
    "price_rank_table = price_rank_table[price_rank_table['rank'] > 0]\n",
    "#price_rank_table  = price_rank_table[price_rank_table ['rank'] <= 50000]"
   ]
  },
  {
   "cell_type": "code",
   "execution_count": null,
   "metadata": {
    "id": "k_Gi3848LDAZ"
   },
   "outputs": [],
   "source": [
    "#min-max normalization\n",
    "price_rank_table['rank'] = (price_rank_table['rank'] - price_rank_table['rank'].min())/(price_rank_table['rank'].max()-price_rank_table['rank'].min())"
   ]
  },
  {
   "cell_type": "code",
   "execution_count": null,
   "metadata": {
    "colab": {
     "base_uri": "https://localhost:8080/",
     "height": 407
    },
    "executionInfo": {
     "elapsed": 75605,
     "status": "ok",
     "timestamp": 1613748126887,
     "user": {
      "displayName": "YAP MOU EN",
      "photoUrl": "https://lh3.googleusercontent.com/a-/AOh14GhPNpBKjbLgcci9ZOGWgaMF_YjmfMYywVswsf2zkQ=s64",
      "userId": "04185711044849077922"
     },
     "user_tz": -480
    },
    "id": "wvlDeowmLEA6",
    "outputId": "1ce08c7d-5419-4c86-90c3-0b6039751a36"
   },
   "outputs": [],
   "source": [
    "price_rank_table.sort_values(by=['price'])"
   ]
  },
  {
   "cell_type": "code",
   "execution_count": null,
   "metadata": {
    "colab": {
     "base_uri": "https://localhost:8080/",
     "height": 107
    },
    "executionInfo": {
     "elapsed": 75580,
     "status": "ok",
     "timestamp": 1613748126887,
     "user": {
      "displayName": "YAP MOU EN",
      "photoUrl": "https://lh3.googleusercontent.com/a-/AOh14GhPNpBKjbLgcci9ZOGWgaMF_YjmfMYywVswsf2zkQ=s64",
      "userId": "04185711044849077922"
     },
     "user_tz": -480
    },
    "id": "djju2x9iLFva",
    "outputId": "d2c6bac3-b738-4b99-ab7c-6d73710cf09f"
   },
   "outputs": [],
   "source": [
    "price_rank_table.corr()"
   ]
  },
  {
   "cell_type": "code",
   "execution_count": null,
   "metadata": {
    "colab": {
     "base_uri": "https://localhost:8080/",
     "height": 568
    },
    "executionInfo": {
     "elapsed": 75565,
     "status": "ok",
     "timestamp": 1613748126889,
     "user": {
      "displayName": "YAP MOU EN",
      "photoUrl": "https://lh3.googleusercontent.com/a-/AOh14GhPNpBKjbLgcci9ZOGWgaMF_YjmfMYywVswsf2zkQ=s64",
      "userId": "04185711044849077922"
     },
     "user_tz": -480
    },
    "id": "Nmlz1c2mLH5K",
    "outputId": "ce0fdae3-b1f9-4c47-bb19-06caaa0d8aea"
   },
   "outputs": [],
   "source": [
    "plt.figure(figsize = (10,8))\n",
    "price_rank_graph = sns.scatterplot(x='price', \n",
    "                                 y='rank',\n",
    "                                 data=price_rank_table)\n",
    "\n",
    "price_rank_graph .set(xlabel='Price of Beauty Product', \n",
    "                   ylabel='Sales Rank', \n",
    "                   title=\"Price of Beauty Products against Sales Rank\")"
   ]
  },
  {
   "cell_type": "markdown",
   "metadata": {
    "id": "8BtC2jCKyfzG"
   },
   "source": [
    "### 5.7 Number of High/Low Rating VS Sales Rank Analysis\n"
   ]
  },
  {
   "cell_type": "code",
   "execution_count": null,
   "metadata": {
    "id": "0Fy71pSmzAj-"
   },
   "outputs": [],
   "source": [
    "rating_grouping = final_review_table[['asin', 'overall']]\n",
    "\n",
    "# count by number of high rating reviews\n",
    "high_review_count = rating_grouping.groupby(['asin'])['overall'].apply(lambda x: (x >= 4).sum())\n",
    "high_review_count = pd.DataFrame(high_review_count)\n",
    "high_review_count.rename(columns={'overall':'number-of-high-rating-review'},inplace=True)\n",
    "high_review_count.reset_index(inplace = True)\n",
    "\n",
    "# count by number of low rating reviews\n",
    "low_review_count = rating_grouping.groupby(['asin'])['overall'].apply(lambda x: (x < 4).sum())\n",
    "low_review_count = pd.DataFrame(low_review_count)\n",
    "low_review_count.rename(columns={'overall':'number-of-low-rating-review'},inplace=True)\n",
    "low_review_count.reset_index(inplace = True)"
   ]
  },
  {
   "cell_type": "code",
   "execution_count": null,
   "metadata": {
    "colab": {
     "base_uri": "https://localhost:8080/",
     "height": 407
    },
    "executionInfo": {
     "elapsed": 87211,
     "status": "ok",
     "timestamp": 1613748138553,
     "user": {
      "displayName": "YAP MOU EN",
      "photoUrl": "https://lh3.googleusercontent.com/a-/AOh14GhPNpBKjbLgcci9ZOGWgaMF_YjmfMYywVswsf2zkQ=s64",
      "userId": "04185711044849077922"
     },
     "user_tz": -480
    },
    "id": "UhoDSWxtzApU",
    "outputId": "faadc6a9-bc52-4004-8633-365849a998f1"
   },
   "outputs": [],
   "source": [
    "# m is a updated version of merged_review_table, with column recording the number of high & low rating reviews of each products\n",
    "m = (pd.merge(high_review_count, low_review_count, on='asin', how='inner', indicator=True)).set_index('asin')\n",
    "m.reset_index(inplace=True)\n",
    "m = m.drop(['_merge'],axis = 1)\n",
    "m\n",
    "\n",
    "m = (pd.merge(merged_review_table, m, on='asin', how='inner', indicator=True)).set_index('asin')\n",
    "m.reset_index(inplace=True)\n",
    "m = m.drop(['_merge'],axis = 1)\n",
    "m\n"
   ]
  },
  {
   "cell_type": "code",
   "execution_count": null,
   "metadata": {
    "colab": {
     "base_uri": "https://localhost:8080/",
     "height": 530
    },
    "executionInfo": {
     "elapsed": 87197,
     "status": "ok",
     "timestamp": 1613748138555,
     "user": {
      "displayName": "YAP MOU EN",
      "photoUrl": "https://lh3.googleusercontent.com/a-/AOh14GhPNpBKjbLgcci9ZOGWgaMF_YjmfMYywVswsf2zkQ=s64",
      "userId": "04185711044849077922"
     },
     "user_tz": -480
    },
    "id": "iN13-1plzAwC",
    "outputId": "5de10907-6fda-4a51-d3d3-6255273517b5"
   },
   "outputs": [],
   "source": [
    "# ploting a graph to see the relationship between number of high rating reviews (those that are >= 4), and the sales rank\n",
    "\n",
    "# getting those products that have at least one high rating review\n",
    "m1 = m[m['number-of-high-rating-review'] > 0]\n",
    "# we have 27858 products here\n",
    "sns.scatterplot(x=\"number-of-high-rating-review\", y=\"rank\", data=m1)"
   ]
  },
  {
   "cell_type": "code",
   "execution_count": null,
   "metadata": {
    "colab": {
     "base_uri": "https://localhost:8080/",
     "height": 530
    },
    "executionInfo": {
     "elapsed": 88034,
     "status": "ok",
     "timestamp": 1613748139408,
     "user": {
      "displayName": "YAP MOU EN",
      "photoUrl": "https://lh3.googleusercontent.com/a-/AOh14GhPNpBKjbLgcci9ZOGWgaMF_YjmfMYywVswsf2zkQ=s64",
      "userId": "04185711044849077922"
     },
     "user_tz": -480
    },
    "id": "YUlZIVfKzA5X",
    "outputId": "aef0b0c5-d980-465f-e762-e9f67a2f3274"
   },
   "outputs": [],
   "source": [
    "# ploting a graph to see the relationship between number of low rating reviews (those that are < 4), and the sales rank\n",
    "\n",
    "# getting those products that have at least one low rating review\n",
    "m2 = m[m['number-of-low-rating-review'] > 0]\n",
    "# we have 15950 products here\n",
    "sns.scatterplot(x=\"number-of-low-rating-review\", y=\"rank\", data=m2)"
   ]
  }
 ],
 "metadata": {
  "colab": {
   "collapsed_sections": [],
   "name": "Data Science Project(new).ipynb",
   "provenance": []
  },
  "kernelspec": {
   "display_name": "Python 3",
   "language": "python",
   "name": "python3"
  },
  "language_info": {
   "codemirror_mode": {
    "name": "ipython",
    "version": 3
   },
   "file_extension": ".py",
   "mimetype": "text/x-python",
   "name": "python",
   "nbconvert_exporter": "python",
   "pygments_lexer": "ipython3",
   "version": "3.8.5"
  }
 },
 "nbformat": 4,
 "nbformat_minor": 1
}

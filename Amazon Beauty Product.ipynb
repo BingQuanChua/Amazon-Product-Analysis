{
 "cells": [
  {
   "cell_type": "markdown",
   "metadata": {
    "id": "DmSSQlsvuuEi"
   },
   "source": [
    "# Project Part 2: Amazon Beauty Products"
   ]
  },
  {
   "cell_type": "code",
   "execution_count": null,
   "metadata": {
    "colab": {
     "base_uri": "https://localhost:8080/"
    },
    "executionInfo": {
     "elapsed": 3548,
     "status": "ok",
     "timestamp": 1614354517156,
     "user": {
      "displayName": "YAP MOU EN",
      "photoUrl": "https://lh3.googleusercontent.com/a-/AOh14GhPNpBKjbLgcci9ZOGWgaMF_YjmfMYywVswsf2zkQ=s64",
      "userId": "04185711044849077922"
     },
     "user_tz": -480
    },
    "id": "E7GW6NYju9Am",
    "outputId": "ea6b8bfd-d9b0-4e74-e477-2d147959cf72"
   },
   "outputs": [],
   "source": [
    "# from google.colab import drive\n",
    "# drive.mount('/content/drive/', force_remount=True)\n",
    "# path='/content/drive/Shareddrives/Introduction to Data Science/data/'\n",
    "path=\"\""
   ]
  },
  {
   "cell_type": "markdown",
   "metadata": {
    "id": "2IhnbF_juuEr"
   },
   "source": [
    "## 1.0 Introduction\n",
    "\n",
    "Importing some libraries."
   ]
  },
  {
   "cell_type": "code",
   "execution_count": null,
   "metadata": {
    "id": "8zVGFUT-uuEs"
   },
   "outputs": [],
   "source": [
    "import numpy as np\n",
    "import pandas as pd\n",
    "import matplotlib.pyplot as plt\n",
    "import matplotlib.animation as animation\n",
    "import seaborn as sns\n",
    "import datetime\n",
    "import matplotlib\n",
    "import json\n",
    "from scipy.stats import gaussian_kde\n",
    "from scipy.stats import zscore\n",
    "from scipy import stats\n",
    "from sklearn import preprocessing\n",
    "from sklearn.model_selection import train_test_split\n",
    "from sklearn.neural_network import MLPClassifier\n",
    "from sklearn.neighbors import KNeighborsClassifier\n",
    "from sklearn.metrics import accuracy_score\n",
    "from sklearn.metrics import confusion_matrix\n",
    "from sklearn.metrics import ConfusionMatrixDisplay\n",
    "from sklearn.metrics import roc_curve, roc_auc_score\n",
    "from sklearn.preprocessing import LabelEncoder\n",
    "from sklearn.preprocessing import MinMaxScaler "
   ]
  },
  {
   "cell_type": "markdown",
   "metadata": {
    "id": "_9HO-d2quuEs"
   },
   "source": [
    "## 2.0 Loading Datasets \n",
    "\n",
    "Getting familiar with the data we have"
   ]
  },
  {
   "cell_type": "markdown",
   "metadata": {
    "id": "dfEyfIWBuuEt"
   },
   "source": [
    "### 2.1 meta_All_Beauty.json\n",
    "\n",
    "This dataset contains all the product details"
   ]
  },
  {
   "cell_type": "code",
   "execution_count": null,
   "metadata": {
    "id": "RMzT9XG2uuEt"
   },
   "outputs": [],
   "source": [
    "import json\n",
    "import numpy as np\n",
    "import pandas as pd\n",
    "\n",
    "product = []\n",
    "with open( 'meta_All_Beauty.json') as f:\n",
    "    for line in f:\n",
    "        product.append(json.loads(line))"
   ]
  },
  {
   "cell_type": "code",
   "execution_count": null,
   "metadata": {
    "colab": {
     "base_uri": "https://localhost:8080/",
     "height": 1000
    },
    "executionInfo": {
     "elapsed": 6416,
     "status": "ok",
     "timestamp": 1614354520052,
     "user": {
      "displayName": "YAP MOU EN",
      "photoUrl": "https://lh3.googleusercontent.com/a-/AOh14GhPNpBKjbLgcci9ZOGWgaMF_YjmfMYywVswsf2zkQ=s64",
      "userId": "04185711044849077922"
     },
     "user_tz": -480
    },
    "id": "zTGlZNwQuuEu",
    "outputId": "f36f0438-2d44-4e16-d330-eb6cf97b14a6"
   },
   "outputs": [],
   "source": [
    "raw_product_table = pd.DataFrame(product)\n",
    "raw_product_table.head(10)"
   ]
  },
  {
   "cell_type": "markdown",
   "metadata": {
    "id": "SF3vnFABuuEv"
   },
   "source": [
    "### 2.2 Review_Beauty.json\n",
    "\n",
    "This file contains all the review given by customers."
   ]
  },
  {
   "cell_type": "code",
   "execution_count": null,
   "metadata": {
    "id": "EHbgf9BiuuEv"
   },
   "outputs": [],
   "source": [
    "import json\n",
    "import numpy as np\n",
    "import pandas as pd\n",
    "\n",
    "review = []\n",
    "with open('Review_Beauty.json') as f:\n",
    "    for line in f:\n",
    "        review.append(json.loads(line))"
   ]
  },
  {
   "cell_type": "code",
   "execution_count": null,
   "metadata": {
    "colab": {
     "base_uri": "https://localhost:8080/",
     "height": 509
    },
    "executionInfo": {
     "elapsed": 16437,
     "status": "ok",
     "timestamp": 1614354530093,
     "user": {
      "displayName": "YAP MOU EN",
      "photoUrl": "https://lh3.googleusercontent.com/a-/AOh14GhPNpBKjbLgcci9ZOGWgaMF_YjmfMYywVswsf2zkQ=s64",
      "userId": "04185711044849077922"
     },
     "user_tz": -480
    },
    "id": "rcDcUjlHuuEw",
    "outputId": "0cc2283d-b402-4257-f271-544adbc6dde2"
   },
   "outputs": [],
   "source": [
    "raw_review_table = pd.DataFrame(review)\n",
    "raw_review_table.head(10)"
   ]
  },
  {
   "cell_type": "markdown",
   "metadata": {
    "id": "3_jJqC2JuuEw"
   },
   "source": [
    "### 2.3 All_Beauty.csv\n",
    "\n",
    "csv file provide by lecturer."
   ]
  },
  {
   "cell_type": "code",
   "execution_count": null,
   "metadata": {
    "colab": {
     "base_uri": "https://localhost:8080/",
     "height": 1000
    },
    "executionInfo": {
     "elapsed": 17019,
     "status": "ok",
     "timestamp": 1614354530694,
     "user": {
      "displayName": "YAP MOU EN",
      "photoUrl": "https://lh3.googleusercontent.com/a-/AOh14GhPNpBKjbLgcci9ZOGWgaMF_YjmfMYywVswsf2zkQ=s64",
      "userId": "04185711044849077922"
     },
     "user_tz": -480
    },
    "id": "XTsE1zPbuuEx",
    "outputId": "65445818-8fc8-412d-fb12-c875d9435185"
   },
   "outputs": [],
   "source": [
    "header_names = ['ProductID', 'UserID', 'Review', 'Date']\n",
    "review_simplified = pd.read_csv(path + 'All_Beauty.csv', header=None, names=header_names)\n",
    "review_simplified.head(50)"
   ]
  },
  {
   "cell_type": "code",
   "execution_count": null,
   "metadata": {
    "colab": {
     "base_uri": "https://localhost:8080/"
    },
    "executionInfo": {
     "elapsed": 16999,
     "status": "ok",
     "timestamp": 1614354530695,
     "user": {
      "displayName": "YAP MOU EN",
      "photoUrl": "https://lh3.googleusercontent.com/a-/AOh14GhPNpBKjbLgcci9ZOGWgaMF_YjmfMYywVswsf2zkQ=s64",
      "userId": "04185711044849077922"
     },
     "user_tz": -480
    },
    "id": "lqLmEUOGuuEx",
    "outputId": "7c330def-4b9e-4be7-cfd0-cab5543d3ad0"
   },
   "outputs": [],
   "source": [
    "review_simplified.shape"
   ]
  },
  {
   "cell_type": "markdown",
   "metadata": {
    "id": "VC3VRxuWh0Tx"
   },
   "source": [
    "### 2.4 Luxury_Beauty.json\n",
    "\n",
    "Additional dataset that is used mainly for predictive modelling part. This file contains all the review given by customers for luxury beauty product"
   ]
  },
  {
   "cell_type": "code",
   "execution_count": null,
   "metadata": {
    "id": "DbV9GUnYi-JU"
   },
   "outputs": [],
   "source": [
    "import json\n",
    "import numpy as np\n",
    "import pandas as pd\n",
    "\n",
    "luxuryBeautyReview = []\n",
    "with open('Luxury_Beauty.json') as f:\n",
    "    for line in f:\n",
    "        luxuryBeautyReview.append(json.loads(line))"
   ]
  },
  {
   "cell_type": "code",
   "execution_count": null,
   "metadata": {
    "colab": {
     "base_uri": "https://localhost:8080/",
     "height": 652
    },
    "executionInfo": {
     "elapsed": 25596,
     "status": "ok",
     "timestamp": 1614354539312,
     "user": {
      "displayName": "YAP MOU EN",
      "photoUrl": "https://lh3.googleusercontent.com/a-/AOh14GhPNpBKjbLgcci9ZOGWgaMF_YjmfMYywVswsf2zkQ=s64",
      "userId": "04185711044849077922"
     },
     "user_tz": -480
    },
    "id": "l03x2SR3jDCa",
    "outputId": "5ebf44eb-506d-4717-c64c-9cfa395768b2"
   },
   "outputs": [],
   "source": [
    "raw_luxuryBeautyReview = pd.DataFrame(luxuryBeautyReview)\n",
    "raw_luxuryBeautyReview"
   ]
  },
  {
   "cell_type": "markdown",
   "metadata": {
    "id": "N4V_emDZif66"
   },
   "source": [
    "### 2.5 meta_Luxury_Beauty.json\n",
    "\n",
    "Additional dataset that is used mainly for predictive modelling part. This file contains all the luxury beauty product details."
   ]
  },
  {
   "cell_type": "code",
   "execution_count": null,
   "metadata": {
    "id": "jyyn3B7SjI1T"
   },
   "outputs": [],
   "source": [
    "import json\n",
    "import numpy as np\n",
    "import pandas as pd\n",
    "\n",
    "luxuryBeautyProduct = []\n",
    "with open('meta_Luxury_Beauty.json') as f:\n",
    "    for line in f:\n",
    "        luxuryBeautyProduct.append(json.loads(line))"
   ]
  },
  {
   "cell_type": "code",
   "execution_count": null,
   "metadata": {
    "colab": {
     "base_uri": "https://localhost:8080/",
     "height": 1000
    },
    "executionInfo": {
     "elapsed": 26138,
     "status": "ok",
     "timestamp": 1614354539878,
     "user": {
      "displayName": "YAP MOU EN",
      "photoUrl": "https://lh3.googleusercontent.com/a-/AOh14GhPNpBKjbLgcci9ZOGWgaMF_YjmfMYywVswsf2zkQ=s64",
      "userId": "04185711044849077922"
     },
     "user_tz": -480
    },
    "id": "qDtu5TsBjJZz",
    "outputId": "06610c89-98ec-4f31-d2bf-ab63b7730e80"
   },
   "outputs": [],
   "source": [
    "raw_luxuryBeautyProduct = pd.DataFrame(luxuryBeautyProduct)\n",
    "raw_luxuryBeautyProduct"
   ]
  },
  {
   "cell_type": "markdown",
   "metadata": {
    "id": "lPRjNqAPuuEx"
   },
   "source": [
    "## 3.0 Data Cleaning\n",
    "\n",
    "Cleaning our data, which includes the steps below:\n",
    "\n",
    "Step 1 : Remove duplicates or irrelevant observations\n",
    "\n",
    "Step 2 : Fix structural errors\n",
    "\n",
    "Step 3 : Identify and handle outliers\n",
    "\n",
    "Step 4 : Handle missing data\n"
   ]
  },
  {
   "cell_type": "markdown",
   "metadata": {
    "id": "JIltA9EZuuEy"
   },
   "source": [
    "### 3.1 Cleaning meta_All_Beauty.json\n",
    "\n",
    "Which is now loaded into Product (a DataFrame)"
   ]
  },
  {
   "cell_type": "code",
   "execution_count": null,
   "metadata": {
    "id": "LveG7HnvuuEy"
   },
   "outputs": [],
   "source": [
    "#drop irrelevant observations\n",
    "product_table = raw_product_table.drop(['category','tech1','description', 'fit','image','tech2','feature','main_cat','similar_item','date'], axis=1)\n"
   ]
  },
  {
   "cell_type": "code",
   "execution_count": null,
   "metadata": {
    "colab": {
     "base_uri": "https://localhost:8080/"
    },
    "executionInfo": {
     "elapsed": 26660,
     "status": "ok",
     "timestamp": 1614354540421,
     "user": {
      "displayName": "YAP MOU EN",
      "photoUrl": "https://lh3.googleusercontent.com/a-/AOh14GhPNpBKjbLgcci9ZOGWgaMF_YjmfMYywVswsf2zkQ=s64",
      "userId": "04185711044849077922"
     },
     "user_tz": -480
    },
    "id": "45HzndYluuEy",
    "outputId": "ca0a5428-3a7f-4299-ea8f-759b2fc2e723"
   },
   "outputs": [],
   "source": [
    "# some ASIN inside details has space after \n",
    "# example  'ASIN: ' vs 'ASIN:'\n",
    "# but going to drop 'details' because didn't use it\n",
    "# this is to check whether the asin and the ASIN inside details is correct\n",
    "\n",
    "count = 0\n",
    "index_to_drop = [] \n",
    "\n",
    "for i in range(len(product_table.index)):\n",
    "    dct = product_table['details'].iloc[i]\n",
    "    if 'ASIN: ' in dct: \n",
    "        asin = dct['ASIN: ']\n",
    "    elif 'ASIN:' in dct:\n",
    "        asin = dct['ASIN:']\n",
    "    if asin != product_table['asin'].iloc[i]:\n",
    "        index_to_drop.append(i)\n",
    "        count += 1\n",
    "        \n",
    "print(count)"
   ]
  },
  {
   "cell_type": "code",
   "execution_count": null,
   "metadata": {
    "colab": {
     "base_uri": "https://localhost:8080/"
    },
    "executionInfo": {
     "elapsed": 28526,
     "status": "ok",
     "timestamp": 1614354542306,
     "user": {
      "displayName": "YAP MOU EN",
      "photoUrl": "https://lh3.googleusercontent.com/a-/AOh14GhPNpBKjbLgcci9ZOGWgaMF_YjmfMYywVswsf2zkQ=s64",
      "userId": "04185711044849077922"
     },
     "user_tz": -480
    },
    "id": "aUooys8NuuEz",
    "outputId": "a5b7aab6-de5e-4130-c54f-7532a03a9d93"
   },
   "outputs": [],
   "source": [
    "##drop irrelevant observations\n",
    "product_table = raw_product_table.drop(['category','tech1','description','fit','image','tech2','brand','feature','main_cat','similar_item','date','details'],axis = 1)\n",
    "\n",
    "##drop duplicates\n",
    "#no duplicate asins and row\n",
    "product_table.drop_duplicates(['asin'],inplace = True)\n",
    "product_table.reset_index(drop=True, inplace=True)\n",
    "\n",
    "##fix structural errors\n",
    "\n",
    "#for column 'rank' \n",
    "#remove uneccessary symbol like comma ',' and words\n",
    "#convert the string into integer \n",
    "product_table['rank'].replace(',','', regex=True, inplace=True)\n",
    "product_table['rank'] = product_table['rank'].str.extract('(\\d+)')\n",
    "\n",
    "#for column 'price'\n",
    "#if 'price' don't start with $ or has '-' means null value, fillna with 'unknown'\n",
    "#remove uneccessary symbol like comma ',' and '$'\n",
    "product_table.loc[product_table[\"price\"].str[0] != \"$\", \"price\"] = \"unknown\"\n",
    "product_table.loc[product_table[\"price\"].str.contains('-'), \"price\"] = \"unknown\"\n",
    "product_table['price'].replace(\"\\$\",\"\", regex=True, inplace=True)\n",
    "product_table['price'].replace(',','', regex=True, inplace=True)\n",
    "\n",
    "##deal with missing data\n",
    "#missing data in 'rank' and 'price'\n",
    "#product_table.replace('\\[]','', regex=True, inplace=True)\n",
    "product_table['rank'].fillna(0,inplace = True)\n",
    "product_table['price'].replace(\"unknown\",0, regex=True, inplace=True)\n",
    "product_table.fillna(\"unknown\",inplace = True)\n",
    "\n",
    "##changing data type\n",
    "product_table['rank']= product_table['rank'].astype(int)\n",
    "product_table['price'] = product_table['price'].apply(pd.to_numeric)\n",
    "\n",
    "##Identify and handle outliers\n",
    "z_scores = stats.zscore(pd.DataFrame(product_table['rank']))\n",
    "abs_z_scores = np.abs(z_scores)\n",
    "outlier = (abs_z_scores > 3).all(axis=1)\n",
    "product_table.drop(product_table[outlier].index, inplace = True)\n",
    "\n",
    "product_table.shape"
   ]
  },
  {
   "cell_type": "code",
   "execution_count": null,
   "metadata": {
    "colab": {
     "base_uri": "https://localhost:8080/"
    },
    "executionInfo": {
     "elapsed": 28507,
     "status": "ok",
     "timestamp": 1614354542307,
     "user": {
      "displayName": "YAP MOU EN",
      "photoUrl": "https://lh3.googleusercontent.com/a-/AOh14GhPNpBKjbLgcci9ZOGWgaMF_YjmfMYywVswsf2zkQ=s64",
      "userId": "04185711044849077922"
     },
     "user_tz": -480
    },
    "id": "uDGxKKP8uuE0",
    "outputId": "1a22e252-e95a-4bdc-f788-04c15e648ed7"
   },
   "outputs": [],
   "source": [
    "unique = product_table[\"asin\"].value_counts()\n",
    "unique"
   ]
  },
  {
   "cell_type": "markdown",
   "metadata": {
    "id": "oL7hhRdLuuE0"
   },
   "source": [
    "### 3.2 Cleaning Review_Beauty.json\n",
    "Which is now loaded into review (a DataFrame)"
   ]
  },
  {
   "cell_type": "code",
   "execution_count": null,
   "metadata": {
    "colab": {
     "base_uri": "https://localhost:8080/",
     "height": 399
    },
    "executionInfo": {
     "elapsed": 31624,
     "status": "ok",
     "timestamp": 1614354545444,
     "user": {
      "displayName": "YAP MOU EN",
      "photoUrl": "https://lh3.googleusercontent.com/a-/AOh14GhPNpBKjbLgcci9ZOGWgaMF_YjmfMYywVswsf2zkQ=s64",
      "userId": "04185711044849077922"
     },
     "user_tz": -480
    },
    "id": "MaFhC7amuuE0",
    "outputId": "395aa081-12a3-4c7b-aaaf-10ea3cc86547"
   },
   "outputs": [],
   "source": [
    "##drop irrelevant observations\n",
    "review_table = raw_review_table.drop(['reviewerName','reviewText','summary','style','image'],axis = 1)\n",
    "\n",
    "##drop duplicates\n",
    "review_table.drop_duplicates(inplace = True)\n",
    "review_table.reset_index(drop=True, inplace=True)\n",
    "\n",
    "##fix structural errors\n",
    "#for column 'vote'\n",
    "#remove uneccessary symbol ','\n",
    "review_table['vote'].replace(',','', regex=True, inplace=True)\n",
    "test_review_table = review_table.copy(deep=True)\n",
    "\n",
    "##deal with missing data\n",
    "review_table['vote'].fillna(0,inplace = True)\n",
    "review_table.fillna('unknown',inplace = True)\n",
    "\n",
    "##changing data type\n",
    "review_table['vote'] = review_table['vote'].astype(int)\n",
    "\n",
    "#separate reviewTime into three different columns\n",
    "review_table['reviewTime'].replace(',','', regex=True, inplace=True)\n",
    "date = review_table['reviewTime'].str.split(' ', n=2,expand = True)\n",
    "date.columns =['month','day','year']\n",
    "\n",
    "#drop reviewTime column\n",
    "review_table.drop(['reviewTime'],axis = 1,inplace = True)\n",
    "\n",
    "#concat both of the tables\n",
    "review_table = pd.concat([review_table,date], axis=1)\n",
    "\n",
    "#rearrange sequence of the columns\n",
    "cols = review_table.columns.tolist()\n",
    "cols = cols[-1:] + cols[-3:-1] + cols[:-3]\n",
    "review_table = review_table[cols]\n",
    "\n",
    "review_table"
   ]
  },
  {
   "cell_type": "markdown",
   "metadata": {
    "id": "9Ct9AMyekLWx"
   },
   "source": [
    "### 3.3 Cleaning Luxury_Beauty.json\n",
    "Cleaning luxury beauty product review datasets"
   ]
  },
  {
   "cell_type": "code",
   "execution_count": null,
   "metadata": {
    "colab": {
     "base_uri": "https://localhost:8080/",
     "height": 399
    },
    "executionInfo": {
     "elapsed": 37550,
     "status": "ok",
     "timestamp": 1614354551392,
     "user": {
      "displayName": "YAP MOU EN",
      "photoUrl": "https://lh3.googleusercontent.com/a-/AOh14GhPNpBKjbLgcci9ZOGWgaMF_YjmfMYywVswsf2zkQ=s64",
      "userId": "04185711044849077922"
     },
     "user_tz": -480
    },
    "id": "NDBHywIVkfKM",
    "outputId": "a2fe90b7-38ce-4968-a44d-5d7c3ec6e56f"
   },
   "outputs": [],
   "source": [
    "##drop irrelevant observations\n",
    "luxuryBeautyReview_table = raw_luxuryBeautyReview.drop(['reviewerName','reviewText','summary','style','image'],axis = 1)\n",
    "\n",
    "##drop duplicates\n",
    "luxuryBeautyReview_table.drop_duplicates(inplace = True)\n",
    "luxuryBeautyReview_table.reset_index(drop=True, inplace=True)\n",
    "\n",
    "##fix structural errors\n",
    "#for column 'vote'\n",
    "#remove uneccessary symbol ','\n",
    "luxuryBeautyReview_table['vote'].replace(',','', regex=True, inplace=True)\n",
    "#test_review_table = review_table.copy(deep=True)\n",
    "\n",
    "##deal with missing data\n",
    "luxuryBeautyReview_table['vote'].fillna(0,inplace = True)\n",
    "luxuryBeautyReview_table.fillna('unknown',inplace = True)\n",
    "\n",
    "##changing data type\n",
    "luxuryBeautyReview_table['vote'] = luxuryBeautyReview_table['vote'].astype(int)\n",
    "\n",
    "#separate reviewTime into three different columns\n",
    "luxuryBeautyReview_table['reviewTime'].replace(',','', regex=True, inplace=True)\n",
    "date_luxuryBeautyReview = luxuryBeautyReview_table['reviewTime'].str.split(' ', n=2,expand = True)\n",
    "date_luxuryBeautyReview .columns =['month','day','year']\n",
    "\n",
    "#drop reviewTime column\n",
    "luxuryBeautyReview_table.drop(['reviewTime'],axis = 1,inplace = True)\n",
    "\n",
    "#concat both of the tables\n",
    "luxuryBeautyReview_table = pd.concat([luxuryBeautyReview_table,date_luxuryBeautyReview ], axis=1)\n",
    "\n",
    "#rearrange sequence of the columns\n",
    "cols_LB = luxuryBeautyReview_table.columns.tolist()\n",
    "cols_LB = cols_LB[-1:] + cols_LB[-3:-1] + cols_LB[:-3]\n",
    "luxuryBeautyReview_table = luxuryBeautyReview_table[cols_LB]\n",
    "\n",
    "luxuryBeautyReview_table"
   ]
  },
  {
   "cell_type": "markdown",
   "metadata": {
    "id": "SsR0ai2SkaiC"
   },
   "source": [
    "### 3.4 Cleaning meta_Luxury_Beauty.json\n",
    "Cleaning luxury beauty product datasets"
   ]
  },
  {
   "cell_type": "code",
   "execution_count": null,
   "metadata": {
    "colab": {
     "base_uri": "https://localhost:8080/",
     "height": 551
    },
    "executionInfo": {
     "elapsed": 37531,
     "status": "ok",
     "timestamp": 1614354551393,
     "user": {
      "displayName": "YAP MOU EN",
      "photoUrl": "https://lh3.googleusercontent.com/a-/AOh14GhPNpBKjbLgcci9ZOGWgaMF_YjmfMYywVswsf2zkQ=s64",
      "userId": "04185711044849077922"
     },
     "user_tz": -480
    },
    "id": "O0rd489lksSe",
    "outputId": "cf9e7e1a-b197-4e1b-fed9-c665662a463a"
   },
   "outputs": [],
   "source": [
    "##drop irrelevant observations\n",
    "luxuryBeautyProduct_table = raw_luxuryBeautyProduct.drop(['category','tech1','description','fit','image','tech2','brand','feature','main_cat','similar_item','date','details'],axis = 1)\n",
    "\n",
    "##drop duplicates\n",
    "#no duplicate asins and row\n",
    "luxuryBeautyProduct_table.drop_duplicates(['asin'],inplace = True)\n",
    "luxuryBeautyProduct_table.reset_index(drop=True, inplace=True)\n",
    "\n",
    "##fix structural errors\n",
    "\n",
    "#for column 'rank' \n",
    "#remove uneccessary symbol like comma ',' and words\n",
    "#convert the string into integer \n",
    "luxuryBeautyProduct_table['rank'].replace(',','', regex=True, inplace=True)\n",
    "luxuryBeautyProduct_table['rank'] = luxuryBeautyProduct_table['rank'].str.extract('(\\d+)')\n",
    "\n",
    "#for column 'price'\n",
    "#if 'price' don't start with $ or has '-' means null value, fillna with 'unknown'\n",
    "#remove uneccessary symbol like comma ',' and '$'\n",
    "luxuryBeautyProduct_table.loc[luxuryBeautyProduct_table[\"price\"].str[0] != \"$\", \"price\"] = \"unknown\"\n",
    "luxuryBeautyProduct_table.loc[luxuryBeautyProduct_table[\"price\"].str.contains('-'), \"price\"] = \"unknown\"\n",
    "luxuryBeautyProduct_table['price'].replace(\"\\$\",\"\", regex=True, inplace=True)\n",
    "luxuryBeautyProduct_table['price'].replace(',','', regex=True, inplace=True)\n",
    "\n",
    "##deal with missing data\n",
    "#missing data in 'rank' and 'price'\n",
    "#product_table.replace('\\[]','', regex=True, inplace=True)\n",
    "luxuryBeautyProduct_table['rank'].fillna(0,inplace = True)\n",
    "luxuryBeautyProduct_table['price'].replace(\"unknown\",0, regex=True, inplace=True)\n",
    "luxuryBeautyProduct_table.fillna(\"unknown\",inplace = True)\n",
    "\n",
    "##changing data type\n",
    "luxuryBeautyProduct_table['rank']= luxuryBeautyProduct_table['rank'].astype(int)\n",
    "luxuryBeautyProduct_table['price'] = luxuryBeautyProduct_table['price'].apply(pd.to_numeric)\n",
    "\n",
    "##Identify and handle outliers\n",
    "z_scores_LB = stats.zscore(pd.DataFrame(luxuryBeautyProduct_table['rank']))\n",
    "abs_z_scores_LB = np.abs(z_scores_LB)\n",
    "outlier_LB = (abs_z_scores_LB > 3).all(axis=1)\n",
    "luxuryBeautyProduct_table.drop(luxuryBeautyProduct_table[outlier_LB].index, inplace = True)\n",
    "\n",
    "luxuryBeautyProduct_table"
   ]
  },
  {
   "cell_type": "markdown",
   "metadata": {
    "id": "S6hkALj5NrNZ"
   },
   "source": [
    "## 4.0 Data Transformation"
   ]
  },
  {
   "cell_type": "markdown",
   "metadata": {
    "id": "p8cG1PpUQDPL"
   },
   "source": [
    "### 4.1 Normalization"
   ]
  },
  {
   "cell_type": "code",
   "execution_count": null,
   "metadata": {
    "colab": {
     "base_uri": "https://localhost:8080/",
     "height": 551
    },
    "executionInfo": {
     "elapsed": 37512,
     "status": "ok",
     "timestamp": 1614354551394,
     "user": {
      "displayName": "YAP MOU EN",
      "photoUrl": "https://lh3.googleusercontent.com/a-/AOh14GhPNpBKjbLgcci9ZOGWgaMF_YjmfMYywVswsf2zkQ=s64",
      "userId": "04185711044849077922"
     },
     "user_tz": -480
    },
    "id": "vTOtTQeaUQfl",
    "outputId": "e3a6e509-4e5f-49df-ef45-91fcb721189a"
   },
   "outputs": [],
   "source": [
    "#min-max normalization\n",
    "product_table['rank'] = (product_table['rank'] - product_table['rank'].min())/(product_table['rank'].max()-product_table['rank'].min())\n",
    "product_table"
   ]
  },
  {
   "cell_type": "markdown",
   "metadata": {
    "id": "Yn-2qBhsuuE1"
   },
   "source": [
    "### 4.2 Merging\n",
    "Merge review_table with product_table"
   ]
  },
  {
   "cell_type": "markdown",
   "metadata": {
    "id": "DFFIbg8dlePX"
   },
   "source": [
    "#### 4.2.1 Merging review_table and product_table\n",
    "Merging the two tables."
   ]
  },
  {
   "cell_type": "code",
   "execution_count": null,
   "metadata": {
    "colab": {
     "base_uri": "https://localhost:8080/",
     "height": 169
    },
    "executionInfo": {
     "elapsed": 38930,
     "status": "ok",
     "timestamp": 1614354552831,
     "user": {
      "displayName": "YAP MOU EN",
      "photoUrl": "https://lh3.googleusercontent.com/a-/AOh14GhPNpBKjbLgcci9ZOGWgaMF_YjmfMYywVswsf2zkQ=s64",
      "userId": "04185711044849077922"
     },
     "user_tz": -480
    },
    "id": "z1eLlF7ZuuE1",
    "outputId": "36c847a4-48f2-45a6-f94f-85d88698364c"
   },
   "outputs": [],
   "source": [
    "# Outer merge of review_table & product_table\n",
    "dfMergedOuter = (pd.merge(product_table,review_table, on='asin', how='outer', indicator=True)).set_index('asin')\n",
    "\n",
    "# Outer left (product_table), to find out the product that doesn't have any review\n",
    "dfMergedOuterProduct=dfMergedOuter[dfMergedOuter['_merge']=='left_only']\n",
    "dfMergedOuterProduct"
   ]
  },
  {
   "cell_type": "code",
   "execution_count": null,
   "metadata": {
    "colab": {
     "base_uri": "https://localhost:8080/",
     "height": 399
    },
    "executionInfo": {
     "elapsed": 39905,
     "status": "ok",
     "timestamp": 1614354553827,
     "user": {
      "displayName": "YAP MOU EN",
      "photoUrl": "https://lh3.googleusercontent.com/a-/AOh14GhPNpBKjbLgcci9ZOGWgaMF_YjmfMYywVswsf2zkQ=s64",
      "userId": "04185711044849077922"
     },
     "user_tz": -480
    },
    "id": "k68LP1GQuuE2",
    "outputId": "f76d232f-49e0-40e4-b854-36ae64c9f746"
   },
   "outputs": [],
   "source": [
    "# Outer merge of review_table & product_table\n",
    "dfMergedOuter2 = pd.merge(review_table, product_table, on='asin', how='outer', indicator=True)\n",
    "\n",
    "# Outer left (review_table), to find out the product review that doesn't exist in product_table\n",
    "dfMergedOuterReview=dfMergedOuter2[dfMergedOuter2['_merge']=='left_only']\n",
    "dfMergedOuterReview"
   ]
  },
  {
   "cell_type": "code",
   "execution_count": null,
   "metadata": {
    "colab": {
     "base_uri": "https://localhost:8080/",
     "height": 1000
    },
    "executionInfo": {
     "elapsed": 40838,
     "status": "ok",
     "timestamp": 1614354554778,
     "user": {
      "displayName": "YAP MOU EN",
      "photoUrl": "https://lh3.googleusercontent.com/a-/AOh14GhPNpBKjbLgcci9ZOGWgaMF_YjmfMYywVswsf2zkQ=s64",
      "userId": "04185711044849077922"
     },
     "user_tz": -480
    },
    "id": "vXEHUyM7uuE2",
    "outputId": "a9e9b610-531e-46eb-f3ea-1e9247dd9260"
   },
   "outputs": [],
   "source": [
    "# to find the intersection betweeen both tables\n",
    "dfMergedInner = (pd.merge(product_table,review_table, on='asin', how='inner', indicator=True)).set_index('asin')\n",
    "dfMergedInner.reset_index(inplace = True)\n",
    "dfMergedInner"
   ]
  },
  {
   "cell_type": "markdown",
   "metadata": {
    "id": "toEW7hUd2g6t"
   },
   "source": [
    "After merging both tables, we found that there are 2 existing products without any reviews. Hence we drop them from product_table.\n",
    "\n",
    "For review_table, there are 5120 reviews on products that were not in our dataset, we drop them too."
   ]
  },
  {
   "cell_type": "code",
   "execution_count": null,
   "metadata": {
    "id": "8FxyCcod1xv-"
   },
   "outputs": [],
   "source": [
    "# Drop both products since they do not have any reviews\n",
    "product_table.drop(product_table[product_table['asin']=='B000NICBSI'].index, inplace = True) \n",
    "product_table.drop(product_table[product_table['asin']=='B01HHYC4UA'].index, inplace = True) "
   ]
  },
  {
   "cell_type": "code",
   "execution_count": null,
   "metadata": {
    "colab": {
     "base_uri": "https://localhost:8080/",
     "height": 399
    },
    "executionInfo": {
     "elapsed": 40818,
     "status": "ok",
     "timestamp": 1614354554780,
     "user": {
      "displayName": "YAP MOU EN",
      "photoUrl": "https://lh3.googleusercontent.com/a-/AOh14GhPNpBKjbLgcci9ZOGWgaMF_YjmfMYywVswsf2zkQ=s64",
      "userId": "04185711044849077922"
     },
     "user_tz": -480
    },
    "id": "F8OAtQsp2hfT",
    "outputId": "d79d8a2e-1faa-42e8-de14-5bb2c3256eba"
   },
   "outputs": [],
   "source": [
    "# Update our review table using the inner merge\n",
    "final_review_table = dfMergedInner.drop(['title','also_buy','rank','also_view','price','reviewerID', '_merge'],axis = 1)\n",
    "final_review_table"
   ]
  },
  {
   "cell_type": "markdown",
   "metadata": {
    "id": "DCcFwR-A3OU0"
   },
   "source": [
    "After cleaning and merging the data, 32485 beauty products and 357283 reviews are remained in our dataset.\n"
   ]
  },
  {
   "cell_type": "markdown",
   "metadata": {
    "id": "BRclR0GYXYHN"
   },
   "source": [
    "#### 4.2.2 Final Merged Table\n",
    "Final merged table has been prepared for future use in data processing"
   ]
  },
  {
   "cell_type": "code",
   "execution_count": null,
   "metadata": {
    "colab": {
     "base_uri": "https://localhost:8080/",
     "height": 1000
    },
    "executionInfo": {
     "elapsed": 41529,
     "status": "ok",
     "timestamp": 1614354555511,
     "user": {
      "displayName": "YAP MOU EN",
      "photoUrl": "https://lh3.googleusercontent.com/a-/AOh14GhPNpBKjbLgcci9ZOGWgaMF_YjmfMYywVswsf2zkQ=s64",
      "userId": "04185711044849077922"
     },
     "user_tz": -480
    },
    "id": "Hxizd9R6Xeje",
    "outputId": "9617f0ac-7727-41b7-e481-44ea1a21342c"
   },
   "outputs": [],
   "source": [
    "dfMergedInner"
   ]
  },
  {
   "cell_type": "markdown",
   "metadata": {
    "id": "m5WwUGzPuuE2"
   },
   "source": [
    "\n",
    "\n",
    "We will be using `product_table` and `final_review_table` for our data analysis.\n",
    "\n",
    "`product_table`: Contains 32485 unique beauty products selling on Amazon. All listed product have at least one review in our dataset. It contains sales rank and/or price that is 0.\n",
    "\n",
    "`final_review_table`: Contains 357283 product reviews. All recorded reviews have a matching product in our dataset."
   ]
  },
  {
   "cell_type": "markdown",
   "metadata": {
    "id": "Rk708I--yVSP"
   },
   "source": [
    "### 4.3 Useful Functions"
   ]
  },
  {
   "cell_type": "markdown",
   "metadata": {
    "id": "d7uJjQmxwHLt"
   },
   "source": [
    "#### 4.3.1 process_merged_review"
   ]
  },
  {
   "cell_type": "code",
   "execution_count": null,
   "metadata": {
    "id": "HDizwJL0uuE6"
   },
   "outputs": [],
   "source": [
    "# calculates average rating of each product\n",
    "# -----------------------------------------\n",
    "# 1 parameter:\n",
    "# review_arg['asin', 'overall']\n",
    "# -----------------------------------------\n",
    "# return:\n",
    "# avg_review['asin', 'average-rating']\n",
    "# -----------------------------------------\n",
    "\n",
    "def avgReview(review_arg):\n",
    "  avg_review = review_arg.groupby(['asin']).mean()\n",
    "  avg_review.rename(columns={'overall':'average-rating'},inplace=True)\n",
    "  avg_review.reset_index(inplace = True)\n",
    "  return avg_review"
   ]
  },
  {
   "cell_type": "code",
   "execution_count": null,
   "metadata": {
    "id": "L_3Ikc56qE0M"
   },
   "outputs": [],
   "source": [
    "# calculates number of reviews of each product\n",
    "# --------------------------------------------\n",
    "# 1 parameter:\n",
    "# review['asin', 'overall']\n",
    "# --------------------------------------------\n",
    "# return:\n",
    "# count_review ['asin', 'number-of-review']\n",
    "# --------------------------------------------\n",
    "\n",
    "def countReview(review_arg):\n",
    "  count_review = review_arg.groupby(['asin']).count()\n",
    "  count_review.rename(columns={'overall':'number-of-review'},inplace=True)\n",
    "  count_review.reset_index(inplace = True)\n",
    "  return count_review"
   ]
  },
  {
   "cell_type": "code",
   "execution_count": null,
   "metadata": {
    "id": "GDnXPIrQpSF0"
   },
   "outputs": [],
   "source": [
    "# merge 3 dataframe together\n",
    "# --------------------------------------------\n",
    "# 3 paramters:\n",
    "# avg_review_arg ['asin', 'average-rating']\n",
    "# count_review_arg ['asin', 'number-of-review']\n",
    "# product_rank_arg ['asin','rank']\n",
    "# --------------------------------------------\n",
    "# result:\n",
    "# merged_review_table ['asin', 'average-rating', 'number-of-review', 'rank']\n",
    "# --------------------------------------------\n",
    "\n",
    "def merge_avgReview_numReview_product(avg_review_arg, count_review_arg, product_rank_arg):\n",
    "# merge average rating score\n",
    "  merged_review_table = (pd.merge(product_rank_arg, avg_review_arg, on='asin', how='inner', indicator=True)).set_index('asin')\n",
    "  merged_review_table.reset_index(inplace=True)\n",
    "  merged_review_table = merged_review_table.drop(['_merge'],axis = 1)\n",
    "  merged_review_table.rename(columns={'overall':'average-rating'},inplace=True)\n",
    "\n",
    "  # merge number of reviews\n",
    "  merged_review_table = (pd.merge(merged_review_table, count_review_arg, on='asin', how='inner', indicator=True)).set_index('asin')\n",
    "  merged_review_table.reset_index(inplace = True)\n",
    "  merged_review_table = merged_review_table.drop(['_merge'],axis = 1)\n",
    "  merged_review_table.rename(columns={'overall':'number-of-review'},inplace=True)\n",
    "\n",
    "  # filter out product with 0 as sales rank (32083 products left)\n",
    "  merged_review_table = merged_review_table[merged_review_table['rank'] > 0]\n",
    "  merged_review_table.sort_values(by=['rank']) \n",
    "\n",
    "  return merged_review_table"
   ]
  },
  {
   "cell_type": "code",
   "execution_count": null,
   "metadata": {
    "id": "etGiSmoarE_u"
   },
   "outputs": [],
   "source": [
    "# calculate avg_review and count_review, and then merge with product_rank\n",
    "# --------------------------------------------\n",
    "# 2 parameters:\n",
    "# review_arg ['asin', 'overall']\n",
    "# product_rank_arg ['asin','rank']\n",
    "# --------------------------------------------\n",
    "# return:\n",
    "# merged_review_table ['asin', 'rank', 'average-rating, 'number-of-review']\n",
    "# --------------------------------------------\n",
    "\n",
    "def process_merged_review(review_arg, product_rank_arg):\n",
    "    avg_review = avgReview(review_arg)\n",
    "    count_review = countReview(review_arg)\n",
    "    merged_review_table = merge_avgReview_numReview_product(avg_review, count_review, product_rank_arg)\n",
    "    return merged_review_table"
   ]
  },
  {
   "cell_type": "markdown",
   "metadata": {
    "id": "RRgUtJKqyiYt"
   },
   "source": [
    "#### 4.3.2 process_verified_review"
   ]
  },
  {
   "cell_type": "code",
   "execution_count": null,
   "metadata": {
    "id": "dMIbu9-KfuSg"
   },
   "outputs": [],
   "source": [
    "# calculates number of verified reviews of each product\n",
    "# --------------------------------------------\n",
    "# 2 parameters:\n",
    "# verified_review ['asin', 'overall', 'verified']\n",
    "# merged_review_table\n",
    "# --------------------------------------------\n",
    "# return:\n",
    "# mv_review_table ['asin', 'rank', 'average-rating, 'number-of-review',\n",
    "# 'average-verified-rating', 'verified']\n",
    "# --------------------------------------------\n",
    "\n",
    "def process_verified_review(verified_review, merged_review_table_arg):\n",
    "  # gets verified reviews' average score (left 30430 rows)\n",
    "  avg_verified_review = verified_review[verified_review['verified'] == True]\n",
    "  avg_verified_review = avg_verified_review.groupby(['asin']).mean()\n",
    "  avg_verified_review.rename(columns={'overall':'average-verified-rating'},inplace=True)\n",
    "  avg_verified_review.drop(['verified'],axis=1,inplace=True)\n",
    "  avg_verified_review.reset_index(inplace = True)\n",
    "  # merge merged_review_table && avg_verified_review\n",
    "  copy_merged_review = merged_review_table_arg.copy()\n",
    "  #mv_review_table = (pd.merge(merged_review_table_arg.copy(), avg_verified_review, on='asin', how='left', indicator=True).fillna(0)).set_index('asin')\n",
    "  copy_merged_review['average-verified-rating'] = copy_merged_review.asin.map(avg_verified_review\\\n",
    "                                                                             .set_index('asin')['average-verified-rating'])\\\n",
    "                                                                             .fillna(0).astype(float)\n",
    "  # return\n",
    "  return copy_merged_review"
   ]
  },
  {
   "cell_type": "markdown",
   "metadata": {
    "id": "l3SwUCi2qu47"
   },
   "source": [
    "Generate merged_review_table"
   ]
  },
  {
   "cell_type": "code",
   "execution_count": null,
   "metadata": {
    "colab": {
     "base_uri": "https://localhost:8080/",
     "height": 399
    },
    "executionInfo": {
     "elapsed": 41509,
     "status": "ok",
     "timestamp": 1614354555519,
     "user": {
      "displayName": "YAP MOU EN",
      "photoUrl": "https://lh3.googleusercontent.com/a-/AOh14GhPNpBKjbLgcci9ZOGWgaMF_YjmfMYywVswsf2zkQ=s64",
      "userId": "04185711044849077922"
     },
     "user_tz": -480
    },
    "id": "pbxf539A4xsq",
    "outputId": "eaf74859-eb94-405a-d618-3643d43b0d16"
   },
   "outputs": [],
   "source": [
    "review = final_review_table[['asin', 'overall']]\n",
    "product_rank = product_table[['asin','rank']]\n",
    "merged_review_table = process_merged_review(review, product_rank)\n",
    "merged_review_table"
   ]
  },
  {
   "cell_type": "markdown",
   "metadata": {
    "id": "xzcLcZ9EuLfF"
   },
   "source": [
    "Generate mv_review_table"
   ]
  },
  {
   "cell_type": "code",
   "execution_count": null,
   "metadata": {
    "colab": {
     "base_uri": "https://localhost:8080/",
     "height": 399
    },
    "executionInfo": {
     "elapsed": 41886,
     "status": "ok",
     "timestamp": 1614354555915,
     "user": {
      "displayName": "YAP MOU EN",
      "photoUrl": "https://lh3.googleusercontent.com/a-/AOh14GhPNpBKjbLgcci9ZOGWgaMF_YjmfMYywVswsf2zkQ=s64",
      "userId": "04185711044849077922"
     },
     "user_tz": -480
    },
    "id": "fdxLyHH3uxL5",
    "outputId": "384d8632-ce00-4a0f-aba7-f87775b145c7"
   },
   "outputs": [],
   "source": [
    "vr = final_review_table[['asin', 'overall', 'verified']]\n",
    "mv_review_table = process_verified_review(vr, merged_review_table)\n",
    "mv_review_table"
   ]
  },
  {
   "cell_type": "markdown",
   "metadata": {
    "id": "5432mf1Lmeeu"
   },
   "source": [
    "Here we have two processed tables:\n",
    "\n",
    "`merged_review_data`: All cleaned products with average rating, total number of reviews and more.\n",
    "\n",
    "`mv_review_table`: The same product table, but only verified reviews are considered.\n"
   ]
  },
  {
   "cell_type": "code",
   "execution_count": null,
   "metadata": {
    "colab": {
     "base_uri": "https://localhost:8080/",
     "height": 135
    },
    "executionInfo": {
     "elapsed": 41867,
     "status": "ok",
     "timestamp": 1614354555916,
     "user": {
      "displayName": "YAP MOU EN",
      "photoUrl": "https://lh3.googleusercontent.com/a-/AOh14GhPNpBKjbLgcci9ZOGWgaMF_YjmfMYywVswsf2zkQ=s64",
      "userId": "04185711044849077922"
     },
     "user_tz": -480
    },
    "id": "4aIAHjWq6wrk",
    "outputId": "bdadd0f4-d2d4-49ce-c165-f4ced90be226"
   },
   "outputs": [],
   "source": [
    "merged_review_table.corr()"
   ]
  },
  {
   "cell_type": "markdown",
   "metadata": {
    "id": "c-pa9_KrraEp"
   },
   "source": [
    "#### 4.3.3 time frame"
   ]
  },
  {
   "cell_type": "code",
   "execution_count": null,
   "metadata": {
    "id": "js5AwGcVj9nf"
   },
   "outputs": [],
   "source": [
    "def filterByYear(x, data):\n",
    "    result = data['year'] == x\n",
    "    result = data[result]\n",
    "    return result"
   ]
  },
  {
   "cell_type": "code",
   "execution_count": null,
   "metadata": {
    "id": "xgMxE-jJ1O7b"
   },
   "outputs": [],
   "source": [
    "# max date review groupby 'asin'\n",
    "product_max_date = final_review_table.groupby(['asin'], sort=True)['year'].max()\n",
    "product_max_date = pd.DataFrame(product_max_date)\n",
    "product_max_date.reset_index(level=0, inplace=True)\n",
    "\n",
    "# min date review groupby 'asin'\n",
    "product_min_date = final_review_table.groupby(['asin'], sort=True)['year'].min()\n",
    "product_min_date = pd.DataFrame(product_min_date)\n",
    "product_min_date.reset_index(level=0, inplace=True)"
   ]
  },
  {
   "cell_type": "code",
   "execution_count": null,
   "metadata": {
    "colab": {
     "base_uri": "https://localhost:8080/",
     "height": 399
    },
    "executionInfo": {
     "elapsed": 48944,
     "status": "ok",
     "timestamp": 1614354563015,
     "user": {
      "displayName": "YAP MOU EN",
      "photoUrl": "https://lh3.googleusercontent.com/a-/AOh14GhPNpBKjbLgcci9ZOGWgaMF_YjmfMYywVswsf2zkQ=s64",
      "userId": "04185711044849077922"
     },
     "user_tz": -480
    },
    "id": "3xs7qy4f1QkY",
    "outputId": "05241d09-e1a3-4f71-fe1e-4689a66bc514"
   },
   "outputs": [],
   "source": [
    "# merge max and min together\n",
    "# rename column and reset index\n",
    "product_min_max_date = (pd.merge(product_max_date, product_min_date, on='asin', how='inner', indicator=True)).set_index('asin')\n",
    "product_min_max_date.rename(columns = {'year_x':'max','year_y':'min'}, inplace = True)\n",
    "product_min_max_date.drop(['_merge'], axis=1, inplace =True)\n",
    "product_min_max_date.reset_index(level=0, inplace=True)\n",
    "\n",
    "# calculate diff between min and max\n",
    "product_min_max_date = product_min_max_date.astype({'max': 'int', 'min': 'int'})\n",
    "product_min_max_date['diff'] = (product_min_max_date['max'] - product_min_max_date['min'] + 1)\n",
    "\n",
    "# final table\n",
    "product_min_max_date"
   ]
  },
  {
   "cell_type": "markdown",
   "metadata": {
    "id": "su5s-LLpjvGM"
   },
   "source": [
    "#### 4.3.4 Calculate Density"
   ]
  },
  {
   "cell_type": "code",
   "execution_count": null,
   "metadata": {
    "id": "UOAXWgLPjumJ"
   },
   "outputs": [],
   "source": [
    "def calculateDensity(x_axis, y_axis):\n",
    "    x= x_axis\n",
    "    y= y_axis\n",
    "\n",
    "    # Calculate the point density\n",
    "    xy = np.vstack([x,y])\n",
    "    z = gaussian_kde(xy)(xy)\n",
    "    \n",
    "    # Sort the points by density, so that the densest points are plotted last\n",
    "    #idx = z.argsort()\n",
    "    #x, y, z = x[idx], y[idx], z[idx]\n",
    "    \n",
    "    #return density\n",
    "    return z"
   ]
  },
  {
   "cell_type": "markdown",
   "metadata": {
    "id": "E0B52Bbfp5bo"
   },
   "source": [
    "### 4.4 Merging For Luxury Beauty "
   ]
  },
  {
   "cell_type": "code",
   "execution_count": null,
   "metadata": {
    "colab": {
     "base_uri": "https://localhost:8080/",
     "height": 1000
    },
    "executionInfo": {
     "elapsed": 50641,
     "status": "ok",
     "timestamp": 1614354564735,
     "user": {
      "displayName": "YAP MOU EN",
      "photoUrl": "https://lh3.googleusercontent.com/a-/AOh14GhPNpBKjbLgcci9ZOGWgaMF_YjmfMYywVswsf2zkQ=s64",
      "userId": "04185711044849077922"
     },
     "user_tz": -480
    },
    "id": "2lWIR6ArqELE",
    "outputId": "792a30ac-1470-41da-ceba-52e5838335fa"
   },
   "outputs": [],
   "source": [
    "#merging\n",
    "#to find the intersection betweeen both tables\n",
    "luxuryBeautyMergedInner = (pd.merge(luxuryBeautyProduct_table,luxuryBeautyReview_table, on='asin', how='inner', indicator=True)).set_index('asin')\n",
    "luxuryBeautyMergedInner.reset_index(inplace = True)\n",
    "luxuryBeautyMergedInner\n"
   ]
  },
  {
   "cell_type": "markdown",
   "metadata": {
    "id": "9D5LqjksqPR1"
   },
   "source": [
    "#### 4.4.1 Final_luxuryBeautyReview_table"
   ]
  },
  {
   "cell_type": "code",
   "execution_count": null,
   "metadata": {
    "colab": {
     "base_uri": "https://localhost:8080/",
     "height": 399
    },
    "executionInfo": {
     "elapsed": 50623,
     "status": "ok",
     "timestamp": 1614354564736,
     "user": {
      "displayName": "YAP MOU EN",
      "photoUrl": "https://lh3.googleusercontent.com/a-/AOh14GhPNpBKjbLgcci9ZOGWgaMF_YjmfMYywVswsf2zkQ=s64",
      "userId": "04185711044849077922"
     },
     "user_tz": -480
    },
    "id": "LX9p13NjtKYK",
    "outputId": "fca393e7-7c02-4747-bde9-79ddccc6e84a"
   },
   "outputs": [],
   "source": [
    "final_luxuryBeautyReview_table = luxuryBeautyMergedInner.drop(['title','also_buy','rank','also_view','price','reviewerID', '_merge'],axis = 1)\n",
    "final_luxuryBeautyReview_table"
   ]
  },
  {
   "cell_type": "markdown",
   "metadata": {
    "id": "h5hM9xQRtXP0"
   },
   "source": [
    "#### 4.4.2 merged_luxuryBeautyReview_table"
   ]
  },
  {
   "cell_type": "code",
   "execution_count": null,
   "metadata": {
    "colab": {
     "base_uri": "https://localhost:8080/",
     "height": 399
    },
    "executionInfo": {
     "elapsed": 50605,
     "status": "ok",
     "timestamp": 1614354564737,
     "user": {
      "displayName": "YAP MOU EN",
      "photoUrl": "https://lh3.googleusercontent.com/a-/AOh14GhPNpBKjbLgcci9ZOGWgaMF_YjmfMYywVswsf2zkQ=s64",
      "userId": "04185711044849077922"
     },
     "user_tz": -480
    },
    "id": "rbMprTbUtm2x",
    "outputId": "c11d39f4-a297-43ac-d8ee-b703d0d3f4e6"
   },
   "outputs": [],
   "source": [
    "review_luxuryBeauty = final_luxuryBeautyReview_table[['asin', 'overall']]\n",
    "luxuryBeautyProduct_rank = luxuryBeautyProduct_table[['asin','rank']]\n",
    "merged_luxuryBeautyReview_table = process_merged_review(review_luxuryBeauty, luxuryBeautyProduct_rank)\n",
    "merged_luxuryBeautyReview_table"
   ]
  },
  {
   "cell_type": "markdown",
   "metadata": {
    "id": "n1A3-TbRtgHm"
   },
   "source": [
    "#### 4.4.3 mv_luxuryBeautyReview_table"
   ]
  },
  {
   "cell_type": "code",
   "execution_count": null,
   "metadata": {
    "colab": {
     "base_uri": "https://localhost:8080/",
     "height": 399
    },
    "executionInfo": {
     "elapsed": 50587,
     "status": "ok",
     "timestamp": 1614354564738,
     "user": {
      "displayName": "YAP MOU EN",
      "photoUrl": "https://lh3.googleusercontent.com/a-/AOh14GhPNpBKjbLgcci9ZOGWgaMF_YjmfMYywVswsf2zkQ=s64",
      "userId": "04185711044849077922"
     },
     "user_tz": -480
    },
    "id": "b6dghe7YtrFV",
    "outputId": "0e000dc9-2a9d-44c2-c9cb-88f49772efdd"
   },
   "outputs": [],
   "source": [
    "luxuryBeautyVR = final_luxuryBeautyReview_table[['asin', 'overall', 'verified']]\n",
    "mv_luxuryBeautyReview_table = process_verified_review(luxuryBeautyVR, merged_luxuryBeautyReview_table)\n",
    "mv_luxuryBeautyReview_table"
   ]
  },
  {
   "cell_type": "markdown",
   "metadata": {
    "id": "OcBVwk-MuQsi"
   },
   "source": [
    "#### 4.4.4 Process for final luxury beauty table"
   ]
  },
  {
   "cell_type": "code",
   "execution_count": null,
   "metadata": {
    "colab": {
     "base_uri": "https://localhost:8080/",
     "height": 399
    },
    "executionInfo": {
     "elapsed": 50917,
     "status": "ok",
     "timestamp": 1614354565086,
     "user": {
      "displayName": "YAP MOU EN",
      "photoUrl": "https://lh3.googleusercontent.com/a-/AOh14GhPNpBKjbLgcci9ZOGWgaMF_YjmfMYywVswsf2zkQ=s64",
      "userId": "04185711044849077922"
     },
     "user_tz": -480
    },
    "id": "FhqWTRfcvKOL",
    "outputId": "be5a0ba0-5e3a-4cb3-c124-b8413a1ee4ac"
   },
   "outputs": [],
   "source": [
    "# suitable for passing merged_review_table or mv_review_table\n",
    "def CalculateluxuryBeautyTimeWeightedAvg(rev_table):\n",
    "\n",
    "    frt_copy = final_luxuryBeautyReview_table.copy()\n",
    "    mmScaler = MinMaxScaler()\n",
    "    frt_copy[['unixReviewTime']] = mmScaler.fit_transform(frt_copy[['unixReviewTime']])\n",
    "    frt_copy['time-weighted-overall'] = frt_copy['overall'] * frt_copy['unixReviewTime'] \n",
    "    \n",
    "    g = frt_copy[['asin', 'time-weighted-overall']]\n",
    "    g = g.groupby(['asin'])['time-weighted-overall'].mean()\n",
    "    time_score = pd.DataFrame(g)#, columns=['time-weighted-avg'])\n",
    "    time_score.reset_index(inplace=True)\n",
    "    \n",
    "    rev_table = (pd.merge(rev_table, time_score, on='asin', how='inner', indicator=True)).set_index('asin')\n",
    "    rev_table.reset_index(inplace = True)\n",
    "    rev_table = rev_table.drop(['_merge'],axis = 1)\n",
    "\n",
    "    return rev_table\n",
    "\n",
    "luxuryBeautyReview_table_withTime = CalculateluxuryBeautyTimeWeightedAvg(mv_luxuryBeautyReview_table )\n",
    "luxuryBeautyReview_table_withTime"
   ]
  },
  {
   "cell_type": "markdown",
   "metadata": {
    "id": "V5OeiRjVQyHW"
   },
   "source": [
    "### 4.5 Binning"
   ]
  },
  {
   "cell_type": "markdown",
   "metadata": {
    "id": "6IZACRl3v7dK"
   },
   "source": [
    "#### 4.5.1 Binning for All Beauty Product"
   ]
  },
  {
   "cell_type": "code",
   "execution_count": null,
   "metadata": {
    "colab": {
     "base_uri": "https://localhost:8080/"
    },
    "executionInfo": {
     "elapsed": 50895,
     "status": "ok",
     "timestamp": 1614354565087,
     "user": {
      "displayName": "YAP MOU EN",
      "photoUrl": "https://lh3.googleusercontent.com/a-/AOh14GhPNpBKjbLgcci9ZOGWgaMF_YjmfMYywVswsf2zkQ=s64",
      "userId": "04185711044849077922"
     },
     "user_tz": -480
    },
    "id": "SeSqUcTy-8Ag",
    "outputId": "1aad12d0-87d5-4e6f-afa8-d48cd73c3033"
   },
   "outputs": [],
   "source": [
    "bins = np.linspace(min(merged_review_table['rank']), max(merged_review_table['rank']), 5)\n",
    "bins"
   ]
  },
  {
   "cell_type": "code",
   "execution_count": null,
   "metadata": {
    "colab": {
     "base_uri": "https://localhost:8080/",
     "height": 194
    },
    "executionInfo": {
     "elapsed": 50875,
     "status": "ok",
     "timestamp": 1614354565087,
     "user": {
      "displayName": "YAP MOU EN",
      "photoUrl": "https://lh3.googleusercontent.com/a-/AOh14GhPNpBKjbLgcci9ZOGWgaMF_YjmfMYywVswsf2zkQ=s64",
      "userId": "04185711044849077922"
     },
     "user_tz": -480
    },
    "id": "b4YknN4F_S_C",
    "outputId": "dc682587-ac3c-4339-b13b-0862cf933dfb"
   },
   "outputs": [],
   "source": [
    "group_names = ['Very Good', 'Good', 'Moderate', 'Bad']\n",
    "merged_review_table['rank-binned'] = pd.cut(merged_review_table['rank'], bins, labels=group_names, include_lowest=True)\n",
    "merged_review_table.head()"
   ]
  },
  {
   "cell_type": "code",
   "execution_count": null,
   "metadata": {
    "colab": {
     "base_uri": "https://localhost:8080/",
     "height": 322
    },
    "executionInfo": {
     "elapsed": 51301,
     "status": "ok",
     "timestamp": 1614354565533,
     "user": {
      "displayName": "YAP MOU EN",
      "photoUrl": "https://lh3.googleusercontent.com/a-/AOh14GhPNpBKjbLgcci9ZOGWgaMF_YjmfMYywVswsf2zkQ=s64",
      "userId": "04185711044849077922"
     },
     "user_tz": -480
    },
    "id": "YBAQjEHF_TEu",
    "outputId": "ab5e189b-be48-4ce9-d62a-0c344c57d34b"
   },
   "outputs": [],
   "source": [
    "plt.figure(figsize = (5,4))\n",
    "plt.bar(group_names, merged_review_table['rank-binned'].value_counts())\n",
    "plt.title(\"Number of Product against Sales Rank\")\n",
    "plt.xlabel('Sales Rank')\n",
    "plt.ylabel('Number of Product')"
   ]
  },
  {
   "cell_type": "markdown",
   "metadata": {
    "id": "Eooio4HLwALI"
   },
   "source": [
    "#### 4.5.2 Binning for Luxury Beauty Product"
   ]
  },
  {
   "cell_type": "code",
   "execution_count": null,
   "metadata": {
    "colab": {
     "base_uri": "https://localhost:8080/",
     "height": 399
    },
    "executionInfo": {
     "elapsed": 51282,
     "status": "ok",
     "timestamp": 1614354565534,
     "user": {
      "displayName": "YAP MOU EN",
      "photoUrl": "https://lh3.googleusercontent.com/a-/AOh14GhPNpBKjbLgcci9ZOGWgaMF_YjmfMYywVswsf2zkQ=s64",
      "userId": "04185711044849077922"
     },
     "user_tz": -480
    },
    "id": "H8xoySAkwE0K",
    "outputId": "479d1d96-6b50-4169-8630-bd6aa4ad2c2a"
   },
   "outputs": [],
   "source": [
    "bins_luxuryBeauty = np.linspace(min(luxuryBeautyReview_table_withTime['rank']), max(luxuryBeautyReview_table_withTime['rank']), 5)\n",
    "rank_names = ['Very Good', 'Good', 'Moderate', 'Bad']\n",
    "luxuryBeautyReview_table_withTime['rank-binned'] = pd.cut(luxuryBeautyReview_table_withTime['rank'], bins_luxuryBeauty, labels=rank_names, include_lowest=True)\n",
    "luxuryBeautyReview_table_withTime"
   ]
  },
  {
   "cell_type": "markdown",
   "metadata": {
    "id": "h5ThFs-NMXx4"
   },
   "source": [
    "## 5.0 Data Analysis\n",
    "****Important Note:****\n",
    "All beauty productis our main dataset. This project is mainly analysing all beauty product dataset. Luxury beauty product is mainly used for predictive modelling section."
   ]
  },
  {
   "cell_type": "markdown",
   "metadata": {
    "id": "7_VIWN7hipgO"
   },
   "source": [
    "### 5.1 Corr: avg rating && sales rank"
   ]
  },
  {
   "cell_type": "code",
   "execution_count": null,
   "metadata": {
    "colab": {
     "base_uri": "https://localhost:8080/",
     "height": 288
    },
    "executionInfo": {
     "elapsed": 51663,
     "status": "ok",
     "timestamp": 1614354565935,
     "user": {
      "displayName": "YAP MOU EN",
      "photoUrl": "https://lh3.googleusercontent.com/a-/AOh14GhPNpBKjbLgcci9ZOGWgaMF_YjmfMYywVswsf2zkQ=s64",
      "userId": "04185711044849077922"
     },
     "user_tz": -480
    },
    "id": "l9fxHhXTGq83",
    "outputId": "fcc2d837-987d-4bbe-c555-a3e7314dc549"
   },
   "outputs": [],
   "source": [
    "plt.figure(figsize = (5,4))\n",
    "bp = sns.boxplot(x='rank-binned', y='average-rating', data=merged_review_table)"
   ]
  },
  {
   "cell_type": "code",
   "execution_count": null,
   "metadata": {
    "colab": {
     "base_uri": "https://localhost:8080/",
     "height": 684
    },
    "executionInfo": {
     "elapsed": 52848,
     "status": "ok",
     "timestamp": 1614354567142,
     "user": {
      "displayName": "YAP MOU EN",
      "photoUrl": "https://lh3.googleusercontent.com/a-/AOh14GhPNpBKjbLgcci9ZOGWgaMF_YjmfMYywVswsf2zkQ=s64",
      "userId": "04185711044849077922"
     },
     "user_tz": -480
    },
    "id": "N5NKzeNP50ik",
    "outputId": "1d27abd7-a4d4-431f-9641-65df2340093b"
   },
   "outputs": [],
   "source": [
    "average_v_rank = sns.scatterplot(x='average-rating', \n",
    "                                 y='rank',\n",
    "                                 data=merged_review_table)\n",
    "\n",
    "average_v_rank.set(xlabel='Average Rating of Beauty Product', \n",
    "                   ylabel='Sales Rank', \n",
    "                   title=\"Average Rating of Beauty Products against Sales Rank\")"
   ]
  },
  {
   "cell_type": "code",
   "execution_count": null,
   "metadata": {
    "colab": {
     "base_uri": "https://localhost:8080/",
     "height": 633
    },
    "executionInfo": {
     "elapsed": 56492,
     "status": "ok",
     "timestamp": 1614354570807,
     "user": {
      "displayName": "YAP MOU EN",
      "photoUrl": "https://lh3.googleusercontent.com/a-/AOh14GhPNpBKjbLgcci9ZOGWgaMF_YjmfMYywVswsf2zkQ=s64",
      "userId": "04185711044849077922"
     },
     "user_tz": -480
    },
    "id": "Tyete91TEK4S",
    "outputId": "e40eb090-d3bb-460e-9a42-70a8d65c8a37"
   },
   "outputs": [],
   "source": [
    "sns.set(rc={'figure.figsize':(15,10)})\n",
    "sns.scatterplot(x='average-rating', y='rank', data = merged_review_table, hue='rank-binned')"
   ]
  },
  {
   "cell_type": "code",
   "execution_count": null,
   "metadata": {
    "colab": {
     "base_uri": "https://localhost:8080/",
     "height": 399
    },
    "executionInfo": {
     "elapsed": 56475,
     "status": "ok",
     "timestamp": 1614354570809,
     "user": {
      "displayName": "YAP MOU EN",
      "photoUrl": "https://lh3.googleusercontent.com/a-/AOh14GhPNpBKjbLgcci9ZOGWgaMF_YjmfMYywVswsf2zkQ=s64",
      "userId": "04185711044849077922"
     },
     "user_tz": -480
    },
    "id": "jn--Vw5YZNEe",
    "outputId": "00ebe1f2-2d3e-4d0d-914a-31c163057a76"
   },
   "outputs": [],
   "source": [
    "num_review_am200 = merged_review_table.copy()\n",
    "num_review_am200 = num_review_am200[num_review_am200['number-of-review']<= 200]\n",
    "\n",
    "\n",
    "num_review_am200['average-rating-range'] = pd.cut(num_review_am200['average-rating'],\n",
    "                                                  [0, 3, 4,6], \n",
    "                                                  right=False,\n",
    "                                                  labels=[\"[1, 3)\",\"[3, 4)\",\"[4, 5]\"])\n",
    "num_review_am200"
   ]
  },
  {
   "cell_type": "markdown",
   "metadata": {
    "id": "Q0AJ5fkNai8g"
   },
   "source": [
    "Unlike `merged_review_table`, the `num_review_am200` only contains product that has at most 200 reviews.\n",
    "\n"
   ]
  },
  {
   "cell_type": "code",
   "execution_count": null,
   "metadata": {
    "colab": {
     "base_uri": "https://localhost:8080/"
    },
    "executionInfo": {
     "elapsed": 56457,
     "status": "ok",
     "timestamp": 1614354570809,
     "user": {
      "displayName": "YAP MOU EN",
      "photoUrl": "https://lh3.googleusercontent.com/a-/AOh14GhPNpBKjbLgcci9ZOGWgaMF_YjmfMYywVswsf2zkQ=s64",
      "userId": "04185711044849077922"
     },
     "user_tz": -480
    },
    "id": "2pcdw1ksHzcH",
    "outputId": "ee7dd661-8928-4d06-f23f-a85c59a541c4"
   },
   "outputs": [],
   "source": [
    "#Finding correlation for 3 different categories of rating\n",
    "low_rating = num_review_am200['average-rating-range'] == \"[1, 3)\"\n",
    "mod_rating = num_review_am200['average-rating-range'] == \"[3, 4)\"\n",
    "high_rating = num_review_am200['average-rating-range'] == \"[4, 5]\"\n",
    "\n",
    "low_rating_table = num_review_am200[low_rating]\n",
    "mod_rating_table = num_review_am200[mod_rating]\n",
    "high_rating_table = num_review_am200[high_rating]\n",
    "print(high_rating_table['average-rating'].corr(high_rating_table['rank']),\"\\n\")\n",
    "print(mod_rating_table['average-rating'].corr(mod_rating_table['rank']),\"\\n\")\n",
    "print(low_rating_table['average-rating'].corr(low_rating_table['rank']))"
   ]
  },
  {
   "cell_type": "code",
   "execution_count": null,
   "metadata": {
    "colab": {
     "base_uri": "https://localhost:8080/",
     "height": 633
    },
    "executionInfo": {
     "elapsed": 59722,
     "status": "ok",
     "timestamp": 1614354574095,
     "user": {
      "displayName": "YAP MOU EN",
      "photoUrl": "https://lh3.googleusercontent.com/a-/AOh14GhPNpBKjbLgcci9ZOGWgaMF_YjmfMYywVswsf2zkQ=s64",
      "userId": "04185711044849077922"
     },
     "user_tz": -480
    },
    "id": "k32DNymYZNh8",
    "outputId": "7e8a1d84-6d87-4390-c092-11a5de1da2b8"
   },
   "outputs": [],
   "source": [
    "sns.set(rc={'figure.figsize':(15,10)})\n",
    "sns.scatterplot(x='average-rating', y='rank', data=num_review_am200, hue='average-rating-range', palette=[\"k\", \"C3\",\"C0\"])"
   ]
  },
  {
   "cell_type": "code",
   "execution_count": null,
   "metadata": {
    "colab": {
     "base_uri": "https://localhost:8080/",
     "height": 633
    },
    "executionInfo": {
     "elapsed": 61662,
     "status": "ok",
     "timestamp": 1614354576055,
     "user": {
      "displayName": "YAP MOU EN",
      "photoUrl": "https://lh3.googleusercontent.com/a-/AOh14GhPNpBKjbLgcci9ZOGWgaMF_YjmfMYywVswsf2zkQ=s64",
      "userId": "04185711044849077922"
     },
     "user_tz": -480
    },
    "id": "F1T4OYFPZNkQ",
    "outputId": "c363721c-4fe1-4fe1-b39e-db2d51ee470f"
   },
   "outputs": [],
   "source": [
    "sns.set(rc={'figure.figsize':(15,10)})\n",
    "sns.scatterplot(x='number-of-review', y='rank', data=num_review_am200, hue='average-rating-range', palette=[\"k\", \"C3\",\"C0\"])"
   ]
  },
  {
   "cell_type": "code",
   "execution_count": null,
   "metadata": {
    "colab": {
     "base_uri": "https://localhost:8080/",
     "height": 633
    },
    "executionInfo": {
     "elapsed": 63028,
     "status": "ok",
     "timestamp": 1614354577440,
     "user": {
      "displayName": "YAP MOU EN",
      "photoUrl": "https://lh3.googleusercontent.com/a-/AOh14GhPNpBKjbLgcci9ZOGWgaMF_YjmfMYywVswsf2zkQ=s64",
      "userId": "04185711044849077922"
     },
     "user_tz": -480
    },
    "id": "RMAPwZJDcHDd",
    "outputId": "586d5687-dcfa-46b5-8a85-2f6987cc6f8b"
   },
   "outputs": [],
   "source": [
    "plt.subplot(3, 1, 1)\n",
    "sns.set(rc={'figure.figsize':(15,10)})\n",
    "sns.scatterplot(x='number-of-review', y='rank', data=low_rating_table, color=\"k\")\n",
    "\n",
    "plt.subplot(3, 1, 2)\n",
    "sns.set(rc={'figure.figsize':(15,10)})\n",
    "sns.scatterplot(x='number-of-review', y='rank', data=mod_rating_table, color=\"C3\")\n",
    "\n",
    "plt.subplot(3, 1, 3)\n",
    "sns.set(rc={'figure.figsize':(15,10)})\n",
    "sns.scatterplot(x='number-of-review', y='rank', data=high_rating_table, color=\"C0\")"
   ]
  },
  {
   "cell_type": "markdown",
   "metadata": {
    "id": "RJI23QSXuuE3"
   },
   "source": [
    "### 5.2 Corr: num review && sales rank"
   ]
  },
  {
   "cell_type": "code",
   "execution_count": null,
   "metadata": {
    "colab": {
     "base_uri": "https://localhost:8080/",
     "height": 399
    },
    "executionInfo": {
     "elapsed": 63009,
     "status": "ok",
     "timestamp": 1614354577442,
     "user": {
      "displayName": "YAP MOU EN",
      "photoUrl": "https://lh3.googleusercontent.com/a-/AOh14GhPNpBKjbLgcci9ZOGWgaMF_YjmfMYywVswsf2zkQ=s64",
      "userId": "04185711044849077922"
     },
     "user_tz": -480
    },
    "id": "SgD7JkQDuuE3",
    "outputId": "12c5c238-8b74-4ffe-80ca-1503a1a58a41"
   },
   "outputs": [],
   "source": [
    "num_review = merged_review_table[['asin','number-of-review', 'rank']]\n",
    "num_review = num_review.sort_values(by=['rank'])\n",
    "num_review"
   ]
  },
  {
   "cell_type": "code",
   "execution_count": null,
   "metadata": {
    "colab": {
     "base_uri": "https://localhost:8080/",
     "height": 106
    },
    "executionInfo": {
     "elapsed": 62990,
     "status": "ok",
     "timestamp": 1614354577443,
     "user": {
      "displayName": "YAP MOU EN",
      "photoUrl": "https://lh3.googleusercontent.com/a-/AOh14GhPNpBKjbLgcci9ZOGWgaMF_YjmfMYywVswsf2zkQ=s64",
      "userId": "04185711044849077922"
     },
     "user_tz": -480
    },
    "id": "1vKopKV3uuE4",
    "outputId": "26c675dc-2a11-453e-8fb4-2016c7055270"
   },
   "outputs": [],
   "source": [
    "num_review.corr()"
   ]
  },
  {
   "cell_type": "code",
   "execution_count": null,
   "metadata": {
    "id": "qDGDr1MxuuE5"
   },
   "outputs": [],
   "source": [
    "# sns.heatmap(num_review.corr(),cmap='jet')"
   ]
  },
  {
   "cell_type": "code",
   "execution_count": null,
   "metadata": {
    "id": "qvGUU8TsuuE5"
   },
   "outputs": [],
   "source": [
    "# figure, axes = plt.subplots(1, 2)\n",
    "# num_review.plot(ax=axes[0])\n",
    "# sns.scatterplot(x=\"number-of-review\", y=\"rank\", data=num_review)"
   ]
  },
  {
   "cell_type": "code",
   "execution_count": null,
   "metadata": {
    "id": "5oOCLA2SuuE6"
   },
   "outputs": [],
   "source": [
    "# plt.figure(figsize = (10,8))\n",
    "# sns.regplot(x=\"number-of-review\", y=\"rank\", data=num_review)\n",
    "# plt.ylim(0,)"
   ]
  },
  {
   "cell_type": "markdown",
   "metadata": {
    "id": "YilTwYaMVQll"
   },
   "source": [
    "#### 5.2.1 num review 4 bins"
   ]
  },
  {
   "cell_type": "code",
   "execution_count": null,
   "metadata": {
    "colab": {
     "base_uri": "https://localhost:8080/"
    },
    "executionInfo": {
     "elapsed": 62971,
     "status": "ok",
     "timestamp": 1614354577448,
     "user": {
      "displayName": "YAP MOU EN",
      "photoUrl": "https://lh3.googleusercontent.com/a-/AOh14GhPNpBKjbLgcci9ZOGWgaMF_YjmfMYywVswsf2zkQ=s64",
      "userId": "04185711044849077922"
     },
     "user_tz": -480
    },
    "id": "_HaEZuPbYlkS",
    "outputId": "bafcae47-0c8f-4e66-d305-f2d766e4ce75"
   },
   "outputs": [],
   "source": [
    "# filter out num_review that are too high (consider them as outlier)\n",
    "num_review_filter = num_review[num_review['number-of-review']<200]\n",
    "num_review_filter.shape\n",
    "\n",
    "# 32083(total all) \n",
    "# 32029(<500) / 54 (>=500)\n",
    "# 31856(<200) / 227 (>=200)\n",
    "# 31540(<100) / 543 (>=100)"
   ]
  },
  {
   "cell_type": "code",
   "execution_count": null,
   "metadata": {
    "colab": {
     "base_uri": "https://localhost:8080/",
     "height": 506
    },
    "executionInfo": {
     "elapsed": 62951,
     "status": "ok",
     "timestamp": 1614354577448,
     "user": {
      "displayName": "YAP MOU EN",
      "photoUrl": "https://lh3.googleusercontent.com/a-/AOh14GhPNpBKjbLgcci9ZOGWgaMF_YjmfMYywVswsf2zkQ=s64",
      "userId": "04185711044849077922"
     },
     "user_tz": -480
    },
    "id": "TKrodtv8gXiE",
    "outputId": "99f5c5db-a483-4a48-8f71-a2ff0c22dd3a"
   },
   "outputs": [],
   "source": [
    "# square brackets '[]' mean the end point is included\n",
    "# round parentheses '()' mean it's excluded\n",
    "num_review_filter['num-review-range'] = pd.cut(num_review_filter['number-of-review'],\n",
    "                                                  [0, 4, 7, 10, 200], \n",
    "                                                  right=True,\n",
    "                                                  labels=['[1,4]', '(4,7]', '(7,10]', '(10,200)'])\n",
    "num_review_filter"
   ]
  },
  {
   "cell_type": "code",
   "execution_count": null,
   "metadata": {
    "colab": {
     "base_uri": "https://localhost:8080/"
    },
    "executionInfo": {
     "elapsed": 62927,
     "status": "ok",
     "timestamp": 1614354577449,
     "user": {
      "displayName": "YAP MOU EN",
      "photoUrl": "https://lh3.googleusercontent.com/a-/AOh14GhPNpBKjbLgcci9ZOGWgaMF_YjmfMYywVswsf2zkQ=s64",
      "userId": "04185711044849077922"
     },
     "user_tz": -480
    },
    "id": "4fmP2HcRf3QJ",
    "outputId": "791e31ab-4fb2-4101-e8fb-b3e7988fbf39"
   },
   "outputs": [],
   "source": [
    "num_review_filter['num-review-range'].value_counts().sort_index"
   ]
  },
  {
   "cell_type": "markdown",
   "metadata": {
    "id": "u5F6GnZObDuB"
   },
   "source": []
  },
  {
   "cell_type": "code",
   "execution_count": null,
   "metadata": {
    "colab": {
     "base_uri": "https://localhost:8080/",
     "height": 684
    },
    "executionInfo": {
     "elapsed": 64792,
     "status": "ok",
     "timestamp": 1614354579338,
     "user": {
      "displayName": "YAP MOU EN",
      "photoUrl": "https://lh3.googleusercontent.com/a-/AOh14GhPNpBKjbLgcci9ZOGWgaMF_YjmfMYywVswsf2zkQ=s64",
      "userId": "04185711044849077922"
     },
     "user_tz": -480
    },
    "id": "vDR2K_AiMs-k",
    "outputId": "c7eedb04-4475-49d6-8a50-4d901703e9a3"
   },
   "outputs": [],
   "source": [
    "sns.set(rc={'figure.figsize':(15,10)})\n",
    "sttrplt=sns.scatterplot(x='number-of-review', y='rank', data = num_review_filter, hue='num-review-range')\n",
    "plt.annotate(\n",
    "# Label and coordinate\n",
    "'Hard Candy Glow All The Way', xy=(110,0.86), xytext=(124, 0.9), color= \"red\", arrowprops={\"facecolor\": 'red', \"shrink\": 0.15}\n",
    ")\n",
    "plt.annotate(\n",
    "# Label and coordinate\n",
    "'Death and Dentistry', xy=(122,0.82), xytext=(137, 0.86), color= \"red\", arrowprops={\"facecolor\": 'red', \"shrink\": 0.20}\n",
    ")\n",
    "plt.annotate(\n",
    "# Label and coordinate\n",
    "'Norelco 8894 XL \\nSpectra Shaver', xy=(107,0.64), xytext=(122, 0.70), color= \"red\", arrowprops={\"facecolor\": 'red', \"shrink\": 0.20}\n",
    ")\n",
    "plt.annotate(\n",
    "# Label and coordinate\n",
    "'My New Pink \\nButton - Audry', xy=(160,0.62), xytext=(175, 0.68), color= \"red\", arrowprops={\"facecolor\": 'red', \"shrink\": 0.20}\n",
    ")\n",
    "\n",
    "sttrplt.set(xlabel='Total Number of Reviews', \n",
    "            ylabel='Sales Rank', \n",
    "            title=\"Total Number of Reviews against Sales Rank\")\n"
   ]
  },
  {
   "cell_type": "code",
   "execution_count": null,
   "metadata": {
    "colab": {
     "base_uri": "https://localhost:8080/",
     "height": 106
    },
    "executionInfo": {
     "elapsed": 64774,
     "status": "ok",
     "timestamp": 1614354579339,
     "user": {
      "displayName": "YAP MOU EN",
      "photoUrl": "https://lh3.googleusercontent.com/a-/AOh14GhPNpBKjbLgcci9ZOGWgaMF_YjmfMYywVswsf2zkQ=s64",
      "userId": "04185711044849077922"
     },
     "user_tz": -480
    },
    "id": "DjuGSHu6Vinj",
    "outputId": "1b95b9ca-490f-412d-89b4-2d43ed3d7ea6"
   },
   "outputs": [],
   "source": [
    "num_review_filter[num_review_filter['number-of-review'] <=50].corr()"
   ]
  },
  {
   "cell_type": "markdown",
   "metadata": {
    "id": "D5rBXEJAeXMJ"
   },
   "source": [
    "#### 5.2.2 num of high/low rating"
   ]
  },
  {
   "cell_type": "code",
   "execution_count": null,
   "metadata": {
    "id": "0Fy71pSmzAj-"
   },
   "outputs": [],
   "source": [
    "rating_grouping = final_review_table[['asin', 'overall']]\n",
    "\n",
    "# count by number of high rating reviews\n",
    "high_review_count = rating_grouping.groupby(['asin'])['overall'].apply(lambda x: (x >= 4).sum())\n",
    "high_review_count = pd.DataFrame(high_review_count)\n",
    "high_review_count.rename(columns={'overall':'number-of-high-rating-review'},inplace=True)\n",
    "high_review_count.reset_index(inplace = True)\n",
    "\n",
    "# count by number of low rating reviews\n",
    "low_review_count = rating_grouping.groupby(['asin'])['overall'].apply(lambda x: (x < 4).sum())\n",
    "low_review_count = pd.DataFrame(low_review_count)\n",
    "low_review_count.rename(columns={'overall':'number-of-low-rating-review'},inplace=True)\n",
    "low_review_count.reset_index(inplace = True)"
   ]
  },
  {
   "cell_type": "code",
   "execution_count": null,
   "metadata": {
    "colab": {
     "base_uri": "https://localhost:8080/",
     "height": 399
    },
    "executionInfo": {
     "elapsed": 79503,
     "status": "ok",
     "timestamp": 1614354594089,
     "user": {
      "displayName": "YAP MOU EN",
      "photoUrl": "https://lh3.googleusercontent.com/a-/AOh14GhPNpBKjbLgcci9ZOGWgaMF_YjmfMYywVswsf2zkQ=s64",
      "userId": "04185711044849077922"
     },
     "user_tz": -480
    },
    "id": "UhoDSWxtzApU",
    "outputId": "a5cfb2ca-559b-4fa7-c4ab-9b5918cdfe65"
   },
   "outputs": [],
   "source": [
    "# m is a updated version of merged_review_table, with column recording the number of high & low rating reviews of each products\n",
    "m = (pd.merge(high_review_count, low_review_count, on='asin', how='inner', indicator=True)).set_index('asin')\n",
    "m.reset_index(inplace=True)\n",
    "m = m.drop(['_merge'],axis = 1)\n",
    "m\n",
    "\n",
    "m = (pd.merge(merged_review_table, m, on='asin', how='inner', indicator=True)).set_index('asin')\n",
    "m.reset_index(inplace=True)\n",
    "m = m.drop(['_merge'],axis = 1)\n",
    "m\n"
   ]
  },
  {
   "cell_type": "code",
   "execution_count": null,
   "metadata": {
    "colab": {
     "base_uri": "https://localhost:8080/",
     "height": 106
    },
    "executionInfo": {
     "elapsed": 79484,
     "status": "ok",
     "timestamp": 1614354594089,
     "user": {
      "displayName": "YAP MOU EN",
      "photoUrl": "https://lh3.googleusercontent.com/a-/AOh14GhPNpBKjbLgcci9ZOGWgaMF_YjmfMYywVswsf2zkQ=s64",
      "userId": "04185711044849077922"
     },
     "user_tz": -480
    },
    "id": "nV0JCLrgiXTm",
    "outputId": "f79e203f-afcf-45be-87d0-a6de248d67f5"
   },
   "outputs": [],
   "source": [
    "filter_num_review_50 = m['number-of-review'] <=50\n",
    "m = m[filter_num_review_50]\n",
    "m[['number-of-review','rank']].corr()"
   ]
  },
  {
   "cell_type": "code",
   "execution_count": null,
   "metadata": {
    "colab": {
     "base_uri": "https://localhost:8080/",
     "height": 648
    },
    "executionInfo": {
     "elapsed": 80437,
     "status": "ok",
     "timestamp": 1614354595059,
     "user": {
      "displayName": "YAP MOU EN",
      "photoUrl": "https://lh3.googleusercontent.com/a-/AOh14GhPNpBKjbLgcci9ZOGWgaMF_YjmfMYywVswsf2zkQ=s64",
      "userId": "04185711044849077922"
     },
     "user_tz": -480
    },
    "id": "rUsV1E_fpbTH",
    "outputId": "d8befb5a-dccb-458a-dde3-2c35b92b5361"
   },
   "outputs": [],
   "source": [
    "nReview50 = sns.scatterplot(x=\"number-of-review\", y=\"rank\", data=m,color=\"blue\")\n",
    "nReview50.set(title=\"Number of Reviews(<=50) against Sales Rank\")"
   ]
  },
  {
   "cell_type": "code",
   "execution_count": null,
   "metadata": {
    "colab": {
     "base_uri": "https://localhost:8080/",
     "height": 633
    },
    "executionInfo": {
     "elapsed": 82943,
     "status": "ok",
     "timestamp": 1614354597583,
     "user": {
      "displayName": "YAP MOU EN",
      "photoUrl": "https://lh3.googleusercontent.com/a-/AOh14GhPNpBKjbLgcci9ZOGWgaMF_YjmfMYywVswsf2zkQ=s64",
      "userId": "04185711044849077922"
     },
     "user_tz": -480
    },
    "id": "iN13-1plzAwC",
    "outputId": "321d3cea-09f2-4416-8df2-f7ca6223030b"
   },
   "outputs": [],
   "source": [
    "# ploting a graph to see the relationship between number of high rating reviews (those that are >= 4), and the sales rank\n",
    "plt.subplot(2, 1, 1)\n",
    "# getting those products that have at least one high rating review\n",
    "m1 = m[m['number-of-high-rating-review'] > 0]\n",
    "# we have 27858 products here\n",
    "sns.scatterplot(x=\"number-of-high-rating-review\", y=\"rank\", data=m1)\n",
    "\n",
    "\n",
    "# ploting a graph to see the relationship between number of low rating reviews (those that are < 4), and the sales rank\n",
    "plt.subplot(2, 1, 2)\n",
    "# getting those products that have at least one low rating review\n",
    "m2 = m[m['number-of-low-rating-review'] > 0]\n",
    "# we have 15950 products here\n",
    "sns.scatterplot(x=\"number-of-low-rating-review\", y=\"rank\", data=m2)"
   ]
  },
  {
   "cell_type": "markdown",
   "metadata": {
    "id": "u9rks-v9dFkc"
   },
   "source": [
    "#### 5.2.3 correlation at different year (2000-2018)"
   ]
  },
  {
   "cell_type": "code",
   "execution_count": null,
   "metadata": {
    "colab": {
     "base_uri": "https://localhost:8080/",
     "height": 399
    },
    "executionInfo": {
     "elapsed": 82924,
     "status": "ok",
     "timestamp": 1614354597584,
     "user": {
      "displayName": "YAP MOU EN",
      "photoUrl": "https://lh3.googleusercontent.com/a-/AOh14GhPNpBKjbLgcci9ZOGWgaMF_YjmfMYywVswsf2zkQ=s64",
      "userId": "04185711044849077922"
     },
     "user_tz": -480
    },
    "id": "uHMs7pQpdhcA",
    "outputId": "d9b99cbb-00c0-4a5f-d2ab-b447823ef2fe"
   },
   "outputs": [],
   "source": [
    "# filter final_review_table, groupby asin and year\n",
    "p_AvgRating_ByYear = final_review_table.groupby(['asin','year'], sort=True)['overall'].agg(['mean', 'count'])\n",
    "p_AvgRating_ByYear = pd.DataFrame(p_AvgRating_ByYear)\n",
    "p_AvgRating_ByYear.reset_index(level=['asin','year'], inplace=True)\n",
    "\n",
    "# filter merged_review_table\n",
    "p_rank = merged_review_table[['asin', 'rank']]\n",
    "\n",
    "# merge both average rating and rank\n",
    "avgRating_byYear = (pd.merge(p_rank, p_AvgRating_ByYear, on='asin', how='inner', indicator=True))\n",
    "avgRating_byYear.drop(['_merge'], axis=1, inplace =True)\n",
    "avgRating_byYear = avgRating_byYear.astype({'year': 'int'})\n",
    "avgRating_byYear.sort_values(by=['year'], inplace=True)\n",
    "avgRating_byYear = avgRating_byYear[['year','asin','rank','count','mean']]\n",
    "\n",
    "avgRating_byYear"
   ]
  },
  {
   "cell_type": "code",
   "execution_count": null,
   "metadata": {
    "colab": {
     "base_uri": "https://localhost:8080/",
     "height": 399
    },
    "executionInfo": {
     "elapsed": 82908,
     "status": "ok",
     "timestamp": 1614354597585,
     "user": {
      "displayName": "YAP MOU EN",
      "photoUrl": "https://lh3.googleusercontent.com/a-/AOh14GhPNpBKjbLgcci9ZOGWgaMF_YjmfMYywVswsf2zkQ=s64",
      "userId": "04185711044849077922"
     },
     "user_tz": -480
    },
    "id": "spySnsige6k_",
    "outputId": "62b0b1a4-3cca-4be9-eef5-d826e7938160"
   },
   "outputs": [],
   "source": [
    "# sort table according to rank, and reindex the rank\n",
    "sorted_avgRating_byYear = avgRating_byYear.sort_values(by='rank')\n",
    "sorted_avgRating_byYear.reset_index(drop=True,inplace=True)\n",
    "sorted_avgRating_byYear['nrank'] = sorted_avgRating_byYear.index+1\n",
    "sorted_avgRating_byYear"
   ]
  },
  {
   "cell_type": "code",
   "execution_count": null,
   "metadata": {
    "id": "WkoglLVajfcN"
   },
   "outputs": [],
   "source": [
    "frame_list =[]\n",
    "density_list = []\n",
    "date_list = []\n",
    "for x in range(2000, 2019):\n",
    "    tempPd = filterByYear(x, sorted_avgRating_byYear)\n",
    "    density = calculateDensity(tempPd['count'], tempPd['nrank'])\n",
    "    tempPd = pd.DataFrame(tempPd)\n",
    "    frame_list.append(tempPd)\n",
    "    density_list.append(density)\n",
    "    date_list.append(str(x))"
   ]
  },
  {
   "cell_type": "code",
   "execution_count": null,
   "metadata": {
    "id": "MTJK_tpVkRdp"
   },
   "outputs": [],
   "source": [
    "#########\n",
    "# If you're using Jupyter notebook\n",
    "# Use this command to switch on matplotlib's backend, this will enable interactive UI\n",
    "\n",
    "# %matplotlib notebook \n",
    "\n",
    "##########\n",
    "# After running the animated gif\n",
    "# use this command to switch off matplotlib's backend, this will disable interactive UI\n",
    "\n",
    "# %matplotlib inline\n",
    "\n",
    "#########\n",
    "# To learn more about matplotlib\n",
    "# %matplotlib --list"
   ]
  },
  {
   "cell_type": "markdown",
   "metadata": {
    "id": "0p9NVC45oXpY"
   },
   "source": [
    "Animation of sales rank (y_axis) against number of reviews (x_axis) from 2000 to 2018 in every year "
   ]
  },
  {
   "cell_type": "code",
   "execution_count": null,
   "metadata": {
    "colab": {
     "base_uri": "https://localhost:8080/",
     "height": 413
    },
    "executionInfo": {
     "elapsed": 88892,
     "status": "ok",
     "timestamp": 1614354603590,
     "user": {
      "displayName": "YAP MOU EN",
      "photoUrl": "https://lh3.googleusercontent.com/a-/AOh14GhPNpBKjbLgcci9ZOGWgaMF_YjmfMYywVswsf2zkQ=s64",
      "userId": "04185711044849077922"
     },
     "user_tz": -480
    },
    "id": "7EaKgILmkTS4",
    "outputId": "2085ac08-cbc0-416d-bfd8-b934db0b34ca"
   },
   "outputs": [],
   "source": [
    "fig, ax = plt.subplots(figsize=(6,6))\n",
    "\n",
    "ax.scatter([1,2000], [1,2000], c=[1,2000])\n",
    "ax.set_title(\"title\")\n",
    "plt.xlabel(\"Number of Review\")\n",
    "plt.ylabel(\"Sales Rank\")\n",
    "\n",
    "#not in use (may omit)\n",
    "def init():\n",
    "    sc = ax.set_data([], [])\n",
    "    return sc,\n",
    "\n",
    "def animate(i):\n",
    "    ax.scatter(frame_list[i]['count'], frame_list[i]['rank'], c=density_list[i], edgecolor='none')\n",
    "    ax.set_title(date_list[i])\n",
    "    \n",
    "ani = matplotlib.animation.FuncAnimation(fig, animate, frames=19, interval=1000)#, interval=100)\n",
    "\n",
    "plt.show()     "
   ]
  },
  {
   "cell_type": "markdown",
   "metadata": {
    "id": "wRfH2SpkORNS"
   },
   "source": [
    "### 5.3 Analysing \"Very Good\" Products\n",
    "\n",
    "Further analysing product binned in \"Very Good\". These product ranking falls into the range 35 ~ 870386.75\n",
    "\n"
   ]
  },
  {
   "cell_type": "code",
   "execution_count": null,
   "metadata": {
    "colab": {
     "base_uri": "https://localhost:8080/",
     "height": 399
    },
    "executionInfo": {
     "elapsed": 88874,
     "status": "ok",
     "timestamp": 1614354603591,
     "user": {
      "displayName": "YAP MOU EN",
      "photoUrl": "https://lh3.googleusercontent.com/a-/AOh14GhPNpBKjbLgcci9ZOGWgaMF_YjmfMYywVswsf2zkQ=s64",
      "userId": "04185711044849077922"
     },
     "user_tz": -480
    },
    "id": "u8jOD5ZLLRsr",
    "outputId": "3d66902f-18cf-43e3-83c7-8020dd985d08"
   },
   "outputs": [],
   "source": [
    "vg_filter = merged_review_table['rank'] <= 870386.75\n",
    "vg_table = merged_review_table[vg_filter]\n",
    "vg_table.sort_values(by=['rank'])"
   ]
  },
  {
   "cell_type": "markdown",
   "metadata": {
    "id": "hE4fPWfgczQ5"
   },
   "source": [
    "There are 11379 products that falls in the \"Very Good\" category, with the highest rank being 35, and the lowest rank is 870359.\n",
    "\n",
    "We will further bin the products."
   ]
  },
  {
   "cell_type": "code",
   "execution_count": null,
   "metadata": {
    "colab": {
     "base_uri": "https://localhost:8080/"
    },
    "executionInfo": {
     "elapsed": 89475,
     "status": "ok",
     "timestamp": 1614354604211,
     "user": {
      "displayName": "YAP MOU EN",
      "photoUrl": "https://lh3.googleusercontent.com/a-/AOh14GhPNpBKjbLgcci9ZOGWgaMF_YjmfMYywVswsf2zkQ=s64",
      "userId": "04185711044849077922"
     },
     "user_tz": -480
    },
    "id": "4KoxV1dQLSiI",
    "outputId": "4eaa4f7c-8595-4344-af17-812a74428705"
   },
   "outputs": [],
   "source": [
    "bins_2 = np.linspace(min(vg_table['rank']), max(vg_table['rank']), 5)\n",
    "bins_2"
   ]
  },
  {
   "cell_type": "code",
   "execution_count": null,
   "metadata": {
    "colab": {
     "base_uri": "https://localhost:8080/",
     "height": 194
    },
    "executionInfo": {
     "elapsed": 89465,
     "status": "ok",
     "timestamp": 1614354604220,
     "user": {
      "displayName": "YAP MOU EN",
      "photoUrl": "https://lh3.googleusercontent.com/a-/AOh14GhPNpBKjbLgcci9ZOGWgaMF_YjmfMYywVswsf2zkQ=s64",
      "userId": "04185711044849077922"
     },
     "user_tz": -480
    },
    "id": "uS2EtD9ix5GB",
    "outputId": "a952093c-99f8-4408-e0d2-f9b060a079f0"
   },
   "outputs": [],
   "source": [
    "group_names_2 = ['1', '2', '3', '4']\n",
    "vg_table['upper-rank-binned'] = pd.cut(vg_table['rank'], bins_2, labels=group_names_2, include_lowest=True)\n",
    "vg_table.head()"
   ]
  },
  {
   "cell_type": "code",
   "execution_count": null,
   "metadata": {
    "colab": {
     "base_uri": "https://localhost:8080/",
     "height": 289
    },
    "executionInfo": {
     "elapsed": 89446,
     "status": "ok",
     "timestamp": 1614354604221,
     "user": {
      "displayName": "YAP MOU EN",
      "photoUrl": "https://lh3.googleusercontent.com/a-/AOh14GhPNpBKjbLgcci9ZOGWgaMF_YjmfMYywVswsf2zkQ=s64",
      "userId": "04185711044849077922"
     },
     "user_tz": -480
    },
    "id": "WTFwV1uiycEB",
    "outputId": "0b91138f-a758-4192-92fd-3df57884f124"
   },
   "outputs": [],
   "source": [
    "plt.figure(figsize = (5,4))\n",
    "plt.bar(group_names_2, vg_table['upper-rank-binned'].value_counts())"
   ]
  },
  {
   "cell_type": "code",
   "execution_count": null,
   "metadata": {
    "colab": {
     "base_uri": "https://localhost:8080/",
     "height": 288
    },
    "executionInfo": {
     "elapsed": 89427,
     "status": "ok",
     "timestamp": 1614354604222,
     "user": {
      "displayName": "YAP MOU EN",
      "photoUrl": "https://lh3.googleusercontent.com/a-/AOh14GhPNpBKjbLgcci9ZOGWgaMF_YjmfMYywVswsf2zkQ=s64",
      "userId": "04185711044849077922"
     },
     "user_tz": -480
    },
    "id": "5bkq6a9tycKu",
    "outputId": "c483baab-32c5-448f-a0bb-4f9fc8144d81"
   },
   "outputs": [],
   "source": [
    "plt.figure(figsize = (5,4))\n",
    "bp = sns.boxplot(x='upper-rank-binned', y='average-rating', data=vg_table)"
   ]
  },
  {
   "cell_type": "code",
   "execution_count": null,
   "metadata": {
    "colab": {
     "base_uri": "https://localhost:8080/",
     "height": 399
    },
    "executionInfo": {
     "elapsed": 89409,
     "status": "ok",
     "timestamp": 1614354604223,
     "user": {
      "displayName": "YAP MOU EN",
      "photoUrl": "https://lh3.googleusercontent.com/a-/AOh14GhPNpBKjbLgcci9ZOGWgaMF_YjmfMYywVswsf2zkQ=s64",
      "userId": "04185711044849077922"
     },
     "user_tz": -480
    },
    "id": "r9UxoScBbW2W",
    "outputId": "7241e85b-72f5-45ee-f227-f5b318b8364a"
   },
   "outputs": [],
   "source": [
    "vg_table.sort_values(by='average-rating')"
   ]
  },
  {
   "cell_type": "code",
   "execution_count": null,
   "metadata": {
    "colab": {
     "base_uri": "https://localhost:8080/",
     "height": 229
    },
    "executionInfo": {
     "elapsed": 89390,
     "status": "ok",
     "timestamp": 1614354604224,
     "user": {
      "displayName": "YAP MOU EN",
      "photoUrl": "https://lh3.googleusercontent.com/a-/AOh14GhPNpBKjbLgcci9ZOGWgaMF_YjmfMYywVswsf2zkQ=s64",
      "userId": "04185711044849077922"
     },
     "user_tz": -480
    },
    "id": "RSEUHiVebW4q",
    "outputId": "b062965f-d6da-43a4-e251-1a59cd174055"
   },
   "outputs": [],
   "source": [
    "vg_table_lt200 = vg_table[vg_table['number-of-review']<200].copy() # cleared 214 products\n",
    "vg_table_top = vg_table_lt200[vg_table['upper-rank-binned'] == '1'].copy()\n",
    "\n",
    "vg_table_top['average-rating-range'] = pd.cut(vg_table_top['average-rating'],\n",
    "                                                  [0, 4, 6], \n",
    "                                                  right=False,\n",
    "                                                  labels=[\"[1, 4)\", \"[4, 5]\"])\n",
    "vg_table_top.head() "
   ]
  },
  {
   "cell_type": "code",
   "execution_count": null,
   "metadata": {
    "colab": {
     "base_uri": "https://localhost:8080/",
     "height": 524
    },
    "executionInfo": {
     "elapsed": 92058,
     "status": "ok",
     "timestamp": 1614354606912,
     "user": {
      "displayName": "YAP MOU EN",
      "photoUrl": "https://lh3.googleusercontent.com/a-/AOh14GhPNpBKjbLgcci9ZOGWgaMF_YjmfMYywVswsf2zkQ=s64",
      "userId": "04185711044849077922"
     },
     "user_tz": -480
    },
    "id": "0tSjHodTbXO_",
    "outputId": "fdc1c493-33fb-4518-dcef-9c2978880f30"
   },
   "outputs": [],
   "source": [
    "sns.set(rc={'figure.figsize':(10,8)})\n",
    "sns.scatterplot(x='average-rating', y='rank', data=vg_table_top, hue='average-rating-range', palette=[\"k\", \"C3\"])"
   ]
  },
  {
   "cell_type": "code",
   "execution_count": null,
   "metadata": {
    "colab": {
     "base_uri": "https://localhost:8080/",
     "height": 524
    },
    "executionInfo": {
     "elapsed": 93797,
     "status": "ok",
     "timestamp": 1614354608671,
     "user": {
      "displayName": "YAP MOU EN",
      "photoUrl": "https://lh3.googleusercontent.com/a-/AOh14GhPNpBKjbLgcci9ZOGWgaMF_YjmfMYywVswsf2zkQ=s64",
      "userId": "04185711044849077922"
     },
     "user_tz": -480
    },
    "id": "G7hEllHnbXTI",
    "outputId": "caa9f9f7-cbc6-4f70-9b89-7f850cc2b36e"
   },
   "outputs": [],
   "source": [
    "sns.set(rc={'figure.figsize':(10,8)})\n",
    "sns.scatterplot(x='number-of-review', y='rank', data=vg_table_top, hue='average-rating-range', palette=[\"k\", \"C3\"])"
   ]
  },
  {
   "cell_type": "markdown",
   "metadata": {
    "id": "lIT9NH2xTluu"
   },
   "source": [
    "### 5.4 Slice Sales Rank < 5000\n",
    "\n"
   ]
  },
  {
   "cell_type": "code",
   "execution_count": null,
   "metadata": {
    "colab": {
     "base_uri": "https://localhost:8080/",
     "height": 399
    },
    "executionInfo": {
     "elapsed": 93777,
     "status": "ok",
     "timestamp": 1614354608672,
     "user": {
      "displayName": "YAP MOU EN",
      "photoUrl": "https://lh3.googleusercontent.com/a-/AOh14GhPNpBKjbLgcci9ZOGWgaMF_YjmfMYywVswsf2zkQ=s64",
      "userId": "04185711044849077922"
     },
     "user_tz": -480
    },
    "id": "3M5f64XdKn_m",
    "outputId": "2bcac4fd-c7e6-472b-91f4-ca9334a3cb86"
   },
   "outputs": [],
   "source": [
    "#try to take data that have sales rank less than 50000\n",
    "partial_table = merged_review_table[merged_review_table['rank'] <= 50000]\n",
    "\n",
    "#min-max normalization\n",
    "#partial_table['rank'] = (partial_table['rank'] - partial_table['rank'].min())/(partial_table['rank'].max()-partial_table['rank'].min())\n",
    "partial_table"
   ]
  },
  {
   "cell_type": "code",
   "execution_count": null,
   "metadata": {
    "colab": {
     "base_uri": "https://localhost:8080/",
     "height": 135
    },
    "executionInfo": {
     "elapsed": 93758,
     "status": "ok",
     "timestamp": 1614354608673,
     "user": {
      "displayName": "YAP MOU EN",
      "photoUrl": "https://lh3.googleusercontent.com/a-/AOh14GhPNpBKjbLgcci9ZOGWgaMF_YjmfMYywVswsf2zkQ=s64",
      "userId": "04185711044849077922"
     },
     "user_tz": -480
    },
    "id": "OrF_G-7uKvdC",
    "outputId": "78d36279-35d4-4907-f3c3-b4d29ceb26f2"
   },
   "outputs": [],
   "source": [
    "partial_table.corr()"
   ]
  },
  {
   "cell_type": "code",
   "execution_count": null,
   "metadata": {
    "colab": {
     "base_uri": "https://localhost:8080/",
     "height": 399
    },
    "executionInfo": {
     "elapsed": 93737,
     "status": "ok",
     "timestamp": 1614354608673,
     "user": {
      "displayName": "YAP MOU EN",
      "photoUrl": "https://lh3.googleusercontent.com/a-/AOh14GhPNpBKjbLgcci9ZOGWgaMF_YjmfMYywVswsf2zkQ=s64",
      "userId": "04185711044849077922"
     },
     "user_tz": -480
    },
    "id": "f73_KLqBKyLq",
    "outputId": "39a06267-c049-40d5-c1f4-3cf0aff2ef36"
   },
   "outputs": [],
   "source": [
    "num_review = partial_table[['asin','number-of-review', 'rank']]\n",
    "num_review = num_review.sort_values(by=['rank'])\n",
    "num_review"
   ]
  },
  {
   "cell_type": "code",
   "execution_count": null,
   "metadata": {
    "colab": {
     "base_uri": "https://localhost:8080/",
     "height": 524
    },
    "executionInfo": {
     "elapsed": 93720,
     "status": "ok",
     "timestamp": 1614354608674,
     "user": {
      "displayName": "YAP MOU EN",
      "photoUrl": "https://lh3.googleusercontent.com/a-/AOh14GhPNpBKjbLgcci9ZOGWgaMF_YjmfMYywVswsf2zkQ=s64",
      "userId": "04185711044849077922"
     },
     "user_tz": -480
    },
    "id": "drZMkfiwKzy8",
    "outputId": "ef9457d8-542d-40c1-fbde-9760a09ef28e"
   },
   "outputs": [],
   "source": [
    "plt.figure(figsize = (10,8))\n",
    "sns.scatterplot(x=\"number-of-review\", y=\"rank\", data=num_review)"
   ]
  },
  {
   "cell_type": "code",
   "execution_count": null,
   "metadata": {
    "colab": {
     "base_uri": "https://localhost:8080/",
     "height": 575
    },
    "executionInfo": {
     "elapsed": 95051,
     "status": "ok",
     "timestamp": 1614354610023,
     "user": {
      "displayName": "YAP MOU EN",
      "photoUrl": "https://lh3.googleusercontent.com/a-/AOh14GhPNpBKjbLgcci9ZOGWgaMF_YjmfMYywVswsf2zkQ=s64",
      "userId": "04185711044849077922"
     },
     "user_tz": -480
    },
    "id": "r9T_T3ZcK25O",
    "outputId": "e108d929-3198-4c0f-8935-c8aef9e191d0"
   },
   "outputs": [],
   "source": [
    "plt.figure(figsize = (10,8))\n",
    "average_v_rank = sns.scatterplot(x='average-rating', \n",
    "                                 y='rank',\n",
    "                                 data=partial_table)\n",
    "\n",
    "average_v_rank.set(xlabel='Average Rating of Beauty Product', \n",
    "                   ylabel='Sales Rank', \n",
    "                   title=\"Average Rating of Beauty Products against Sales Rank\")"
   ]
  },
  {
   "cell_type": "markdown",
   "metadata": {
    "id": "X9zSU1m_K-PW"
   },
   "source": [
    "### 5.5 Price VS Sales Rank"
   ]
  },
  {
   "cell_type": "code",
   "execution_count": null,
   "metadata": {
    "colab": {
     "base_uri": "https://localhost:8080/",
     "height": 399
    },
    "executionInfo": {
     "elapsed": 95032,
     "status": "ok",
     "timestamp": 1614354610024,
     "user": {
      "displayName": "YAP MOU EN",
      "photoUrl": "https://lh3.googleusercontent.com/a-/AOh14GhPNpBKjbLgcci9ZOGWgaMF_YjmfMYywVswsf2zkQ=s64",
      "userId": "04185711044849077922"
     },
     "user_tz": -480
    },
    "id": "TnFlOHSNLAxz",
    "outputId": "992e0c12-ed1b-4c25-84cd-404d5fceec41"
   },
   "outputs": [],
   "source": [
    "price_rank_table = product_table[['asin','rank','price']]\n",
    "num_review_table = mv_review_table[['asin','number-of-review']]\n",
    "# merge number of reviews\n",
    "merged_price_table = (pd.merge(price_rank_table, num_review_table , on='asin', how='inner', indicator=True)).set_index('asin')\n",
    "merged_price_table.reset_index(inplace = True)\n",
    "merged_price_table = merged_price_table.drop(['_merge'],axis = 1)\n",
    "merged_price_table.rename(columns={'overall':'number-of-review'},inplace=True)\n",
    "\n",
    "# filter out product with 0 as sales rank \n",
    "#merged_price_table = merged_price_table[merged_price_table['rank'] > 0]\n",
    "#merged_price_table = merged_price_table[merged_price_table['price'] > 0]\n",
    "\n",
    "#remove outliers\n",
    "price_z_scores = stats.zscore(pd.DataFrame(merged_price_table['price']))\n",
    "price_abs_z_scores = np.abs(price_z_scores)\n",
    "price_outlier = (price_abs_z_scores > 3).all(axis=1)\n",
    "merged_price_table.drop(merged_price_table[price_outlier].index, inplace = True)\n",
    "merged_price_table.sort_values(by=['rank']) "
   ]
  },
  {
   "cell_type": "code",
   "execution_count": null,
   "metadata": {
    "id": "k_Gi3848LDAZ"
   },
   "outputs": [],
   "source": [
    "#min-max normalization\n",
    "#price_rank_table['rank'] = (price_rank_table['rank'] - price_rank_table['rank'].min())/(price_rank_table['rank'].max()-price_rank_table['rank'].min())"
   ]
  },
  {
   "cell_type": "code",
   "execution_count": null,
   "metadata": {
    "colab": {
     "base_uri": "https://localhost:8080/",
     "height": 399
    },
    "executionInfo": {
     "elapsed": 95011,
     "status": "ok",
     "timestamp": 1614354610025,
     "user": {
      "displayName": "YAP MOU EN",
      "photoUrl": "https://lh3.googleusercontent.com/a-/AOh14GhPNpBKjbLgcci9ZOGWgaMF_YjmfMYywVswsf2zkQ=s64",
      "userId": "04185711044849077922"
     },
     "user_tz": -480
    },
    "id": "wvlDeowmLEA6",
    "outputId": "ce127a7c-1e1e-478d-eb78-11a44041730c"
   },
   "outputs": [],
   "source": [
    "filter_num_review = merged_price_table['number-of-review'] < 50\n",
    "#filter_price = merged_price_table['price'] < 25\n",
    "merged_price_table = merged_price_table[filter_num_review]\n",
    "#merged_price_table = merged_price_table[filter_price]\n",
    "merged_price_table.sort_values(by=['price'])"
   ]
  },
  {
   "cell_type": "code",
   "execution_count": null,
   "metadata": {
    "colab": {
     "base_uri": "https://localhost:8080/",
     "height": 135
    },
    "executionInfo": {
     "elapsed": 94992,
     "status": "ok",
     "timestamp": 1614354610026,
     "user": {
      "displayName": "YAP MOU EN",
      "photoUrl": "https://lh3.googleusercontent.com/a-/AOh14GhPNpBKjbLgcci9ZOGWgaMF_YjmfMYywVswsf2zkQ=s64",
      "userId": "04185711044849077922"
     },
     "user_tz": -480
    },
    "id": "djju2x9iLFva",
    "outputId": "e281bb01-6aa1-401d-eaa5-730d6e030580"
   },
   "outputs": [],
   "source": [
    "merged_price_table.corr()"
   ]
  },
  {
   "cell_type": "code",
   "execution_count": null,
   "metadata": {
    "colab": {
     "base_uri": "https://localhost:8080/",
     "height": 399
    },
    "executionInfo": {
     "elapsed": 94974,
     "status": "ok",
     "timestamp": 1614354610026,
     "user": {
      "displayName": "YAP MOU EN",
      "photoUrl": "https://lh3.googleusercontent.com/a-/AOh14GhPNpBKjbLgcci9ZOGWgaMF_YjmfMYywVswsf2zkQ=s64",
      "userId": "04185711044849077922"
     },
     "user_tz": -480
    },
    "id": "0rr5iEuIuChu",
    "outputId": "bb134383-bd0e-424e-8aaa-87fd730256a4"
   },
   "outputs": [],
   "source": [
    "# square brackets '[]' mean the end point is included\n",
    "# round parentheses '()' mean it's excluded\n",
    "merged_price_table['price-range'] = pd.cut(merged_price_table['price'],\n",
    "                                                  [-1, 25, 75, 125, 200], \n",
    "                                                  right=True,\n",
    "                                                  labels=['[0,25]', '(25,75]', '(75,125]', '(125,200]'])\n",
    "merged_price_table"
   ]
  },
  {
   "cell_type": "code",
   "execution_count": null,
   "metadata": {
    "colab": {
     "base_uri": "https://localhost:8080/",
     "height": 684
    },
    "executionInfo": {
     "elapsed": 97656,
     "status": "ok",
     "timestamp": 1614354612726,
     "user": {
      "displayName": "YAP MOU EN",
      "photoUrl": "https://lh3.googleusercontent.com/a-/AOh14GhPNpBKjbLgcci9ZOGWgaMF_YjmfMYywVswsf2zkQ=s64",
      "userId": "04185711044849077922"
     },
     "user_tz": -480
    },
    "id": "Nmlz1c2mLH5K",
    "outputId": "491f4dfd-70b2-4622-b09a-6e74bee1f293"
   },
   "outputs": [],
   "source": [
    "plt.figure(figsize = (15,10))\n",
    "price_rank_graph = sns.scatterplot(x='price', \n",
    "                                 y='rank',\n",
    "                                 data=merged_price_table, hue='price-range',palette=[\"k\", \"C3\",\"C0\",\"C2\"])\n",
    "\n",
    "price_rank_graph .set(xlabel='Price of Beauty Product', \n",
    "                   ylabel='Sales Rank', \n",
    "                   title=\"Price of Beauty Products against Sales Rank\")"
   ]
  },
  {
   "cell_type": "markdown",
   "metadata": {
    "id": "VWE4eGg378ph"
   },
   "source": [
    "### 5.6 Analysing Review Upvotes\n",
    "\n",
    "What 'vote' means? Check out\n",
    "https://www.amazon.com/review/top-reviewer-faq.html\n",
    "\n",
    "Summary: if people found your review helpful, they can give you a vote, if people found your review no helpful and decide to downvote you, your vote will get substracted\n",
    "\n",
    "The vote score of each available product is calculated from all reviews given to it. From all of these reviews, only those with at least one vote are selected and applied weighted average to them.\n",
    "\n",
    "Vote score formula: $$W=\\frac {\\sum_{i=1}^{n} w_i X_i} {\\sum_{i=1}^{n} w_i}$$\n",
    "\n",
    "$W$: weight average of the score (vote score)\n",
    "\n",
    "$n$:\tnumber of reviews to be averaged\n",
    "\n",
    "$w_i$:\tnumber of votes per review\n",
    "\n",
    "$X_i$:\trating of the review\n",
    "\n"
   ]
  },
  {
   "cell_type": "code",
   "execution_count": null,
   "metadata": {
    "id": "oswLcTqlrWel"
   },
   "outputs": [],
   "source": [
    "# suitable for passing merged_review_table or mv_review_table\n",
    "def calculateVoteScore(rev_table):\n",
    "    \n",
    "    g = final_review_table[['asin', 'overall', 'vote']].groupby(['asin']).apply(lambda x: (x['overall']*x['vote']).sum()/x['vote'].sum() if x['vote'].sum()!= 0 else 0)\n",
    "    vote_score = pd.DataFrame(g, columns=['vote-score'])\n",
    "    vote_score.reset_index(inplace=True)\n",
    "    vote_score\n",
    "    \n",
    "    rev_table = (pd.merge(rev_table, vote_score, on='asin', how='inner', indicator=True)).set_index('asin')\n",
    "    rev_table.reset_index(inplace = True)\n",
    "    rev_table = rev_table.drop(['_merge'],axis = 1)\n",
    "    # rev_table.rename(columns={'overall':'number-of-review'},inplace=True)\n",
    "\n",
    "    return rev_table"
   ]
  },
  {
   "cell_type": "code",
   "execution_count": null,
   "metadata": {
    "id": "RAAoie9XrWsl"
   },
   "outputs": [],
   "source": [
    "mv_review_table = calculateVoteScore(mv_review_table)\n"
   ]
  },
  {
   "cell_type": "code",
   "execution_count": null,
   "metadata": {
    "colab": {
     "base_uri": "https://localhost:8080/",
     "height": 399
    },
    "executionInfo": {
     "elapsed": 102637,
     "status": "ok",
     "timestamp": 1614354617731,
     "user": {
      "displayName": "YAP MOU EN",
      "photoUrl": "https://lh3.googleusercontent.com/a-/AOh14GhPNpBKjbLgcci9ZOGWgaMF_YjmfMYywVswsf2zkQ=s64",
      "userId": "04185711044849077922"
     },
     "user_tz": -480
    },
    "id": "DFG4ATZszLmj",
    "outputId": "6a6852fe-c938-488f-dd5a-5e1e6d6c7b00"
   },
   "outputs": [],
   "source": [
    "new_mv_review_table = mv_review_table[mv_review_table['vote-score']>0]\n",
    "new_mv_review_table"
   ]
  },
  {
   "cell_type": "code",
   "execution_count": null,
   "metadata": {
    "colab": {
     "base_uri": "https://localhost:8080/",
     "height": 194
    },
    "executionInfo": {
     "elapsed": 102619,
     "status": "ok",
     "timestamp": 1614354617732,
     "user": {
      "displayName": "YAP MOU EN",
      "photoUrl": "https://lh3.googleusercontent.com/a-/AOh14GhPNpBKjbLgcci9ZOGWgaMF_YjmfMYywVswsf2zkQ=s64",
      "userId": "04185711044849077922"
     },
     "user_tz": -480
    },
    "id": "mbhctAmr9Agm",
    "outputId": "d3bdab8f-1ab3-4c42-d4ac-5510cb1f38c0"
   },
   "outputs": [],
   "source": [
    "corr_test = mv_review_table[['rank', 'average-rating', 'number-of-review', 'average-verified-rating', 'vote-score']].corr()\n",
    "corr_test"
   ]
  },
  {
   "cell_type": "code",
   "execution_count": null,
   "metadata": {
    "colab": {
     "base_uri": "https://localhost:8080/",
     "height": 628
    },
    "executionInfo": {
     "elapsed": 103461,
     "status": "ok",
     "timestamp": 1614354618594,
     "user": {
      "displayName": "YAP MOU EN",
      "photoUrl": "https://lh3.googleusercontent.com/a-/AOh14GhPNpBKjbLgcci9ZOGWgaMF_YjmfMYywVswsf2zkQ=s64",
      "userId": "04185711044849077922"
     },
     "user_tz": -480
    },
    "id": "ivIfy6w7AxEY",
    "outputId": "20786ab8-5347-4db8-8397-ffb9ed0ee257"
   },
   "outputs": [],
   "source": [
    "sns.heatmap(corr_test,square=True)"
   ]
  },
  {
   "cell_type": "markdown",
   "metadata": {
    "id": "B5klZXimCwqy"
   },
   "source": [
    "### 5.7 Analysing Time-Weighted-Average"
   ]
  },
  {
   "cell_type": "code",
   "execution_count": null,
   "metadata": {
    "id": "l7hvAn8PCj52"
   },
   "outputs": [],
   "source": [
    "from sklearn.preprocessing import MinMaxScaler \n",
    "\n",
    "# suitable for passing merged_review_table or mv_review_table\n",
    "def CalculateTimeWeightedAvg(rev_table):\n",
    "\n",
    "    frt_copy = final_review_table.copy()\n",
    "    mmScaler = MinMaxScaler()\n",
    "    frt_copy[['unixReviewTime']] = mmScaler.fit_transform(frt_copy[['unixReviewTime']])\n",
    "    frt_copy['time-weighted-overall'] = frt_copy['overall'] * frt_copy['unixReviewTime'] \n",
    "    \n",
    "    g = frt_copy[['asin', 'time-weighted-overall']]\n",
    "    g = g.groupby(['asin'])['time-weighted-overall'].mean()\n",
    "    time_score = pd.DataFrame(g)#, columns=['time-weighted-avg'])\n",
    "    time_score.reset_index(inplace=True)\n",
    "    \n",
    "    rev_table = (pd.merge(rev_table, time_score, on='asin', how='inner', indicator=True)).set_index('asin')\n",
    "    rev_table.reset_index(inplace = True)\n",
    "    rev_table = rev_table.drop(['_merge'],axis = 1)\n",
    "\n",
    "    return rev_table"
   ]
  },
  {
   "cell_type": "code",
   "execution_count": null,
   "metadata": {
    "colab": {
     "base_uri": "https://localhost:8080/",
     "height": 399
    },
    "executionInfo": {
     "elapsed": 103441,
     "status": "ok",
     "timestamp": 1614354618596,
     "user": {
      "displayName": "YAP MOU EN",
      "photoUrl": "https://lh3.googleusercontent.com/a-/AOh14GhPNpBKjbLgcci9ZOGWgaMF_YjmfMYywVswsf2zkQ=s64",
      "userId": "04185711044849077922"
     },
     "user_tz": -480
    },
    "id": "-3GlBuvaCnlU",
    "outputId": "76e3c898-600f-4e7e-ec41-52c99d9d77cf"
   },
   "outputs": [],
   "source": [
    "new_mv_review_table_withTime = CalculateTimeWeightedAvg(mv_review_table)\n",
    "new_mv_review_table_withTime"
   ]
  },
  {
   "cell_type": "markdown",
   "metadata": {
    "id": "Bb5e81-pkjJT"
   },
   "source": [
    "### 5.8 Bivariate Attribute Analysis"
   ]
  },
  {
   "cell_type": "markdown",
   "metadata": {
    "id": "SCqkPFF-p2gB"
   },
   "source": [
    "#### 5.8.1 Sales Rank"
   ]
  },
  {
   "cell_type": "code",
   "execution_count": null,
   "metadata": {
    "colab": {
     "base_uri": "https://localhost:8080/",
     "height": 395
    },
    "executionInfo": {
     "elapsed": 104293,
     "status": "ok",
     "timestamp": 1614354619467,
     "user": {
      "displayName": "YAP MOU EN",
      "photoUrl": "https://lh3.googleusercontent.com/a-/AOh14GhPNpBKjbLgcci9ZOGWgaMF_YjmfMYywVswsf2zkQ=s64",
      "userId": "04185711044849077922"
     },
     "user_tz": -480
    },
    "id": "NGtuHjYIkrv3",
    "outputId": "35a3fe8b-1db4-493d-e078-1e7854c8fbbc"
   },
   "outputs": [],
   "source": [
    "sns.set(rc={'figure.figsize':(10,5)})\n",
    "bp = sns.boxplot(x=mv_review_table[\"rank\"])\n",
    "bp.set(title='The Sales Rank of Beauty Products',\n",
    "       xlabel='Sales Rank')"
   ]
  },
  {
   "cell_type": "markdown",
   "metadata": {
    "id": "oT9HUZDHp5Ji"
   },
   "source": [
    "#### 5.8.2 Average Rating"
   ]
  },
  {
   "cell_type": "code",
   "execution_count": null,
   "metadata": {
    "colab": {
     "base_uri": "https://localhost:8080/",
     "height": 395
    },
    "executionInfo": {
     "elapsed": 104272,
     "status": "ok",
     "timestamp": 1614354619468,
     "user": {
      "displayName": "YAP MOU EN",
      "photoUrl": "https://lh3.googleusercontent.com/a-/AOh14GhPNpBKjbLgcci9ZOGWgaMF_YjmfMYywVswsf2zkQ=s64",
      "userId": "04185711044849077922"
     },
     "user_tz": -480
    },
    "id": "M4D-pLTCkr3u",
    "outputId": "723e8167-6d69-40f0-ddc7-cfaa9376e7a1"
   },
   "outputs": [],
   "source": [
    "sns.set(rc={'figure.figsize':(10,5)})\n",
    "bp = sns.boxplot(x=mv_review_table[\"average-rating\"])\n",
    "bp.set(title='The Average Rating of Beauty Products',\n",
    "       xlabel='Average Rating')"
   ]
  },
  {
   "cell_type": "markdown",
   "metadata": {
    "id": "hl87YBYhp-Rk"
   },
   "source": [
    "#### 5.8.3 Average Verified Rating"
   ]
  },
  {
   "cell_type": "code",
   "execution_count": null,
   "metadata": {
    "colab": {
     "base_uri": "https://localhost:8080/",
     "height": 395
    },
    "executionInfo": {
     "elapsed": 104253,
     "status": "ok",
     "timestamp": 1614354619469,
     "user": {
      "displayName": "YAP MOU EN",
      "photoUrl": "https://lh3.googleusercontent.com/a-/AOh14GhPNpBKjbLgcci9ZOGWgaMF_YjmfMYywVswsf2zkQ=s64",
      "userId": "04185711044849077922"
     },
     "user_tz": -480
    },
    "id": "22MDAF45kr8M",
    "outputId": "9bf3641c-a170-4be3-e8f8-cee32f5193bb"
   },
   "outputs": [],
   "source": [
    "sns.set(rc={'figure.figsize':(10,5)})\n",
    "bp = sns.boxplot(x=mv_review_table[\"average-verified-rating\"], palette=\"Oranges_r\")\n",
    "bp.set(title='The Average Verified Rating of Beauty Products',\n",
    "       xlabel='Average Verified Rating')"
   ]
  },
  {
   "cell_type": "markdown",
   "metadata": {
    "id": "AoFLFGSGq1uc"
   },
   "source": [
    "Comparing Average Rating and Average Verified Rating"
   ]
  },
  {
   "cell_type": "code",
   "execution_count": null,
   "metadata": {
    "id": "m2N3WenCksDd"
   },
   "outputs": [],
   "source": [
    "mv_review_table_combine=pd.melt(mv_review_table[['average-rating', 'average-verified-rating']])"
   ]
  },
  {
   "cell_type": "code",
   "execution_count": null,
   "metadata": {
    "colab": {
     "base_uri": "https://localhost:8080/",
     "height": 412
    },
    "executionInfo": {
     "elapsed": 104860,
     "status": "ok",
     "timestamp": 1614354620098,
     "user": {
      "displayName": "YAP MOU EN",
      "photoUrl": "https://lh3.googleusercontent.com/a-/AOh14GhPNpBKjbLgcci9ZOGWgaMF_YjmfMYywVswsf2zkQ=s64",
      "userId": "04185711044849077922"
     },
     "user_tz": -480
    },
    "id": "FBmDDSJule2U",
    "outputId": "62769730-b7ef-4dd5-dd4e-3e34728bd69b"
   },
   "outputs": [],
   "source": [
    "cbp=sns.boxplot(x=\"variable\", y=\"value\", data=mv_review_table_combine)\n",
    "cbp.set(title='Comparison Between Average Rating and Average Verified Rating',\n",
    "        xlabel='Types of Rating',\n",
    "        ylabel='Value')"
   ]
  },
  {
   "cell_type": "markdown",
   "metadata": {
    "id": "bDc0-_hiqBv3"
   },
   "source": [
    "#### 5.8.4 Number of Reviews"
   ]
  },
  {
   "cell_type": "code",
   "execution_count": null,
   "metadata": {
    "colab": {
     "base_uri": "https://localhost:8080/",
     "height": 395
    },
    "executionInfo": {
     "elapsed": 104843,
     "status": "ok",
     "timestamp": 1614354620100,
     "user": {
      "displayName": "YAP MOU EN",
      "photoUrl": "https://lh3.googleusercontent.com/a-/AOh14GhPNpBKjbLgcci9ZOGWgaMF_YjmfMYywVswsf2zkQ=s64",
      "userId": "04185711044849077922"
     },
     "user_tz": -480
    },
    "id": "ietHRwNwkr__",
    "outputId": "8bad9aa1-6bfb-468a-d113-c28cacc3a183"
   },
   "outputs": [],
   "source": [
    "sns.set(rc={'figure.figsize':(10,5)})\n",
    "bp = sns.boxplot(x=mv_review_table[\"number-of-review\"])\n",
    "bp.set(title='The Number of Reviews of Beauty Products',\n",
    "       xlabel='Number of Reviews')"
   ]
  },
  {
   "cell_type": "markdown",
   "metadata": {
    "id": "SQLt0G1RqNDc"
   },
   "source": [
    "#### 5.8.5 Vote Score "
   ]
  },
  {
   "cell_type": "code",
   "execution_count": null,
   "metadata": {
    "colab": {
     "base_uri": "https://localhost:8080/",
     "height": 395
    },
    "executionInfo": {
     "elapsed": 104825,
     "status": "ok",
     "timestamp": 1614354620101,
     "user": {
      "displayName": "YAP MOU EN",
      "photoUrl": "https://lh3.googleusercontent.com/a-/AOh14GhPNpBKjbLgcci9ZOGWgaMF_YjmfMYywVswsf2zkQ=s64",
      "userId": "04185711044849077922"
     },
     "user_tz": -480
    },
    "id": "cRn3_fBZle_S",
    "outputId": "9f333170-e927-4a9e-e4c4-05aed5fe6a26"
   },
   "outputs": [],
   "source": [
    "sns.set(rc={'figure.figsize':(10,5)})\n",
    "bp = sns.boxplot(x=new_mv_review_table[\"vote-score\"], palette=\"Greens_r\")\n",
    "bp.set(title='The Vote Weighted Rating of Beauty Products',\n",
    "       xlabel='Vote Weighted Rating')"
   ]
  },
  {
   "cell_type": "markdown",
   "metadata": {
    "id": "B7E-rLmFqQU8"
   },
   "source": [
    "#### 5.8.6 Time Weighted Overall "
   ]
  },
  {
   "cell_type": "code",
   "execution_count": null,
   "metadata": {
    "colab": {
     "base_uri": "https://localhost:8080/",
     "height": 395
    },
    "executionInfo": {
     "elapsed": 105362,
     "status": "ok",
     "timestamp": 1614354620658,
     "user": {
      "displayName": "YAP MOU EN",
      "photoUrl": "https://lh3.googleusercontent.com/a-/AOh14GhPNpBKjbLgcci9ZOGWgaMF_YjmfMYywVswsf2zkQ=s64",
      "userId": "04185711044849077922"
     },
     "user_tz": -480
    },
    "id": "b5hSBu0IlfHc",
    "outputId": "b8a231e9-4e80-4c6b-f870-afc1f115a38d"
   },
   "outputs": [],
   "source": [
    "sns.set(rc={'figure.figsize':(10,5)})\n",
    "bp = sns.boxplot(x=new_mv_review_table_withTime[\"time-weighted-overall\"], palette=\"Reds\")\n",
    "bp.set(title='The Time Weighted Rating of Beauty Products',\n",
    "       xlabel='Time Weighted Rating')"
   ]
  },
  {
   "cell_type": "code",
   "execution_count": null,
   "metadata": {
    "id": "hmTNGQDJn-FG"
   },
   "outputs": [],
   "source": [
    "combined_rating=pd.melt(new_mv_review_table_withTime[['average-rating','average-verified-rating','vote-score','time-weighted-overall']])"
   ]
  },
  {
   "cell_type": "code",
   "execution_count": null,
   "metadata": {
    "colab": {
     "base_uri": "https://localhost:8080/",
     "height": 412
    },
    "executionInfo": {
     "elapsed": 105341,
     "status": "ok",
     "timestamp": 1614354620660,
     "user": {
      "displayName": "YAP MOU EN",
      "photoUrl": "https://lh3.googleusercontent.com/a-/AOh14GhPNpBKjbLgcci9ZOGWgaMF_YjmfMYywVswsf2zkQ=s64",
      "userId": "04185711044849077922"
     },
     "user_tz": -480
    },
    "id": "AOVjWEMrnH4T",
    "outputId": "a15575e9-dc9d-4a89-ed05-a5768dc5555e"
   },
   "outputs": [],
   "source": [
    "cbp=sns.boxplot(x=\"variable\", y=\"value\", data=combined_rating)\n",
    "cbp.set(title='Comparison Between Average Rating and Time Weighted Rating',\n",
    "        xlabel='Types of Rating',\n",
    "        ylabel='Rating')"
   ]
  },
  {
   "cell_type": "markdown",
   "metadata": {
    "id": "l7yW0DqspwCt"
   },
   "source": [
    "#### 5.8.7 Price "
   ]
  },
  {
   "cell_type": "code",
   "execution_count": null,
   "metadata": {
    "colab": {
     "base_uri": "https://localhost:8080/",
     "height": 377
    },
    "executionInfo": {
     "elapsed": 105873,
     "status": "ok",
     "timestamp": 1614354621212,
     "user": {
      "displayName": "YAP MOU EN",
      "photoUrl": "https://lh3.googleusercontent.com/a-/AOh14GhPNpBKjbLgcci9ZOGWgaMF_YjmfMYywVswsf2zkQ=s64",
      "userId": "04185711044849077922"
     },
     "user_tz": -480
    },
    "id": "Y1VnHQDGmpwi",
    "outputId": "5812c1e0-0af8-4070-d88c-ae2eae15b325"
   },
   "outputs": [],
   "source": [
    "sns.set(rc={'figure.figsize':(10,5)})\n",
    "bp = sns.boxplot(x=merged_price_table[\"price\"])\n",
    "bp.set(title='The Price of Beauty Products',\n",
    "       xlabel='Price')"
   ]
  },
  {
   "cell_type": "markdown",
   "metadata": {
    "id": "IHXn1GJJnyA8"
   },
   "source": [
    "### 5.9 Correlation of All Attributes"
   ]
  },
  {
   "cell_type": "code",
   "execution_count": null,
   "metadata": {
    "colab": {
     "base_uri": "https://localhost:8080/",
     "height": 399
    },
    "executionInfo": {
     "elapsed": 105855,
     "status": "ok",
     "timestamp": 1614354621213,
     "user": {
      "displayName": "YAP MOU EN",
      "photoUrl": "https://lh3.googleusercontent.com/a-/AOh14GhPNpBKjbLgcci9ZOGWgaMF_YjmfMYywVswsf2zkQ=s64",
      "userId": "04185711044849077922"
     },
     "user_tz": -480
    },
    "id": "AXyFs5MVn4xB",
    "outputId": "d9a26b18-baf2-45ed-ec14-4276218a17df"
   },
   "outputs": [],
   "source": [
    "#preparing required table\n",
    "partial_product_table = product_table[['asin','price']]\n",
    "\n",
    "##Merging Price with new_mv_review_table_withTime\n",
    "final_review_price_table = (pd.merge(new_mv_review_table_withTime, partial_product_table, on='asin', how='inner', indicator=True)).set_index('asin')\n",
    "final_review_price_table.reset_index(inplace = True)\n",
    "final_review_price_table = final_review_price_table .drop(['_merge'],axis = 1)\n",
    "final_review_price_table"
   ]
  },
  {
   "cell_type": "code",
   "execution_count": null,
   "metadata": {
    "colab": {
     "base_uri": "https://localhost:8080/",
     "height": 282
    },
    "executionInfo": {
     "elapsed": 105838,
     "status": "ok",
     "timestamp": 1614354621215,
     "user": {
      "displayName": "YAP MOU EN",
      "photoUrl": "https://lh3.googleusercontent.com/a-/AOh14GhPNpBKjbLgcci9ZOGWgaMF_YjmfMYywVswsf2zkQ=s64",
      "userId": "04185711044849077922"
     },
     "user_tz": -480
    },
    "id": "r5S4MvBBn446",
    "outputId": "a2d81f1c-6d1c-4b37-a7f9-1704113f8c9e"
   },
   "outputs": [],
   "source": [
    "final_review_price_table.describe()"
   ]
  },
  {
   "cell_type": "code",
   "execution_count": null,
   "metadata": {
    "id": "lJmUez8dn4-7"
   },
   "outputs": [],
   "source": [
    "correlation = final_review_price_table.corr()"
   ]
  },
  {
   "cell_type": "code",
   "execution_count": null,
   "metadata": {
    "colab": {
     "base_uri": "https://localhost:8080/",
     "height": 466
    },
    "executionInfo": {
     "elapsed": 106362,
     "status": "ok",
     "timestamp": 1614354621760,
     "user": {
      "displayName": "YAP MOU EN",
      "photoUrl": "https://lh3.googleusercontent.com/a-/AOh14GhPNpBKjbLgcci9ZOGWgaMF_YjmfMYywVswsf2zkQ=s64",
      "userId": "04185711044849077922"
     },
     "user_tz": -480
    },
    "id": "kji5a4rcoFRv",
    "outputId": "c2196490-1025-42ce-dffa-8c79411dca11"
   },
   "outputs": [],
   "source": [
    "sns.heatmap(correlation, square=True)"
   ]
  },
  {
   "cell_type": "markdown",
   "metadata": {
    "id": "cyywx-NWY3UL"
   },
   "source": [
    "## 6.0 Data Mining"
   ]
  },
  {
   "cell_type": "markdown",
   "metadata": {
    "id": "ZpJQM-NyLcF8"
   },
   "source": [
    "### 6.1 Association Rule Mining (ARM)"
   ]
  },
  {
   "cell_type": "code",
   "execution_count": null,
   "metadata": {
    "id": "7wAb6NHlPIVU"
   },
   "outputs": [],
   "source": [
    "from mlxtend.frequent_patterns import apriori\n",
    "from mlxtend.frequent_patterns import association_rules"
   ]
  },
  {
   "cell_type": "markdown",
   "metadata": {
    "id": "8IgR4IWoSH3r"
   },
   "source": [
    "#### 6.1.1 Also Buy Products"
   ]
  },
  {
   "cell_type": "code",
   "execution_count": null,
   "metadata": {
    "colab": {
     "base_uri": "https://localhost:8080/",
     "height": 399
    },
    "executionInfo": {
     "elapsed": 106343,
     "status": "ok",
     "timestamp": 1614354621762,
     "user": {
      "displayName": "YAP MOU EN",
      "photoUrl": "https://lh3.googleusercontent.com/a-/AOh14GhPNpBKjbLgcci9ZOGWgaMF_YjmfMYywVswsf2zkQ=s64",
      "userId": "04185711044849077922"
     },
     "user_tz": -480
    },
    "id": "Ryg8i1bAPIbY",
    "outputId": "b1ceb6cd-0d0f-4485-b94f-ba3b227141c6"
   },
   "outputs": [],
   "source": [
    "also_buy_table = product_table.drop(['title','also_view','rank','price'],axis = 1)\n",
    "also_buy_table"
   ]
  },
  {
   "cell_type": "code",
   "execution_count": null,
   "metadata": {
    "colab": {
     "base_uri": "https://localhost:8080/",
     "height": 399
    },
    "executionInfo": {
     "elapsed": 106326,
     "status": "ok",
     "timestamp": 1614354621763,
     "user": {
      "displayName": "YAP MOU EN",
      "photoUrl": "https://lh3.googleusercontent.com/a-/AOh14GhPNpBKjbLgcci9ZOGWgaMF_YjmfMYywVswsf2zkQ=s64",
      "userId": "04185711044849077922"
     },
     "user_tz": -480
    },
    "id": "unHuOHqtPIms",
    "outputId": "9b30b571-885e-4a2f-a12b-e8425b51f86b"
   },
   "outputs": [],
   "source": [
    "# separates each item in the list into a new row\n",
    "also_buy_table = also_buy_table.explode('also_buy')\n",
    "also_buy_table.reset_index(drop=True, inplace=True)\n",
    "\n",
    "# cleaning up just to be safe\n",
    "also_buy_table['also_buy'] = also_buy_table['also_buy'].str.strip()\n",
    "also_buy_table.dropna(axis=0, subset=['also_buy'], inplace=True)\n",
    "also_buy_table['also_buy'] = also_buy_table['also_buy'].astype('str')\n",
    "\n",
    "# the product appear once in also buy (true, it was bought together)\n",
    "also_buy_table['frequency'] = 1\n",
    "also_buy_table"
   ]
  },
  {
   "cell_type": "code",
   "execution_count": null,
   "metadata": {
    "colab": {
     "base_uri": "https://localhost:8080/",
     "height": 399
    },
    "executionInfo": {
     "elapsed": 106930,
     "status": "ok",
     "timestamp": 1614354622385,
     "user": {
      "displayName": "YAP MOU EN",
      "photoUrl": "https://lh3.googleusercontent.com/a-/AOh14GhPNpBKjbLgcci9ZOGWgaMF_YjmfMYywVswsf2zkQ=s64",
      "userId": "04185711044849077922"
     },
     "user_tz": -480
    },
    "id": "gpU0xd__PIpj",
    "outputId": "8968b530-e186-4bb4-88df-79da28e033b8"
   },
   "outputs": [],
   "source": [
    "# dropping products that does not exist in our product_table dataset\n",
    "also_buy = also_buy_table[also_buy_table['also_buy'].isin(product_table['asin'])]\n",
    "also_buy.reset_index(drop=True, inplace=True)\n",
    "also_buy"
   ]
  },
  {
   "cell_type": "code",
   "execution_count": null,
   "metadata": {
    "colab": {
     "base_uri": "https://localhost:8080/",
     "height": 448
    },
    "executionInfo": {
     "elapsed": 106911,
     "status": "ok",
     "timestamp": 1614354622386,
     "user": {
      "displayName": "YAP MOU EN",
      "photoUrl": "https://lh3.googleusercontent.com/a-/AOh14GhPNpBKjbLgcci9ZOGWgaMF_YjmfMYywVswsf2zkQ=s64",
      "userId": "04185711044849077922"
     },
     "user_tz": -480
    },
    "id": "jWCvwkodPIt3",
    "outputId": "3e2ff203-a737-4eca-b2d7-eb03e5e1c391"
   },
   "outputs": [],
   "source": [
    "basket_ab = (also_buy.groupby(['asin', 'also_buy'])['frequency']\n",
    "          .sum().unstack().reset_index().fillna(0)\n",
    "          .set_index('asin')\n",
    "         )\n",
    "basket_ab"
   ]
  },
  {
   "cell_type": "code",
   "execution_count": null,
   "metadata": {
    "colab": {
     "base_uri": "https://localhost:8080/",
     "height": 223
    },
    "executionInfo": {
     "elapsed": 106892,
     "status": "ok",
     "timestamp": 1614354622387,
     "user": {
      "displayName": "YAP MOU EN",
      "photoUrl": "https://lh3.googleusercontent.com/a-/AOh14GhPNpBKjbLgcci9ZOGWgaMF_YjmfMYywVswsf2zkQ=s64",
      "userId": "04185711044849077922"
     },
     "user_tz": -480
    },
    "id": "HzxtgOqBWT5Q",
    "outputId": "cdc8bf1a-87d1-413c-b173-daf848f180ef"
   },
   "outputs": [],
   "source": [
    "# support \n",
    "frequent_itemsets = apriori(basket_ab, min_support=0.01, use_colnames=True)\n",
    "frequent_itemsets"
   ]
  },
  {
   "cell_type": "code",
   "execution_count": null,
   "metadata": {
    "colab": {
     "base_uri": "https://localhost:8080/",
     "height": 106
    },
    "executionInfo": {
     "elapsed": 106874,
     "status": "ok",
     "timestamp": 1614354622389,
     "user": {
      "displayName": "YAP MOU EN",
      "photoUrl": "https://lh3.googleusercontent.com/a-/AOh14GhPNpBKjbLgcci9ZOGWgaMF_YjmfMYywVswsf2zkQ=s64",
      "userId": "04185711044849077922"
     },
     "user_tz": -480
    },
    "id": "SbbwVp18WT8N",
    "outputId": "526abbe0-059e-41f9-d3d4-c09afc46a6fd"
   },
   "outputs": [],
   "source": [
    "# confidence rule\n",
    "rules1_ab = association_rules(frequent_itemsets, metric=\"confidence\", min_threshold=0.01)\n",
    "rules1_ab"
   ]
  },
  {
   "cell_type": "code",
   "execution_count": null,
   "metadata": {
    "colab": {
     "base_uri": "https://localhost:8080/",
     "height": 106
    },
    "executionInfo": {
     "elapsed": 106858,
     "status": "ok",
     "timestamp": 1614354622391,
     "user": {
      "displayName": "YAP MOU EN",
      "photoUrl": "https://lh3.googleusercontent.com/a-/AOh14GhPNpBKjbLgcci9ZOGWgaMF_YjmfMYywVswsf2zkQ=s64",
      "userId": "04185711044849077922"
     },
     "user_tz": -480
    },
    "id": "jFInApeUWT-z",
    "outputId": "9f7b260b-ef15-475a-d38e-a00819cf649e"
   },
   "outputs": [],
   "source": [
    "# lift rule\n",
    "rules2_ab = association_rules(frequent_itemsets, metric=\"lift\", min_threshold=0.01)\n",
    "rules2_ab"
   ]
  },
  {
   "cell_type": "markdown",
   "metadata": {
    "id": "8ik7Dtt6W_e0"
   },
   "source": [
    "These products are bought together\n",
    "\n",
    "[B018J05XSQ]: Mia secret acrylic powder is highly adaptable for any nail tech experience level.\n",
    "\n",
    "[B00C4207LY]: Nail Art Accessories Real Dry Dried Flowers 12 Colors Bundle Set in Wheel - Ready to Use by Winstonia\n",
    "\n",
    "Both are nail products\n"
   ]
  },
  {
   "cell_type": "markdown",
   "metadata": {
    "id": "z6pW4-GNXRtZ"
   },
   "source": [
    "#### 6.1.3 Also View Products"
   ]
  },
  {
   "cell_type": "code",
   "execution_count": null,
   "metadata": {
    "colab": {
     "base_uri": "https://localhost:8080/",
     "height": 399
    },
    "executionInfo": {
     "elapsed": 106841,
     "status": "ok",
     "timestamp": 1614354622392,
     "user": {
      "displayName": "YAP MOU EN",
      "photoUrl": "https://lh3.googleusercontent.com/a-/AOh14GhPNpBKjbLgcci9ZOGWgaMF_YjmfMYywVswsf2zkQ=s64",
      "userId": "04185711044849077922"
     },
     "user_tz": -480
    },
    "id": "Ej40f_Yk_WO_",
    "outputId": "f4422b72-5a55-4bb8-ce1b-a4c09f39e115"
   },
   "outputs": [],
   "source": [
    "also_view_table = product_table.drop(['title','also_buy','rank','price'],axis = 1)\n",
    "also_view_table"
   ]
  },
  {
   "cell_type": "code",
   "execution_count": null,
   "metadata": {
    "colab": {
     "base_uri": "https://localhost:8080/",
     "height": 399
    },
    "executionInfo": {
     "elapsed": 106826,
     "status": "ok",
     "timestamp": 1614354622394,
     "user": {
      "displayName": "YAP MOU EN",
      "photoUrl": "https://lh3.googleusercontent.com/a-/AOh14GhPNpBKjbLgcci9ZOGWgaMF_YjmfMYywVswsf2zkQ=s64",
      "userId": "04185711044849077922"
     },
     "user_tz": -480
    },
    "id": "Bojrh_8h_WWZ",
    "outputId": "dc20b564-b398-41b4-d7f6-d2e858fa3a56"
   },
   "outputs": [],
   "source": [
    "# Separates each item in the list into a new row\n",
    "also_view_table = also_view_table.explode('also_view')\n",
    "also_view_table.reset_index(drop=True, inplace=True)\n",
    "\n",
    "# Cleaning up just to be safe\n",
    "also_view_table['also_view'] = also_view_table['also_view'].str.strip()\n",
    "also_view_table.dropna(axis=0, subset=['also_view'], inplace=True)\n",
    "also_view_table['also_view'] = also_view_table['also_view'].astype('str')\n",
    "\n",
    "# The product appear once in also buy (true, it was bought together)\n",
    "also_view_table['frequency'] = 1\n",
    "also_view_table = also_view_table[['asin', 'also_view','frequency']]\n",
    "also_view_table"
   ]
  },
  {
   "cell_type": "code",
   "execution_count": null,
   "metadata": {
    "colab": {
     "base_uri": "https://localhost:8080/",
     "height": 399
    },
    "executionInfo": {
     "elapsed": 106809,
     "status": "ok",
     "timestamp": 1614354622395,
     "user": {
      "displayName": "YAP MOU EN",
      "photoUrl": "https://lh3.googleusercontent.com/a-/AOh14GhPNpBKjbLgcci9ZOGWgaMF_YjmfMYywVswsf2zkQ=s64",
      "userId": "04185711044849077922"
     },
     "user_tz": -480
    },
    "id": "yqYNxcdY_Wcy",
    "outputId": "88b39f80-121e-49db-a019-b29c43a3196d"
   },
   "outputs": [],
   "source": [
    "# Dropping products that does not exist in our product_table dataset\n",
    "also_view = also_view_table[also_view_table['also_view'].isin(product_table['asin'])]\n",
    "also_view.reset_index(drop=True, inplace=True)\n",
    "also_view"
   ]
  },
  {
   "cell_type": "code",
   "execution_count": null,
   "metadata": {
    "colab": {
     "base_uri": "https://localhost:8080/",
     "height": 448
    },
    "executionInfo": {
     "elapsed": 107422,
     "status": "ok",
     "timestamp": 1614354623027,
     "user": {
      "displayName": "YAP MOU EN",
      "photoUrl": "https://lh3.googleusercontent.com/a-/AOh14GhPNpBKjbLgcci9ZOGWgaMF_YjmfMYywVswsf2zkQ=s64",
      "userId": "04185711044849077922"
     },
     "user_tz": -480
    },
    "id": "IhK25Bae_ga_",
    "outputId": "843510dd-4740-47fc-dd74-c8952406dd26"
   },
   "outputs": [],
   "source": [
    "basket_av = (also_view.groupby(['asin', 'also_view'])['frequency']\n",
    "          .sum().unstack().reset_index().fillna(0)\n",
    "          .set_index('asin')\n",
    "         )\n",
    "basket_av"
   ]
  },
  {
   "cell_type": "code",
   "execution_count": null,
   "metadata": {
    "colab": {
     "base_uri": "https://localhost:8080/",
     "height": 106
    },
    "executionInfo": {
     "elapsed": 107402,
     "status": "ok",
     "timestamp": 1614354623028,
     "user": {
      "displayName": "YAP MOU EN",
      "photoUrl": "https://lh3.googleusercontent.com/a-/AOh14GhPNpBKjbLgcci9ZOGWgaMF_YjmfMYywVswsf2zkQ=s64",
      "userId": "04185711044849077922"
     },
     "user_tz": -480
    },
    "id": "TeNuIbGz_glR",
    "outputId": "a3642153-e407-487b-e6d3-8a66faf5d218"
   },
   "outputs": [],
   "source": [
    "frequent_itemsets_2 = apriori(basket_av, min_support=0.01, use_colnames=True)\n",
    "frequent_itemsets_2"
   ]
  },
  {
   "cell_type": "code",
   "execution_count": null,
   "metadata": {
    "colab": {
     "base_uri": "https://localhost:8080/",
     "height": 47
    },
    "executionInfo": {
     "elapsed": 107385,
     "status": "ok",
     "timestamp": 1614354623029,
     "user": {
      "displayName": "YAP MOU EN",
      "photoUrl": "https://lh3.googleusercontent.com/a-/AOh14GhPNpBKjbLgcci9ZOGWgaMF_YjmfMYywVswsf2zkQ=s64",
      "userId": "04185711044849077922"
     },
     "user_tz": -480
    },
    "id": "xM4HQ2Gh_k9n",
    "outputId": "4e8be1d2-fd4a-4a25-df07-a3b4cf5aa683"
   },
   "outputs": [],
   "source": [
    "rules1_av = association_rules(frequent_itemsets_2, metric=\"confidence\", min_threshold=0.001)\n",
    "rules1_av"
   ]
  },
  {
   "cell_type": "code",
   "execution_count": null,
   "metadata": {
    "colab": {
     "base_uri": "https://localhost:8080/",
     "height": 47
    },
    "executionInfo": {
     "elapsed": 107368,
     "status": "ok",
     "timestamp": 1614354623030,
     "user": {
      "displayName": "YAP MOU EN",
      "photoUrl": "https://lh3.googleusercontent.com/a-/AOh14GhPNpBKjbLgcci9ZOGWgaMF_YjmfMYywVswsf2zkQ=s64",
      "userId": "04185711044849077922"
     },
     "user_tz": -480
    },
    "id": "FGSPVR68_lDf",
    "outputId": "59f54f49-d6eb-4e09-9f39-365881da77ae"
   },
   "outputs": [],
   "source": [
    "rules2_av = association_rules(frequent_itemsets_2, metric=\"lift\", min_threshold=0.001)\n",
    "rules2_av"
   ]
  },
  {
   "cell_type": "markdown",
   "metadata": {
    "id": "tPIa9Pzu_MsY"
   },
   "source": [
    "#### 6.1.3 Also Buy and Also View Frequency Analysis"
   ]
  },
  {
   "cell_type": "markdown",
   "metadata": {
    "id": "q4Kv5u0__-q2"
   },
   "source": [
    "Also Buy Products"
   ]
  },
  {
   "cell_type": "code",
   "execution_count": null,
   "metadata": {
    "colab": {
     "base_uri": "https://localhost:8080/",
     "height": 399
    },
    "executionInfo": {
     "elapsed": 107366,
     "status": "ok",
     "timestamp": 1614354623030,
     "user": {
      "displayName": "YAP MOU EN",
      "photoUrl": "https://lh3.googleusercontent.com/a-/AOh14GhPNpBKjbLgcci9ZOGWgaMF_YjmfMYywVswsf2zkQ=s64",
      "userId": "04185711044849077922"
     },
     "user_tz": -480
    },
    "id": "3IIXf2g1kLkO",
    "outputId": "5284c806-598f-498e-9749-d3fa03ed26b2"
   },
   "outputs": [],
   "source": [
    "also_buy_f = also_buy.groupby(['also_buy']).count()\n",
    "also_buy_f.rename(columns={'frequency':'also-buy-freq'},inplace=True)\n",
    "also_buy_f.drop(['asin'], axis = 1, inplace=True)\n",
    "also_buy_f.reset_index(inplace = True)\n",
    "also_buy_f.rename(columns={'also_buy':'asin'},inplace=True)\n",
    "also_buy_f"
   ]
  },
  {
   "cell_type": "code",
   "execution_count": null,
   "metadata": {
    "colab": {
     "base_uri": "https://localhost:8080/",
     "height": 399
    },
    "executionInfo": {
     "elapsed": 107365,
     "status": "ok",
     "timestamp": 1614354623031,
     "user": {
      "displayName": "YAP MOU EN",
      "photoUrl": "https://lh3.googleusercontent.com/a-/AOh14GhPNpBKjbLgcci9ZOGWgaMF_YjmfMYywVswsf2zkQ=s64",
      "userId": "04185711044849077922"
     },
     "user_tz": -480
    },
    "id": "Xu51ycMvkFb7",
    "outputId": "f8afa9c2-835e-4886-9d5a-b516bb572b31"
   },
   "outputs": [],
   "source": [
    "mv2_review_table = (pd.merge(mv_review_table, also_buy_f, on='asin', how='left', indicator=True)).set_index('asin')\n",
    "mv2_review_table.reset_index(inplace = True)\n",
    "mv2_review_table['also-buy-freq'].fillna(0, inplace=True)\n",
    "mv2_review_table.drop(['_merge'], axis=1, inplace=True)\n",
    "\n",
    "mv2_review_table['also-buy-freq-range'] = pd.cut(mv2_review_table['also-buy-freq'],\n",
    "                                                  [-1, 0, 10, 30], \n",
    "                                                  right=True,\n",
    "                                                  labels=[\"0\",\"(0, 10]\",\"(10, 30]\"])\n",
    "mv2_review_table"
   ]
  },
  {
   "cell_type": "code",
   "execution_count": null,
   "metadata": {
    "colab": {
     "base_uri": "https://localhost:8080/"
    },
    "executionInfo": {
     "elapsed": 107365,
     "status": "ok",
     "timestamp": 1614354623032,
     "user": {
      "displayName": "YAP MOU EN",
      "photoUrl": "https://lh3.googleusercontent.com/a-/AOh14GhPNpBKjbLgcci9ZOGWgaMF_YjmfMYywVswsf2zkQ=s64",
      "userId": "04185711044849077922"
     },
     "user_tz": -480
    },
    "id": "840LUSpjkjG7",
    "outputId": "7f4ce59b-2bd3-463f-c07a-49118e2c8d35"
   },
   "outputs": [],
   "source": [
    "mv2_review_table[\"also-buy-freq-range\"].value_counts()"
   ]
  },
  {
   "cell_type": "markdown",
   "metadata": {
    "id": "0Y3PpXpv_750"
   },
   "source": [
    "Also View Products\n"
   ]
  },
  {
   "cell_type": "code",
   "execution_count": null,
   "metadata": {
    "colab": {
     "base_uri": "https://localhost:8080/",
     "height": 399
    },
    "executionInfo": {
     "elapsed": 107347,
     "status": "ok",
     "timestamp": 1614354623033,
     "user": {
      "displayName": "YAP MOU EN",
      "photoUrl": "https://lh3.googleusercontent.com/a-/AOh14GhPNpBKjbLgcci9ZOGWgaMF_YjmfMYywVswsf2zkQ=s64",
      "userId": "04185711044849077922"
     },
     "user_tz": -480
    },
    "id": "3vlKWfV6AB9b",
    "outputId": "ec5f9c2d-1d6a-4c96-de0e-fa341c8a8ccc"
   },
   "outputs": [],
   "source": [
    "also_view_f = also_view.groupby(['also_view']).count()\n",
    "also_view_f.rename(columns={'frequency':'also-view-freq'},inplace=True)\n",
    "also_view_f.drop(['asin'], axis = 1, inplace=True)\n",
    "also_view_f.reset_index(inplace = True)\n",
    "also_view_f.rename(columns={'also_view':'asin'},inplace=True)\n",
    "also_view_f"
   ]
  },
  {
   "cell_type": "code",
   "execution_count": null,
   "metadata": {
    "colab": {
     "base_uri": "https://localhost:8080/",
     "height": 399
    },
    "executionInfo": {
     "elapsed": 107794,
     "status": "ok",
     "timestamp": 1614354623498,
     "user": {
      "displayName": "YAP MOU EN",
      "photoUrl": "https://lh3.googleusercontent.com/a-/AOh14GhPNpBKjbLgcci9ZOGWgaMF_YjmfMYywVswsf2zkQ=s64",
      "userId": "04185711044849077922"
     },
     "user_tz": -480
    },
    "id": "vu6lcPSFACHf",
    "outputId": "92ce0db8-1e2b-4ff2-fd9a-8ce331c889aa"
   },
   "outputs": [],
   "source": [
    "mv3_review_table = (pd.merge(mv_review_table, also_view_f, on='asin', how='left', indicator=True)).set_index('asin')\n",
    "mv3_review_table.reset_index(inplace = True)\n",
    "mv3_review_table['also-view-freq'].fillna(0, inplace=True)\n",
    "mv3_review_table.drop(['_merge'], axis=1, inplace=True)\n",
    "\n",
    "mv3_review_table['also-view-freq-range'] = pd.cut(mv3_review_table['also-view-freq'],\n",
    "                                                  [-1, 0, 10, 30], \n",
    "                                                  right=True,\n",
    "                                                  labels=[\"0\",\"(0, 10]\",\"(10, 30]\"])\n",
    "mv3_review_table"
   ]
  },
  {
   "cell_type": "code",
   "execution_count": null,
   "metadata": {
    "colab": {
     "base_uri": "https://localhost:8080/"
    },
    "executionInfo": {
     "elapsed": 107775,
     "status": "ok",
     "timestamp": 1614354623499,
     "user": {
      "displayName": "YAP MOU EN",
      "photoUrl": "https://lh3.googleusercontent.com/a-/AOh14GhPNpBKjbLgcci9ZOGWgaMF_YjmfMYywVswsf2zkQ=s64",
      "userId": "04185711044849077922"
     },
     "user_tz": -480
    },
    "id": "CFMJ9o-fACOf",
    "outputId": "69ba95fc-548c-4e17-86ad-0ced1adbcbd1"
   },
   "outputs": [],
   "source": [
    "mv3_review_table[\"also-view-freq-range\"].value_counts()"
   ]
  },
  {
   "cell_type": "markdown",
   "metadata": {
    "id": "maiI5fkJLAHJ"
   },
   "source": [
    "### 6.2 Predictive Modeling"
   ]
  },
  {
   "cell_type": "markdown",
   "metadata": {
    "id": "ZcrpVTqJxZBx"
   },
   "source": [
    "#### 6.2.1 Predictive Model for All Beauty Product's Sales Rank"
   ]
  },
  {
   "cell_type": "code",
   "execution_count": null,
   "metadata": {
    "colab": {
     "base_uri": "https://localhost:8080/",
     "height": 399
    },
    "executionInfo": {
     "elapsed": 107771,
     "status": "ok",
     "timestamp": 1614354623501,
     "user": {
      "displayName": "YAP MOU EN",
      "photoUrl": "https://lh3.googleusercontent.com/a-/AOh14GhPNpBKjbLgcci9ZOGWgaMF_YjmfMYywVswsf2zkQ=s64",
      "userId": "04185711044849077922"
     },
     "user_tz": -480
    },
    "id": "hLsOvlFTHAyL",
    "outputId": "7c1757ba-3afb-4f78-ede7-437fa3a1ff0b"
   },
   "outputs": [],
   "source": [
    "#preparing required table\n",
    "partial_product_table = product_table[['asin','price']]\n",
    "#merging\n",
    "merged_product_review_table = (pd.merge(merged_review_table, partial_product_table, on='asin', how='inner', indicator=True)).set_index('asin')\n",
    "merged_product_review_table.reset_index(inplace = True)\n",
    "merged_product_review_table = merged_product_review_table.drop(['_merge','rank'],axis = 1)\n",
    "merged_product_review_table.rename(columns={'rank-binned':'rank'},inplace=True)\n",
    "\n",
    "verified_rating_table = mv_review_table[['asin','average-verified-rating']][mv_review_table['average-verified-rating']>0]\n",
    "merged_product_review_table = (pd.merge(merged_product_review_table, verified_rating_table, on='asin', how='inner', indicator=True)).set_index('asin')\n",
    "merged_product_review_table.reset_index(inplace = True)\n",
    "merged_product_review_table = merged_product_review_table.drop(['_merge','average-rating'],axis = 1)\n",
    "\n",
    "time_score_table = new_mv_review_table_withTime[['asin','time-weighted-overall']]\n",
    "merged_product_review_table = (pd.merge(merged_product_review_table, time_score_table, on='asin', how='inner', indicator=True)).set_index('asin')\n",
    "merged_product_review_table.reset_index(inplace = True)\n",
    "merged_product_review_table = merged_product_review_table.drop(['_merge','asin'],axis = 1)\n",
    "\n",
    "#filtering\n",
    "filter_price = merged_product_review_table['price'] > 0\n",
    "#filter_num_review = merged_product_review_table['number-of-review'] <= 10\n",
    "merged_product_review_table = merged_product_review_table[filter_price]\n",
    "merged_product_review_table\n"
   ]
  },
  {
   "cell_type": "code",
   "execution_count": null,
   "metadata": {
    "colab": {
     "base_uri": "https://localhost:8080/",
     "height": 399
    },
    "executionInfo": {
     "elapsed": 107770,
     "status": "ok",
     "timestamp": 1614354623502,
     "user": {
      "displayName": "YAP MOU EN",
      "photoUrl": "https://lh3.googleusercontent.com/a-/AOh14GhPNpBKjbLgcci9ZOGWgaMF_YjmfMYywVswsf2zkQ=s64",
      "userId": "04185711044849077922"
     },
     "user_tz": -480
    },
    "id": "Bj1lyxIGHO6a",
    "outputId": "2ed5d616-3434-421f-d1e4-2144140f20b9"
   },
   "outputs": [],
   "source": [
    "#normalization\n",
    "product_review_table = merged_product_review_table.drop(['rank'],axis = 1)\n",
    "product_review_table = (product_review_table - product_review_table.min())/(product_review_table.max()-product_review_table.min())\n",
    "product_review_table['rank'] = merged_product_review_table['rank']\n",
    "\n",
    "product_review_table"
   ]
  },
  {
   "cell_type": "code",
   "execution_count": null,
   "metadata": {
    "colab": {
     "base_uri": "https://localhost:8080/",
     "height": 164
    },
    "executionInfo": {
     "elapsed": 107769,
     "status": "ok",
     "timestamp": 1614354623503,
     "user": {
      "displayName": "YAP MOU EN",
      "photoUrl": "https://lh3.googleusercontent.com/a-/AOh14GhPNpBKjbLgcci9ZOGWgaMF_YjmfMYywVswsf2zkQ=s64",
      "userId": "04185711044849077922"
     },
     "user_tz": -480
    },
    "id": "joI1_8IhHO_r",
    "outputId": "dd1f34cf-4f6c-48a7-dda5-b06133871b46"
   },
   "outputs": [],
   "source": [
    "product_review_table.corr()"
   ]
  },
  {
   "cell_type": "code",
   "execution_count": null,
   "metadata": {
    "id": "yx7dKC3qHPDj"
   },
   "outputs": [],
   "source": [
    "#splitting test size\n",
    "X = product_review_table.drop(\"rank\", axis=1)  \n",
    "# copy the labels to another dataframe/series\n",
    "y = product_review_table[\"rank\"].copy()  \n",
    "X_train, X_test, y_train, y_test = train_test_split(X, y, test_size=0.20,random_state=1)\n"
   ]
  },
  {
   "cell_type": "code",
   "execution_count": null,
   "metadata": {
    "colab": {
     "base_uri": "https://localhost:8080/"
    },
    "executionInfo": {
     "elapsed": 124446,
     "status": "ok",
     "timestamp": 1614354640183,
     "user": {
      "displayName": "YAP MOU EN",
      "photoUrl": "https://lh3.googleusercontent.com/a-/AOh14GhPNpBKjbLgcci9ZOGWgaMF_YjmfMYywVswsf2zkQ=s64",
      "userId": "04185711044849077922"
     },
     "user_tz": -480
    },
    "id": "QRlsdQDgHVZt",
    "outputId": "a487428b-f3a3-4357-f6f5-2247a7554cc8"
   },
   "outputs": [],
   "source": [
    "#Model Training\n",
    "model1 = MLPClassifier(hidden_layer_sizes =(4,5,3),max_iter=1000,random_state=1)\n",
    "model1.fit(X_train,y_train)\n",
    "\n",
    "model2 = KNeighborsClassifier(n_neighbors=20)\n",
    "model2.fit(X_train,y_train)"
   ]
  },
  {
   "cell_type": "code",
   "execution_count": null,
   "metadata": {
    "id": "zpyLqDS4HVes"
   },
   "outputs": [],
   "source": [
    "predictionMLP = model1.predict(X_test)\n",
    "predictionKNC = model2.predict(X_test)\n"
   ]
  },
  {
   "cell_type": "code",
   "execution_count": null,
   "metadata": {
    "colab": {
     "base_uri": "https://localhost:8080/"
    },
    "executionInfo": {
     "elapsed": 124445,
     "status": "ok",
     "timestamp": 1614354640185,
     "user": {
      "displayName": "YAP MOU EN",
      "photoUrl": "https://lh3.googleusercontent.com/a-/AOh14GhPNpBKjbLgcci9ZOGWgaMF_YjmfMYywVswsf2zkQ=s64",
      "userId": "04185711044849077922"
     },
     "user_tz": -480
    },
    "id": "w5q-MWxKHVhT",
    "outputId": "544bb1b0-2fdb-479b-f60a-2b4f146d7dbd"
   },
   "outputs": [],
   "source": [
    "print(\"The accuracy of model A is\",accuracy_score(y_test, predictionMLP))\n",
    "print(\"The accuracy of model B is\",accuracy_score(y_test, predictionKNC))\n"
   ]
  },
  {
   "cell_type": "code",
   "execution_count": null,
   "metadata": {
    "colab": {
     "base_uri": "https://localhost:8080/",
     "height": 696
    },
    "executionInfo": {
     "elapsed": 124444,
     "status": "ok",
     "timestamp": 1614354640186,
     "user": {
      "displayName": "YAP MOU EN",
      "photoUrl": "https://lh3.googleusercontent.com/a-/AOh14GhPNpBKjbLgcci9ZOGWgaMF_YjmfMYywVswsf2zkQ=s64",
      "userId": "04185711044849077922"
     },
     "user_tz": -480
    },
    "id": "BPT6J9QlHbPw",
    "outputId": "e0a256ad-5711-45c6-aeff-de9df87e784e"
   },
   "outputs": [],
   "source": [
    "fig1,ax1 = plt.subplots(figsize = (20,10))\n",
    "ax1.set_title(\"Confusion Matrix for Multilayer Perceptron Classifier(All Beauty Product)\")\n",
    "conf_matrix = confusion_matrix(y_test, predictionMLP)\n",
    "mlp_display = ConfusionMatrixDisplay(confusion_matrix=conf_matrix,display_labels = model1.classes_)\n",
    "mlp_display.plot(cmap = 'Greens',xticks_rotation ='vertical',ax=ax1)"
   ]
  },
  {
   "cell_type": "code",
   "execution_count": null,
   "metadata": {
    "colab": {
     "base_uri": "https://localhost:8080/",
     "height": 696
    },
    "executionInfo": {
     "elapsed": 125228,
     "status": "ok",
     "timestamp": 1614354640972,
     "user": {
      "displayName": "YAP MOU EN",
      "photoUrl": "https://lh3.googleusercontent.com/a-/AOh14GhPNpBKjbLgcci9ZOGWgaMF_YjmfMYywVswsf2zkQ=s64",
      "userId": "04185711044849077922"
     },
     "user_tz": -480
    },
    "id": "lSZYuyB9kpS2",
    "outputId": "9d8a865b-9c28-4697-dacc-e721aa1d8a87"
   },
   "outputs": [],
   "source": [
    "fig2,ax2 = plt.subplots(figsize = (20,10))\n",
    "ax2.set_title(\"Confusion Matrix for KNeighborsClassifier(All Beauty Product)\")\n",
    "conf_matrix = confusion_matrix(y_test, predictionKNC)\n",
    "mlp_display = ConfusionMatrixDisplay(confusion_matrix=conf_matrix,display_labels = model2.classes_)\n",
    "mlp_display.plot(cmap = 'Greens',xticks_rotation ='vertical',ax=ax2)"
   ]
  },
  {
   "cell_type": "code",
   "execution_count": null,
   "metadata": {
    "id": "6jfwAwYGUr5i"
   },
   "outputs": [],
   "source": [
    "#ROC curve\n",
    "encoder = LabelEncoder()\n",
    "#predict probability\n",
    "y_test = encoder.fit_transform(y_test)\n",
    "pred_prob1 = model1.predict_proba(X_test)[:,1]\n",
    "pred_prob2 = model2.predict_proba(X_test)[:,1]\n",
    "# roc curve for models\n",
    "fpr1, tpr1, thresh1 = roc_curve(y_test, pred_prob1, pos_label=1)\n",
    "fpr2, tpr2, thresh2 = roc_curve(y_test, pred_prob2, pos_label=1)\n",
    "\n",
    "# roc curve for tpr = fpr \n",
    "random_probs = [0 for i in range(len(y_test))]\n",
    "p_fpr, p_tpr, _ = roc_curve(y_test, random_probs, pos_label=1)\n"
   ]
  },
  {
   "cell_type": "code",
   "execution_count": null,
   "metadata": {
    "colab": {
     "base_uri": "https://localhost:8080/",
     "height": 376
    },
    "executionInfo": {
     "elapsed": 127353,
     "status": "ok",
     "timestamp": 1614354643099,
     "user": {
      "displayName": "YAP MOU EN",
      "photoUrl": "https://lh3.googleusercontent.com/a-/AOh14GhPNpBKjbLgcci9ZOGWgaMF_YjmfMYywVswsf2zkQ=s64",
      "userId": "04185711044849077922"
     },
     "user_tz": -480
    },
    "id": "1BSfUIQZUteX",
    "outputId": "7e5dbedd-e69b-4969-8afb-9c74a7d0f682"
   },
   "outputs": [],
   "source": [
    "# matplotlib\n",
    "plt.style.use('seaborn')\n",
    "\n",
    "# plot roc curves\n",
    "plt.plot(fpr1, tpr1, linestyle='--',color='orange', label='Multilayer Perceptron Classifier')\n",
    "plt.plot(fpr2, tpr2, linestyle='--',color='green', label='KNN')\n",
    "plt.plot(p_fpr, p_tpr, linestyle='--', color='blue')\n",
    "# title\n",
    "plt.title('ROC curve')\n",
    "# x label\n",
    "plt.xlabel('False Positive Rate')\n",
    "# y label\n",
    "plt.ylabel('True Positive rate')\n",
    "\n",
    "plt.legend(loc='best')\n",
    "plt.savefig('ROC',dpi=300)\n",
    "plt.show();"
   ]
  },
  {
   "cell_type": "markdown",
   "metadata": {
    "id": "uZSNdntSU020"
   },
   "source": [
    "It is evident from the plot that the AUC for the Multilayer Perceptron Classifier ROC curve is higher than that for the KNeighborsClassifier ROC curve. Multilayer Perceptron Classifier has a higher true positive rate than KNeighborsClassifier. Therefore, we can say that Multilayer Perceptron Classifier did a better job of classifying the positive class in the dataset. "
   ]
  },
  {
   "cell_type": "markdown",
   "metadata": {
    "id": "UBPEPsrKxmpp"
   },
   "source": [
    "####6.2.2 Predictive Model for Luxury Beauty Product's Sales Rank"
   ]
  },
  {
   "cell_type": "markdown",
   "metadata": {
    "id": "xBjCSWssxwvQ"
   },
   "source": [
    "We tried to predict for luxury beauty product's sales rank in order to verify the effectiveness of review in predicting product's sales rank."
   ]
  },
  {
   "cell_type": "code",
   "execution_count": null,
   "metadata": {
    "colab": {
     "base_uri": "https://localhost:8080/",
     "height": 399
    },
    "executionInfo": {
     "elapsed": 127352,
     "status": "ok",
     "timestamp": 1614354643100,
     "user": {
      "displayName": "YAP MOU EN",
      "photoUrl": "https://lh3.googleusercontent.com/a-/AOh14GhPNpBKjbLgcci9ZOGWgaMF_YjmfMYywVswsf2zkQ=s64",
      "userId": "04185711044849077922"
     },
     "user_tz": -480
    },
    "id": "Rdf0VgQyxt7s",
    "outputId": "51cf5203-66e8-49df-e3ae-a24b13e6fca8"
   },
   "outputs": [],
   "source": [
    "#preparing required table\n",
    "partial_luxuryBeautyProduct_table = luxuryBeautyProduct_table[['asin','price']]\n",
    "#merging\n",
    "merged_luxuryBeautyProduct_review_table = (pd.merge(luxuryBeautyReview_table_withTime, partial_luxuryBeautyProduct_table, on='asin', how='inner', indicator=True)).set_index('asin')\n",
    "merged_luxuryBeautyProduct_review_table.reset_index(inplace = True)\n",
    "merged_luxuryBeautyProduct_review_table  = merged_luxuryBeautyProduct_review_table .drop(['_merge','rank','asin','average-rating'],axis = 1)\n",
    "merged_luxuryBeautyProduct_review_table.rename(columns={'rank-binned':'rank'},inplace=True)\n",
    "\n",
    "#normalization\n",
    "luxuryBeautyProduct_review_table = merged_luxuryBeautyProduct_review_table.drop(['rank'],axis = 1)\n",
    "luxuryBeautyProduct_review_table= (luxuryBeautyProduct_review_table - luxuryBeautyProduct_review_table.min())/(luxuryBeautyProduct_review_table.max()-luxuryBeautyProduct_review_table.min())\n",
    "luxuryBeautyProduct_review_table['rank'] = merged_luxuryBeautyProduct_review_table['rank']\n",
    "\n",
    "luxuryBeautyProduct_review_table"
   ]
  },
  {
   "cell_type": "code",
   "execution_count": null,
   "metadata": {
    "colab": {
     "base_uri": "https://localhost:8080/"
    },
    "executionInfo": {
     "elapsed": 134113,
     "status": "ok",
     "timestamp": 1614354649863,
     "user": {
      "displayName": "YAP MOU EN",
      "photoUrl": "https://lh3.googleusercontent.com/a-/AOh14GhPNpBKjbLgcci9ZOGWgaMF_YjmfMYywVswsf2zkQ=s64",
      "userId": "04185711044849077922"
     },
     "user_tz": -480
    },
    "id": "F9xVWXz8yGJL",
    "outputId": "ae1cc573-8e0f-4011-cfeb-7bba7ea62c3b"
   },
   "outputs": [],
   "source": [
    "#splitting test size\n",
    "XX = luxuryBeautyProduct_review_table.drop(\"rank\", axis=1)  \n",
    "# copy the labels to another dataframe/series\n",
    "yy = luxuryBeautyProduct_review_table[\"rank\"].copy()  \n",
    "XX_train, XX_test, yy_train, yy_test = train_test_split(XX, yy, test_size=0.20,random_state=1)\n",
    "\n",
    "#Model Training\n",
    "model1.fit(XX_train,yy_train)\n",
    "\n",
    "luxuryBeautyPredictionMLP = modelMLP.predict(XX_test)\n",
    "\n",
    "print(\"The accuracy of model A is\",accuracy_score(yy_test, luxuryBeautyPredictionMLP))"
   ]
  },
  {
   "cell_type": "code",
   "execution_count": null,
   "metadata": {
    "colab": {
     "base_uri": "https://localhost:8080/",
     "height": 675
    },
    "executionInfo": {
     "elapsed": 134871,
     "status": "ok",
     "timestamp": 1614354650623,
     "user": {
      "displayName": "YAP MOU EN",
      "photoUrl": "https://lh3.googleusercontent.com/a-/AOh14GhPNpBKjbLgcci9ZOGWgaMF_YjmfMYywVswsf2zkQ=s64",
      "userId": "04185711044849077922"
     },
     "user_tz": -480
    },
    "id": "nm6UOTuPyIj7",
    "outputId": "de4ac066-12fa-449a-da45-04bdd7bfeaf1"
   },
   "outputs": [],
   "source": [
    "fig,ax = plt.subplots(figsize = (20,10))\n",
    "ax.set_title(\"Confusion Matrix for Multilayer Layer Perceptron Classifier(Luxury Beauty Product)\")\n",
    "mlp_conf_matrix = confusion_matrix(yy_test, luxuryBeautyPredictionMLP)\n",
    "display = ConfusionMatrixDisplay(confusion_matrix=mlp_conf_matrix,display_labels = modelMLP.classes_)\n",
    "display.plot(cmap = 'Greens',xticks_rotation ='vertical',ax=ax)"
   ]
  },
  {
   "cell_type": "markdown",
   "metadata": {
    "id": "Y0Hpn9daY3iW"
   },
   "source": [
    "## 7.0 Data Visualization"
   ]
  },
  {
   "cell_type": "markdown",
   "metadata": {
    "id": "ECEO6AbSVpu_"
   },
   "source": [
    "### 7.1 Number of High Ratings VS Sales Rank\n",
    "Will an increase in the number of high ratings (rating >= 4) affect the sales rank of a beauty product?\n"
   ]
  },
  {
   "cell_type": "code",
   "execution_count": null,
   "metadata": {
    "colab": {
     "base_uri": "https://localhost:8080/",
     "height": 416
    },
    "executionInfo": {
     "elapsed": 134871,
     "status": "ok",
     "timestamp": 1614354650624,
     "user": {
      "displayName": "YAP MOU EN",
      "photoUrl": "https://lh3.googleusercontent.com/a-/AOh14GhPNpBKjbLgcci9ZOGWgaMF_YjmfMYywVswsf2zkQ=s64",
      "userId": "04185711044849077922"
     },
     "user_tz": -480
    },
    "id": "0kTlJ1OJFKl-",
    "outputId": "8e0967af-c5a8-4188-fff1-d95dcf8cdaa3"
   },
   "outputs": [],
   "source": [
    "mx = m.copy()\n",
    "mx['ratio-high-to-total'] = mx['number-of-high-rating-review']/mx['number-of-review']\n",
    "mx['average-rating-range'] = pd.cut(mx['average-rating'],\n",
    "                                    [0, 3, 4, 6], \n",
    "                                    right=False,\n",
    "                                    labels=[\"[1, 3)\",\"[3, 4)\",\"[4, 5]\"])\n",
    "mx"
   ]
  },
  {
   "cell_type": "code",
   "execution_count": null,
   "metadata": {
    "colab": {
     "base_uri": "https://localhost:8080/",
     "height": 223
    },
    "executionInfo": {
     "elapsed": 134871,
     "status": "ok",
     "timestamp": 1614354650625,
     "user": {
      "displayName": "YAP MOU EN",
      "photoUrl": "https://lh3.googleusercontent.com/a-/AOh14GhPNpBKjbLgcci9ZOGWgaMF_YjmfMYywVswsf2zkQ=s64",
      "userId": "04185711044849077922"
     },
     "user_tz": -480
    },
    "id": "D9u2goKW1V7U",
    "outputId": "f4df53e3-387a-4e03-d372-11e3df4fccba"
   },
   "outputs": [],
   "source": [
    "mx.corr()"
   ]
  },
  {
   "cell_type": "code",
   "execution_count": null,
   "metadata": {
    "colab": {
     "base_uri": "https://localhost:8080/",
     "height": 376
    },
    "executionInfo": {
     "elapsed": 138738,
     "status": "ok",
     "timestamp": 1614354654494,
     "user": {
      "displayName": "YAP MOU EN",
      "photoUrl": "https://lh3.googleusercontent.com/a-/AOh14GhPNpBKjbLgcci9ZOGWgaMF_YjmfMYywVswsf2zkQ=s64",
      "userId": "04185711044849077922"
     },
     "user_tz": -480
    },
    "id": "LaCJNyRs132E",
    "outputId": "b70f2921-26ca-4cf8-e785-7cb7cdc0ff26"
   },
   "outputs": [],
   "source": [
    "plt.title('Ratio of High Rating Reviews against the Total Number of Reviews against the Sales Rank of a Beauty Product')\n",
    "plt.ylabel('Sales Rank')\n",
    "plt.xlabel('Ratio of High Rating Reviews against the Total Number of Reviews')\n",
    "plot=sns.scatterplot(x=\"ratio-high-to-total\", y=\"rank\", data=mx, hue='average-rating-range', palette=[\"C0\",\"C2\",\"C3\"])"
   ]
  },
  {
   "cell_type": "markdown",
   "metadata": {
    "id": "vTYRuyDo9A-O"
   },
   "source": [
    "The plotted graph is observed to have a weak negative association. This may be due to the imbalance of number of high rating reviews( 4) and number of low rating reviews(3). Although this graph showed a weak association between the two variables, we can observe that most of the points are distributed loosely at the lower right corner of the graph from the scatter plot above. This implies that the higher the ratio of the number of high rating reviews to the total number of reviews, the higher the sales rank the product is.\n",
    "\n",
    "If a product receives a good amount of high rating reviews, the sales rank is believed to be better.\n"
   ]
  },
  {
   "cell_type": "markdown",
   "metadata": {
    "id": "p-0Lwwwm5Xef"
   },
   "source": [
    "### 7.2 Average Rating VS Sales Rank \n",
    "What is the correlation between average rating of products and sales rank? Does higher average rating implies higher sales? "
   ]
  },
  {
   "cell_type": "code",
   "execution_count": null,
   "metadata": {
    "colab": {
     "base_uri": "https://localhost:8080/",
     "height": 633
    },
    "executionInfo": {
     "elapsed": 141752,
     "status": "ok",
     "timestamp": 1614354657510,
     "user": {
      "displayName": "YAP MOU EN",
      "photoUrl": "https://lh3.googleusercontent.com/a-/AOh14GhPNpBKjbLgcci9ZOGWgaMF_YjmfMYywVswsf2zkQ=s64",
      "userId": "04185711044849077922"
     },
     "user_tz": -480
    },
    "id": "VBRMLfdK5vPi",
    "outputId": "89037489-3e93-457d-91b4-0a84c5e41214"
   },
   "outputs": [],
   "source": [
    "sns.set(rc={'figure.figsize':(15,10)})\n",
    "sns.scatterplot(x='average-rating', y='rank', data = merged_review_table, hue='rank-binned')"
   ]
  },
  {
   "cell_type": "markdown",
   "metadata": {
    "id": "8hQxcdwx5x6v"
   },
   "source": [
    "Based on our finding, the average rating of products has weak correlation with sales rank. This is because there are many confounding factors, as we need to take in consideration the time of the review, verification, content of the review as well. Simply take average rating cannot clearly imply the sales rank.\n"
   ]
  },
  {
   "cell_type": "markdown",
   "metadata": {
    "id": "zOy3GyvL53GS"
   },
   "source": [
    "### 7.3 Number of Reviews VS Sales Rank\n",
    "What is the correlation between number of reviews and sales rank? Does higher number of reviews implies higher sales rank?\n"
   ]
  },
  {
   "cell_type": "code",
   "execution_count": null,
   "metadata": {
    "colab": {
     "base_uri": "https://localhost:8080/",
     "height": 684
    },
    "executionInfo": {
     "elapsed": 143554,
     "status": "ok",
     "timestamp": 1614354659314,
     "user": {
      "displayName": "YAP MOU EN",
      "photoUrl": "https://lh3.googleusercontent.com/a-/AOh14GhPNpBKjbLgcci9ZOGWgaMF_YjmfMYywVswsf2zkQ=s64",
      "userId": "04185711044849077922"
     },
     "user_tz": -480
    },
    "id": "-HysRXkY8wU7",
    "outputId": "7e141699-a941-4e20-f5d5-071547da533e"
   },
   "outputs": [],
   "source": [
    "sns.set(rc={'figure.figsize':(15,10)})\n",
    "sttrplt=sns.scatterplot(x='number-of-review', y='rank', data = num_review_filter, hue='num-review-range')\n",
    "plt.annotate(\n",
    "# Label and coordinate\n",
    "'Hard Candy Glow All The Way', xy=(110,0.86), xytext=(124, 0.9), color= \"red\", arrowprops={\"facecolor\": 'red', \"shrink\": 0.15}\n",
    ")\n",
    "plt.annotate(\n",
    "# Label and coordinate\n",
    "'Death and Dentistry', xy=(122,0.82), xytext=(137, 0.86), color= \"red\", arrowprops={\"facecolor\": 'red', \"shrink\": 0.20}\n",
    ")\n",
    "plt.annotate(\n",
    "# Label and coordinate\n",
    "'Norelco 8894 XL \\nSpectra Shaver', xy=(107,0.64), xytext=(122, 0.70), color= \"red\", arrowprops={\"facecolor\": 'red', \"shrink\": 0.20}\n",
    ")\n",
    "plt.annotate(\n",
    "# Label and coordinate\n",
    "'My New Pink \\nButton - Audry', xy=(160,0.62), xytext=(175, 0.68), color= \"red\", arrowprops={\"facecolor\": 'red', \"shrink\": 0.20}\n",
    ")\n",
    "\n",
    "sttrplt.set(xlabel='Total Number of Reviews', \n",
    "            ylabel='Sales Rank', \n",
    "            title=\"Total Number of Reviews against Sales Rank\")\n"
   ]
  },
  {
   "cell_type": "markdown",
   "metadata": {
    "id": "xNBMpn1s5_gw"
   },
   "source": [
    "From the scatter plot above, the graph showed a moderate non linear association between the total number of reviews and sales rank. When the total number of reviews increases, the sales rank of the product will be better until the total number of reviews reaches approximately 50 reviews. After 50 number of reviews, the sales rank of the product started to remain constant. This can be concluded that 50 reviews are the optimal number of reviews for a beauty product in our case. However, there are some exceptions to some products which are located at the top right corner of the graph.\n"
   ]
  },
  {
   "cell_type": "markdown",
   "metadata": {
    "id": "J2lPZYwH6esy"
   },
   "source": [
    "### 7.4 Price V.S. Sales Rank\n",
    "What is the correlation between the pricing of products and sales rank? "
   ]
  },
  {
   "cell_type": "code",
   "execution_count": null,
   "metadata": {
    "colab": {
     "base_uri": "https://localhost:8080/",
     "height": 684
    },
    "executionInfo": {
     "elapsed": 146735,
     "status": "ok",
     "timestamp": 1614354662497,
     "user": {
      "displayName": "YAP MOU EN",
      "photoUrl": "https://lh3.googleusercontent.com/a-/AOh14GhPNpBKjbLgcci9ZOGWgaMF_YjmfMYywVswsf2zkQ=s64",
      "userId": "04185711044849077922"
     },
     "user_tz": -480
    },
    "id": "KR1WOENY8ta8",
    "outputId": "19e0f13a-aca6-43c1-961c-b13c7d3c3cea"
   },
   "outputs": [],
   "source": [
    "plt.figure(figsize = (15,10))\n",
    "price_rank_graph = sns.scatterplot(x='price', \n",
    "                                 y='rank',\n",
    "                                 data=merged_price_table, hue='price-range',palette=[\"k\", \"C3\",\"C0\",\"C2\"])\n",
    "\n",
    "price_rank_graph .set(xlabel='Price of Beauty Product', \n",
    "                   ylabel='Sales Rank', \n",
    "                   title=\"Price of Beauty Products against Sales Rank\")"
   ]
  },
  {
   "cell_type": "markdown",
   "metadata": {
    "id": "Ju4YRA6R7BgT"
   },
   "source": [
    "Based on the scatter plot above, the price of products has a weak negative correlation with sales rank. This is because there are many confounding factors, as we need to take in consideration the time of the review, verification, content of the review as well. Simply taking the price of the product cannot clearly imply the sales rank. \n",
    "\n"
   ]
  },
  {
   "cell_type": "markdown",
   "metadata": {
    "id": "S70CS8V97GTs"
   },
   "source": [
    "### 7.5 Review Up Votes V.S. Sales Rank\n",
    "Will the number of review upvotes affect the number of buyers? \n"
   ]
  },
  {
   "cell_type": "code",
   "execution_count": null,
   "metadata": {
    "colab": {
     "base_uri": "https://localhost:8080/",
     "height": 681
    },
    "executionInfo": {
     "elapsed": 2176,
     "status": "ok",
     "timestamp": 1614354846256,
     "user": {
      "displayName": "CHUA BING QUAN",
      "photoUrl": "https://lh3.googleusercontent.com/a-/AOh14GgJtZmUIe7rZvpHPfvK5Y32U6VseQJr1vgCUQOHfg=s64",
      "userId": "07263662689962524613"
     },
     "user_tz": -480
    },
    "id": "LChC8bLg8VCJ",
    "outputId": "d2575965-f89b-4b98-ba10-fa36f7af4607"
   },
   "outputs": [],
   "source": [
    "plt.figure(figsize = (15,10))\n",
    "ax = sns.scatterplot(x='vote-score',y='rank',data=mv_review_table)\n",
    "\n",
    "ax.set(xlabel='Vote Score', \n",
    "       ylabel='Sales Rank', \n",
    "       title=\"Vote Score of a Product against Sales Rank\")"
   ]
  },
  {
   "cell_type": "markdown",
   "metadata": {
    "id": "0QlNoCuy7K0F"
   },
   "source": [
    "The vote score has -0.3511 of correlation value with sales rank. The higher the vote score, the lower (better) the sales rank. This shows that customers might somehow feel more “secure” to buy products that have a good up vote. The sense of having support from the community will enhance the chances of customers buying the product."
   ]
  },
  {
   "cell_type": "markdown",
   "metadata": {
    "id": "6EjKq3U-1gYK"
   },
   "source": [
    " ### 7.6 Timeframe and Reviews\n",
    " Do people in the current decade prioritise online reviews more compared to the last decade?"
   ]
  },
  {
   "cell_type": "code",
   "execution_count": null,
   "metadata": {
    "colab": {
     "base_uri": "https://localhost:8080/",
     "height": 604
    },
    "executionInfo": {
     "elapsed": 146734,
     "status": "ok",
     "timestamp": 1614354662499,
     "user": {
      "displayName": "YAP MOU EN",
      "photoUrl": "https://lh3.googleusercontent.com/a-/AOh14GhPNpBKjbLgcci9ZOGWgaMF_YjmfMYywVswsf2zkQ=s64",
      "userId": "04185711044849077922"
     },
     "user_tz": -480
    },
    "id": "t2sBVLnV1V-Z",
    "outputId": "3c9d7c73-46a7-45c8-d14f-500e8aa3c101"
   },
   "outputs": [],
   "source": [
    "timeframe = dfMergedInner[['year', 'month']].copy().groupby(['year']).count()\n",
    "timeframe.rename(columns={'month':'number-of-review'},inplace=True)\n",
    "timeframe.reset_index(inplace = True)\n",
    "timeframe['cum-number-of-review'] = timeframe['number-of-review'].cumsum()\n",
    "timeframe"
   ]
  },
  {
   "cell_type": "code",
   "execution_count": null,
   "metadata": {
    "colab": {
     "base_uri": "https://localhost:8080/",
     "height": 575
    },
    "executionInfo": {
     "elapsed": 147838,
     "status": "ok",
     "timestamp": 1614354663604,
     "user": {
      "displayName": "YAP MOU EN",
      "photoUrl": "https://lh3.googleusercontent.com/a-/AOh14GhPNpBKjbLgcci9ZOGWgaMF_YjmfMYywVswsf2zkQ=s64",
      "userId": "04185711044849077922"
     },
     "user_tz": -480
    },
    "id": "SjJI6jlp1WBJ",
    "outputId": "cc41da7c-7722-49f6-86b5-b3d755c2e173"
   },
   "outputs": [],
   "source": [
    "plt.figure(figsize = (10,8))\n",
    "ax = sns.barplot(x=\"year\", y=\"number-of-review\", data=timeframe, color=\"C9\", saturation=.5)\n",
    "\n",
    "ax.set(title='Total Number of Reviews throughout the Years',\n",
    "       xlabel='Year',\n",
    "       ylabel='Total Number of Beauty Product Reviews')"
   ]
  },
  {
   "cell_type": "code",
   "execution_count": null,
   "metadata": {
    "colab": {
     "base_uri": "https://localhost:8080/",
     "height": 575
    },
    "executionInfo": {
     "elapsed": 147837,
     "status": "ok",
     "timestamp": 1614354663605,
     "user": {
      "displayName": "YAP MOU EN",
      "photoUrl": "https://lh3.googleusercontent.com/a-/AOh14GhPNpBKjbLgcci9ZOGWgaMF_YjmfMYywVswsf2zkQ=s64",
      "userId": "04185711044849077922"
     },
     "user_tz": -480
    },
    "id": "fP5DtZdCk-6V",
    "outputId": "005d0091-7153-42fc-dd36-bc3aee4d0ae2"
   },
   "outputs": [],
   "source": [
    "plt.figure(figsize = (10,8))\n",
    "ax=sns.barplot(x=\"year\", y=\"cum-number-of-review\", data=timeframe, color=\"C9\", saturation=.1)\n",
    "sns.lineplot(x=\"year\", y=\"cum-number-of-review\", data=timeframe).plot(secondary_y=True)\n",
    "ax.set(title='Cumulative Number of Reviews throughout the Years',\n",
    "       xlabel='Year',\n",
    "       ylabel='Cumulative Number of Beauty Product Reviews')"
   ]
  },
  {
   "cell_type": "markdown",
   "metadata": {
    "id": "R3ZxQ6Cm7Pjp"
   },
   "source": [
    "From the bar graph above, the bar chart shows a cumulative number of reviews for each year since 2000 to 2018. The total cumulative number of reviews increased steadily from the year 2000 to the year 2012. It began to go up dramatically ever since the year 2013, until the year 2017. In the end, the total cumulative number of reviews reached 357283 in the year 2018. We can observe that people in the last decade(year 2001 Jan 1 - 2009 Dec 31) make less reviews than the people in the current decade(year 2010 Jan 1 - 2019 Dec 31).\n",
    "\n",
    "A conclusion can be drawn that people in the current decade prioritise online reviews more compared to the last decade.\n"
   ]
  },
  {
   "cell_type": "markdown",
   "metadata": {
    "id": "pE1T-5gN7az-"
   },
   "source": [
    "### 7.7 Also Buy and Also View of the Product Reviews\n",
    "Will a product with a high average rating appear more frequently in other products’ also_view / also_buy?\n"
   ]
  },
  {
   "cell_type": "markdown",
   "metadata": {
    "id": "RNxwsaq1ARep"
   },
   "source": [
    "High Average Rating appearing more frequently in also_buy?"
   ]
  },
  {
   "cell_type": "code",
   "execution_count": null,
   "metadata": {
    "colab": {
     "base_uri": "https://localhost:8080/",
     "height": 1000
    },
    "executionInfo": {
     "elapsed": 151368,
     "status": "ok",
     "timestamp": 1614354667151,
     "user": {
      "displayName": "YAP MOU EN",
      "photoUrl": "https://lh3.googleusercontent.com/a-/AOh14GhPNpBKjbLgcci9ZOGWgaMF_YjmfMYywVswsf2zkQ=s64",
      "userId": "04185711044849077922"
     },
     "user_tz": -480
    },
    "id": "dT6pUOWaAMni",
    "outputId": "69d5f395-bfae-431f-994f-69d2ccb51d80"
   },
   "outputs": [],
   "source": [
    "sns.set(rc={'figure.figsize':(20,20)})\n",
    "sns.scatterplot(x='average-rating', y='rank', data = mv2_review_table, hue='also-buy-freq-range', palette=[\"C9\",\"C0\",\"C3\"])"
   ]
  },
  {
   "cell_type": "markdown",
   "metadata": {
    "id": "fdiDLB3AAdh7"
   },
   "source": [
    "This scatter plot shows the average rating of the beauty products against the sales rank. Each point is colored in a different hue to show the frequency of their appearance in other products’ also_buy section. It is shown that products with a high average rating do not appear very often in other products’ also_buy. However, those products that show up more in other products’ also_buy are scattered around different ranges of average rating.\n",
    "\n",
    "From our dataset, it is clear that a product with high average rating does not appear more frequently in other products’ also_buy.\n"
   ]
  },
  {
   "cell_type": "markdown",
   "metadata": {
    "id": "NoGCM8iNAeWx"
   },
   "source": [
    "High Average Rating appearing more frequently in also_view?"
   ]
  },
  {
   "cell_type": "code",
   "execution_count": null,
   "metadata": {
    "colab": {
     "base_uri": "https://localhost:8080/",
     "height": 1000
    },
    "executionInfo": {
     "elapsed": 155946,
     "status": "ok",
     "timestamp": 1614354671742,
     "user": {
      "displayName": "YAP MOU EN",
      "photoUrl": "https://lh3.googleusercontent.com/a-/AOh14GhPNpBKjbLgcci9ZOGWgaMF_YjmfMYywVswsf2zkQ=s64",
      "userId": "04185711044849077922"
     },
     "user_tz": -480
    },
    "id": "HVY5j58iAM2y",
    "outputId": "d375a67d-b9d3-4ec3-8159-263495d17f3c"
   },
   "outputs": [],
   "source": [
    "sns.set(rc={'figure.figsize':(20,20)})\n",
    "sns.scatterplot(x='average-rating', y='rank', data = mv3_review_table, hue='also-view-freq-range', palette=[\"C9\",\"C0\",\"C3\"])"
   ]
  },
  {
   "cell_type": "markdown",
   "metadata": {
    "id": "UtrvxGsIAkR4"
   },
   "source": [
    "This scatter plot shows the average rating of the beauty products against the sales rank. Each point is colored in a different hue to show the frequency of their appearance in other products’ also_view section. It is shown that products with a high average rating do not appear very often in other products’ also_view. However, those products that show up more in other products’ also_buy are scattered around different ranges of average rating.\n",
    "\n",
    "From our dataset, it is clear that a product with a high average rating does not appear more frequently in other products’ also_view.\n"
   ]
  },
  {
   "cell_type": "markdown",
   "metadata": {
    "id": "QAazH1867fWH"
   },
   "source": [
    "### 7.8 Prediction Accuracy for Luxury Beauty Products\n",
    "Given the proposed hypothesis, the classification model is able to make correct predictions for the sales rank of beauty products with a high accuracy. Is this hypothesis also true for luxury beauty products? By using the same model, can we predict the sales rank of luxury beauty products with high accuracy as well?\n",
    "\n",
    "\n"
   ]
  },
  {
   "cell_type": "code",
   "execution_count": null,
   "metadata": {
    "colab": {
     "base_uri": "https://localhost:8080/",
     "height": 696
    },
    "executionInfo": {
     "elapsed": 157565,
     "status": "ok",
     "timestamp": 1614354673364,
     "user": {
      "displayName": "YAP MOU EN",
      "photoUrl": "https://lh3.googleusercontent.com/a-/AOh14GhPNpBKjbLgcci9ZOGWgaMF_YjmfMYywVswsf2zkQ=s64",
      "userId": "04185711044849077922"
     },
     "user_tz": -480
    },
    "id": "p216LYlR799j",
    "outputId": "771f0649-fbb4-4e7e-ba16-66084ebb67d4"
   },
   "outputs": [],
   "source": [
    "fig,ax = plt.subplots(figsize = (20,10))\n",
    "ax.set_title(\"Confusion Matrix for Multilayer Layer Perceptron Classifier(Luxury Beauty Product)\")\n",
    "mlp_conf_matrix = confusion_matrix(yy_test, luxuryBeautyPredictionMLP)\n",
    "display = ConfusionMatrixDisplay(confusion_matrix=mlp_conf_matrix,display_labels = modelMLP.classes_)\n",
    "display.plot(cmap = 'Greens',xticks_rotation ='vertical',ax=ax)"
   ]
  },
  {
   "cell_type": "markdown",
   "metadata": {
    "id": "iM3nbvHT7rFk"
   },
   "source": [
    "The model, Multilayer Perceptron Classifier that we have built has been used to predict the sales rank of the luxury beauty product. In this study, we want to verify the effectiveness of this model  in predicting the sales rank of a product. From the previous study, an accuracy of 68% has been obtained in predicting the sales rank of all beauty products by using a Multilayer Perceptron Classifier with review data. We hypothesize that this model can be used  to predict sales rank of other products. Finally, the classification model has been tested using the prepared test sets and obtained an accuracy score of 75% for this model. Below showed the confusion matrix for the Multilayer Perceptron Classifier\n",
    "\n",
    "Based on the confusion matrix, both of the models have a very high accuracy in predicting very good and good sales rank compared to other types of sales rank. There are no moderate and bad sales ranks that have been predicted correctly. This may be caused by the data imbalance issue in our dataset. Most of the luxury beauty products in our dataset have a very high sales rank, indicating that the products are selling well. This problem can be solved by using data augmentation to balance the dataset in the future. \n",
    "\n",
    "We can draw a conclusion that the hypothesis is correct. By using the same combination of descriptors which consists of review data, we are able to predict the sales rank of luxury beauty products with high accuracy of 75%.\n",
    "\n",
    "\n",
    "\n"
   ]
  },
  {
   "cell_type": "markdown",
   "metadata": {
    "id": "L5BnP8zIY3sP"
   },
   "source": [
    "## Conclusion"
   ]
  },
  {
   "cell_type": "markdown",
   "metadata": {
    "id": "u7BR3md2FLce"
   },
   "source": [
    "Our first finding is that sales rank is affected by numbers of reviews, high rating reviews, verified true reviews, voted review and timing of the reviews. This finding gives us a better view on how product reviews would actually affect sales. Marketing executives should spend efforts on getting quality reviews from customers as it will boost their product trustworthiness as well as increase sales indirectly. Beside that, marketing executives have to keep their review “updated” as well. Old reviews are less effective than latest reviews. \n",
    "\n",
    "Beside that we also built a model that could predict which product can potentially receive high sales rank based on its reviews. We developed a model as shown in 5.2 that has an accuracy of 68% by using a Multilayer Perceptron Classifier with review data after compared with KNeighborsClassifier which has lower value in our evaluation matrix, ROC. We used the same model and tuned again with its data on another category of beauty products called “Luxury Beauty” products and received the accuracy of 75%. This is a small leap of success for us to potentially predict which product has good potential according to their reviews.\n",
    "\n",
    "Last but not least, we still have a huge room of improvement. Our future improvements should focus on continuously improving the accuracy of our model. Our data might be slightly skewed to high rating products. We might need to perform data augmentation to train for lower rating classification. Through the exploration of the data, we also identified a few interesting outliers that don't follow our models. Most of them are because they are not exactly the same category with the beauty product. Same some of them might have really outdated reviews.\n"
   ]
  }
 ],
 "metadata": {
  "colab": {
   "collapsed_sections": [],
   "name": "Data Science Project(new).ipynb",
   "provenance": [],
   "toc_visible": true
  },
  "kernelspec": {
   "display_name": "Python 3",
   "language": "python",
   "name": "python3"
  },
  "language_info": {
   "codemirror_mode": {
    "name": "ipython",
    "version": 3
   },
   "file_extension": ".py",
   "mimetype": "text/x-python",
   "name": "python",
   "nbconvert_exporter": "python",
   "pygments_lexer": "ipython3",
   "version": "3.8.5"
  }
 },
 "nbformat": 4,
 "nbformat_minor": 1
}
